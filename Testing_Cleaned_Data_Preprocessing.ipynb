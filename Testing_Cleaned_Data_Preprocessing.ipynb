{
 "cells": [
  {
   "cell_type": "code",
   "execution_count": 1,
   "metadata": {},
   "outputs": [],
   "source": [
    "import numpy as np\n",
    "import pandas as pd\n",
    "import copy\n"
   ]
  },
  {
   "cell_type": "code",
   "execution_count": 90,
   "metadata": {},
   "outputs": [],
   "source": [
    "def shuffle_X_y(X, y, seed=0):\n",
    "    np.random.seed(seed)\n",
    "    random_mask = np.random.permutation(len(y))\n",
    "    X_rand = X.iloc[random_mask]\n",
    "    y_rand = y.iloc[random_mask]\n",
    "    \n",
    "    return X_rand, y_rand\n",
    "\n",
    "# Splits given X and y into X_train, y_train, X_test, and y_test\n",
    "# Resets index of dataframes.\n",
    "def train_test_split(X, y, train_ratio=0.8):\n",
    "    X_rand, y_rand = shuffle_X_y(X, y)\n",
    "    \n",
    "    split_ind = int(train_ratio * len(y))\n",
    "    X_train = X_rand.iloc[:split_ind].reset_index(drop=True)\n",
    "    y_train = y_rand.iloc[:split_ind].reset_index(drop=True)\n",
    "    \n",
    "    X_test = X_rand.iloc[split_ind:].reset_index(drop=True)\n",
    "    y_test = y_rand.iloc[split_ind:].reset_index(drop=True)\n",
    "    \n",
    "    return X_train, y_train, X_test, y_test\n",
    "    \n",
    "# Balances binary dataset passed in: increases number of positive labels by duplicating data with positive labels\n",
    "# Shuffles the dataframes and resets the indexes.\n",
    "def balance_data_by_label(X, y, target_1_0_ratio):\n",
    "    mask_1 = pd.Series([y['y'] == 1][0])\n",
    "    X_1 = X.loc[mask_1]\n",
    "    y_1 = y.loc[mask_1] # Unnecessary: We know these are all 1's\n",
    "    num_1 = sum(mask_1)\n",
    "    num_0 = len(y) - num_1\n",
    "    \n",
    "    curr_1_0_ratio = num_1 / num_0\n",
    "    # Float value\n",
    "    num_dupes = float(target_1_0_ratio) / curr_1_0_ratio - 1\n",
    "    \n",
    "    while num_dupes > 1:\n",
    "        \n",
    "        # @TODO: append X_1 to X, and 1's to y\n",
    "#         X = np.vstack((X, copy.deepcopy(X_1)))\n",
    "#         y = np.vstack((y, np.ones((num_1, 1))))\n",
    "        X = X.append(copy.deepcopy(X_1))\n",
    "        y = y.append(copy.deepcopy(y_1))\n",
    "        num_dupes -= 1\n",
    "    \n",
    "    #Adding on additional individual duplicates chosen at random from dupe_1 to meet target_1_total_ratio:\n",
    "    if num_dupes > 0:\n",
    "        # @TODO: append X_to_append to X, and 1's to y\n",
    "#         X_to_append = copy.deepcopy(X_1[:int(num_dupes * num_1)])\n",
    "#         y_to_append = np.ones((int(num_dupes * num_1), 1))\n",
    "#         X = np.vstack((X, X_to_append))\n",
    "#         y = np.vstack((y, y_to_append))\n",
    "        X = X.append(copy.deepcopy(X_1.iloc[:int(num_dupes * num_1)]))\n",
    "        y = y.append(copy.deepcopy(y_1.iloc[:int(num_dupes * num_1)]))\n",
    "        \n",
    "        X_rand, y_rand = shuffle_X_y(X, y)\n",
    "        \n",
    "    return X_rand.to_numpy(), y_rand.to_numpy().reshape(-1)"
   ]
  },
  {
   "cell_type": "markdown",
   "metadata": {},
   "source": [
    "# Testing:"
   ]
  },
  {
   "cell_type": "code",
   "execution_count": 23,
   "metadata": {},
   "outputs": [],
   "source": [
    "X = pd.read_csv(\"./bigData/X.csv\")\n",
    "y = pd.read_csv(\"./bigData/y.csv\")"
   ]
  },
  {
   "cell_type": "markdown",
   "metadata": {},
   "source": [
    "### train_test_split:"
   ]
  },
  {
   "cell_type": "code",
   "execution_count": 24,
   "metadata": {},
   "outputs": [],
   "source": [
    "X_train, y_train, X_test, y_test = train_test_split(X, y)"
   ]
  },
  {
   "cell_type": "code",
   "execution_count": 25,
   "metadata": {},
   "outputs": [
    {
     "name": "stdout",
     "output_type": "stream",
     "text": [
      "0.0739\n",
      "0.0716\n"
     ]
    }
   ],
   "source": [
    "train_mask_1 = pd.Series([y_train['y'] == 1][0])\n",
    "test_mask_1 = pd.Series([y_test['y'] == 1][0])\n",
    "\n",
    "print(sum(train_mask_1) / len(y_train))\n",
    "print(sum(test_mask_1) / len(y_test))"
   ]
  },
  {
   "cell_type": "markdown",
   "metadata": {},
   "source": [
    "### balance_data_by_label:"
   ]
  },
  {
   "cell_type": "code",
   "execution_count": 87,
   "metadata": {},
   "outputs": [],
   "source": [
    "data_df = balance_data_by_label(X, y, 0.5)"
   ]
  },
  {
   "cell_type": "code",
   "execution_count": 91,
   "metadata": {},
   "outputs": [],
   "source": [
    "x_np, y_np = balance_data_by_label(X, y, 0.5)"
   ]
  },
  {
   "cell_type": "code",
   "execution_count": 95,
   "metadata": {},
   "outputs": [
    {
     "name": "stdout",
     "output_type": "stream",
     "text": [
      "(69492, 1815)\n",
      "(69492,)\n"
     ]
    }
   ],
   "source": [
    "print(x_np.shape)\n",
    "print(y_np.shape)"
   ]
  },
  {
   "cell_type": "code",
   "execution_count": 89,
   "metadata": {},
   "outputs": [
    {
     "name": "stdout",
     "output_type": "stream",
     "text": [
      "[[0]\n",
      " [1]\n",
      " [0]\n",
      " [1]\n",
      " [1]\n",
      " [1]\n",
      " [0]\n",
      " [0]\n",
      " [1]\n",
      " [0]\n",
      " [0]\n",
      " [0]\n",
      " [0]\n",
      " [0]\n",
      " [0]\n",
      " [0]\n",
      " [1]\n",
      " [1]\n",
      " [0]\n",
      " [0]\n",
      " [0]\n",
      " [1]\n",
      " [1]\n",
      " [1]\n",
      " [0]\n",
      " [1]\n",
      " [0]\n",
      " [0]\n",
      " [0]\n",
      " [0]\n",
      " [0]\n",
      " [1]\n",
      " [0]\n",
      " [1]\n",
      " [1]\n",
      " [0]\n",
      " [1]\n",
      " [0]\n",
      " [0]\n",
      " [0]\n",
      " [0]\n",
      " [0]\n",
      " [0]\n",
      " [0]\n",
      " [0]\n",
      " [0]\n",
      " [1]\n",
      " [0]\n",
      " [1]\n",
      " [0]\n",
      " [0]\n",
      " [0]\n",
      " [0]\n",
      " [1]\n",
      " [1]\n",
      " [0]\n",
      " [1]\n",
      " [0]\n",
      " [1]\n",
      " [0]\n",
      " [0]\n",
      " [0]\n",
      " [0]\n",
      " [1]\n",
      " [0]\n",
      " [0]\n",
      " [1]\n",
      " [1]\n",
      " [0]\n",
      " [0]\n",
      " [0]\n",
      " [0]\n",
      " [0]\n",
      " [1]\n",
      " [1]\n",
      " [0]\n",
      " [0]\n",
      " [0]\n",
      " [0]\n",
      " [0]\n",
      " [0]\n",
      " [0]\n",
      " [0]\n",
      " [0]\n",
      " [1]\n",
      " [0]\n",
      " [0]\n",
      " [0]\n",
      " [0]\n",
      " [1]\n",
      " [1]\n",
      " [0]\n",
      " [0]\n",
      " [1]\n",
      " [0]\n",
      " [1]\n",
      " [0]\n",
      " [0]\n",
      " [0]\n",
      " [1]]\n",
      "[[8.000000e+00 0.000000e+00 3.198400e+04 ... 0.000000e+00 3.101580e+06\n",
      "  4.000000e+00]\n",
      " [0.000000e+00 0.000000e+00 3.544880e+05 ... 0.000000e+00 3.492270e+07\n",
      "  0.000000e+00]\n",
      " [0.000000e+00 0.000000e+00 0.000000e+00 ... 0.000000e+00 1.355958e+07\n",
      "  0.000000e+00]\n",
      " ...\n",
      " [0.000000e+00 0.000000e+00 0.000000e+00 ... 0.000000e+00 1.810440e+07\n",
      "  0.000000e+00]\n",
      " [0.000000e+00 0.000000e+00 2.403440e+05 ... 0.000000e+00 7.708740e+06\n",
      "  0.000000e+00]\n",
      " [0.000000e+00 0.000000e+00 7.332000e+04 ... 1.476720e+05 1.783461e+06\n",
      "  0.000000e+00]]\n",
      "46328\n",
      "69492.0\n",
      "138984\n"
     ]
    }
   ],
   "source": [
    "# Before shuffling implemented:\n",
    "# Should be all 1's because they're appended to the end\n",
    "print(data_df[1][-100:].values)\n",
    "print(data_df[0][-100:].values)\n",
    "\n",
    "mask_1 = pd.Series([y['y'] == 1][0])\n",
    "X_1 = X.loc[mask_1]\n",
    "# Ideally length of data should be (len(X) - len(X.loc[mask_1])) * 1.5\n",
    "print(len(X) - len(X_1))\n",
    "print((len(X) - len(X.loc[mask_1])) * 1.5)\n",
    "print(len(data[1]))"
   ]
  },
  {
   "cell_type": "markdown",
   "metadata": {},
   "source": [
    "# Script to split data, then balance:"
   ]
  },
  {
   "cell_type": "code",
   "execution_count": 16,
   "metadata": {},
   "outputs": [],
   "source": [
    "split_ratio = 0.8\n",
    "target_1_0_ratio = 0.8\n",
    "\n",
    "X_train, y_train, X_test, y_test = train_test_split(X, y)\n",
    "X_train_bal, y_train_bal = balance_data_by_label(X_train, y_train, target_1_0_ratio)\n",
    "X_test_bal, y_test_bal = balance_data_by_label(X_test, y_test, target_1_0_ratio)"
   ]
  },
  {
   "cell_type": "code",
   "execution_count": 17,
   "metadata": {},
   "outputs": [
    {
     "name": "stdout",
     "output_type": "stream",
     "text": [
      "0.42058575049281893\n",
      "0.4327656717328939\n"
     ]
    }
   ],
   "source": [
    "train_mask_1 = pd.Series([y_train_bal['y'] == 1][0])\n",
    "test_mask_1 = pd.Series([y_test_bal['y'] == 1][0])\n",
    "\n",
    "# Both proportions should be about equal to target_1_0_ratio / (1 + target_1_0_ratio); for 0.8 --> 0.444...; for 0.5 --> 0.333...\n",
    "print(sum(train_mask_1) / len(y_train_bal))\n",
    "print(sum(test_mask_1) / len(y_test_bal))"
   ]
  },
  {
   "cell_type": "code",
   "execution_count": null,
   "metadata": {},
   "outputs": [],
   "source": []
  },
  {
   "cell_type": "code",
   "execution_count": null,
   "metadata": {},
   "outputs": [],
   "source": [
    "# Scratchwork\n",
    "\n",
    "print(y['y'])\n",
    "\n",
    "mask_1 = pd.Series([y['y'] == 1][0])\n",
    "print(sum(mask_1))\n",
    "\n",
    "y_1 = y.loc[mask_1]\n",
    "\n",
    "y.append(copy.deepcopy(y_1))"
   ]
  },
  {
   "cell_type": "code",
   "execution_count": 65,
   "metadata": {},
   "outputs": [
    {
     "name": "stdout",
     "output_type": "stream",
     "text": [
      "[2 0 1 3 4]\n"
     ]
    }
   ],
   "source": [
    "\n",
    "np.random.seed(0)\n",
    "random_mask = np.random.permutation(5)\n",
    "print(random_mask)"
   ]
  },
  {
   "cell_type": "code",
   "execution_count": 67,
   "metadata": {},
   "outputs": [
    {
     "name": "stdout",
     "output_type": "stream",
     "text": [
      "[1 3 4 0 2]\n"
     ]
    }
   ],
   "source": []
  },
  {
   "cell_type": "code",
   "execution_count": 68,
   "metadata": {},
   "outputs": [
    {
     "name": "stdout",
     "output_type": "stream",
     "text": [
      "[2 0 1 3 4]\n"
     ]
    }
   ],
   "source": []
  },
  {
   "cell_type": "code",
   "execution_count": null,
   "metadata": {},
   "outputs": [],
   "source": []
  }
 ],
 "metadata": {
  "kernelspec": {
   "display_name": "Python 3",
   "language": "python",
   "name": "python3"
  },
  "language_info": {
   "codemirror_mode": {
    "name": "ipython",
    "version": 3
   },
   "file_extension": ".py",
   "mimetype": "text/x-python",
   "name": "python",
   "nbconvert_exporter": "python",
   "pygments_lexer": "ipython3",
   "version": "3.7.4"
  }
 },
 "nbformat": 4,
 "nbformat_minor": 2
}
