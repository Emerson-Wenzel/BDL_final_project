{
 "cells": [
  {
   "cell_type": "code",
   "execution_count": 1,
   "metadata": {},
   "outputs": [
    {
     "data": {
      "text/plain": [
       "'/Users/d_berman/Documents/Tufts_Masters/Semester_3/Bayesian Deep Learning/BDL_final_project'"
      ]
     },
     "execution_count": 1,
     "metadata": {},
     "output_type": "execute_result"
    }
   ],
   "source": [
    "%load_ext autoreload\n",
    "%autoreload 2\n",
    "%matplotlib inline\n",
    "\n",
    "import torch\n",
    "import torch.nn as nn\n",
    "import torchvision.transforms as transforms\n",
    "import torchvision.datasets as dsets\n",
    "from torch.distributions.multivariate_normal import MultivariateNormal\n",
    "from torch.distributions.normal import Normal\n",
    "import matplotlib.pyplot as plt\n",
    "from sklearn.model_selection import train_test_split\n",
    "import pandas as pd\n",
    "import torch.optim as optim\n",
    "from torch.autograd import Variable\n",
    "import numpy.random as rand\n",
    "import numpy as np\n",
    "import sys\n",
    "import os\n",
    "from mpl_toolkits.mplot3d import Axes3D  # noqa: F401 unused import\n",
    "\n",
    "\n",
    "\n",
    "from bnn import BNNBayesbyBackprop, gauss_logpdf\n",
    "os.getcwd()"
   ]
  },
  {
   "cell_type": "code",
   "execution_count": 2,
   "metadata": {},
   "outputs": [],
   "source": [
    "dataset_size = 5000\n",
    "\n",
    "X_train_c = np.empty(shape=(dataset_size, 2), dtype=float)\n",
    "y_train_c = np.empty(shape=(dataset_size,), dtype=float)\n",
    "\n",
    "# make first dimension 0 to effectively make it univariate \n",
    "# bc current bnn arch only works with multivariate input\n",
    "# X_train[:int(dataset_size/2),0] = np.random.normal(loc=0,\n",
    "#                                                    scale=1,\n",
    "#                                                    size=(int(dataset_size/2),))\n",
    "# X_train[:int(dataset_size/2), 1] = np.random.normal(loc=0, \n",
    "#                                                     scale=1, \n",
    "#                                                     size=(int(dataset_size/2),))\n",
    "\n",
    "scale = 1\n",
    "\n",
    "X_train_c[:int(dataset_size/4), 0] = np.random.uniform(2 * scale, 12 * scale, \n",
    "                                                    size=(int(dataset_size/4),))\n",
    "X_train_c[:int(dataset_size/4), 1] = np.random.uniform(7.5* scale, 13.5 * scale,\n",
    "                                                   size=(int(dataset_size/4),))\n",
    "X_train_c[int(dataset_size/4):int(dataset_size/2), 0] = np.random.uniform(-9.5 * scale, 0.5 * scale, \n",
    "                                                    size=(int(dataset_size/4),))\n",
    "X_train_c[int(dataset_size/4):int(dataset_size/2), 1] = np.random.uniform(0.5 * scale, 6.5 * scale,\n",
    "                                                   size=(int(dataset_size/4),))\n",
    "y_train_c[:int(dataset_size/2)] = 0\n",
    "\n",
    "\n",
    "X_train_c[int(dataset_size/2):int(3*dataset_size/4),0] = np.random.uniform(2 * scale, 12 * scale,\n",
    "                                                   size=(int(dataset_size/4),))\n",
    "X_train_c[int(dataset_size/2):int(3*dataset_size/4), 1] = np.random.uniform(0.5 * scale, 6.5 * scale,\n",
    "                                                    size=(int(dataset_size/4),))\n",
    "X_train_c[int(3*dataset_size/4):,0] = np.random.uniform(-9.5 * scale, 0.5 * scale,\n",
    "                                                   size=(int(dataset_size/4),))\n",
    "X_train_c[int(3*dataset_size/4):, 1] = np.random.uniform(7.5* scale, 13.5 * scale,\n",
    "                                                    size=(int(dataset_size/4),))\n",
    "y_train_c[int(dataset_size/2):] = 1\n",
    "\n",
    "# shuffle order\n",
    "perm = np.random.permutation(dataset_size)\n",
    "X_train_c = X_train_c[perm]\n",
    "y_train_c = y_train_c[perm]\n",
    "\n",
    "# Shear Transformation:\n",
    "A = np.array([[1, 1],\n",
    "              [1, 0]])\n",
    "X_train_c = X_train_c @ A"
   ]
  },
  {
   "cell_type": "code",
   "execution_count": 3,
   "metadata": {},
   "outputs": [
    {
     "ename": "NameError",
     "evalue": "name 'X_train' is not defined",
     "output_type": "error",
     "traceback": [
      "\u001b[0;31m---------------------------------------------------------------------------\u001b[0m",
      "\u001b[0;31mNameError\u001b[0m                                 Traceback (most recent call last)",
      "\u001b[0;32m<ipython-input-3-872e2ea416b2>\u001b[0m in \u001b[0;36m<module>\u001b[0;34m\u001b[0m\n\u001b[1;32m      4\u001b[0m \u001b[0;34m\u001b[0m\u001b[0m\n\u001b[1;32m      5\u001b[0m \u001b[0;31m# ax.plot_wireframe(X, Y, zs, color='grey', alpha = 0.7)\u001b[0m\u001b[0;34m\u001b[0m\u001b[0;34m\u001b[0m\u001b[0;34m\u001b[0m\u001b[0m\n\u001b[0;32m----> 6\u001b[0;31m \u001b[0max\u001b[0m\u001b[0;34m.\u001b[0m\u001b[0mscatter\u001b[0m\u001b[0;34m(\u001b[0m\u001b[0mX_train\u001b[0m\u001b[0;34m[\u001b[0m\u001b[0my_train\u001b[0m \u001b[0;34m==\u001b[0m \u001b[0;36m0\u001b[0m\u001b[0;34m,\u001b[0m\u001b[0;36m0\u001b[0m\u001b[0;34m]\u001b[0m\u001b[0;34m,\u001b[0m \u001b[0mX_train\u001b[0m\u001b[0;34m[\u001b[0m\u001b[0my_train\u001b[0m \u001b[0;34m==\u001b[0m \u001b[0;36m0\u001b[0m\u001b[0;34m,\u001b[0m\u001b[0;36m1\u001b[0m\u001b[0;34m]\u001b[0m\u001b[0;34m,\u001b[0m \u001b[0mc\u001b[0m\u001b[0;34m=\u001b[0m\u001b[0;34m'blue'\u001b[0m\u001b[0;34m)\u001b[0m\u001b[0;34m\u001b[0m\u001b[0;34m\u001b[0m\u001b[0m\n\u001b[0m\u001b[1;32m      7\u001b[0m \u001b[0max\u001b[0m\u001b[0;34m.\u001b[0m\u001b[0mscatter\u001b[0m\u001b[0;34m(\u001b[0m\u001b[0mX_train\u001b[0m\u001b[0;34m[\u001b[0m\u001b[0my_train\u001b[0m \u001b[0;34m==\u001b[0m \u001b[0;36m1\u001b[0m\u001b[0;34m,\u001b[0m\u001b[0;36m0\u001b[0m\u001b[0;34m]\u001b[0m\u001b[0;34m,\u001b[0m \u001b[0mX_train\u001b[0m\u001b[0;34m[\u001b[0m\u001b[0my_train\u001b[0m \u001b[0;34m==\u001b[0m \u001b[0;36m1\u001b[0m\u001b[0;34m,\u001b[0m\u001b[0;36m1\u001b[0m\u001b[0;34m]\u001b[0m\u001b[0;34m,\u001b[0m \u001b[0mc\u001b[0m\u001b[0;34m=\u001b[0m\u001b[0;34m'red'\u001b[0m\u001b[0;34m)\u001b[0m\u001b[0;34m\u001b[0m\u001b[0;34m\u001b[0m\u001b[0m\n\u001b[1;32m      8\u001b[0m \u001b[0max\u001b[0m\u001b[0;34m.\u001b[0m\u001b[0maxis\u001b[0m\u001b[0;34m(\u001b[0m\u001b[0;34m'equal'\u001b[0m\u001b[0;34m)\u001b[0m\u001b[0;34m\u001b[0m\u001b[0;34m\u001b[0m\u001b[0m\n",
      "\u001b[0;31mNameError\u001b[0m: name 'X_train' is not defined"
     ]
    },
    {
     "data": {
      "image/png": "[encoded data removed]",
      "text/plain": [
       "<Figure size 720x720 with 1 Axes>"
      ]
     },
     "metadata": {
      "needs_background": "light"
     },
     "output_type": "display_data"
    }
   ],
   "source": [
    "fig = plt.figure(figsize=(10,10))\n",
    "# ax = fig.add_subplot(311, projection='3d')       \n",
    "ax = fig.add_subplot(111)   \n",
    "\n",
    "# ax.plot_wireframe(X, Y, zs, color='grey', alpha = 0.7)\n",
    "ax.scatter(X_train[y_train == 0,0], X_train[y_train == 0,1], c='blue')\n",
    "ax.scatter(X_train[y_train == 1,0], X_train[y_train == 1,1], c='red')\n",
    "ax.axis('equal')\n",
    "# ax.set_ylim(-6, 6)\n",
    "fig.show()"
   ]
  },
  {
   "cell_type": "code",
   "execution_count": null,
   "metadata": {},
   "outputs": [],
   "source": []
  }
 ],
 "metadata": {
  "kernelspec": {
   "display_name": "Python 3",
   "language": "python",
   "name": "python3"
  },
  "language_info": {
   "codemirror_mode": {
    "name": "ipython",
    "version": 3
   },
   "file_extension": ".py",
   "mimetype": "text/x-python",
   "name": "python",
   "nbconvert_exporter": "python",
   "pygments_lexer": "ipython3",
   "version": "3.6.8"
  }
 },
 "nbformat": 4,
 "nbformat_minor": 2
}
