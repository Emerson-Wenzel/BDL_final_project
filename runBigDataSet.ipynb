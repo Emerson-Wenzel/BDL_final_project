{
 "cells": [
  {
   "cell_type": "code",
   "execution_count": 1,
   "metadata": {},
   "outputs": [],
   "source": [
    "%load_ext autoreload\n",
    "%autoreload 2\n",
    "%matplotlib inline\n",
    "\n",
    "import torch\n",
    "import torch.nn as nn\n",
    "import torchvision.transforms as transforms\n",
    "import torchvision.datasets as dsets\n",
    "from torch.distributions.multivariate_normal import MultivariateNormal\n",
    "from torch.distributions.normal import Normal\n",
    "import matplotlib.pyplot as plt\n",
    "from sklearn.model_selection import train_test_split\n",
    "import pandas as pd\n",
    "import torch.optim as optim\n",
    "from torch.autograd import Variable\n",
    "import numpy.random as rand\n",
    "import numpy as np\n",
    "import sys\n",
    "import os\n",
    "from mpl_toolkits.mplot3d import Axes3D  # noqa: F401 unused import\n",
    "from sklearn.metrics import fbeta_score\n",
    "from scipy.stats import norm\n",
    "from matplotlib import gridspec\n",
    "\n",
    "\n",
    "from bnn import BNNBayesbyBackprop, gauss_logpdf\n"
   ]
  },
  {
   "cell_type": "code",
   "execution_count": 2,
   "metadata": {},
   "outputs": [],
   "source": [
    "df = pd.read_csv(\"./bigData/colMetaData.csv\")"
   ]
  },
  {
   "cell_type": "code",
   "execution_count": 3,
   "metadata": {},
   "outputs": [
    {
     "data": {
      "text/plain": [
       "Index(['Var', 'availRatio', 'nonZeroRatio'], dtype='object')"
      ]
     },
     "execution_count": 3,
     "metadata": {},
     "output_type": "execute_result"
    }
   ],
   "source": [
    "df.columns"
   ]
  },
  {
   "cell_type": "code",
   "execution_count": 4,
   "metadata": {},
   "outputs": [
    {
     "data": {
      "text/plain": [
       "14386"
      ]
     },
     "execution_count": 4,
     "metadata": {},
     "output_type": "execute_result"
    }
   ],
   "source": [
    "np.sum(df['availRatio'] == 1.0)"
   ]
  },
  {
   "cell_type": "code",
   "execution_count": 5,
   "metadata": {},
   "outputs": [
    {
     "data": {
      "image/png": "[encoded data removed]",
      "text/plain": [
       "<Figure size 432x288 with 1 Axes>"
      ]
     },
     "metadata": {
      "needs_background": "light"
     },
     "output_type": "display_data"
    },
    {
     "data": {
      "image/png": "[encoded data removed]",
      "text/plain": [
       "<Figure size 432x288 with 1 Axes>"
      ]
     },
     "metadata": {
      "needs_background": "light"
     },
     "output_type": "display_data"
    }
   ],
   "source": [
    "plt.hist(df['nonZeroRatio'], bins=100)\n",
    "plt.show()\n",
    "\n",
    "\n",
    "plt.hist(df['availRatio'], bins=100)\n",
    "plt.show()"
   ]
  },
  {
   "cell_type": "code",
   "execution_count": 6,
   "metadata": {},
   "outputs": [
    {
     "name": "stdout",
     "output_type": "stream",
     "text": [
      "1838 variables will be used to train the model\n"
     ]
    },
    {
     "name": "stdout",
     "output_type": "stream",
     "text": [
      "['Var16', 'Var20', 'Var21', 'Var27', 'Var38', 'Var46', 'Var49', 'Var77', 'Var81', 'Var82', 'Var86', 'Var92', 'Var96', 'Var111', 'Var128', 'Var133', 'Var166', 'Var192', 'Var193', 'Var212', 'Var238', 'Var253', 'Var261', 'Var271', 'Var272', 'Var280', 'Var281', 'Var291', 'Var308', 'Var309', 'Var315', 'Var323', 'Var335', 'Var341', 'Var350', 'Var357', 'Var377', 'Var378', 'Var382', 'Var383', 'Var386', 'Var393', 'Var395', 'Var398', 'Var406', 'Var409', 'Var416', 'Var420', 'Var446', 'Var458', 'Var504', 'Var509', 'Var514', 'Var523', 'Var541', 'Var542', 'Var543', 'Var551', 'Var556', 'Var563', 'Var572', 'Var576', 'Var590', 'Var602', 'Var611', 'Var620', 'Var621', 'Var631', 'Var634', 'Var636', 'Var649', 'Var675', 'Var678', 'Var685', 'Var687', 'Var697', 'Var702', 'Var705', 'Var714', 'Var715', 'Var720', 'Var723', 'Var732', 'Var734', 'Var739', 'Var748', 'Var760', 'Var762', 'Var763', 'Var767', 'Var768', 'Var771', 'Var791', 'Var827', 'Var834', 'Var842', 'Var854', 'Var855', 'Var856', 'Var862', 'Var881', 'Var883', 'Var900', 'Var901', 'Var925', 'Var937', 'Var940', 'Var948', 'Var951', 'Var952', 'Var958', 'Var969', 'Var974', 'Var1000', 'Var1002', 'Var1003', 'Var1006', 'Var1008', 'Var1025', 'Var1026', 'Var1035', 'Var1039', 'Var1044', 'Var1047', 'Var1061', 'Var1065', 'Var1066', 'Var1074', 'Var1080', 'Var1094', 'Var1098', 'Var1107', 'Var1119', 'Var1125', 'Var1130', 'Var1135', 'Var1139', 'Var1147', 'Var1151', 'Var1152', 'Var1153', 'Var1166', 'Var1182', 'Var1193', 'Var1203', 'Var1221', 'Var1223', 'Var1226', 'Var1241', 'Var1253', 'Var1274', 'Var1293', 'Var1298', 'Var1303', 'Var1316', 'Var1318', 'Var1332', 'Var1342', 'Var1356', 'Var1361', 'Var1364', 'Var1375', 'Var1377', 'Var1391', 'Var1407', 'Var1427', 'Var1434', 'Var1447', 'Var1450', 'Var1457', 'Var1475', 'Var1495', 'Var1497', 'Var1508', 'Var1509', 'Var1513', 'Var1520', 'Var1524', 'Var1529', 'Var1533', 'Var1542', 'Var1549', 'Var1557', 'Var1561', 'Var1566', 'Var1567', 'Var1572', 'Var1595', 'Var1615', 'Var1622', 'Var1626', 'Var1638', 'Var1659', 'Var1665', 'Var1670', 'Var1677', 'Var1678', 'Var1687', 'Var1704', 'Var1709', 'Var1712', 'Var1713', 'Var1718', 'Var1726', 'Var1733', 'Var1743', 'Var1748', 'Var1749', 'Var1755', 'Var1762', 'Var1781', 'Var1788', 'Var1789', 'Var1792', 'Var1794', 'Var1800', 'Var1816', 'Var1821', 'Var1852', 'Var1861', 'Var1878', 'Var1922', 'Var1924', 'Var1932', 'Var1951', 'Var1968', 'Var1982', 'Var1988', 'Var1991', 'Var1995', 'Var2001', 'Var2010', 'Var2012', 'Var2016', 'Var2022', 'Var2030', 'Var2034', 'Var2035', 'Var2037', 'Var2077', 'Var2094', 'Var2098', 'Var2101', 'Var2103', 'Var2105', 'Var2119', 'Var2154', 'Var2156', 'Var2158', 'Var2160', 'Var2167', 'Var2217', 'Var2221', 'Var2229', 'Var2240', 'Var2248', 'Var2269', 'Var2283', 'Var2297', 'Var2313', 'Var2314', 'Var2320', 'Var2333', 'Var2344', 'Var2351', 'Var2372', 'Var2410', 'Var2412', 'Var2417', 'Var2431', 'Var2433', 'Var2440', 'Var2442', 'Var2448', 'Var2449', 'Var2452', 'Var2453', 'Var2455', 'Var2464', 'Var2475', 'Var2478', 'Var2490', 'Var2530', 'Var2531', 'Var2536', 'Var2543', 'Var2545', 'Var2554', 'Var2555', 'Var2569', 'Var2570', 'Var2590', 'Var2613', 'Var2617', 'Var2619', 'Var2624', 'Var2629', 'Var2636', 'Var2638', 'Var2652', 'Var2662', 'Var2664', 'Var2673', 'Var2674', 'Var2677', 'Var2682', 'Var2700', 'Var2707', 'Var2714', 'Var2727', 'Var2733', 'Var2749', 'Var2753', 'Var2754', 'Var2755', 'Var2764', 'Var2766', 'Var2768', 'Var2782', 'Var2783', 'Var2784', 'Var2797', 'Var2799', 'Var2821', 'Var2830', 'Var2844', 'Var2848', 'Var2851', 'Var2858', 'Var2883', 'Var2891', 'Var2892', 'Var2899', 'Var2913', 'Var2922', 'Var2932', 'Var2946', 'Var2951', 'Var2960', 'Var2964', 'Var2965', 'Var2974', 'Var2978', 'Var2982', 'Var2984', 'Var2993', 'Var3002', 'Var3005', 'Var3016', 'Var3023', 'Var3027', 'Var3032', 'Var3039', 'Var3058', 'Var3067', 'Var3074', 'Var3098', 'Var3103', 'Var3104', 'Var3127', 'Var3129', 'Var3138', 'Var3149', 'Var3166', 'Var3172', 'Var3175', 'Var3183', 'Var3198', 'Var3200', 'Var3201', 'Var3218', 'Var3227', 'Var3231', 'Var3233', 'Var3236', 'Var3248', 'Var3260', 'Var3263', 'Var3279', 'Var3288', 'Var3304', 'Var3310', 'Var3315', 'Var3317', 'Var3318', 'Var3323', 'Var3324', 'Var3338', 'Var3356', 'Var3361', 'Var3379', 'Var3385', 'Var3394', 'Var3400', 'Var3418', 'Var3428', 'Var3438', 'Var3442', 'Var3455', 'Var3480', 'Var3486', 'Var3501', 'Var3502', 'Var3506', 'Var3507', 'Var3509', 'Var3514', 'Var3517', 'Var3521', 'Var3541', 'Var3557', 'Var3603', 'Var3604', 'Var3629', 'Var3632', 'Var3638', 'Var3655', 'Var3658', 'Var3659', 'Var3660', 'Var3680', 'Var3681', 'Var3685', 'Var3694', 'Var3697', 'Var3703', 'Var3710', 'Var3711', 'Var3718', 'Var3741', 'Var3753', 'Var3754', 'Var3755', 'Var3758', 'Var3765', 'Var3773', 'Var3791', 'Var3797', 'Var3806', 'Var3816', 'Var3822', 'Var3835', 'Var3845', 'Var3849', 'Var3856', 'Var3857', 'Var3862', 'Var3869', 'Var3870', 'Var3872', 'Var3873', 'Var3885', 'Var3897', 'Var3904', 'Var3913', 'Var3915', 'Var3917', 'Var3920', 'Var3922', 'Var3938', 'Var3939', 'Var3941', 'Var3943', 'Var3954', 'Var3960', 'Var3961', 'Var3970', 'Var3975', 'Var3983', 'Var3988', 'Var3995', 'Var3998', 'Var4000', 'Var4003', 'Var4022', 'Var4027', 'Var4031', 'Var4032', 'Var4047', 'Var4052', 'Var4054', 'Var4057', 'Var4062', 'Var4063', 'Var4074', 'Var4087', 'Var4089', 'Var4097', 'Var4101', 'Var4102', 'Var4107', 'Var4110', 'Var4116', 'Var4123', 'Var4133', 'Var4135', 'Var4168', 'Var4170', 'Var4185', 'Var4188', 'Var4189', 'Var4192', 'Var4195', 'Var4204', 'Var4209', 'Var4210', 'Var4214', 'Var4217', 'Var4220', 'Var4224', 'Var4247', 'Var4248', 'Var4259', 'Var4269', 'Var4271', 'Var4292', 'Var4300', 'Var4308', 'Var4312', 'Var4315', 'Var4318', 'Var4321', 'Var4326', 'Var4330', 'Var4331', 'Var4335', 'Var4339', 'Var4346', 'Var4365', 'Var4366', 'Var4377', 'Var4379', 'Var4388', 'Var4390', 'Var4392', 'Var4404', 'Var4418', 'Var4419', 'Var4422', 'Var4427', 'Var4462', 'Var4466', 'Var4468', 'Var4497', 'Var4508', 'Var4514', 'Var4522', 'Var4531', 'Var4536', 'Var4543', 'Var4548', 'Var4562', 'Var4565', 'Var4570', 'Var4572', 'Var4580', 'Var4584', 'Var4589', 'Var4590', 'Var4593', 'Var4594', 'Var4613', 'Var4616', 'Var4620', 'Var4654', 'Var4658', 'Var4664', 'Var4665', 'Var4666', 'Var4667', 'Var4668', 'Var4680', 'Var4681', 'Var4685', 'Var4686', 'Var4702', 'Var4713', 'Var4715', 'Var4720', 'Var4723', 'Var4727', 'Var4730', 'Var4734', 'Var4737', 'Var4756', 'Var4774', 'Var4776', 'Var4783', 'Var4791', 'Var4796', 'Var4801', 'Var4802', 'Var4844', 'Var4846', 'Var4855', 'Var4890', 'Var4901', 'Var4907', 'Var4919', 'Var4928', 'Var4929', 'Var4941', 'Var4956', 'Var4968', 'Var4976', 'Var4994', 'Var4995', 'Var5001', 'Var5004', 'Var5020', 'Var5023', 'Var5024', 'Var5034', 'Var5040', 'Var5042', 'Var5044', 'Var5052', 'Var5057', 'Var5064', 'Var5066', 'Var5067', 'Var5071', 'Var5092', 'Var5096', 'Var5104', 'Var5125', 'Var5127', 'Var5131', 'Var5133', 'Var5137', 'Var5143', 'Var5168', 'Var5169', 'Var5174', 'Var5181', 'Var5183', 'Var5184', 'Var5199', 'Var5212', 'Var5214', 'Var5228', 'Var5232', 'Var5244', 'Var5260', 'Var5262', 'Var5276', 'Var5286', 'Var5292', 'Var5298', 'Var5312', 'Var5330', 'Var5344', 'Var5350', 'Var5352', 'Var5359', 'Var5368', 'Var5370', 'Var5395', 'Var5398', 'Var5404', 'Var5411', 'Var5430', 'Var5437', 'Var5445', 'Var5460', 'Var5461', 'Var5477', 'Var5482', 'Var5484', 'Var5518', 'Var5520', 'Var5531', 'Var5538', 'Var5553', 'Var5558', 'Var5575', 'Var5612', 'Var5622', 'Var5631', 'Var5640', 'Var5665', 'Var5667', 'Var5671', 'Var5699', 'Var5701', 'Var5707', 'Var5708', 'Var5721', 'Var5722', 'Var5726', 'Var5741', 'Var5743', 'Var5748', 'Var5756', 'Var5762', 'Var5768', 'Var5807', 'Var5814', 'Var5819', 'Var5820', 'Var5829', 'Var5832', 'Var5839', 'Var5872', 'Var5878', 'Var5894', 'Var5895', 'Var5898', 'Var5899', 'Var5909', 'Var5911', 'Var5931', 'Var5935', 'Var5961', 'Var5962', 'Var5974', 'Var5980', 'Var5981', 'Var5982', 'Var5984', 'Var6002', 'Var6006', 'Var6010', 'Var6013', 'Var6015', 'Var6016', 'Var6017', 'Var6020', 'Var6023', 'Var6031', 'Var6045', 'Var6054', 'Var6057', 'Var6062', 'Var6076', 'Var6078', 'Var6095', 'Var6097', 'Var6111', 'Var6125', 'Var6127', 'Var6143', 'Var6153', 'Var6158', 'Var6160', 'Var6163', 'Var6216', 'Var6217', 'Var6227', 'Var6237', 'Var6245', 'Var6258', 'Var6265', 'Var6279', 'Var6281', 'Var6290', 'Var6309', 'Var6318', 'Var6326', 'Var6329', 'Var6330', 'Var6351', 'Var6362', 'Var6369', 'Var6381', 'Var6382', 'Var6385', 'Var6389', 'Var6390', 'Var6423', 'Var6441', 'Var6445', 'Var6446', 'Var6452', 'Var6466', 'Var6467', 'Var6474', 'Var6478', 'Var6480', 'Var6492', 'Var6493', 'Var6497', 'Var6502', 'Var6505', 'Var6513', 'Var6515', 'Var6520', 'Var6524', 'Var6533', 'Var6538', 'Var6545', 'Var6550', 'Var6560', 'Var6564', 'Var6583', 'Var6588', 'Var6593', 'Var6600', 'Var6615', 'Var6617', 'Var6619', 'Var6631', 'Var6636', 'Var6646', 'Var6648', 'Var6651', 'Var6658', 'Var6670', 'Var6690', 'Var6697', 'Var6710', 'Var6719', 'Var6721', 'Var6734', 'Var6739', 'Var6750', 'Var6761', 'Var6777', 'Var6783', 'Var6792', 'Var6793', 'Var6796', 'Var6803', 'Var6807', 'Var6811', 'Var6824', 'Var6829', 'Var6836', 'Var6840', 'Var6843', 'Var6847', 'Var6861', 'Var6891', 'Var6893', 'Var6912', 'Var6922', 'Var6941', 'Var6944', 'Var6949', 'Var6955', 'Var6959', 'Var6961', 'Var6962', 'Var6988', 'Var6991', 'Var6992', 'Var7003', 'Var7004', 'Var7012', 'Var7013', 'Var7024', 'Var7028', 'Var7031', 'Var7051', 'Var7054', 'Var7064', 'Var7067', 'Var7070', 'Var7089', 'Var7094', 'Var7113', 'Var7125', 'Var7129', 'Var7130', 'Var7140', 'Var7142', 'Var7161', 'Var7173', 'Var7179', 'Var7180', 'Var7187', 'Var7194', 'Var7195', 'Var7197', 'Var7211', 'Var7214', 'Var7216', 'Var7219', 'Var7228', 'Var7229', 'Var7230', 'Var7234', 'Var7248', 'Var7249', 'Var7250', 'Var7264', 'Var7274', 'Var7293', 'Var7307', 'Var7310', 'Var7334', 'Var7341', 'Var7352', 'Var7355', 'Var7362', 'Var7371', 'Var7381', 'Var7385', 'Var7393', 'Var7394', 'Var7401', 'Var7404', 'Var7416', 'Var7428', 'Var7431', 'Var7455', 'Var7462', 'Var7465', 'Var7468', 'Var7484', 'Var7485', 'Var7499', 'Var7507', 'Var7510', 'Var7512', 'Var7514', 'Var7516', 'Var7520', 'Var7521', 'Var7529', 'Var7530', 'Var7538', 'Var7542', 'Var7557', 'Var7559', 'Var7561', 'Var7565', 'Var7574', 'Var7576', 'Var7578', 'Var7579', 'Var7601', 'Var7604', 'Var7610', 'Var7614', 'Var7636', 'Var7645', 'Var7646', 'Var7650', 'Var7652', 'Var7660', 'Var7667', 'Var7669', 'Var7695', 'Var7703', 'Var7705', 'Var7718', 'Var7731', 'Var7732', 'Var7734', 'Var7735', 'Var7736', 'Var7744', 'Var7753', 'Var7757', 'Var7795', 'Var7813', 'Var7816', 'Var7818', 'Var7856', 'Var7864', 'Var7870', 'Var7873', 'Var7875', 'Var7891', 'Var7903', 'Var7917', 'Var7933', 'Var7935', 'Var7937', 'Var7949', 'Var7950', 'Var7951', 'Var7959', 'Var7963', 'Var7967', 'Var7986', 'Var8002', 'Var8015', 'Var8033', 'Var8041', 'Var8050', 'Var8069', 'Var8070', 'Var8076', 'Var8085', 'Var8092', 'Var8093', 'Var8097', 'Var8114', 'Var8119', 'Var8121', 'Var8141', 'Var8153', 'Var8166', 'Var8170', 'Var8181', 'Var8195', 'Var8211', 'Var8212', 'Var8216', 'Var8220', 'Var8221', 'Var8223', 'Var8235', 'Var8242', 'Var8244', 'Var8269', 'Var8293', 'Var8295', 'Var8300', 'Var8306', 'Var8316', 'Var8317', 'Var8320', 'Var8337', 'Var8341', 'Var8342', 'Var8372', 'Var8384', 'Var8434', 'Var8435', 'Var8436', 'Var8437', 'Var8457', 'Var8468', 'Var8475', 'Var8478', 'Var8485', 'Var8490', 'Var8496', 'Var8504', 'Var8509', 'Var8516', 'Var8521', 'Var8526', 'Var8532', 'Var8535', 'Var8541', 'Var8550', 'Var8557', 'Var8568', 'Var8588', 'Var8590', 'Var8604', 'Var8618', 'Var8620', 'Var8640', 'Var8657', 'Var8669', 'Var8673', 'Var8675', 'Var8681', 'Var8706', 'Var8708', 'Var8716', 'Var8728', 'Var8731', 'Var8734', 'Var8745', 'Var8748', 'Var8760', 'Var8780', 'Var8785', 'Var8786', 'Var8800', 'Var8825', 'Var8832', 'Var8862', 'Var8866', 'Var8883', 'Var8889', 'Var8891', 'Var8906', 'Var8916', 'Var8935', 'Var8947', 'Var8955', 'Var8960', 'Var8981', 'Var9000', 'Var9006', 'Var9007', 'Var9009', 'Var9015', 'Var9029', 'Var9036', 'Var9050', 'Var9065', 'Var9067', 'Var9068', 'Var9074', 'Var9075', 'Var9076', 'Var9079', 'Var9094', 'Var9106', 'Var9111', 'Var9118', 'Var9127', 'Var9137', 'Var9147', 'Var9163', 'Var9171', 'Var9179', 'Var9182', 'Var9201', 'Var9203', 'Var9204', 'Var9220', 'Var9221', 'Var9223', 'Var9228', 'Var9229', 'Var9247', 'Var9263', 'Var9268', 'Var9292', 'Var9293', 'Var9310', 'Var9317', 'Var9324', 'Var9334', 'Var9341', 'Var9344', 'Var9350', 'Var9352', 'Var9374', 'Var9380', 'Var9384', 'Var9385', 'Var9407', 'Var9408', 'Var9411', 'Var9412', 'Var9420', 'Var9426', 'Var9430', 'Var9443', 'Var9452', 'Var9470', 'Var9490', 'Var9491', 'Var9497', 'Var9551', 'Var9570', 'Var9573', 'Var9576', 'Var9584', 'Var9591', 'Var9594', 'Var9602', 'Var9607', 'Var9615', 'Var9620', 'Var9621', 'Var9625', 'Var9627', 'Var9630', 'Var9654', 'Var9655', 'Var9657', 'Var9658', 'Var9670', 'Var9685', 'Var9696', 'Var9699', 'Var9700', 'Var9701', 'Var9703', 'Var9707', 'Var9710', 'Var9723', 'Var9729', 'Var9740', 'Var9747', 'Var9748', 'Var9752', 'Var9763', 'Var9764', 'Var9781', 'Var9782', 'Var9793', 'Var9796', 'Var9822', 'Var9833', 'Var9842', 'Var9847', 'Var9848', 'Var9853', 'Var9861', 'Var9864', 'Var9879', 'Var9884', 'Var9918', 'Var9932', 'Var9935', 'Var9950', 'Var9954', 'Var9955', 'Var9962', 'Var9964', 'Var9987', 'Var9988', 'Var9991', 'Var9996', 'Var9998', 'Var10004', 'Var10006', 'Var10025', 'Var10031', 'Var10039', 'Var10040', 'Var10044', 'Var10069', 'Var10072', 'Var10074', 'Var10080', 'Var10086', 'Var10093', 'Var10096', 'Var10099', 'Var10101', 'Var10109', 'Var10120', 'Var10121', 'Var10122', 'Var10129', 'Var10135', 'Var10139', 'Var10143', 'Var10146', 'Var10147', 'Var10156', 'Var10161', 'Var10169', 'Var10178', 'Var10182', 'Var10185', 'Var10188', 'Var10189', 'Var10197', 'Var10202', 'Var10206', 'Var10210', 'Var10211', 'Var10212', 'Var10216', 'Var10220', 'Var10225', 'Var10229', 'Var10230', 'Var10236', 'Var10251', 'Var10261', 'Var10272', 'Var10281', 'Var10285', 'Var10287', 'Var10297', 'Var10322', 'Var10323', 'Var10332', 'Var10335', 'Var10337', 'Var10342', 'Var10343', 'Var10350', 'Var10357', 'Var10359', 'Var10376', 'Var10381', 'Var10386', 'Var10391', 'Var10392', 'Var10401', 'Var10404', 'Var10411', 'Var10414', 'Var10417', 'Var10442', 'Var10444', 'Var10446', 'Var10449', 'Var10456', 'Var10468', 'Var10478', 'Var10488', 'Var10492', 'Var10501', 'Var10512', 'Var10515', 'Var10520', 'Var10531', 'Var10547', 'Var10573', 'Var10588', 'Var10593', 'Var10594', 'Var10607', 'Var10615', 'Var10621', 'Var10625', 'Var10642', 'Var10653', 'Var10657', 'Var10682', 'Var10684', 'Var10686', 'Var10688', 'Var10691', 'Var10696', 'Var10698', 'Var10699', 'Var10718', 'Var10727', 'Var10738', 'Var10739', 'Var10748', 'Var10763', 'Var10765', 'Var10766', 'Var10767', 'Var10768', 'Var10769', 'Var10779', 'Var10784', 'Var10795', 'Var10797', 'Var10800', 'Var10802', 'Var10807', 'Var10812', 'Var10814', 'Var10815', 'Var10828', 'Var10836', 'Var10837', 'Var10842', 'Var10846', 'Var10867', 'Var10877', 'Var10890', 'Var10892', 'Var10896', 'Var10897', 'Var10899', 'Var10908', 'Var10915', 'Var10944', 'Var10952', 'Var10973', 'Var10997', 'Var11000', 'Var11001', 'Var11038', 'Var11046', 'Var11050', 'Var11067', 'Var11071', 'Var11074', 'Var11082', 'Var11084', 'Var11091', 'Var11102', 'Var11106', 'Var11109', 'Var11114', 'Var11117', 'Var11124', 'Var11134', 'Var11138', 'Var11139', 'Var11147', 'Var11151', 'Var11159', 'Var11160', 'Var11166', 'Var11171', 'Var11195', 'Var11203', 'Var11206', 'Var11208', 'Var11213', 'Var11230', 'Var11231', 'Var11234', 'Var11238', 'Var11246', 'Var11248', 'Var11261', 'Var11276', 'Var11280', 'Var11289', 'Var11291', 'Var11293', 'Var11316', 'Var11321', 'Var11322', 'Var11324', 'Var11330', 'Var11344', 'Var11357', 'Var11363', 'Var11368', 'Var11369', 'Var11383', 'Var11384', 'Var11387', 'Var11391', 'Var11395', 'Var11406', 'Var11407', 'Var11417', 'Var11418', 'Var11423', 'Var11425', 'Var11434', 'Var11443', 'Var11453', 'Var11461', 'Var11463', 'Var11467', 'Var11470', 'Var11479', 'Var11491', 'Var11540', 'Var11545', 'Var11548', 'Var11554', 'Var11565', 'Var11577', 'Var11585', 'Var11590', 'Var11592', 'Var11612', 'Var11616', 'Var11618', 'Var11620', 'Var11623', 'Var11638', 'Var11641', 'Var11647', 'Var11650', 'Var11660', 'Var11670', 'Var11673', 'Var11677', 'Var11682', 'Var11683', 'Var11687', 'Var11693', 'Var11694', 'Var11702', 'Var11710', 'Var11714', 'Var11719', 'Var11724', 'Var11730', 'Var11749', 'Var11754', 'Var11757', 'Var11766', 'Var11774', 'Var11775', 'Var11776', 'Var11788', 'Var11789', 'Var11798', 'Var11802', 'Var11804', 'Var11805', 'Var11806', 'Var11831', 'Var11832', 'Var11840', 'Var11846', 'Var11858', 'Var11874', 'Var11880', 'Var11892', 'Var11915', 'Var11920', 'Var11937', 'Var11940', 'Var11959', 'Var11975', 'Var11984', 'Var11985', 'Var12010', 'Var12011', 'Var12012', 'Var12013', 'Var12057', 'Var12083', 'Var12092', 'Var12096', 'Var12098', 'Var12101', 'Var12110', 'Var12115', 'Var12124', 'Var12142', 'Var12146', 'Var12156', 'Var12159', 'Var12166', 'Var12172', 'Var12173', 'Var12199', 'Var12215', 'Var12220', 'Var12230', 'Var12244', 'Var12245', 'Var12251', 'Var12259', 'Var12263', 'Var12286', 'Var12289', 'Var12292', 'Var12301', 'Var12306', 'Var12320', 'Var12324', 'Var12334', 'Var12335', 'Var12340', 'Var12341', 'Var12354', 'Var12369', 'Var12370', 'Var12375', 'Var12380', 'Var12394', 'Var12403', 'Var12405', 'Var12413', 'Var12417', 'Var12419', 'Var12433', 'Var12434', 'Var12435', 'Var12437', 'Var12452', 'Var12456', 'Var12462', 'Var12463', 'Var12477', 'Var12482', 'Var12495', 'Var12506', 'Var12511', 'Var12513', 'Var12516', 'Var12538', 'Var12544', 'Var12545', 'Var12547', 'Var12553', 'Var12556', 'Var12564', 'Var12584', 'Var12588', 'Var12597', 'Var12616', 'Var12625', 'Var12631', 'Var12633', 'Var12634', 'Var12637', 'Var12646', 'Var12654', 'Var12667', 'Var12669', 'Var12685', 'Var12695', 'Var12699', 'Var12701', 'Var12706', 'Var12713', 'Var12715', 'Var12726', 'Var12739', 'Var12745', 'Var12746', 'Var12757', 'Var12786', 'Var12790', 'Var12822', 'Var12824', 'Var12839', 'Var12846', 'Var12847', 'Var12853', 'Var12860', 'Var12862', 'Var12866', 'Var12883', 'Var12905', 'Var12906', 'Var12908', 'Var12909', 'Var12923', 'Var12926', 'Var12951', 'Var12957', 'Var12985', 'Var12990', 'Var12992', 'Var13007', 'Var13009', 'Var13016', 'Var13028', 'Var13037', 'Var13052', 'Var13053', 'Var13056', 'Var13068', 'Var13075', 'Var13079', 'Var13083', 'Var13087', 'Var13089', 'Var13093', 'Var13103', 'Var13106', 'Var13110', 'Var13134', 'Var13135', 'Var13143', 'Var13152', 'Var13153', 'Var13161', 'Var13164', 'Var13166', 'Var13170', 'Var13174', 'Var13178', 'Var13206', 'Var13209', 'Var13211', 'Var13213', 'Var13218', 'Var13227', 'Var13235', 'Var13240', 'Var13266', 'Var13270', 'Var13286', 'Var13288', 'Var13292', 'Var13322', 'Var13324', 'Var13334', 'Var13338', 'Var13349', 'Var13353', 'Var13361', 'Var13375', 'Var13381', 'Var13425', 'Var13432', 'Var13433', 'Var13441', 'Var13443', 'Var13466', 'Var13468', 'Var13471', 'Var13491', 'Var13492', 'Var13505', 'Var13519', 'Var13526', 'Var13540', 'Var13544', 'Var13546', 'Var13547', 'Var13561', 'Var13570', 'Var13571', 'Var13572', 'Var13576', 'Var13581', 'Var13591', 'Var13594', 'Var13603', 'Var13606', 'Var13621', 'Var13643', 'Var13652', 'Var13656', 'Var13662', 'Var13667', 'Var13697', 'Var13704', 'Var13713', 'Var13718', 'Var13720', 'Var13726', 'Var13728', 'Var13730', 'Var13756', 'Var13761', 'Var13781', 'Var13807', 'Var13813', 'Var13830', 'Var13839', 'Var13840', 'Var13841', 'Var13848', 'Var13849', 'Var13853', 'Var13858', 'Var13862', 'Var13865', 'Var13875', 'Var13886', 'Var13890', 'Var13899', 'Var13911', 'Var13913', 'Var13934', 'Var13945', 'Var13951', 'Var13960', 'Var13968', 'Var13984', 'Var13987', 'Var13992', 'Var13993', 'Var14014', 'Var14018', 'Var14020', 'Var14042', 'Var14043', 'Var14052', 'Var14054', 'Var14058', 'Var14078', 'Var14083', 'Var14086', 'Var14091', 'Var14115', 'Var14137', 'Var14139', 'Var14152', 'Var14156', 'Var14165', 'Var14169', 'Var14174', 'Var14204', 'Var14205', 'Var14216', 'Var14218', 'Var14220', 'Var14225', 'Var14229', 'Var14245', 'Var14257', 'Var14267', 'Var14273', 'Var14281', 'Var14287', 'Var14295', 'Var14306', 'Var14310', 'Var14323', 'Var14333', 'Var14336', 'Var14343', 'Var14358', 'Var14361', 'Var14371', 'Var14373', 'Var14376', 'Var14383', 'Var14390', 'Var14410', 'Var14421', 'Var14422', 'Var14428', 'Var14450', 'Var14464', 'Var14479', 'Var14481', 'Var14485', 'Var14486', 'Var14501', 'Var14511', 'Var14516', 'Var14521', 'Var14533', 'Var14553', 'Var14556', 'Var14569', 'Var14609', 'Var14623', 'Var14633', 'Var14635', 'Var14642', 'Var14646', 'Var14652', 'Var14658', 'Var14670', 'Var14673', 'Var14695', 'Var14702', 'Var14709', 'Var14712', 'Var14713', 'Var14720', 'Var14731', 'Var14736', 'Var14754', 'Var14761', 'Var14777', 'Var14785', 'Var14787', 'Var14790', 'Var14794', 'Var14796', 'Var14799', 'Var14810', 'Var14874', 'Var14889', 'Var14892', 'Var14902', 'Var14903', 'Var14909', 'Var14912', 'Var14920', 'Var14922', 'Var14964', 'Var14988', 'Var14989', 'Var14992']\n"
     ]
    }
   ],
   "source": [
    "mask = df['nonZeroRatio'] > .1\n",
    "mask = mask & (df['availRatio'] > .99)\n",
    "\n",
    "\n",
    "\n",
    "\n",
    "print(\"{} variables will be used to train the model\".format(np.sum(mask)))\n",
    "\n",
    "variablesToKeep = list(df['Var'][mask])\n",
    "print(variablesToKeep)"
   ]
  },
  {
   "cell_type": "code",
   "execution_count": 11,
   "metadata": {},
   "outputs": [],
   "source": [
    "def loadData(varNames):\n",
    "    categoryVars = [\"Var{}\".format(x) for x in list(range(14740,15000))]\n",
    "\n",
    "    temp = []\n",
    "    for v in varNames:\n",
    "        if v not in categoryVars:\n",
    "            temp.append(v)\n",
    "    varNames = temp\n",
    "    \n",
    "        \n",
    "    varNumbers = [int(x[3:]) for x in varNames]\n",
    "\n",
    "    \n",
    "    \n",
    "    bigTrain1 = pd.read_csv(\"./bigData/orange_large_train.data.chunk1\",\n",
    "                            sep='\\t', usecols=varNumbers, skiprows=[0], names=varNames)\n",
    "    bigTrain2 = pd.read_csv(\"./bigData/orange_large_train.data.chunk2\",\n",
    "                            sep='\\t', usecols=varNumbers, names=varNames)\n",
    "    bigTrain3 = pd.read_csv(\"./bigData/orange_large_train.data.chunk3\",\n",
    "                            sep='\\t', usecols=varNumbers, names=varNames)\n",
    "    bigTrain4 = pd.read_csv(\"./bigData/orange_large_train.data.chunk4\",\n",
    "                            sep='\\t', usecols=varNumbers, names=varNames)\n",
    "    bigTrain5 = pd.read_csv(\"./bigData/orange_large_train.data.chunk5\",\n",
    "                            sep='\\t', usecols=varNumbers, names=varNames)\n",
    "\n",
    "    \n",
    "    dfs = [bigTrain1, bigTrain2, bigTrain3, bigTrain4, bigTrain5]\n",
    "    df = pd.concat(dfs)\n",
    "    \n",
    "    #df.fillna(df.mean(), axis=1, inplace=True)\n",
    "\n",
    "    y = pd.read_csv(\"./bigData/y_train.csv\")\n",
    "    y['y'][y['y'] == -1.0] = 0\n",
    "    y = y.as_matrix()[:,0]\n",
    "    return df.as_matrix(), y\n",
    "    "
   ]
  },
  {
   "cell_type": "code",
   "execution_count": 10,
   "metadata": {},
   "outputs": [
    {
     "data": {
      "text/plain": [
       "availRatio      0.966457\n",
       "nonZeroRatio    0.117434\n",
       "dtype: float64"
      ]
     },
     "execution_count": 10,
     "metadata": {},
     "output_type": "execute_result"
    }
   ],
   "source": [
    "df.mean()"
   ]
  },
  {
   "cell_type": "code",
   "execution_count": 12,
   "metadata": {},
   "outputs": [
    {
     "name": "stderr",
     "output_type": "stream",
     "text": [
      "/home/emerson/anaconda3/lib/python3.7/site-packages/ipykernel_launcher.py:34: FutureWarning: Method .as_matrix will be removed in a future version. Use .values instead.\n",
      "/home/emerson/anaconda3/lib/python3.7/site-packages/ipykernel_launcher.py:35: FutureWarning: Method .as_matrix will be removed in a future version. Use .values instead.\n"
     ]
    }
   ],
   "source": [
    "X, y = loadData(variablesToKeep)"
   ]
  },
  {
   "cell_type": "code",
   "execution_count": 13,
   "metadata": {},
   "outputs": [
    {
     "data": {
      "image/png": "[encoded data removed]",
      "text/plain": [
       "<Figure size 432x288 with 1 Axes>"
      ]
     },
     "metadata": {
      "needs_background": "light"
     },
     "output_type": "display_data"
    },
    {
     "name": "stdout",
     "output_type": "stream",
     "text": [
      "0.07344\n"
     ]
    }
   ],
   "source": [
    "plt.hist(y)\n",
    "plt.show()\n",
    "\n",
    "positives = np.sum(y == 1.0)\n",
    "negatives = np.sum(y == 0.0)\n",
    "\n",
    "print(positives / (positives + negatives))"
   ]
  },
  {
   "cell_type": "code",
   "execution_count": 15,
   "metadata": {},
   "outputs": [],
   "source": [
    "perm = np.random.permutation(X.shape[0])\n",
    "X = X[perm]\n",
    "y = y[perm]\n",
    "\n",
    "\n",
    "trainTestSplit = .8\n",
    "index = int(X.shape[0] * .8)\n",
    "X_train = X[:index,:]\n",
    "X_test = X[index:, :]\n",
    "y_train = y[:index]\n",
    "y_test = y[index:]"
   ]
  },
  {
   "cell_type": "code",
   "execution_count": null,
   "metadata": {},
   "outputs": [],
   "source": []
  },
  {
   "cell_type": "code",
   "execution_count": null,
   "metadata": {},
   "outputs": [
    {
     "name": "stdout",
     "output_type": "stream",
     "text": [
      "Data being saved in following file:\n",
      "logging.csv\n",
      "Epoch:  0 \tLoss:  311515.97 \tacc:  0.612225\n",
      "Epoch:  1 \tLoss:  285373.9 \tacc:  0.3519\n",
      "Epoch:  2 \tLoss:  266956.22 \tacc:  0.162575\n",
      "Epoch:  3 \tLoss:  246852.86 \tacc:  0.707675\n",
      "Epoch:  4 \tLoss:  241407.56 \tacc:  0.911475\n",
      "Epoch:  5 \tLoss:  238316.73 \tacc:  0.8958\n",
      "Epoch:  6 \tLoss:  231113.33 \tacc:  0.75805\n",
      "Epoch:  7 \tLoss:  226962.69 \tacc:  0.91275\n",
      "Epoch:  8 \tLoss:  190945.52 \tacc:  0.52145\n",
      "Epoch:  9 \tLoss:  188705.12 \tacc:  0.8962\n",
      "Epoch:  10 \tLoss:  179501.94 \tacc:  0.9221\n"
     ]
    }
   ],
   "source": [
    "layerSize = 32\n",
    "numLayers = 3\n",
    "input_dim = X_train.shape[1]\n",
    "\n",
    "\n",
    "bnn = BNNBayesbyBackprop(input_dim=input_dim, core_hidden_layers=[layerSize]*numLayers, mu_hidden_layers=[layerSize]*numLayers,\n",
    "                         log_s_hidden_layers=[layerSize]*numLayers,\n",
    "                         prior_mu=0.0, prior_s=1.0, num_MC_samples=80, classification=True)\n",
    "\n",
    "bnn.fit(X_train, y_train, plot=True, n_epochs=200, learning_rate=5e-3, batch_size=3000)\n"
   ]
  },
  {
   "cell_type": "code",
   "execution_count": 23,
   "metadata": {},
   "outputs": [],
   "source": [
    "import summaryStatistics as sumStats\n",
    "\n"
   ]
  },
  {
   "cell_type": "code",
   "execution_count": 26,
   "metadata": {},
   "outputs": [
    {
     "name": "stdout",
     "output_type": "stream",
     "text": [
      "[[9183  687]\n",
      " [ 114   16]]\n",
      "\n",
      "[[9183  687]\n",
      " [ 114   16]]\n",
      "\n",
      "[[9183  687]\n",
      " [ 114   16]]\n",
      "\n",
      "[[9183  687]\n",
      " [ 114   16]]\n",
      "\n",
      "[[9183  687]\n",
      " [ 114   16]]\n",
      "\n",
      "[[9183  687]\n",
      " [ 114   16]]\n",
      "\n",
      "[[9183  687]\n",
      " [ 114   16]]\n",
      "\n",
      "[[9183  687]\n",
      " [ 114   16]]\n",
      "\n",
      "[[9183  687]\n",
      " [ 114   16]]\n",
      "\n",
      "[[9183  687]\n",
      " [ 114   16]]\n",
      "\n",
      "[[9183  687]\n",
      " [ 114   16]]\n",
      "\n",
      "[[9183  687]\n",
      " [ 114   16]]\n",
      "\n",
      "[[9183  687]\n",
      " [ 114   16]]\n",
      "\n",
      "[[9183  687]\n",
      " [ 114   16]]\n",
      "\n",
      "[[9183  687]\n",
      " [ 114   16]]\n",
      "\n",
      "[[9183  687]\n",
      " [ 114   16]]\n",
      "\n",
      "[[9183  687]\n",
      " [ 114   16]]\n",
      "\n",
      "[[9183  687]\n",
      " [ 114   16]]\n",
      "\n",
      "[[9183  687]\n",
      " [ 114   16]]\n",
      "\n",
      "[[9183  687]\n",
      " [ 114   16]]\n",
      "\n"
     ]
    }
   ],
   "source": [
    "pList, rList, f1List, fBList = sumStats.prCurve(bnn, X_test, y_test)\n"
   ]
  },
  {
   "cell_type": "code",
   "execution_count": 29,
   "metadata": {},
   "outputs": [
    {
     "data": {
      "text/plain": [
       "[<matplotlib.lines.Line2D at 0x7f8eb2044c50>]"
      ]
     },
     "execution_count": 29,
     "metadata": {},
     "output_type": "execute_result"
    },
    {
     "data": {
      "image/png": "[encoded data removed]",
      "text/plain": [
       "<Figure size 432x288 with 1 Axes>"
      ]
     },
     "metadata": {
      "needs_background": "light"
     },
     "output_type": "display_data"
    }
   ],
   "source": [
    "plt.plot(rList, pList)"
   ]
  },
  {
   "cell_type": "code",
   "execution_count": 130,
   "metadata": {},
   "outputs": [
    {
     "name": "stdout",
     "output_type": "stream",
     "text": [
      "tensor([-3.3777e+09, -8.3644e+07, -1.6217e+09,  ..., -2.0739e+08,\n",
      "        -9.2319e+08, -1.5795e+09], grad_fn=<SelectBackward>)\n",
      "{0.0, 1.0}\n",
      "here\n",
      "{0.0, 1.0}\n",
      "(10000,)\n",
      "25\n",
      "9975\n",
      "0.0025\n"
     ]
    }
   ],
   "source": [
    "y_pred = bnn.model.forward(torch.Tensor(X_test), predict = True, threshold=False).detach().numpy()\n",
    "\n",
    "print(set(y_pred))\n",
    "\n",
    "print(y_pred.shape)\n",
    "\n",
    "numPos = np.sum(y_pred == 1.0)\n",
    "numNeg = np.sum(y_pred == 0.0)\n",
    "\n",
    "print(numPos)\n",
    "print(numNeg)\n",
    "\n",
    "print(numPos / (numNeg + numPos))"
   ]
  },
  {
   "cell_type": "code",
   "execution_count": 89,
   "metadata": {},
   "outputs": [
    {
     "data": {
      "image/png": "[encoded data removed]",
      "text/plain": [
       "<Figure size 432x288 with 1 Axes>"
      ]
     },
     "metadata": {
      "needs_background": "light"
     },
     "output_type": "display_data"
    }
   ],
   "source": [
    "plt.hist(y_pred, bins=100)\n",
    "plt.show()"
   ]
  },
  {
   "cell_type": "code",
   "execution_count": null,
   "metadata": {},
   "outputs": [],
   "source": []
  }
 ],
 "metadata": {
  "kernelspec": {
   "display_name": "Python 3",
   "language": "python",
   "name": "python3"
  },
  "language_info": {
   "codemirror_mode": {
    "name": "ipython",
    "version": 3
   },
   "file_extension": ".py",
   "mimetype": "text/x-python",
   "name": "python",
   "nbconvert_exporter": "python",
   "pygments_lexer": "ipython3",
   "version": "3.7.4"
  }
 },
 "nbformat": 4,
 "nbformat_minor": 2
}
