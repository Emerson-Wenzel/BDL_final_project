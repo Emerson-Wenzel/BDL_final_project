{
 "cells": [
  {
   "cell_type": "code",
   "execution_count": 27,
   "metadata": {
    "colab": {
     "base_uri": "https://localhost:8080/",
     "height": 34
    },
    "colab_type": "code",
    "executionInfo": {
     "elapsed": 2590,
     "status": "ok",
     "timestamp": 1575486296044,
     "user": {
      "displayName": "Daniel Berman",
      "photoUrl": "",
      "userId": "07083512293139957454"
     },
     "user_tz": 300
    },
    "id": "WkOcCy7MRqxQ",
    "outputId": "c157445e-c711-412c-d0a0-70321edc18e1"
   },
   "outputs": [
    {
     "name": "stdout",
     "output_type": "stream",
     "text": [
      "The autoreload extension is already loaded. To reload it, use:\n",
      "  %reload_ext autoreload\n"
     ]
    },
    {
     "data": {
      "text/plain": [
       "'/Users/d_berman/Documents/Tufts_Masters/Semester_3/Bayesian Deep Learning/BDL_final_project'"
      ]
     },
     "execution_count": 27,
     "metadata": {},
     "output_type": "execute_result"
    }
   ],
   "source": [
    "%load_ext autoreload\n",
    "%autoreload 2\n",
    "\n",
    "import torch\n",
    "import torch.nn as nn\n",
    "import torchvision.transforms as transforms\n",
    "import torchvision.datasets as dsets\n",
    "from torch.distributions.multivariate_normal import MultivariateNormal\n",
    "from torch.distributions.normal import Normal\n",
    "import matplotlib.pyplot as plt\n",
    "from sklearn.model_selection import train_test_split\n",
    "import pandas as pd\n",
    "import torch.optim as optim\n",
    "from torch.autograd import Variable\n",
    "import numpy.random as rand\n",
    "import numpy as np\n",
    "import sys\n",
    "import os\n",
    "from mpl_toolkits.mplot3d import Axes3D  # noqa: F401 unused import\n",
    "\n",
    "\n",
    "\n",
    "from bnn import BNNBayesbyBackprop, gauss_logpdf\n",
    "os.getcwd()"
   ]
  },
  {
   "cell_type": "markdown",
   "metadata": {},
   "source": [
    "## Toy dataset for regression"
   ]
  },
  {
   "cell_type": "code",
   "execution_count": 2,
   "metadata": {
    "colab": {
     "base_uri": "https://localhost:8080/",
     "height": 187
    },
    "colab_type": "code",
    "executionInfo": {
     "elapsed": 497,
     "status": "ok",
     "timestamp": 1575486304247,
     "user": {
      "displayName": "Daniel Berman",
      "photoUrl": "",
      "userId": "07083512293139957454"
     },
     "user_tz": 300
    },
    "id": "t0F0mKwDdI7Y",
    "outputId": "748b6853-7ea1-467f-8e33-a574fd4547cf"
   },
   "outputs": [
    {
     "name": "stdout",
     "output_type": "stream",
     "text": [
      "[[0. ]\n",
      " [0.3]]\n",
      "0.1\n",
      "[[  6.65399419]\n",
      " [ -7.64754231]\n",
      " [114.28069572]\n",
      " ...\n",
      " [ 16.75575275]\n",
      " [ 92.22654003]\n",
      " [-82.40722785]]\n"
     ]
    }
   ],
   "source": [
    "W = np.array([-10, 10]).reshape(-1, 1)\n",
    "b = -5\n",
    "X_train = np.random.uniform(-10,10, (5000, 2))\n",
    "X_train[:,0] = 0.0\n",
    "X_train.shape\n",
    "W.T.shape\n",
    "\n",
    "eps = 0.0001\n",
    "W_s = np.array([0.0, 0.3]).reshape(-1, 1)\n",
    "print(W_s)\n",
    "b_s = 0.1\n",
    "\n",
    "print(b_s)\n",
    "\n",
    "y_train = np.zeros((X_train.shape[0], 1), dtype=float)\n",
    "for ind, x in enumerate(X_train):\n",
    "  # y_train[ind] = x @ W + b + np.random.normal(loc=0, scale=np.exp(x @ W_s + b_s))\n",
    "  y_train[ind] = x.reshape(1,-1) @ W + b + np.random.normal(loc=0, scale=np.exp(x @ W_s + b_s))\n",
    "\n",
    "\n",
    "\n",
    "print(y_train)"
   ]
  },
  {
   "cell_type": "code",
   "execution_count": 3,
   "metadata": {
    "colab": {
     "base_uri": "https://localhost:8080/",
     "height": 367
    },
    "colab_type": "code",
    "executionInfo": {
     "elapsed": 791,
     "status": "ok",
     "timestamp": 1575480947816,
     "user": {
      "displayName": "Daniel Berman",
      "photoUrl": "",
      "userId": "07083512293139957454"
     },
     "user_tz": 300
    },
    "id": "CXdiAr9mvrW-",
    "outputId": "3a8081af-e48f-458f-ff5f-d8a94985ea8e"
   },
   "outputs": [
    {
     "data": {
      "text/plain": [
       "(array([671., 641., 617., 639., 681., 630., 711., 333.,  71.,   6.]),\n",
       " array([-104.99840991,  -79.19349689,  -53.38858388,  -27.58367086,\n",
       "          -1.77875784,   24.02615517,   49.83106819,   75.63598121,\n",
       "         101.44089422,  127.24580724,  153.05072026]),\n",
       " <a list of 10 Patch objects>)"
      ]
     },
     "execution_count": 3,
     "metadata": {},
     "output_type": "execute_result"
    },
    {
     "data": {
      "image/png": "[encoded data removed]",
      "text/plain": [
       "<Figure size 432x288 with 1 Axes>"
      ]
     },
     "metadata": {
      "needs_background": "light"
     },
     "output_type": "display_data"
    }
   ],
   "source": [
    "plt.hist(y_train)\n",
    "# np.exp(10 * 0.01)"
   ]
  },
  {
   "cell_type": "markdown",
   "metadata": {},
   "source": [
    "compare likelihood of test set given true mean and true variance and true variance + bias"
   ]
  },
  {
   "cell_type": "code",
   "execution_count": 4,
   "metadata": {
    "colab": {
     "base_uri": "https://localhost:8080/",
     "height": 51
    },
    "colab_type": "code",
    "executionInfo": {
     "elapsed": 971,
     "status": "ok",
     "timestamp": 1575486325612,
     "user": {
      "displayName": "Daniel Berman",
      "photoUrl": "",
      "userId": "07083512293139957454"
     },
     "user_tz": 300
    },
    "id": "jI5_3uZbEPwE",
    "outputId": "ecec67f9-8ae3-464b-fe23-23c81573ebf3"
   },
   "outputs": [
    {
     "ename": "AttributeError",
     "evalue": "'numpy.ndarray' object has no attribute 'detach'",
     "output_type": "error",
     "traceback": [
      "\u001b[1;31m---------------------------------------------------------------------------\u001b[0m",
      "\u001b[1;31mAttributeError\u001b[0m                            Traceback (most recent call last)",
      "\u001b[1;32m<ipython-input-4-bf7da1c422d3>\u001b[0m in \u001b[0;36m<module>\u001b[1;34m\u001b[0m\n\u001b[0;32m      5\u001b[0m \u001b[0mtst\u001b[0m\u001b[1;33m\u001b[0m\u001b[1;33m\u001b[0m\u001b[0m\n\u001b[0;32m      6\u001b[0m \u001b[1;33m\u001b[0m\u001b[0m\n\u001b[1;32m----> 7\u001b[1;33m \u001b[0mprint\u001b[0m\u001b[1;33m(\u001b[0m\u001b[0mgauss_logpdf\u001b[0m\u001b[1;33m(\u001b[0m\u001b[0mtst\u001b[0m\u001b[1;33m,\u001b[0m \u001b[0mX_train\u001b[0m \u001b[1;33m@\u001b[0m \u001b[0mW\u001b[0m \u001b[1;33m+\u001b[0m \u001b[0mb\u001b[0m\u001b[1;33m,\u001b[0m \u001b[0mnp\u001b[0m\u001b[1;33m.\u001b[0m\u001b[0mexp\u001b[0m\u001b[1;33m(\u001b[0m\u001b[0mx\u001b[0m \u001b[1;33m@\u001b[0m \u001b[0mW_s\u001b[0m \u001b[1;33m+\u001b[0m \u001b[0mb_s\u001b[0m\u001b[1;33m)\u001b[0m\u001b[1;33m)\u001b[0m\u001b[1;33m.\u001b[0m\u001b[0msum\u001b[0m\u001b[1;33m(\u001b[0m\u001b[1;33m)\u001b[0m\u001b[1;33m)\u001b[0m\u001b[1;33m\u001b[0m\u001b[1;33m\u001b[0m\u001b[0m\n\u001b[0m\u001b[0;32m      8\u001b[0m \u001b[0mprint\u001b[0m\u001b[1;33m(\u001b[0m\u001b[0mgauss_logpdf\u001b[0m\u001b[1;33m(\u001b[0m\u001b[0mtst\u001b[0m\u001b[1;33m,\u001b[0m \u001b[0mX_train\u001b[0m \u001b[1;33m@\u001b[0m \u001b[0mW\u001b[0m \u001b[1;33m+\u001b[0m \u001b[0mb\u001b[0m\u001b[1;33m,\u001b[0m \u001b[0mnp\u001b[0m\u001b[1;33m.\u001b[0m\u001b[0mexp\u001b[0m\u001b[1;33m(\u001b[0m\u001b[0mx\u001b[0m \u001b[1;33m@\u001b[0m \u001b[0mW_s\u001b[0m \u001b[1;33m+\u001b[0m \u001b[0mb_s\u001b[0m\u001b[1;33m)\u001b[0m \u001b[1;33m+\u001b[0m \u001b[1;36m100\u001b[0m\u001b[1;33m)\u001b[0m\u001b[1;33m.\u001b[0m\u001b[0msum\u001b[0m\u001b[1;33m(\u001b[0m\u001b[1;33m)\u001b[0m\u001b[1;33m)\u001b[0m\u001b[1;33m\u001b[0m\u001b[1;33m\u001b[0m\u001b[0m\n",
      "\u001b[1;32m~\\Desktop\\COLLEG\\ExportedHalligan\\comp150-03-BDL\\Final Project - Heteroskedastic Priors\\BDL_final_project\\bnn.py\u001b[0m in \u001b[0;36mgauss_logpdf\u001b[1;34m(x, mu, s)\u001b[0m\n\u001b[0;32m      9\u001b[0m \u001b[1;32mdef\u001b[0m \u001b[0mgauss_logpdf\u001b[0m\u001b[1;33m(\u001b[0m\u001b[0mx\u001b[0m\u001b[1;33m,\u001b[0m \u001b[0mmu\u001b[0m\u001b[1;33m,\u001b[0m \u001b[0ms\u001b[0m\u001b[1;33m)\u001b[0m\u001b[1;33m:\u001b[0m\u001b[1;33m\u001b[0m\u001b[1;33m\u001b[0m\u001b[0m\n\u001b[0;32m     10\u001b[0m     \u001b[0mnormalized_x\u001b[0m \u001b[1;33m=\u001b[0m \u001b[1;33m(\u001b[0m\u001b[0mx\u001b[0m \u001b[1;33m-\u001b[0m \u001b[0mmu\u001b[0m\u001b[1;33m)\u001b[0m \u001b[1;33m/\u001b[0m \u001b[0ms\u001b[0m\u001b[1;33m\u001b[0m\u001b[1;33m\u001b[0m\u001b[0m\n\u001b[1;32m---> 11\u001b[1;33m     \u001b[1;32mif\u001b[0m \u001b[1;33m(\u001b[0m\u001b[0mnormalized_x\u001b[0m\u001b[1;33m.\u001b[0m\u001b[0mdetach\u001b[0m\u001b[1;33m(\u001b[0m\u001b[1;33m)\u001b[0m\u001b[1;33m.\u001b[0m\u001b[0mnumpy\u001b[0m\u001b[1;33m(\u001b[0m\u001b[1;33m)\u001b[0m \u001b[1;33m>=\u001b[0m \u001b[0mfloat\u001b[0m\u001b[1;33m(\u001b[0m\u001b[1;34m'inf'\u001b[0m\u001b[1;33m)\u001b[0m\u001b[1;33m)\u001b[0m\u001b[1;33m.\u001b[0m\u001b[0many\u001b[0m\u001b[1;33m(\u001b[0m\u001b[1;33m)\u001b[0m\u001b[1;33m:\u001b[0m\u001b[1;33m\u001b[0m\u001b[1;33m\u001b[0m\u001b[0m\n\u001b[0m\u001b[0;32m     12\u001b[0m         \u001b[0mprint\u001b[0m\u001b[1;33m(\u001b[0m\u001b[1;34m'\\n\\n\\n\\n\\n\\n\\n\\n\\n\\n\\n\\n'\u001b[0m\u001b[1;33m)\u001b[0m\u001b[1;33m\u001b[0m\u001b[1;33m\u001b[0m\u001b[0m\n\u001b[0;32m     13\u001b[0m         \u001b[0mprint\u001b[0m\u001b[1;33m(\u001b[0m\u001b[1;34m'exploded'\u001b[0m\u001b[1;33m)\u001b[0m\u001b[1;33m\u001b[0m\u001b[1;33m\u001b[0m\u001b[0m\n",
      "\u001b[1;31mAttributeError\u001b[0m: 'numpy.ndarray' object has no attribute 'detach'"
     ]
    }
   ],
   "source": [
    "tst = np.empty_like(X_train[:,0])\n",
    "for ind, x in enumerate(X_train):\n",
    "  # y_train[ind] = x @ W + b + np.random.normal(loc=0, scale=np.exp(x @ W_s + b_s))\n",
    "  tst[ind] = x.reshape(1,-1) @ W + b + np.random.normal(loc=0, scale=np.exp(x @ W_s + b_s))\n",
    "tst\n",
    "\n",
    "print(gauss_logpdf(tst, X_train @ W + b, np.exp(x @ W_s + b_s)).sum())\n",
    "print(gauss_logpdf(tst, X_train @ W + b, np.exp(x @ W_s + b_s) + 100).sum())"
   ]
  },
  {
   "cell_type": "code",
   "execution_count": null,
   "metadata": {
    "colab": {
     "base_uri": "https://localhost:8080/",
     "height": 626
    },
    "colab_type": "code",
    "executionInfo": {
     "elapsed": 2417,
     "status": "ok",
     "timestamp": 1575480980749,
     "user": {
      "displayName": "Daniel Berman",
      "photoUrl": "",
      "userId": "07083512293139957454"
     },
     "user_tz": 300
    },
    "id": "9O-6lnY9YJRb",
    "outputId": "d9139067-fbb0-4258-b9c0-c28167a193e2"
   },
   "outputs": [],
   "source": []
  },
  {
   "cell_type": "code",
   "execution_count": null,
   "metadata": {
    "colab": {
     "base_uri": "https://localhost:8080/",
     "height": 35
    },
    "colab_type": "code",
    "executionInfo": {
     "elapsed": 309,
     "status": "ok",
     "timestamp": 1575170206489,
     "user": {
      "displayName": "Emerson Wenzel",
      "photoUrl": "https://lh3.googleusercontent.com/a-/AAuE7mBa8myeK4yWPwITEYdL3CnQJapeceo7a6YM_K7TpQ=s64",
      "userId": "12144547484727272619"
     },
     "user_tz": 300
    },
    "id": "vzSQguR_UJhN",
    "outputId": "0417a959-ed74-4f88-d8ff-8967e05cd48f"
   },
   "outputs": [],
   "source": []
  },
  {
   "cell_type": "markdown",
   "metadata": {
    "colab": {
     "base_uri": "https://localhost:8080/",
     "height": 243
    },
    "colab_type": "code",
    "executionInfo": {
     "elapsed": 257,
     "status": "error",
     "timestamp": 1575170206947,
     "user": {
      "displayName": "Emerson Wenzel",
      "photoUrl": "https://lh3.googleusercontent.com/a-/AAuE7mBa8myeK4yWPwITEYdL3CnQJapeceo7a6YM_K7TpQ=s64",
      "userId": "12144547484727272619"
     },
     "user_tz": 300
    },
    "id": "TP8Et2D5Rwyk",
    "outputId": "907e9d07-2ab2-4f31-d72e-9a5deea518e1"
   },
   "source": [
    "Toy dataset for classification 2d"
   ]
  },
  {
   "cell_type": "code",
   "execution_count": 266,
   "metadata": {
    "colab": {},
    "colab_type": "code",
    "id": "CCQC9djBrntu"
   },
   "outputs": [],
   "source": [
    "dataset_size = 5000\n",
    "\n",
    "X_train = np.empty(shape=(dataset_size, 2), dtype=float)\n",
    "y_train = np.empty(shape=(dataset_size,), dtype=float)\n",
    "\n",
    "# make first dimension 0 to effectively make it univariate \n",
    "# bc current bnn arch only works with multivariate input\n",
    "# X_train[:int(dataset_size/2),0] = np.random.normal(loc=0,\n",
    "#                                                    scale=1,\n",
    "#                                                    size=(int(dataset_size/2),))\n",
    "# X_train[:int(dataset_size/2), 1] = np.random.normal(loc=0, \n",
    "#                                                     scale=1, \n",
    "#                                                     size=(int(dataset_size/2),))\n",
    "\n",
    "scale = 1\n",
    "\n",
    "X_train[:int(dataset_size/2), 0] = np.random.uniform(2 * scale, 12 * scale, \n",
    "                                                    size=(int(dataset_size/2),))\n",
    "X_train[:int(dataset_size/2), 1] = np.random.uniform(7.5* scale, 13.5 * scale,\n",
    "                                                   size=(int(dataset_size/2),))\n",
    "\n",
    "\n",
    "y_train[:int(dataset_size/2)] = 0\n",
    "\n",
    "X_train[int(dataset_size/2):,0] = np.random.uniform(2 * scale, 12 * scale,\n",
    "                                                   size=(int(dataset_size/2),))\n",
    "X_train[int(dataset_size/2):, 1] = np.random.uniform(0.5 * scale, 6.5 * scale,\n",
    "                                                    size=(int(dataset_size/2),))\n",
    "y_train[int(dataset_size/2):] = 1\n",
    "\n",
    "# shuffle order\n",
    "perm = np.random.permutation(dataset_size)\n",
    "X_train = X_train[perm]\n",
    "y_train = y_train[perm]"
   ]
  },
  {
   "cell_type": "code",
   "execution_count": 267,
   "metadata": {},
   "outputs": [],
   "source": [
    "A = np.array([[1, 1],\n",
    "              [1, 0]])\n",
    "X_train = X_train @ A"
   ]
  },
  {
   "cell_type": "code",
   "execution_count": 268,
   "metadata": {
    "colab": {},
    "colab_type": "code",
    "id": "h0QAif-C42O6"
   },
   "outputs": [
    {
     "name": "stdout",
     "output_type": "stream",
     "text": [
      "sklearn logistic regression accuracy is: 1.0\n"
     ]
    },
    {
     "name": "stderr",
     "output_type": "stream",
     "text": [
      "/anaconda3/envs/Pytorch/lib/python3.6/site-packages/sklearn/linear_model/logistic.py:433: FutureWarning: Default solver will be changed to 'lbfgs' in 0.22. Specify a solver to silence this warning.\n",
      "  FutureWarning)\n"
     ]
    },
    {
     "data": {
      "image/png": "[encoded data removed]",
      "text/plain": [
       "<Figure size 720x720 with 1 Axes>"
      ]
     },
     "metadata": {
      "needs_background": "light"
     },
     "output_type": "display_data"
    }
   ],
   "source": [
    "def plane(x1, x2, w1, b):\n",
    "    return w1[0] * x1 + w1[1] * x2 + b\n",
    "    \n",
    "\n",
    "w1 = np.array([[0,0]]).T\n",
    "w2 = np.array([[0,0]]).T\n",
    "W_full = np.hstack((w1, w2))\n",
    "b = 0\n",
    "\n",
    "x = y = np.arange(-8.0, 8.0, 0.05)\n",
    "X, Y = np.meshgrid(x, y)\n",
    "zs = plane(X, Y, w1, b)\n",
    "# print(\"X shape\", zs.shape)\n",
    "\n",
    "# Z = zs.reshape(X.shape)\n",
    "\n",
    "# ax.plot_surface(X, Y, Z)\n",
    "\n",
    "# x_line = np.random.uniform(-8, 8, (100, 2))\n",
    "#  = \n",
    "# print(w1.T.shape)\n",
    "# y = w1.T @ x + b\n",
    "# y = y.flatten()\n",
    "# plt.plot(x1, x2)\n",
    "# plt.scatter(X_train[y_train == 0,0], X_train[y_train == 0,1], c='red', alpha=0.2)\n",
    "# plt.scatter(X_train[y_train == 1,0], X_train[y_train == 1,1], c='blue', alpha=0.2)\n",
    "# plt.ylim((-10, 10))\n",
    "\n",
    "\n",
    "fig = plt.figure(figsize=(10,10))\n",
    "# ax = fig.add_subplot(311, projection='3d')       \n",
    "ax = fig.add_subplot(111)   \n",
    "\n",
    "# ax.plot_wireframe(X, Y, zs, color='grey', alpha = 0.7)\n",
    "ax.scatter(X_train[y_train == 0,0], X_train[y_train == 0,1], c='blue')\n",
    "ax.scatter(X_train[y_train == 1,0], X_train[y_train == 1,1], c='red')\n",
    "ax.axis('equal')\n",
    "# ax.set_ylim(-6, 6)\n",
    "fig.show()\n",
    "# print(\"------\")                                                        \n",
    "# print(x_line[:,0].shape)                                                   \n",
    "# print(x_line[:,1].shape)                                                   \n",
    "# print(y.shape)                                                        \n",
    "# print(\"------\")\n",
    "\n",
    "\n",
    "# ax.scatter(X1_train_grd, X2_train_grd, alpha=0.5)\n",
    "\n",
    "# ax.plot()\n",
    "# ax.set_xlabel('X_train[:,0]')                                          \n",
    "# ax.set_ylabel('X_train[:,1]')                                          \n",
    "# ax.set_zlabel('output[:,1] (Standard Deviation)')                      \n",
    "# fig.show()\n",
    "# plt.show()\n",
    "\n",
    "from sklearn.linear_model import LogisticRegression\n",
    "lr = LogisticRegression()\n",
    "lr.fit(X_train, y_train)\n",
    "print('sklearn logistic regression accuracy is:', lr.score(X_train, y_train))"
   ]
  },
  {
   "cell_type": "code",
   "execution_count": 269,
   "metadata": {},
   "outputs": [],
   "source": [
    "for i, row_i in enumerate(X_train):\n",
    "    X_train[i, 1] = X_train[i, 1] + np.random.normal(loc=0, scale=0.1 * X_train[i, 0])"
   ]
  },
  {
   "cell_type": "code",
   "execution_count": 241,
   "metadata": {},
   "outputs": [
    {
     "name": "stderr",
     "output_type": "stream",
     "text": [
      "/anaconda3/envs/Pytorch/lib/python3.6/site-packages/sklearn/linear_model/logistic.py:433: FutureWarning: Default solver will be changed to 'lbfgs' in 0.22. Specify a solver to silence this warning.\n",
      "  FutureWarning)\n",
      "/anaconda3/envs/Pytorch/lib/python3.6/site-packages/matplotlib/figure.py:459: UserWarning: matplotlib is currently using a non-GUI backend, so cannot show the figure\n",
      "  \"matplotlib is currently using a non-GUI backend, \"\n"
     ]
    },
    {
     "name": "stdout",
     "output_type": "stream",
     "text": [
      "sklearn logistic regression accuracy is: 0.945\n"
     ]
    },
    {
     "data": {
      "image/png": "[encoded data removed]",
      "text/plain": [
       "<Figure size 720x720 with 1 Axes>"
      ]
     },
     "metadata": {
      "needs_background": "light"
     },
     "output_type": "display_data"
    }
   ],
   "source": [
    "from sklearn.linear_model import LogisticRegression\n",
    "lr = LogisticRegression()\n",
    "lr.fit(X_train, y_train)\n",
    "print('sklearn logistic regression accuracy is:', lr.score(X_train, y_train))\n",
    "\n",
    "fig = plt.figure(figsize=(10,10))\n",
    "# ax = fig.add_subplot(311, projection='3d')       \n",
    "ax = fig.add_subplot(111)   \n",
    "\n",
    "# ax.plot_wireframe(X, Y, zs, color='grey', alpha = 0.7)\n",
    "ax.scatter(X_train[y_train == 0,0], X_train[y_train == 0,1], c='blue')\n",
    "ax.scatter(X_train[y_train == 1,0], X_train[y_train == 1,1], c='red')\n",
    "ax.axis('equal')\n",
    "# ax.set_ylim(-6, 6)\n",
    "fig.show()"
   ]
  },
  {
   "cell_type": "markdown",
   "metadata": {},
   "source": [
    "Toy dataset for classification 1d"
   ]
  },
  {
   "cell_type": "code",
   "execution_count": 60,
   "metadata": {},
   "outputs": [],
   "source": [
    "dataset_size = 5000\n",
    "\n",
    "X_train = np.empty(shape=(dataset_size, 2), dtype=float)\n",
    "y_train = np.empty(shape=(dataset_size,), dtype=float)\n",
    "\n",
    "# make first dimension 0 to effectively make it univariate \n",
    "# bc current bnn arch only works with multivariate input\n",
    "X_train[:int(dataset_size/2), 0] = 0\n",
    "X_train[:int(dataset_size/2), 1] = np.random.normal(loc=2,\n",
    "                                                 scale=1,\n",
    "                                                 size=(int(dataset_size/2),))\n",
    "y_train[:int(dataset_size/2)] = 0\n",
    "\n",
    "\n",
    "\n",
    "X_train[int(dataset_size/2):, 0] = 0\n",
    "X_train[int(dataset_size/2):, 1] = np.random.normal(loc=10,\n",
    "                                                   scale=1,\n",
    "                                                   size=(int(dataset_size/2),))\n",
    "y_train[int(dataset_size/2):] = 1\n",
    "\n",
    "# shuffle order\n",
    "perm = np.random.permutation(dataset_size)\n",
    "X_train = X_train[perm]\n",
    "y_train = y_train[perm]"
   ]
  },
  {
   "cell_type": "code",
   "execution_count": 61,
   "metadata": {
    "colab": {
     "base_uri": "https://localhost:8080/",
     "height": 35
    },
    "colab_type": "code",
    "executionInfo": {
     "elapsed": 627,
     "status": "ok",
     "timestamp": 1575170208452,
     "user": {
      "displayName": "Emerson Wenzel",
      "photoUrl": "https://lh3.googleusercontent.com/a-/AAuE7mBa8myeK4yWPwITEYdL3CnQJapeceo7a6YM_K7TpQ=s64",
      "userId": "12144547484727272619"
     },
     "user_tz": 300
    },
    "id": "TOyX3Muiryr2",
    "outputId": "6fad6434-e0dc-45fb-9601-aac724c9e0fb"
   },
   "outputs": [
    {
     "name": "stderr",
     "output_type": "stream",
     "text": [
      "/anaconda3/envs/Pytorch/lib/python3.6/site-packages/sklearn/linear_model/logistic.py:433: FutureWarning: Default solver will be changed to 'lbfgs' in 0.22. Specify a solver to silence this warning.\n",
      "  FutureWarning)\n"
     ]
    },
    {
     "data": {
      "text/plain": [
       "1.0"
      ]
     },
     "execution_count": 61,
     "metadata": {},
     "output_type": "execute_result"
    }
   ],
   "source": [
    "from sklearn.linear_model import LogisticRegression\n",
    "lr = LogisticRegression()\n",
    "lr.fit(X_train, y_train)\n",
    "lr.score(X_train, y_train)"
   ]
  },
  {
   "cell_type": "code",
   "execution_count": 62,
   "metadata": {
    "colab": {},
    "colab_type": "code",
    "id": "iiPLVvfVdCxn"
   },
   "outputs": [
    {
     "data": {
      "text/plain": [
       "<matplotlib.collections.PathCollection at 0x1a2b602cc0>"
      ]
     },
     "execution_count": 62,
     "metadata": {},
     "output_type": "execute_result"
    },
    {
     "data": {
      "image/png": "[encoded data removed]",
      "text/plain": [
       "<Figure size 432x288 with 1 Axes>"
      ]
     },
     "metadata": {
      "needs_background": "light"
     },
     "output_type": "display_data"
    }
   ],
   "source": [
    "# a separating line!\n",
    "# x1 = np.linspace(-2, 14, 20)\n",
    "# y = x1 * 1 - 8.5\n",
    "\n",
    "plt.scatter(X_train[y_train == 0, 1], [0]*int(X_train.shape[0]/2))\n",
    "plt.scatter(X_train[y_train == 1, 1], [0]*int(X_train.shape[0]/2))\n",
    "# plt.plot(x1, y)"
   ]
  },
  {
   "cell_type": "code",
   "execution_count": null,
   "metadata": {
    "colab": {},
    "colab_type": "code",
    "id": "P-Xjzeot6D2P"
   },
   "outputs": [],
   "source": []
  },
  {
   "cell_type": "code",
   "execution_count": null,
   "metadata": {
    "colab": {},
    "colab_type": "code",
    "id": "9NoQs_KnUNd-"
   },
   "outputs": [],
   "source": []
  },
  {
   "cell_type": "code",
   "execution_count": null,
   "metadata": {
    "colab": {},
    "colab_type": "code",
    "id": "yKNzAsfqk7nW"
   },
   "outputs": [],
   "source": []
  },
  {
   "cell_type": "markdown",
   "metadata": {},
   "source": []
  },
  {
   "cell_type": "code",
   "execution_count": null,
   "metadata": {
    "colab": {
     "base_uri": "https://localhost:8080/",
     "height": 102
    },
    "colab_type": "code",
    "executionInfo": {
     "elapsed": 634,
     "status": "ok",
     "timestamp": 1575481590190,
     "user": {
      "displayName": "Daniel Berman",
      "photoUrl": "",
      "userId": "07083512293139957454"
     },
     "user_tz": 300
    },
    "id": "at9HlsBPwivQ",
    "outputId": "e05370f5-6f78-4ffc-e899-cca514382d60"
   },
   "outputs": [],
   "source": [
    "# W_full\n",
    "# W\n",
    "# preset_preds.shape\n",
    "# print('MAE of BNN with q mean == true weights: ', np.mean(np.abs(preset_preds - y_train.flatten())))\n",
    "# print('acc of BNN with q mean == true weights: ', np.mean((preset_preds == y_train.flatten()).astype(int)))\n",
    "# print('\\n')\n",
    "# print(preset_preds[1], y_train[1])\n",
    "# bnn_preset.model.l1.W_log_s_DO\n",
    "# bnn_preset.model.l1.b_log_s_O\n",
    "# bnn_preset.MC_elbo(torch.Tensor(X_train), torch.Tensor(y_train), 9, 10, 100).detach().numpy()\n",
    "\n",
    "# plt.title(\"line with {} as slope\".format(w))\n",
    "# plt.plot(x1, x2)\n",
    "# plt.scatter(X_train1[y_train1 == 0,0], X_train1[y_train1 == 0,1], c='red', alpha=0.2)\n",
    "# plt.scatter(X_train1[y_train1 == 1,0], X_train1[y_train1 == 1,1], c='blue', alpha=0.2)\n",
    "# plt.ylim((-10, 10))\n",
    "\n",
    "# ax = fig.add_subplot(311, projection='3d')                             \n",
    "# print(\"------\")                                                        \n",
    "# print(x1[:,0].shape)                                                   \n",
    "# print(x1[:,1].shape)                                                   \n",
    "# print(y1.shape)                                                        \n",
    "# print(\"------\")                                                        \n",
    "# ax.plot_surface(x1[0,1], x1[:,1], y1)                                       \n",
    "# ax.set_xlabel('X_train[:,0]')                                          \n",
    "# ax.set_ylabel('X_train[:,1]')                                          \n",
    "# ax.set_zlabel('output[:,1] (Standard Deviation)')                      \n",
    "# fig.show()\n",
    "# plt.show()\n",
    "\n"
   ]
  },
  {
   "cell_type": "markdown",
   "metadata": {
    "colab": {
     "base_uri": "https://localhost:8080/",
     "height": 34
    },
    "colab_type": "code",
    "executionInfo": {
     "elapsed": 1135,
     "status": "ok",
     "timestamp": 1575481595376,
     "user": {
      "displayName": "Daniel Berman",
      "photoUrl": "",
      "userId": "07083512293139957454"
     },
     "user_tz": 300
    },
    "id": "bkhAi4HKngMx",
    "outputId": "46e3f86c-34c2-4131-f200-77d6e8c525cc"
   },
   "source": [
    "## test ELBO as slope of line changes"
   ]
  },
  {
   "cell_type": "code",
   "execution_count": 67,
   "metadata": {
    "scrolled": true
   },
   "outputs": [
    {
     "name": "stdout",
     "output_type": "stream",
     "text": [
      "[[0. 0.]\n",
      " [1. 0.]]\n",
      "[[0.]\n",
      " [1.]]\n",
      "X_int 21.162403\n",
      "\n",
      "used_b is -20.054132\n",
      "used_w is  0.94763017\n",
      "\n",
      "grads w1  tensor([-6.7961e-03, -6.9137e+03])\n",
      "grad b  tensor(-695.3595)\n",
      "Accuracy with -20 as bias:  50.0 %\n",
      "likelihood -38209.665\n",
      "X_int 20.216524\n",
      "\n",
      "used_b is -18.58039\n",
      "used_w is  0.9190695\n",
      "\n",
      "grads w1  tensor([ 3.0592e-03, -1.0214e+04])\n",
      "grad b  tensor(-1023.5146)\n",
      "Accuracy with -19 as bias:  50.0 %\n",
      "likelihood -37333.1875\n",
      "X_int 16.733711\n",
      "\n",
      "used_b is -17.609013\n",
      "used_w is  1.0523076\n",
      "\n",
      "grads w1  tensor([-8.2046e-03, -1.4813e+04])\n",
      "grad b  tensor(-1454.5852)\n",
      "Accuracy with -18 as bias:  50.0 %\n",
      "likelihood -36397.1075\n",
      "X_int 16.37387\n",
      "\n",
      "used_b is -16.843601\n",
      "used_w is  1.0286878\n",
      "\n",
      "grads w1  tensor([ 2.8262e-03, -1.7274e+04])\n",
      "grad b  tensor(-1709.2228)\n",
      "Accuracy with -17 as bias:  50.0 %\n",
      "likelihood -34417.4125\n",
      "X_int 16.305536\n",
      "\n",
      "used_b is -16.17023\n",
      "used_w is  0.99170184\n",
      "\n",
      "grads w1  tensor([-7.5810e-03, -2.3520e+04])\n",
      "grad b  tensor(-2310.4102)\n",
      "Accuracy with -16 as bias:  50.0 %\n",
      "likelihood -33066.4475\n",
      "X_int 17.553799\n",
      "\n",
      "used_b is -15.355954\n",
      "used_w is  0.87479377\n",
      "\n",
      "grads w1  tensor([-7.2394e-05, -3.7562e+04])\n",
      "grad b  tensor(-3674.8313)\n",
      "Accuracy with -15 as bias:  50.0 %\n",
      "likelihood -29924.4825\n",
      "X_int 13.62274\n",
      "\n",
      "used_b is -14.354893\n",
      "used_w is  1.0537449\n",
      "\n",
      "grads w1  tensor([-5.0575e-03, -4.8192e+04])\n",
      "grad b  tensor(-4737.8057)\n",
      "Accuracy with -14 as bias:  50.0 %\n",
      "likelihood -24993.17\n",
      "X_int 14.802903\n",
      "\n",
      "used_b is -13.663484\n",
      "used_w is  0.9230273\n",
      "\n",
      "grads w1  tensor([-7.7670e-03, -6.3354e+04])\n",
      "grad b  tensor(-6304.1289)\n",
      "Accuracy with -13 as bias:  50.0 %\n",
      "likelihood -19605.95625\n",
      "X_int 11.506804\n",
      "\n",
      "used_b is -11.54715\n",
      "used_w is  1.0035062\n",
      "\n",
      "grads w1  tensor([-1.1078e-03, -6.1333e+04])\n",
      "grad b  tensor(-6226.2021)\n",
      "Accuracy with -12 as bias:  53.38 %\n",
      "likelihood -12942.68625\n",
      "X_int 11.752484\n",
      "\n",
      "used_b is -11.295685\n",
      "used_w is  0.9611317\n",
      "\n",
      "grads w1  tensor([ 2.2688e-04, -4.8965e+04])\n",
      "grad b  tensor(-5094.0244)\n",
      "Accuracy with -11 as bias:  52.04 %\n",
      "likelihood -7448.311875\n",
      "X_int 9.523125\n",
      "\n",
      "used_b is -9.816477\n",
      "used_w is  1.0308042\n",
      "\n",
      "grads w1  tensor([ 1.0635e-02, -2.8269e+04])\n",
      "grad b  tensor(-3040.6431)\n",
      "Accuracy with -10 as bias:  83.78 %\n",
      "likelihood -3345.678125\n",
      "X_int 9.985005\n",
      "\n",
      "used_b is -9.967312\n",
      "used_w is  0.998228\n",
      "\n",
      "grads w1  tensor([-2.0571e-03, -1.1906e+04])\n",
      "grad b  tensor(-1334.1562)\n",
      "Accuracy with -9 as bias:  74.42 %\n",
      "likelihood -1210.368359375\n",
      "X_int 8.368714\n",
      "\n",
      "used_b is -8.185421\n",
      "used_w is  0.9780978\n",
      "\n",
      "grads w1  tensor([-1.0872e-02, -4.5006e+03])\n",
      "grad b  tensor(-520.0095)\n",
      "Accuracy with -8 as bias:  97.2 %\n",
      "likelihood -441.52703125\n",
      "X_int 7.6667295\n",
      "\n",
      "used_b is -7.344219\n",
      "used_w is  0.9579338\n",
      "\n",
      "grads w1  tensor([-5.1663e-03, -1.2115e+03])\n",
      "grad b  tensor(-144.7022)\n",
      "Accuracy with -7 as bias:  99.38 %\n",
      "likelihood -132.770234375\n",
      "X_int 6.238815\n",
      "\n",
      "used_b is -6.120054\n",
      "used_w is  0.9809642\n",
      "\n",
      "grads w1  tensor([ 8.5126e-03, -2.5295e+02])\n",
      "grad b  tensor(-20.2451)\n",
      "Accuracy with -6 as bias:  100.0 %\n",
      "likelihood -61.3650146484375\n",
      "X_int 4.9472547\n",
      "\n",
      "used_b is -5.469439\n",
      "used_w is  1.1055503\n",
      "\n",
      "grads w1  tensor([-5.9904e-03,  2.4186e+02])\n",
      "grad b  tensor(89.1369)\n",
      "Accuracy with -5 as bias:  99.9 %\n",
      "likelihood -101.614853515625\n",
      "X_int 4.015629\n",
      "\n",
      "used_b is -3.982437\n",
      "used_w is  0.99173427\n",
      "\n",
      "grads w1  tensor([6.9719e-03, 1.2714e+03])\n",
      "grad b  tensor(398.7783)\n",
      "Accuracy with -4 as bias:  98.92 %\n",
      "likelihood -320.81416015625\n",
      "X_int 3.1254656\n",
      "\n",
      "used_b is -3.1668098\n",
      "used_w is  1.0132282\n",
      "\n",
      "grads w1  tensor([5.1059e-03, 3.5194e+03])\n",
      "grad b  tensor(1173.7952)\n",
      "Accuracy with -3 as bias:  93.46 %\n",
      "likelihood -1016.588046875\n",
      "X_int 2.0849593\n",
      "\n",
      "used_b is -2.036015\n",
      "used_w is  0.97652507\n",
      "\n",
      "grads w1  tensor([3.1953e-03, 7.0664e+03])\n",
      "grad b  tensor(2634.8997)\n",
      "Accuracy with -2 as bias:  76.78 %\n",
      "likelihood -2903.643125\n",
      "X_int 1.0381523\n",
      "\n",
      "used_b is -1.080888\n",
      "used_w is  1.0411651\n",
      "\n",
      "grads w1  tensor([5.8213e-03, 1.1720e+04])\n",
      "grad b  tensor(4768.5830)\n",
      "Accuracy with -1 as bias:  58.14 %\n",
      "likelihood -6545.9675\n",
      "X_int -0.13558497\n",
      "\n",
      "used_b is 0.12948419\n",
      "used_w is  0.95500404\n",
      "\n",
      "grads w1  tensor([3.4024e-03, 1.4548e+04])\n",
      "grad b  tensor(6681.5957)\n",
      "Accuracy with 0 as bias:  50.739999999999995 %\n",
      "likelihood -12486.3425\n",
      "X_int -1.2533332\n",
      "\n",
      "used_b is 1.2405145\n",
      "used_w is  0.9897723\n",
      "\n",
      "grads w1  tensor([2.5360e-03, 1.3806e+04])\n",
      "grad b  tensor(6998.3164)\n",
      "Accuracy with 1 as bias:  50.019999999999996 %\n",
      "likelihood -18556.8075\n",
      "X_int -2.622227\n",
      "\n",
      "used_b is 2.4808104\n",
      "used_w is  0.94607\n",
      "\n",
      "grads w1  tensor([3.1704e-04, 1.0836e+04])\n",
      "grad b  tensor(6221.5024)\n",
      "Accuracy with 2 as bias:  50.0 %\n",
      "likelihood -26731.285\n",
      "X_int -2.3928108\n",
      "\n",
      "used_b is 2.6294332\n",
      "used_w is  1.0988889\n",
      "\n",
      "grads w1  tensor([-6.4134e-03,  7.4401e+03])\n",
      "grad b  tensor(4641.9385)\n",
      "Accuracy with 3 as bias:  50.0 %\n",
      "likelihood -30733.1725\n",
      "X_int -3.7409546\n",
      "\n",
      "used_b is 3.8288476\n",
      "used_w is  1.0234948\n",
      "\n",
      "grads w1  tensor([8.0050e-03, 4.4863e+03])\n",
      "grad b  tensor(2987.3115)\n",
      "Accuracy with 4 as bias:  50.0 %\n",
      "likelihood -34830.49\n",
      "X_int -5.166654\n",
      "\n",
      "used_b is 5.144685\n",
      "used_w is  0.99574786\n",
      "\n",
      "grads w1  tensor([-9.7828e-04,  2.6225e+03])\n",
      "grad b  tensor(1737.7015)\n",
      "Accuracy with 5 as bias:  50.0 %\n",
      "likelihood -37011.545\n",
      "X_int -5.4437017\n",
      "\n",
      "used_b is 5.3482876\n",
      "used_w is  0.98247254\n",
      "\n",
      "grads w1  tensor([-1.6145e-03,  1.6514e+03])\n",
      "grad b  tensor(1105.4067)\n",
      "Accuracy with 6 as bias:  50.0 %\n",
      "likelihood -38420.8325\n",
      "X_int -6.7072186\n",
      "\n",
      "used_b is 7.2289643\n",
      "used_w is  1.0777887\n",
      "\n",
      "grads w1  tensor([-3.0648e-03,  1.0337e+03])\n",
      "grad b  tensor(702.9982)\n",
      "Accuracy with 7 as bias:  50.0 %\n",
      "likelihood -39162.205\n",
      "X_int -7.595379\n",
      "\n",
      "used_b is 8.511285\n",
      "used_w is  1.1205872\n",
      "\n",
      "grads w1  tensor([5.3924e-03, 2.9014e+02])\n",
      "grad b  tensor(249.7431)\n",
      "Accuracy with 8 as bias:  50.0 %\n",
      "likelihood -40069.8625\n",
      "X_int -8.105489\n",
      "\n",
      "used_b is 8.32378\n",
      "used_w is  1.0269313\n",
      "\n",
      "grads w1  tensor([7.4635e-03, 1.5693e+02])\n",
      "grad b  tensor(123.1980)\n",
      "Accuracy with 9 as bias:  50.0 %\n",
      "likelihood -40185.78\n",
      "X_int -10.864172\n",
      "\n",
      "used_b is 10.677597\n",
      "used_w is  0.9828266\n",
      "\n",
      "grads w1  tensor([2.7068e-03, 1.4247e+02])\n",
      "grad b  tensor(105.1270)\n",
      "Accuracy with 10 as bias:  50.0 %\n",
      "likelihood -40149.16\n",
      "X_int -11.287656\n",
      "\n",
      "used_b is 10.730504\n",
      "used_w is  0.9506406\n",
      "\n",
      "grads w1  tensor([-4.0071e-03,  1.0836e+02])\n",
      "grad b  tensor(81.9056)\n",
      "Accuracy with 11 as bias:  50.0 %\n",
      "likelihood -40161.7825\n",
      "X_int -11.722639\n",
      "\n",
      "used_b is 12.414644\n",
      "used_w is  1.0590315\n",
      "\n",
      "grads w1  tensor([-1.0896e-02,  8.9878e+01])\n",
      "grad b  tensor(74.5911)\n",
      "Accuracy with 12 as bias:  50.0 %\n",
      "likelihood -40141.06\n",
      "X_int -13.763616\n",
      "\n",
      "used_b is 13.138661\n",
      "used_w is  0.9545938\n",
      "\n",
      "grads w1  tensor([1.5560e-03, 3.6165e+01])\n",
      "grad b  tensor(38.6305)\n",
      "Accuracy with 13 as bias:  50.0 %\n",
      "likelihood -40266.2725\n",
      "X_int -13.185047\n",
      "\n",
      "used_b is 13.688471\n",
      "used_w is  1.0381814\n",
      "\n",
      "grads w1  tensor([-2.2955e-05,  1.5666e+00])\n",
      "grad b  tensor(21.9229)\n",
      "Accuracy with 14 as bias:  50.0 %\n",
      "likelihood -40295.1275\n",
      "X_int -15.331957\n",
      "\n",
      "used_b is 15.246883\n",
      "used_w is  0.9944512\n",
      "\n",
      "grads w1  tensor([-0.0096,  1.4574])\n",
      "grad b  tensor(23.5356)\n",
      "Accuracy with 15 as bias:  50.0 %\n",
      "likelihood -40295.0725\n",
      "X_int -15.721149\n",
      "\n",
      "used_b is 16.014416\n",
      "used_w is  1.0186542\n",
      "\n",
      "grads w1  tensor([0.0026, 1.5725])\n",
      "grad b  tensor(24.9799)\n",
      "Accuracy with 16 as bias:  50.0 %\n",
      "likelihood -40295.1275\n",
      "X_int -16.886028\n",
      "\n",
      "used_b is 16.406115\n",
      "used_w is  0.9715792\n",
      "\n",
      "grads w1  tensor([-0.0032,  1.6311])\n",
      "grad b  tensor(27.2547)\n",
      "Accuracy with 17 as bias:  50.0 %\n",
      "likelihood -40294.4925\n",
      "X_int -19.22575\n",
      "\n",
      "used_b is 18.321178\n",
      "used_w is  0.95295\n",
      "\n",
      "grads w1  tensor([8.6550e-04, 1.5324e+00])\n",
      "grad b  tensor(28.1863)\n",
      "Accuracy with 18 as bias:  50.0 %\n",
      "likelihood -40295.12\n",
      "X_int -20.155325\n",
      "\n",
      "used_b is 18.767033\n",
      "used_w is  0.93112034\n",
      "\n",
      "grads w1  tensor([2.2718e-03, 1.7165e+01])\n",
      "grad b  tensor(36.3861)\n",
      "Accuracy with 19 as bias:  50.0 %\n",
      "likelihood -40287.72\n",
      "class 0 min:  -1.2623328985920295\n",
      "class 0 max:  5.32551393495166\n",
      "class 1 min:  6.824481310251747\n",
      "class 1 max:  13.174441797972156\n"
     ]
    },
    {
     "data": {
      "image/png": "[encoded data removed]",
      "text/plain": [
       "<Figure size 720x360 with 2 Axes>"
      ]
     },
     "metadata": {
      "needs_background": "light"
     },
     "output_type": "display_data"
    }
   ],
   "source": [
    "def plane(x1, x2, w1, b):\n",
    "    return w1[0] * x1 + w1[1] * x2 + b\n",
    "\n",
    "# for regression toy set\n",
    "# W_full = np.hstack((W, W_s))\n",
    "# W_full\n",
    "\n",
    "# b_full = np.hstack((b, b_s))\n",
    "# b_full[1] = 2.0\n",
    "\n",
    "# for 3d\n",
    "# w1 = np.array([[0.0,1.0]]).T\n",
    "# w2 = np.array([[0.0,0.0]]).T\n",
    "# W_full = np.hstack((w1, w2))\n",
    "\n",
    "# x1 = x2 = np.arange(-8.0, 8.0, 0.05)\n",
    "# X1, X2 = np.meshgrid(x, y)\n",
    "# b = 0\n",
    "# Z = plane(X1, X2, w1, b)\n",
    "\n",
    "\n",
    "w1 = np.array([[0.0,1.0]]).T\n",
    "w2 = np.array([[0.0,0.0]]).T\n",
    "W_full = np.hstack((w1, w2))\n",
    "print(W_full)\n",
    "print(w1)\n",
    "# x1 = x2 = np.arange(-8.0, 8.0, 0.05)\n",
    "# X1, X2 = np.meshgrid(x, y)\n",
    "# b = 0\n",
    "# Z = plane(X1, X2, w1, b)\n",
    "mc_samples = [i for 20 * i in range(1, 11)]\n",
    "bs = [i for i in range(-20, 15)]\n",
    "used_bs = []\n",
    "accuracies = []\n",
    "x_ints = []\n",
    "likelihoods = []\n",
    "grad_bs = []\n",
    "for b in bs:\n",
    "    b_full = np.array([b,0])\n",
    "    # b_full[0], b_full[1] = 0,0\n",
    "    bnn_preset = BNNBayesbyBackprop(prior_mu=0, \n",
    "                                    prior_s=0.8, \n",
    "                                    linear_regression=True, \n",
    "                                    classification=True,\n",
    "                                    preset={'W_mu': W_full, 'b_mu': b_full},\n",
    "                                    num_MC_samples=200)\n",
    "    preset_preds = bnn_preset.model.forward(torch.Tensor(X_train), predict=True).detach().numpy()\n",
    "    used_b = bnn_preset.model.l1.usedBias[0].detach().numpy()\n",
    "    used_w = bnn_preset.model.l1.usedWeights[:,0][1].detach().numpy()\n",
    "    used_bs.append(used_b)\n",
    "    \n",
    "    x_intercept = -used_b / used_w\n",
    "    x_ints.append(x_intercept)\n",
    "    print('X_int', x_intercept)\n",
    "    print('\\nused_b is', used_b)\n",
    "    print('used_w is ', used_w)\n",
    "    \n",
    "    bnn_preset.MC_elbo(torch.Tensor(X_train), torch.Tensor(y_train), 9, 10, 100).detach().numpy()\n",
    "    acc = np.mean((preset_preds == y_train.flatten()).astype(int)) * 100\n",
    "    accuracies.append(acc)\n",
    "    print('Accuracy with {} as bias: '.format(b), acc, '%')\n",
    "    \n",
    "    likelihood = bnn_preset.mean_likelihood\n",
    "    likelihoods.append(likelihood)\n",
    "    print('likelihood', likelihood)\n",
    "    \n",
    "    grad_bs.append(bnn_preset.gradB)\n",
    " \n",
    "fig, ax = plt.subplots(2, 1, figsize=(10,5), sharex=True)\n",
    "ax[0].plot(x_ints, accuracies)\n",
    "# ax[0].scatter([np.min(X_train[y_train == 0, 1]), np.max(X_train[y_train == 0, 1])], [50,50], c='blue')\n",
    "ax[0].axvline(np.min(X_train[y_train == 0, 1]), c='blue')\n",
    "ax[0].axvline(np.max(X_train[y_train == 0, 1]), c='blue')\n",
    "\n",
    "ax[0].axvline(np.min(X_train[y_train == 1, 1]), c='red')\n",
    "ax[0].axvline(np.max(X_train[y_train == 1, 1]), c='red')\n",
    "\n",
    "# ax[0].scatter([np.min(X_train[y_train == 1, 1]), np.max(X_train[y_train == 1, 1])], [50,50], c='red')\n",
    "\n",
    "\n",
    "ax[1].plot(x_ints, likelihoods)\n",
    "print('class 0 min: ', np.min(X_train[y_train == 0, 1]))\n",
    "print('class 0 max: ',np.max(X_train[y_train == 0, 1]))\n",
    "print('class 1 min: ', np.min(X_train[y_train == 1, 1]))\n",
    "print('class 1 max: ',np.max(X_train[y_train == 1, 1]))\n",
    "\n"
   ]
  },
  {
   "cell_type": "code",
   "execution_count": null,
   "metadata": {},
   "outputs": [],
   "source": [
    "# nesting subplots in subplots for MC sampling model selection?\n",
    "\n",
    "fig = plt.figure(figsize=(20, 20))\n",
    "outer = gridspec.GridSpec(3, 3, wspace=0.2, hspace=0.2)\n",
    "\n",
    "for i in range(9):\n",
    "    inner = gridspec.GridSpecFromSubplotSpec(3, 1,\n",
    "                    subplot_spec=outer[i], wspace=0.1, hspace=0.1)\n",
    "    \n",
    "    \n",
    "    for j in range(3):\n",
    "        ax = plt.Subplot(fig, inner[j])\n",
    "#         t = ax.text(0.5,0.5, 'outer=%d, inner=%d' % (i,j))\n",
    "#         t.set_ha('center')\n",
    "        ax.set_xticks([])\n",
    "        ax.set_yticks([])\n",
    "        fig.add_subplot(ax)\n",
    "        \n",
    "fig.show()"
   ]
  },
  {
   "cell_type": "code",
   "execution_count": 68,
   "metadata": {},
   "outputs": [
    {
     "data": {
      "text/plain": [
       "[<matplotlib.lines.Line2D at 0x1a298ab160>]"
      ]
     },
     "execution_count": 68,
     "metadata": {},
     "output_type": "execute_result"
    },
    {
     "data": {
      "image/png": "[encoded data removed]",
      "text/plain": [
       "<Figure size 720x648 with 3 Axes>"
      ]
     },
     "metadata": {
      "needs_background": "light"
     },
     "output_type": "display_data"
    }
   ],
   "source": [
    "\n",
    "\n",
    "fig, ax = plt.subplots(3, 1, figsize=(10,9), sharex=True)\n",
    "ax[0].set_title('Accuracy v X-intercept')\n",
    "ax[0].plot(x_ints, accuracies)\n",
    "# ax[0].scatter([np.min(X_train[y_train == 0, 1]), np.max(X_train[y_train == 0, 1])], [50,50], c='blue')\n",
    "ax[0].axvline(np.min(X_train[y_train == 0, 1]), c='blue')\n",
    "ax[0].axvline(np.max(X_train[y_train == 0, 1]), c='blue')\n",
    "\n",
    "ax[0].axvline(np.min(X_train[y_train == 1, 1]), c='red')\n",
    "ax[0].axvline(np.max(X_train[y_train == 1, 1]), c='red')\n",
    "ax[1].set_title('Likelihood v X-intercept')\n",
    "ax[1].plot(x_ints, likelihoods)\n",
    "\n",
    "ax[2].set_title('b grad v X-intercept')\n",
    "ax[2].plot(x_ints, grad_bs)"
   ]
  },
  {
   "cell_type": "code",
   "execution_count": 70,
   "metadata": {},
   "outputs": [
    {
     "data": {
      "text/plain": [
       "[<matplotlib.lines.Line2D at 0x1a29c3aeb8>]"
      ]
     },
     "execution_count": 70,
     "metadata": {},
     "output_type": "execute_result"
    },
    {
     "data": {
      "image/png": "[encoded data removed]",
      "text/plain": [
       "<Figure size 720x648 with 3 Axes>"
      ]
     },
     "metadata": {
      "needs_background": "light"
     },
     "output_type": "display_data"
    }
   ],
   "source": [
    "fig, ax = plt.subplots(3, 1, figsize=(10,9), sharex=True)\n",
    "ax[0].set_title('Accuracy v bias')\n",
    "ax[0].plot(used_bs, accuracies)\n",
    "# ax[0].scatter([np.min(X_train[y_train == 0, 1]), np.max(X_train[y_train == 0, 1])], [50,50], c='blue')\n",
    "# ax[0].axvline(np.min(X_train[y_train == 0, 1]), c='blue')\n",
    "# ax[0].axvline(np.max(X_train[y_train == 0, 1]), c='blue')\n",
    "\n",
    "# ax[0].axvline(np.min(X_train[y_train == 1, 1]), c='red')\n",
    "# ax[0].axvline(np.max(X_train[y_train == 1, 1]), c='red')\n",
    "ax[1].set_title('Likelihood v bias')\n",
    "ax[1].plot(used_bs, likelihoods)\n",
    "\n",
    "ax[2].set_title('bias grad v bias')\n",
    "ax[2].plot(used_bs, grad_bs)"
   ]
  },
  {
   "cell_type": "code",
   "execution_count": 9,
   "metadata": {
    "scrolled": true
   },
   "outputs": [
    {
     "name": "stdout",
     "output_type": "stream",
     "text": [
      "weights:  [0 0]\n"
     ]
    },
    {
     "ename": "NameError",
     "evalue": "name 'b_full' is not defined",
     "output_type": "error",
     "traceback": [
      "\u001b[0;31m---------------------------------------------------------------------------\u001b[0m",
      "\u001b[0;31mNameError\u001b[0m                                 Traceback (most recent call last)",
      "\u001b[0;32m<ipython-input-9-0da47ea8af7c>\u001b[0m in \u001b[0;36m<module>\u001b[0;34m\u001b[0m\n\u001b[1;32m     12\u001b[0m                                 \u001b[0mlinear_regression\u001b[0m\u001b[0;34m=\u001b[0m\u001b[0;32mTrue\u001b[0m\u001b[0;34m,\u001b[0m\u001b[0;34m\u001b[0m\u001b[0;34m\u001b[0m\u001b[0m\n\u001b[1;32m     13\u001b[0m                                 \u001b[0mclassification\u001b[0m\u001b[0;34m=\u001b[0m\u001b[0;32mTrue\u001b[0m\u001b[0;34m,\u001b[0m\u001b[0;34m\u001b[0m\u001b[0;34m\u001b[0m\u001b[0m\n\u001b[0;32m---> 14\u001b[0;31m                                 preset={'W_mu': W_full, 'b_mu': b_full})\n\u001b[0m\u001b[1;32m     15\u001b[0m     \u001b[0mpreset_preds\u001b[0m \u001b[0;34m=\u001b[0m \u001b[0mbnn_preset\u001b[0m\u001b[0;34m.\u001b[0m\u001b[0mmodel\u001b[0m\u001b[0;34m.\u001b[0m\u001b[0mforward\u001b[0m\u001b[0;34m(\u001b[0m\u001b[0mtorch\u001b[0m\u001b[0;34m.\u001b[0m\u001b[0mTensor\u001b[0m\u001b[0;34m(\u001b[0m\u001b[0mX_train1\u001b[0m\u001b[0;34m)\u001b[0m\u001b[0;34m,\u001b[0m \u001b[0mpredict\u001b[0m\u001b[0;34m=\u001b[0m\u001b[0;32mTrue\u001b[0m\u001b[0;34m)\u001b[0m\u001b[0;34m.\u001b[0m\u001b[0mdetach\u001b[0m\u001b[0;34m(\u001b[0m\u001b[0;34m)\u001b[0m\u001b[0;34m.\u001b[0m\u001b[0mnumpy\u001b[0m\u001b[0;34m(\u001b[0m\u001b[0;34m)\u001b[0m\u001b[0;34m\u001b[0m\u001b[0;34m\u001b[0m\u001b[0m\n\u001b[1;32m     16\u001b[0m     \u001b[0mprint\u001b[0m\u001b[0;34m(\u001b[0m\u001b[0;34m'ELBO components with {} as slope: \\n'\u001b[0m\u001b[0;34m.\u001b[0m\u001b[0mformat\u001b[0m\u001b[0;34m(\u001b[0m\u001b[0mw\u001b[0m\u001b[0;34m)\u001b[0m\u001b[0;34m)\u001b[0m\u001b[0;34m\u001b[0m\u001b[0;34m\u001b[0m\u001b[0m\n",
      "\u001b[0;31mNameError\u001b[0m: name 'b_full' is not defined"
     ]
    }
   ],
   "source": [
    "X_train1 = X_train\n",
    "y_train1 = y_train\n",
    "\n",
    "accuracies = []\n",
    "weights = [0.0, 0.1, 0.5, 1.0, 3.0, 5.0, 5.5, 6.0, 7.0, 10.0]\n",
    "for w in weights:\n",
    "#     w1 = np.array([0, w])\n",
    "    W_full[0][0] = w\n",
    "    print('weights: ', W_full[0])\n",
    "    bnn_preset = BNNBayesbyBackprop(prior_mu=0, \n",
    "                                prior_s=0.8, \n",
    "                                linear_regression=True, \n",
    "                                classification=True,\n",
    "                                preset={'W_mu': W_full, 'b_mu': b_full})\n",
    "    preset_preds = bnn_preset.model.forward(torch.Tensor(X_train1), predict=True).detach().numpy()\n",
    "    print('ELBO components with {} as slope: \\n'.format(w))\n",
    "    bnn_preset.MC_elbo(torch.Tensor(X_train1), torch.Tensor(y_train1), 9, 10, 100).detach().numpy()\n",
    "    print('Accuracy with {} as slope: '.format(w), np.mean((preset_preds == y_train1.flatten()).astype(int)) * 100, '%')\n",
    "    \n",
    "    Z = plane(X1, X2, W_full[0], b)\n",
    "    \n",
    "    fig = plt.figure(figsize=(20,20))\n",
    "    ax = fig.add_subplot(311, projection='3d') \n",
    "    ax.set_title(\"line with {} as slope\".format(w))\n",
    "\n",
    "    ax.scatter(X_train[y_train == 0,0], X_train[y_train == 0,1], c='blue')\n",
    "    ax.scatter(X_train[y_train == 1,0], X_train[y_train == 1,1], c='red')\n",
    "    ax.plot_wireframe(X1, X2, Z, color='grey', alpha = 0.99)\n",
    "\n",
    "#     fig.show()\n",
    "    plt.show()\n",
    "#     x1 = np.random.uniform(-8, 8, 100)\n",
    "#     x2 = w * x1\n",
    "\n",
    "#     plt.title(\"line with {} as slope\".format(w))\n",
    "#     plt.plot(x1, x2)\n",
    "#     plt.scatter(X_train1[y_train1 == 0,0], X_train1[y_train1 == 0,1], c='red', alpha=0.2)\n",
    "#     plt.scatter(X_train1[y_train1 == 1,0], X_train1[y_train1 == 1,1], c='blue', alpha=0.2)\n",
    "#     plt.ylim((-10, 10))\n",
    "    "
   ]
  },
  {
   "cell_type": "code",
   "execution_count": null,
   "metadata": {},
   "outputs": [],
   "source": []
  },
  {
   "cell_type": "code",
   "execution_count": null,
   "metadata": {
    "colab": {
     "base_uri": "https://localhost:8080/",
     "height": 1000
    },
    "colab_type": "code",
    "executionInfo": {
     "elapsed": 1014343,
     "status": "ok",
     "timestamp": 1575482610606,
     "user": {
      "displayName": "Daniel Berman",
      "photoUrl": "",
      "userId": "07083512293139957454"
     },
     "user_tz": 300
    },
    "id": "VC7QdLdI67nY",
    "outputId": "0a2d9304-d21a-49d6-ee93-f08f9d695b69",
    "scrolled": true
   },
   "outputs": [
    {
     "name": "stdout",
     "output_type": "stream",
     "text": [
      "Data being saved in following file:\n",
      "logging.csv\n",
      "Epoch:  0 \tLoss:  4002180.2 \tacc:  0.5\n",
      "Epoch:  1 \tLoss:  3878746.5 \tacc:  0.744\n",
      "Epoch:  2 \tLoss:  3799238.0 \tacc:  0.5\n",
      "Epoch:  3 \tLoss:  3576294.5 \tacc:  0.5394\n",
      "Epoch:  4 \tLoss:  3348848.5 \tacc:  0.7622\n",
      "Epoch:  5 \tLoss:  2820127.5 \tacc:  0.5044\n",
      "Epoch:  6 \tLoss:  1960962.8 \tacc:  0.7552\n",
      "Epoch:  7 \tLoss:  1419376.9 \tacc:  0.814\n",
      "Epoch:  8 \tLoss:  1191559.8 \tacc:  0.8556\n",
      "Epoch:  9 \tLoss:  1076190.9 \tacc:  0.8504\n",
      "Epoch:  10 \tLoss:  261127.25 \tacc:  0.873\n",
      "Epoch:  11 \tLoss:  172081.94 \tacc:  0.8706\n",
      "Epoch:  12 \tLoss:  170171.33 \tacc:  0.856\n",
      "Epoch:  13 \tLoss:  168851.05 \tacc:  0.8764\n",
      "Epoch:  14 \tLoss:  167795.89 \tacc:  0.8814\n",
      "Epoch:  15 \tLoss:  335852.3 \tacc:  0.884\n",
      "Epoch:  16 \tLoss:  335852.78 \tacc:  0.867\n",
      "Epoch:  17 \tLoss:  335686.2 \tacc:  0.8806\n",
      "Epoch:  18 \tLoss:  335361.3 \tacc:  0.8804\n",
      "Epoch:  19 \tLoss:  335050.84 \tacc:  0.874\n"
     ]
    }
   ],
   "source": [
    "# bnn = BNNBayesbyBackprop(prior_mu=0, prior_s=0.8, num_MC_samples=30, linear_regression=True, preset=False, classification=False)\n",
    "# w1 = np.array([[0.0, 1.0]]).T\n",
    "# w2 = np.array([[0.0, 0.0]]).T\n",
    "# W_full = np.hstack((w1, w2))\n",
    "# b_full = np.array([0,0])\n",
    "# print(W_full)\n",
    "\n",
    "bnn = BNNBayesbyBackprop(prior_mu=0.0, prior_s=1.0, num_MC_samples=100, linear_regression=True, preset=False, classification=True)\n",
    "bnn.fit(X_train, y_train, plot=True, n_epochs=75, learning_rate=1e-1, batch_size=1000)"
   ]
  },
  {
   "cell_type": "code",
   "execution_count": 284,
   "metadata": {},
   "outputs": [
    {
     "data": {
      "image/png": "[encoded data removed]",
      "text/plain": [
       "<Figure size 432x288 with 1 Axes>"
      ]
     },
     "metadata": {
      "needs_background": "light"
     },
     "output_type": "display_data"
    },
    {
     "data": {
      "text/plain": [
       "[<matplotlib.lines.Line2D at 0x1a2ca05cc0>]"
      ]
     },
     "execution_count": 284,
     "metadata": {},
     "output_type": "execute_result"
    },
    {
     "data": {
      "image/png": "[encoded data removed]",
      "text/plain": [
       "<Figure size 432x288 with 1 Axes>"
      ]
     },
     "metadata": {
      "needs_background": "light"
     },
     "output_type": "display_data"
    }
   ],
   "source": [
    "\n",
    "df = pd.read_csv(\"logging.csv\")\n",
    "df\n",
    "#df.drop(['w2_1', 'w2_2', 'w2_1_grad', 'w2_2_grad', 'b_2', 'b_2_grad'], axis=1, inplace=True)\n",
    "\n",
    "\n",
    "# df['change_mean_likelihood'] = df['mean_likelihood'].abs() - df['mean_likelihood'].shift(-1).abs()\n",
    "# df[['w1_1', 'w1_1_grad', 'w1_2', 'w1_2_grad', 'w2_1_grad','w2_1', 'w2_2', \n",
    "#        'w2_2_grad', 'b_1', 'b_1_grad', 'b_2', 'b_2_grad', 'log_prior',\n",
    "#        'log_posterior', 'mean_likelihood', 'change_mean_likelihood']]\n",
    "# df['mean_likelihood'].abs()\n",
    "# X = list(range(df.shape[0]))\n",
    "# plt.plot(X, df['b_1_grad'])\n",
    "# plt.plot(X, np.zeros(df.shape[0]))\n",
    "# plt.show()\n",
    "\n",
    "# plt.plot(X, df['b_1'])\n",
    "# plt.show()\n",
    "\n",
    "\n",
    "# print(df.columns)\n",
    "# plt.plot(df['reg'], c='blue')\n",
    "# plt.plot(df['b_2_grad'], c='green')\n",
    "# plt.show()\n",
    "# plt.plot(df['mean_likelihood'])\n",
    "# plt.show()\n",
    "plt.plot(df['b_2'])\n",
    "plt.show()\n",
    "plt.plot(df['reg'])\n",
    "# plt.ylim(-1000, 1000)\n",
    "# plt.show()\n",
    "# df"
   ]
  },
  {
   "cell_type": "code",
   "execution_count": 127,
   "metadata": {},
   "outputs": [
    {
     "name": "stdout",
     "output_type": "stream",
     "text": [
      "torch.Size([150, 2])\n"
     ]
    },
    {
     "data": {
      "image/png": "[encoded data removed]",
      "text/plain": [
       "<Figure size 432x288 with 1 Axes>"
      ]
     },
     "metadata": {
      "needs_background": "light"
     },
     "output_type": "display_data"
    }
   ],
   "source": [
    "#X_sample = np.vstack([np.zeros(21), np.array(list(range(-10,11)))]).T\n",
    "\n",
    "X_sample = np.arange(-5, 10, .1)\n",
    "X_sample = torch.tensor(\n",
    "                    np.vstack([np.zeros(len(X_sample)), X_sample]).T,\n",
    "                    dtype=torch.float32)\n",
    "\n",
    "print(X_sample.shape)\n",
    "\n",
    "\n",
    "sample_pred = bnn.model.forward(X_sample).detach().numpy()\n",
    "\n",
    "\n",
    "plt.plot(list(range(len(X_sample))),\n",
    "         sample_pred[:,1])\n",
    "plt.show()"
   ]
  },
  {
   "cell_type": "code",
   "execution_count": null,
   "metadata": {},
   "outputs": [],
   "source": []
  },
  {
   "cell_type": "code",
   "execution_count": 23,
   "metadata": {},
   "outputs": [
    {
     "data": {
      "image/png": "[encoded data removed]",
      "text/plain": [
       "<Figure size 432x288 with 1 Axes>"
      ]
     },
     "metadata": {
      "needs_background": "light"
     },
     "output_type": "display_data"
    },
    {
     "data": {
      "image/png": "[encoded data removed]",
      "text/plain": [
       "<Figure size 432x288 with 1 Axes>"
      ]
     },
     "metadata": {
      "needs_background": "light"
     },
     "output_type": "display_data"
    },
    {
     "data": {
      "image/png": "[encoded data removed]",
      "text/plain": [
       "<Figure size 432x288 with 1 Axes>"
      ]
     },
     "metadata": {
      "needs_background": "light"
     },
     "output_type": "display_data"
    },
    {
     "data": {
      "image/png": "[encoded data removed]",
      "text/plain": [
       "<Figure size 432x288 with 1 Axes>"
      ]
     },
     "metadata": {
      "needs_background": "light"
     },
     "output_type": "display_data"
    }
   ],
   "source": [
    "from graph_utils import *\n",
    "\n",
    "df = pd.read_csv(\"1575743846.csv\")\n",
    "\n",
    "\n",
    "\"\"\"\n",
    "w1_1,w1_2,w2_1,w2_2,\n",
    "w1_1_grad,w1_2_grad,w2_1_grad,w2_2_grad,\n",
    "b_1,b_2,\n",
    "b_1_grad,b_2_grad\n",
    "\"\"\"\n",
    "\n",
    "graphCols(df, cols=['w1_1', 'w1_2', 'w2_1', 'w2_2'], ylabel='y', plotDim1=4, plotDim2=4)\n",
    "\n"
   ]
  },
  {
   "cell_type": "code",
   "execution_count": null,
   "metadata": {},
   "outputs": [],
   "source": [
    "a = torch.normal(torch.tensor([0.0]*5), torch.tensor([5.0]*5))\n",
    "print(a)\n",
    "\n",
    "sig = nn.Sigmoid()\n",
    "sig(a) > 0.5\n",
    "\n",
    "bnn.likelihood_est(torch.tensor([0.0]*5), a, 0.1)"
   ]
  },
  {
   "cell_type": "code",
   "execution_count": null,
   "metadata": {
    "colab": {
     "base_uri": "https://localhost:8080/",
     "height": 187
    },
    "colab_type": "code",
    "executionInfo": {
     "elapsed": 397,
     "status": "ok",
     "timestamp": 1575429539097,
     "user": {
      "displayName": "Daniel Berman",
      "photoUrl": "",
      "userId": "07083512293139957454"
     },
     "user_tz": 300
    },
    "id": "OUADkek91RG0",
    "outputId": "7e10f642-0a1a-47ca-e9b8-c41a4b229be3"
   },
   "outputs": [],
   "source": [
    "for _ in range(10):\n",
    "    pred1 = X_train @ W + b \n",
    "    pred2 = X_train @ W + b + np.random.normal(loc=0, scale=np.exp(X_train @ W_s + b_s))\n",
    "    mae1 = np.mean(np.abs(pred1 - y_train))\n",
    "    mae2 = np.mean(np.abs(pred2 - y_train))\n",
    "    print(\"MAE 1: \", mae1, \"MAE 2:\", mae2)"
   ]
  },
  {
   "cell_type": "code",
   "execution_count": null,
   "metadata": {
    "colab": {
     "base_uri": "https://localhost:8080/",
     "height": 810
    },
    "colab_type": "code",
    "executionInfo": {
     "elapsed": 1127,
     "status": "ok",
     "timestamp": 1575429541904,
     "user": {
      "displayName": "Daniel Berman",
      "photoUrl": "",
      "userId": "07083512293139957454"
     },
     "user_tz": 300
    },
    "id": "P5o10gzNWJWK",
    "outputId": "112219f1-6040-41f6-a6a5-d7b92f454a23"
   },
   "outputs": [],
   "source": [
    "# This import registers the 3D projection, but is otherwise unused.\n",
    "from mpl_toolkits.mplot3d import Axes3D  # noqa: F401 unused import\n",
    "\n",
    "final_pred = bnn.model.forward(torch.Tensor(X_train))\n",
    "print(final_pred[:5,0])\n",
    "\n",
    "\n",
    "pred_std = torch.exp(final_pred[:,1])\n",
    "\n",
    "print(pred_std)\n",
    "print(X_train)\n",
    "\n",
    "fig = plt.figure(figsize=(10,10))\n",
    "ax = fig.add_subplot(311, projection='3d')\n",
    "\n",
    "sparse_cap = int(len(X_train) / 10)\n",
    "\n",
    "ax.scatter(X_train[:sparse_cap,0], X_train[:sparse_cap,1], pred_std[:sparse_cap].detach().numpy())\n",
    "ax.set_xlabel('X_train[:,0]')\n",
    "ax.set_ylabel('X_train[:,1]')\n",
    "ax.set_zlabel('output[:,1] (Standard Deviation)')\n",
    "\n",
    "\n",
    "\n",
    "# 2D Plot:\n",
    "ax_2d_x = fig.add_subplot(312)\n",
    "ax_2d_x.scatter(X_train[:,0], pred_std.detach().numpy())\n",
    "ax_2d_x.set_xlabel('X_train[:,0]')\n",
    "ax_2d_x.set_ylabel('output[:,1] (Standard Deviation)')\n",
    "\n",
    "\n",
    "ax_2d_y = fig.add_subplot(313)\n",
    "ax_2d_y.scatter(X_train[:,1], pred_std.detach().numpy())\n",
    "ax_2d_y.set_xlabel('X_train[:,1]')\n",
    "ax_2d_y.set_ylabel('output[:,1] (Standard Deviation)')\n",
    "\n"
   ]
  },
  {
   "cell_type": "code",
   "execution_count": null,
   "metadata": {
    "colab": {
     "base_uri": "https://localhost:8080/",
     "height": 695
    },
    "colab_type": "code",
    "executionInfo": {
     "elapsed": 1135,
     "status": "ok",
     "timestamp": 1575429544133,
     "user": {
      "displayName": "Daniel Berman",
      "photoUrl": "",
      "userId": "07083512293139957454"
     },
     "user_tz": 300
    },
    "id": "sAKvLr33HE9t",
    "outputId": "5114547d-2794-4dbf-de44-a227280a0404"
   },
   "outputs": [],
   "source": [
    "np.zeros(40)\n",
    "X_sample = np.vstack([np.zeros(21), np.array(list(range(-10,11)))]).T\n",
    "X_sample = torch.tensor(np.array(X_sample), dtype=torch.float32)\n",
    "\n",
    "\n",
    "predictions = bnn.model.forward(torch.Tensor(X_train))\n",
    "\n",
    "sample_pred = bnn.model.forward(X_sample)\n",
    "\n",
    "y_pred = sample_pred[:,0].detach().numpy()\n",
    "std_pred = torch.exp(sample_pred[:,1]).detach().numpy()\n",
    "log_s_pred = sample_pred[:,1].detach().numpy()\n",
    "\n",
    "print(std_pred)\n",
    "\n",
    "# Sample variance to add to the y predictions\n",
    "std_array = []\n",
    "for scale in std_pred:\n",
    "  std_array.append(np.random.normal(loc=0, scale=np.exp(scale)))\n",
    "std_array = np.array((std_array))\n",
    "\n",
    "\n",
    "\n",
    "\"\"\"\n",
    "plt.scatter(X_train[:,0], y_pred + std_array, alpha=.1, label='predicted')\n",
    "plt.scatter(X_train[:,0], y_train, alpha=.1, label='real')\n",
    "plt.title(\"Y hat and Y values across X1\")\n",
    "plt.legend()\n",
    "plt.savefig(\"x1_y.png\")\n",
    "\"\"\"\n",
    "\n",
    "\n",
    "plt.show()\n",
    "\n",
    "# For constant std dev#\n",
    "#std_pred = 10 * torch.ones([y_pred.shape[0]], dtype=torch.float64)\n",
    "# For constant std dev#\n",
    "\n",
    "#plt.scatter(X_train[:,1], y_pred + std_array, alpha=.1, label='predicted')\n",
    "#plt.scatter(X_sample[:,1], y_pred, alpha=.1, label='predicted')\n",
    "plt.errorbar(X_sample[:,1], y_pred, yerr=(std_pred), fmt='o', label='predicted')\n",
    "plt.scatter(X_train[:,1], y_train, alpha=.1, c='C1', label='real')\n",
    "plt.ylabel(\"Y\")\n",
    "plt.xlabel(\"X\")\n",
    "# plt.xlim(right = 5)\n",
    "# plt.xlim(left = -5)\n",
    "# plt.ylim(top = 100)\n",
    "# plt.ylim(bottom = -100)\n",
    "plt.title(\"Predicted and real Y values vs X\")\n",
    "plt.legend()\n",
    "plt.savefig(\"x_y1.png\")\n",
    "plt.show()\n",
    "\n",
    "\n",
    "\n",
    "#stds = []\n",
    "#Xs = list(range(-10, 11))\n",
    "#for x in Xs:\n",
    "#    stds.append(x + b_s)\n",
    "\n",
    "#std_pred = predictions[:,1].detach().numpy()\n",
    "\n",
    "real_std = []\n",
    "for x in range(-10, 11):\n",
    "    real_std.append(np.exp(np.array([0, x] @ W_s + b_s)))\n",
    "print(real_std)\n",
    "# plt.plot(list(range(-10,11)), list(range(0, 21)), c='C3', label='real')\n",
    "plt.plot(list(range(-10,11)), real_std, c='C3', label='real')\n",
    "plt.plot(X_sample[:,1], (std_pred), label='predicted')\n",
    "plt.title(\"Standard Deviation versus X value\")\n",
    "plt.ylabel(\"standard deviation\")\n",
    "plt.xlabel(\"X\")\n",
    "plt.legend()\n",
    "plt.savefig(\"std1.png\")\n",
    "# plt.xlim(right = 5)\n",
    "# plt.xlim(left = -5)\n",
    "# plt.ylim(top = 100)\n",
    "# plt.ylim(bottom = -100)\n",
    "plt.show()"
   ]
  },
  {
   "cell_type": "code",
   "execution_count": null,
   "metadata": {
    "colab": {
     "base_uri": "https://localhost:8080/",
     "height": 50
    },
    "colab_type": "code",
    "executionInfo": {
     "elapsed": 365,
     "status": "ok",
     "timestamp": 1575314802782,
     "user": {
      "displayName": "Andy W",
      "photoUrl": "https://lh3.googleusercontent.com/a-/AAuE7mDT86gEQbwc-buchisSAn0HMtAQzvqYYIAPtcns=s64",
      "userId": "04820820680976854911"
     },
     "user_tz": 300
    },
    "id": "Ke4AKPcBx5kB",
    "outputId": "4ecbf449-9942-40c6-e0ef-1e5184969126"
   },
   "outputs": [],
   "source": [
    "print(torch.exp(bnn.model.l1.W_log_s_DO))"
   ]
  },
  {
   "cell_type": "code",
   "execution_count": null,
   "metadata": {
    "colab": {
     "base_uri": "https://localhost:8080/",
     "height": 178
    },
    "colab_type": "code",
    "executionInfo": {
     "elapsed": 391,
     "status": "error",
     "timestamp": 1575194249491,
     "user": {
      "displayName": "Andy W",
      "photoUrl": "https://lh3.googleusercontent.com/a-/AAuE7mDT86gEQbwc-buchisSAn0HMtAQzvqYYIAPtcns=s64",
      "userId": "04820820680976854911"
     },
     "user_tz": 300
    },
    "id": "pO3Ypv5RGmXA",
    "outputId": "4c0a482a-b16a-46cc-ce2a-f3da2d8eee59"
   },
   "outputs": [],
   "source": [
    "\n",
    "plt.plot([i for i in range(100)], loss_by_epoch)"
   ]
  },
  {
   "cell_type": "code",
   "execution_count": null,
   "metadata": {
    "colab": {},
    "colab_type": "code",
    "id": "a9tQnGslgENk"
   },
   "outputs": [],
   "source": [
    "a = torch.tensor([3,3,3])\n",
    "b = torch.tensor([5,5,3])\n",
    "a == b"
   ]
  },
  {
   "cell_type": "code",
   "execution_count": null,
   "metadata": {},
   "outputs": [],
   "source": []
  }
 ],
 "metadata": {
  "accelerator": "GPU",
  "colab": {
   "collapsed_sections": [],
   "machine_shape": "hm",
   "name": "Baysian_Logistic_regression_daniel.ipynb",
   "provenance": [
    {
     "file_id": "1sznMeZpuMX1xJQxmYl78_vbUqOg1IlPl",
     "timestamp": 1575409826661
    },
    {
     "file_id": "1917bcDBXk-Ce3uiNS3-toqX0gnTYlcWh",
     "timestamp": 1573608677328
    }
   ]
  },
  "kernelspec": {
   "display_name": "Python 3",
   "language": "python",
   "name": "python3"
  },
  "language_info": {
   "codemirror_mode": {
    "name": "ipython",
    "version": 3
   },
   "file_extension": ".py",
   "mimetype": "text/x-python",
   "name": "python",
   "nbconvert_exporter": "python",
   "pygments_lexer": "ipython3",
   "version": "3.6.8"
  }
 },
 "nbformat": 4,
 "nbformat_minor": 1
}
