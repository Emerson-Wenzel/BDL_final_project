{
 "cells": [
  {
   "cell_type": "code",
   "execution_count": 1,
   "metadata": {
    "colab": {
     "base_uri": "https://localhost:8080/",
     "height": 34
    },
    "colab_type": "code",
    "executionInfo": {
     "elapsed": 2590,
     "status": "ok",
     "timestamp": 1575486296044,
     "user": {
      "displayName": "Daniel Berman",
      "photoUrl": "",
      "userId": "07083512293139957454"
     },
     "user_tz": 300
    },
    "id": "WkOcCy7MRqxQ",
    "outputId": "c157445e-c711-412c-d0a0-70321edc18e1"
   },
   "outputs": [
    {
     "data": {
      "text/plain": [
       "'/Users/d_berman/Documents/Tufts_Masters/Semester_3/Bayesian Deep Learning/BDL_final_project'"
      ]
     },
     "execution_count": 1,
     "metadata": {},
     "output_type": "execute_result"
    }
   ],
   "source": [
    "%load_ext autoreload\n",
    "%autoreload 2\n",
    "\n",
    "import torch\n",
    "import torch.nn as nn\n",
    "import torchvision.transforms as transforms\n",
    "import torchvision.datasets as dsets\n",
    "from torch.distributions.multivariate_normal import MultivariateNormal\n",
    "from torch.distributions.normal import Normal\n",
    "import matplotlib.pyplot as plt\n",
    "from sklearn.model_selection import train_test_split\n",
    "import pandas as pd\n",
    "import torch.optim as optim\n",
    "from torch.autograd import Variable\n",
    "import numpy.random as rand\n",
    "import numpy as np\n",
    "import sys\n",
    "import os\n",
    "\n",
    "\n",
    "from bnn import BNNBayesbyBackprop, gauss_logpdf\n",
    "os.getcwd()"
   ]
  },
  {
   "cell_type": "code",
   "execution_count": null,
   "metadata": {
    "colab": {
     "base_uri": "https://localhost:8080/",
     "height": 558
    },
    "colab_type": "code",
    "executionInfo": {
     "elapsed": 248641,
     "status": "error",
     "timestamp": 1575164434323,
     "user": {
      "displayName": "Emerson Wenzel",
      "photoUrl": "https://lh3.googleusercontent.com/a-/AAuE7mBa8myeK4yWPwITEYdL3CnQJapeceo7a6YM_K7TpQ=s64",
      "userId": "12144547484727272619"
     },
     "user_tz": 300
    },
    "id": "iM4d0A6ok-CQ",
    "outputId": "2bbe6876-ed71-4c16-e7ba-c41ecbbae2ca"
   },
   "outputs": [],
   "source": []
  },
  {
   "cell_type": "code",
   "execution_count": 0,
   "metadata": {
    "colab": {},
    "colab_type": "code",
    "id": "oV1FKhlCrH3C"
   },
   "outputs": [],
   "source": [
    "# Real dataset\n",
    "#Emerson's Paths:\n",
    "small_trained_path = \"/content/drive/My Drive/Tufts/Tufts 19-20/Final Project: Get Churn't/data/smallTrainCleaned.csv\"\n",
    "y_label_path = \"/content/drive/My Drive/Tufts/Tufts 19-20/Final Project: Get Churn't/data/y_labels.csv\"\n",
    "#small_trained_path = \"/content/drive/My Drive/Tufts/Tufts '19-20/Fall 2019/Comp150-03 - Bayesian Deep Learning/Final Project: Get Churn't/data/smallTrainCleaned.csv\"\n",
    "#y_label_path = \"/content/drive/My Drive/Tufts/Tufts '19-20/Fall 2019/Comp150-03 - Bayesian Deep Learning/Final Project: Get Churn't/data/y_labels.csv\"\n",
    "data = pd.read_csv(small_trained_path)\n",
    "Y = pd.read_csv(y_label_path)\n",
    "\n",
    "data['Y'] = Y\n",
    "data['Y'][data['Y'] == -1] = 0\n",
    "data = data.sample(frac=1).reset_index(drop=True)\n",
    "\n",
    "print(Y)"
   ]
  },
  {
   "cell_type": "code",
   "execution_count": 0,
   "metadata": {
    "colab": {
     "base_uri": "https://localhost:8080/",
     "height": 238
    },
    "colab_type": "code",
    "executionInfo": {
     "elapsed": 1302,
     "status": "error",
     "timestamp": 1575152697253,
     "user": {
      "displayName": "Andy W",
      "photoUrl": "https://lh3.googleusercontent.com/a-/AAuE7mDT86gEQbwc-buchisSAn0HMtAQzvqYYIAPtcns=s64",
      "userId": "04820820680976854911"
     },
     "user_tz": 300
    },
    "id": "8TsGt0nPrM-M",
    "outputId": "99144e0e-97f8-4fc2-8747-f2fe58558f10"
   },
   "outputs": [
    {
     "ename": "NameError",
     "evalue": "ignored",
     "output_type": "error",
     "traceback": [
      "\u001b[0;31m---------------------------------------------------------------------------\u001b[0m",
      "\u001b[0;31mNameError\u001b[0m                                 Traceback (most recent call last)",
      "\u001b[0;32m<ipython-input-2-0abf931db4fd>\u001b[0m in \u001b[0;36m<module>\u001b[0;34m()\u001b[0m\n\u001b[1;32m      2\u001b[0m \u001b[0mn_iters\u001b[0m \u001b[0;34m=\u001b[0m \u001b[0;36m3000\u001b[0m\u001b[0;34m\u001b[0m\u001b[0;34m\u001b[0m\u001b[0m\n\u001b[1;32m      3\u001b[0m \u001b[0;34m\u001b[0m\u001b[0m\n\u001b[0;32m----> 4\u001b[0;31m \u001b[0mnum_epochs\u001b[0m \u001b[0;34m=\u001b[0m \u001b[0mint\u001b[0m\u001b[0;34m(\u001b[0m\u001b[0mn_iters\u001b[0m \u001b[0;34m/\u001b[0m \u001b[0;34m(\u001b[0m\u001b[0mdata\u001b[0m\u001b[0;34m.\u001b[0m\u001b[0mshape\u001b[0m\u001b[0;34m[\u001b[0m\u001b[0;36m0\u001b[0m\u001b[0;34m]\u001b[0m \u001b[0;34m/\u001b[0m \u001b[0mbatch_size\u001b[0m\u001b[0;34m)\u001b[0m\u001b[0;34m)\u001b[0m\u001b[0;34m\u001b[0m\u001b[0;34m\u001b[0m\u001b[0m\n\u001b[0m\u001b[1;32m      5\u001b[0m \u001b[0;34m\u001b[0m\u001b[0m\n\u001b[1;32m      6\u001b[0m \u001b[0mtrain_size\u001b[0m \u001b[0;34m=\u001b[0m \u001b[0mint\u001b[0m\u001b[0;34m(\u001b[0m\u001b[0;36m0.8\u001b[0m \u001b[0;34m*\u001b[0m \u001b[0mlen\u001b[0m\u001b[0;34m(\u001b[0m\u001b[0mdata\u001b[0m\u001b[0;34m)\u001b[0m\u001b[0;34m)\u001b[0m\u001b[0;34m\u001b[0m\u001b[0;34m\u001b[0m\u001b[0m\n",
      "\u001b[0;31mNameError\u001b[0m: name 'data' is not defined"
     ]
    }
   ],
   "source": [
    "batch_size = 100\n",
    "n_iters = 3000\n",
    "\n",
    "num_epochs = int(n_iters / (data.shape[0] / batch_size))\n",
    "\n",
    "train_size = int(0.8 * len(data))\n",
    "test_size = len(data) - train_size\n",
    "\n",
    "train_dataset = data[:train_size]\n",
    "test_dataset = data[train_size:]\n",
    "\n",
    "\n",
    "train_y = train_dataset['Y']\n",
    "train_dataset = train_dataset.drop('Y', axis=1)\n",
    "\n",
    "test_y = test_dataset['Y']\n",
    "test_dataset = test_dataset.drop('Y', axis=1)\n",
    "\n",
    "\n",
    "train_loader = torch.utils.data.DataLoader(\n",
    "                  torch.utils.data.TensorDataset(\n",
    "                      torch.tensor(train_dataset.values),\n",
    "                      torch.tensor(train_y.values)),\n",
    "                  batch_size=batch_size,\n",
    "                  shuffle=True)\n",
    "\n",
    "\n",
    "\n",
    "test_loader = torch.utils.data.DataLoader(\n",
    "                  torch.utils.data.TensorDataset(\n",
    "                      torch.tensor(test_dataset.values),\n",
    "                      torch.tensor(test_y.values)),\n",
    "                  batch_size=batch_size,\n",
    "                  shuffle=True)"
   ]
  },
  {
   "cell_type": "code",
   "execution_count": 0,
   "metadata": {
    "colab": {
     "base_uri": "https://localhost:8080/",
     "height": 385
    },
    "colab_type": "code",
    "executionInfo": {
     "elapsed": 1310,
     "status": "error",
     "timestamp": 1575152700230,
     "user": {
      "displayName": "Andy W",
      "photoUrl": "https://lh3.googleusercontent.com/a-/AAuE7mDT86gEQbwc-buchisSAn0HMtAQzvqYYIAPtcns=s64",
      "userId": "04820820680976854911"
     },
     "user_tz": 300
    },
    "id": "tXlkLvVCd0kI",
    "outputId": "8bb910c5-4049-4928-99bd-379fcc5f11ca"
   },
   "outputs": [
    {
     "ename": "OSError",
     "evalue": "ignored",
     "output_type": "error",
     "traceback": [
      "\u001b[0;31m---------------------------------------------------------------------------\u001b[0m",
      "\u001b[0;31mOSError\u001b[0m                                   Traceback (most recent call last)",
      "\u001b[0;32m<ipython-input-3-5c07688a296e>\u001b[0m in \u001b[0;36m<module>\u001b[0;34m()\u001b[0m\n\u001b[1;32m      2\u001b[0m \u001b[0my_path\u001b[0m \u001b[0;34m=\u001b[0m \u001b[0;34m\"/content/drive/My Drive/Tufts/Tufts 19-20/Final Project: Get Churn't/data/toy_y.csv\"\u001b[0m\u001b[0;34m\u001b[0m\u001b[0;34m\u001b[0m\u001b[0m\n\u001b[1;32m      3\u001b[0m \u001b[0;34m\u001b[0m\u001b[0m\n\u001b[0;32m----> 4\u001b[0;31m \u001b[0mX\u001b[0m \u001b[0;34m=\u001b[0m \u001b[0mnp\u001b[0m\u001b[0;34m.\u001b[0m\u001b[0mloadtxt\u001b[0m\u001b[0;34m(\u001b[0m\u001b[0mX_path\u001b[0m\u001b[0;34m,\u001b[0m \u001b[0mdelimiter\u001b[0m\u001b[0;34m=\u001b[0m\u001b[0;34m','\u001b[0m\u001b[0;34m,\u001b[0m \u001b[0mdtype\u001b[0m\u001b[0;34m=\u001b[0m\u001b[0mnp\u001b[0m\u001b[0;34m.\u001b[0m\u001b[0mfloat64\u001b[0m\u001b[0;34m)\u001b[0m\u001b[0;34m[\u001b[0m\u001b[0;34m:\u001b[0m\u001b[0;36m1000\u001b[0m\u001b[0;34m]\u001b[0m\u001b[0;34m\u001b[0m\u001b[0;34m\u001b[0m\u001b[0m\n\u001b[0m\u001b[1;32m      5\u001b[0m \u001b[0my\u001b[0m \u001b[0;34m=\u001b[0m \u001b[0mnp\u001b[0m\u001b[0;34m.\u001b[0m\u001b[0mloadtxt\u001b[0m\u001b[0;34m(\u001b[0m\u001b[0my_path\u001b[0m\u001b[0;34m,\u001b[0m \u001b[0mdelimiter\u001b[0m\u001b[0;34m=\u001b[0m\u001b[0;34m','\u001b[0m\u001b[0;34m,\u001b[0m \u001b[0mdtype\u001b[0m\u001b[0;34m=\u001b[0m\u001b[0mnp\u001b[0m\u001b[0;34m.\u001b[0m\u001b[0mfloat64\u001b[0m\u001b[0;34m)\u001b[0m\u001b[0;34m[\u001b[0m\u001b[0;34m:\u001b[0m\u001b[0;36m1000\u001b[0m\u001b[0;34m]\u001b[0m\u001b[0;34m\u001b[0m\u001b[0;34m\u001b[0m\u001b[0m\n\u001b[1;32m      6\u001b[0m \u001b[0;34m\u001b[0m\u001b[0m\n",
      "\u001b[0;32m/usr/local/lib/python3.6/dist-packages/numpy/lib/npyio.py\u001b[0m in \u001b[0;36mloadtxt\u001b[0;34m(fname, dtype, comments, delimiter, converters, skiprows, usecols, unpack, ndmin, encoding, max_rows)\u001b[0m\n\u001b[1;32m    966\u001b[0m             \u001b[0mfname\u001b[0m \u001b[0;34m=\u001b[0m \u001b[0mos_fspath\u001b[0m\u001b[0;34m(\u001b[0m\u001b[0mfname\u001b[0m\u001b[0;34m)\u001b[0m\u001b[0;34m\u001b[0m\u001b[0;34m\u001b[0m\u001b[0m\n\u001b[1;32m    967\u001b[0m         \u001b[0;32mif\u001b[0m \u001b[0m_is_string_like\u001b[0m\u001b[0;34m(\u001b[0m\u001b[0mfname\u001b[0m\u001b[0;34m)\u001b[0m\u001b[0;34m:\u001b[0m\u001b[0;34m\u001b[0m\u001b[0;34m\u001b[0m\u001b[0m\n\u001b[0;32m--> 968\u001b[0;31m             \u001b[0mfh\u001b[0m \u001b[0;34m=\u001b[0m \u001b[0mnp\u001b[0m\u001b[0;34m.\u001b[0m\u001b[0mlib\u001b[0m\u001b[0;34m.\u001b[0m\u001b[0m_datasource\u001b[0m\u001b[0;34m.\u001b[0m\u001b[0mopen\u001b[0m\u001b[0;34m(\u001b[0m\u001b[0mfname\u001b[0m\u001b[0;34m,\u001b[0m \u001b[0;34m'rt'\u001b[0m\u001b[0;34m,\u001b[0m \u001b[0mencoding\u001b[0m\u001b[0;34m=\u001b[0m\u001b[0mencoding\u001b[0m\u001b[0;34m)\u001b[0m\u001b[0;34m\u001b[0m\u001b[0;34m\u001b[0m\u001b[0m\n\u001b[0m\u001b[1;32m    969\u001b[0m             \u001b[0mfencoding\u001b[0m \u001b[0;34m=\u001b[0m \u001b[0mgetattr\u001b[0m\u001b[0;34m(\u001b[0m\u001b[0mfh\u001b[0m\u001b[0;34m,\u001b[0m \u001b[0;34m'encoding'\u001b[0m\u001b[0;34m,\u001b[0m \u001b[0;34m'latin1'\u001b[0m\u001b[0;34m)\u001b[0m\u001b[0;34m\u001b[0m\u001b[0;34m\u001b[0m\u001b[0m\n\u001b[1;32m    970\u001b[0m             \u001b[0mfh\u001b[0m \u001b[0;34m=\u001b[0m \u001b[0miter\u001b[0m\u001b[0;34m(\u001b[0m\u001b[0mfh\u001b[0m\u001b[0;34m)\u001b[0m\u001b[0;34m\u001b[0m\u001b[0;34m\u001b[0m\u001b[0m\n",
      "\u001b[0;32m/usr/local/lib/python3.6/dist-packages/numpy/lib/_datasource.py\u001b[0m in \u001b[0;36mopen\u001b[0;34m(path, mode, destpath, encoding, newline)\u001b[0m\n\u001b[1;32m    267\u001b[0m \u001b[0;34m\u001b[0m\u001b[0m\n\u001b[1;32m    268\u001b[0m     \u001b[0mds\u001b[0m \u001b[0;34m=\u001b[0m \u001b[0mDataSource\u001b[0m\u001b[0;34m(\u001b[0m\u001b[0mdestpath\u001b[0m\u001b[0;34m)\u001b[0m\u001b[0;34m\u001b[0m\u001b[0;34m\u001b[0m\u001b[0m\n\u001b[0;32m--> 269\u001b[0;31m     \u001b[0;32mreturn\u001b[0m \u001b[0mds\u001b[0m\u001b[0;34m.\u001b[0m\u001b[0mopen\u001b[0m\u001b[0;34m(\u001b[0m\u001b[0mpath\u001b[0m\u001b[0;34m,\u001b[0m \u001b[0mmode\u001b[0m\u001b[0;34m,\u001b[0m \u001b[0mencoding\u001b[0m\u001b[0;34m=\u001b[0m\u001b[0mencoding\u001b[0m\u001b[0;34m,\u001b[0m \u001b[0mnewline\u001b[0m\u001b[0;34m=\u001b[0m\u001b[0mnewline\u001b[0m\u001b[0;34m)\u001b[0m\u001b[0;34m\u001b[0m\u001b[0;34m\u001b[0m\u001b[0m\n\u001b[0m\u001b[1;32m    270\u001b[0m \u001b[0;34m\u001b[0m\u001b[0m\n\u001b[1;32m    271\u001b[0m \u001b[0;34m\u001b[0m\u001b[0m\n",
      "\u001b[0;32m/usr/local/lib/python3.6/dist-packages/numpy/lib/_datasource.py\u001b[0m in \u001b[0;36mopen\u001b[0;34m(self, path, mode, encoding, newline)\u001b[0m\n\u001b[1;32m    621\u001b[0m                                       encoding=encoding, newline=newline)\n\u001b[1;32m    622\u001b[0m         \u001b[0;32melse\u001b[0m\u001b[0;34m:\u001b[0m\u001b[0;34m\u001b[0m\u001b[0;34m\u001b[0m\u001b[0m\n\u001b[0;32m--> 623\u001b[0;31m             \u001b[0;32mraise\u001b[0m \u001b[0mIOError\u001b[0m\u001b[0;34m(\u001b[0m\u001b[0;34m\"%s not found.\"\u001b[0m \u001b[0;34m%\u001b[0m \u001b[0mpath\u001b[0m\u001b[0;34m)\u001b[0m\u001b[0;34m\u001b[0m\u001b[0;34m\u001b[0m\u001b[0m\n\u001b[0m\u001b[1;32m    624\u001b[0m \u001b[0;34m\u001b[0m\u001b[0m\n\u001b[1;32m    625\u001b[0m \u001b[0;34m\u001b[0m\u001b[0m\n",
      "\u001b[0;31mOSError\u001b[0m: /content/drive/My Drive/Tufts/Tufts 19-20/Final Project: Get Churn't/data/toy_x.csv not found."
     ]
    }
   ],
   "source": [
    "# Toy dataset\n",
    "X_path = \"/content/drive/My Drive/Tufts/Tufts 19-20/Final Project: Get Churn't/data/toy_x.csv\"\n",
    "y_path = \"/content/drive/My Drive/Tufts/Tufts 19-20/Final Project: Get Churn't/data/toy_y.csv\"\n",
    "\n",
    "X = np.loadtxt(X_path, delimiter=',', dtype=np.float64)[:1000]\n",
    "y = np.loadtxt(y_path, delimiter=',', dtype=np.float64)[:1000]\n",
    "\n",
    "X_train, X_test, y_train, y_test = train_test_split(X, y, train_size=.8, test_size=.2)\n"
   ]
  },
  {
   "cell_type": "markdown",
   "metadata": {},
   "source": [
    "Toy dataset for regression"
   ]
  },
  {
   "cell_type": "code",
   "execution_count": 2,
   "metadata": {
    "colab": {
     "base_uri": "https://localhost:8080/",
     "height": 187
    },
    "colab_type": "code",
    "executionInfo": {
     "elapsed": 497,
     "status": "ok",
     "timestamp": 1575486304247,
     "user": {
      "displayName": "Daniel Berman",
      "photoUrl": "",
      "userId": "07083512293139957454"
     },
     "user_tz": 300
    },
    "id": "t0F0mKwDdI7Y",
    "outputId": "748b6853-7ea1-467f-8e33-a574fd4547cf"
   },
   "outputs": [
    {
     "name": "stdout",
     "output_type": "stream",
     "text": [
      "[[0. ]\n",
      " [0.3]]\n",
      "0.1\n",
      "[[-17.94881003]\n",
      " [ 21.94888986]\n",
      " [-53.47660357]\n",
      " ...\n",
      " [-38.01600643]\n",
      " [ 43.67011704]\n",
      " [ 47.18211122]]\n"
     ]
    }
   ],
   "source": [
    "W = np.array([-10, 10]).reshape(-1, 1)\n",
    "b = -5\n",
    "X_train = np.random.uniform(-10,10, (5000, 2))\n",
    "X_train[:,0] = 0.0\n",
    "X_train.shape\n",
    "W.T.shape\n",
    "\n",
    "eps = 0.0001\n",
    "W_s = np.array([0.0, 0.3]).reshape(-1, 1)\n",
    "print(W_s)\n",
    "b_s = 0.1\n",
    "\n",
    "print(b_s)\n",
    "\n",
    "y_train = np.zeros((X_train.shape[0], 1), dtype=float)\n",
    "for ind, x in enumerate(X_train):\n",
    "  # y_train[ind] = x @ W + b + np.random.normal(loc=0, scale=np.exp(x @ W_s + b_s))\n",
    "  y_train[ind] = x.reshape(1,-1) @ W + b + np.random.normal(loc=0, scale=np.exp(x @ W_s + b_s))\n",
    "\n",
    "\n",
    "\n",
    "print(y_train)"
   ]
  },
  {
   "cell_type": "code",
   "execution_count": 11,
   "metadata": {
    "colab": {
     "base_uri": "https://localhost:8080/",
     "height": 367
    },
    "colab_type": "code",
    "executionInfo": {
     "elapsed": 791,
     "status": "ok",
     "timestamp": 1575480947816,
     "user": {
      "displayName": "Daniel Berman",
      "photoUrl": "",
      "userId": "07083512293139957454"
     },
     "user_tz": 300
    },
    "id": "CXdiAr9mvrW-",
    "outputId": "3a8081af-e48f-458f-ff5f-d8a94985ea8e"
   },
   "outputs": [
    {
     "data": {
      "text/plain": [
       "(array([628., 646., 592., 665., 621., 609., 672., 415., 128.,  24.]),\n",
       " array([-104.9880598 ,  -80.19734269,  -55.40662558,  -30.61590847,\n",
       "          -5.82519135,   18.96552576,   43.75624287,   68.54695998,\n",
       "          93.33767709,  118.1283942 ,  142.91911131]),\n",
       " <a list of 10 Patch objects>)"
      ]
     },
     "execution_count": 11,
     "metadata": {},
     "output_type": "execute_result"
    },
    {
     "data": {
      "image/png": "[encoded data removed]",
      "text/plain": [
       "<Figure size 432x288 with 1 Axes>"
      ]
     },
     "metadata": {
      "needs_background": "light"
     },
     "output_type": "display_data"
    }
   ],
   "source": [
    "plt.hist(y_train)\n",
    "# np.exp(10 * 0.01)"
   ]
  },
  {
   "cell_type": "markdown",
   "metadata": {},
   "source": [
    "compare likelihood of test set given true mean and true variance and true variance + bias"
   ]
  },
  {
   "cell_type": "code",
   "execution_count": 5,
   "metadata": {
    "colab": {
     "base_uri": "https://localhost:8080/",
     "height": 51
    },
    "colab_type": "code",
    "executionInfo": {
     "elapsed": 971,
     "status": "ok",
     "timestamp": 1575486325612,
     "user": {
      "displayName": "Daniel Berman",
      "photoUrl": "",
      "userId": "07083512293139957454"
     },
     "user_tz": 300
    },
    "id": "jI5_3uZbEPwE",
    "outputId": "ecec67f9-8ae3-464b-fe23-23c81573ebf3"
   },
   "outputs": [
    {
     "name": "stdout",
     "output_type": "stream",
     "text": [
      "-33145520362.758266\n",
      "-31103853.933023214\n"
     ]
    }
   ],
   "source": [
    "tst = np.empty_like(X_train[:,0])\n",
    "for ind, x in enumerate(X_train):\n",
    "  # y_train[ind] = x @ W + b + np.random.normal(loc=0, scale=np.exp(x @ W_s + b_s))\n",
    "  tst[ind] = x.reshape(1,-1) @ W + b + np.random.normal(loc=0, scale=np.exp(x @ W_s + b_s))\n",
    "tst\n",
    "\n",
    "print(gauss_logpdf(tst, X_train @ W + b, np.exp(x @ W_s + b_s)).sum())\n",
    "print(gauss_logpdf(tst, X_train @ W + b, np.exp(x @ W_s + b_s) + 100).sum())\n"
   ]
  },
  {
   "cell_type": "code",
   "execution_count": 2,
   "metadata": {
    "colab": {
     "base_uri": "https://localhost:8080/",
     "height": 626
    },
    "colab_type": "code",
    "executionInfo": {
     "elapsed": 2417,
     "status": "ok",
     "timestamp": 1575480980749,
     "user": {
      "displayName": "Daniel Berman",
      "photoUrl": "",
      "userId": "07083512293139957454"
     },
     "user_tz": 300
    },
    "id": "9O-6lnY9YJRb",
    "outputId": "d9139067-fbb0-4258-b9c0-c28167a193e2"
   },
   "outputs": [
    {
     "ename": "NameError",
     "evalue": "name 'y_train' is not defined",
     "output_type": "error",
     "traceback": [
      "\u001b[0;31m---------------------------------------------------------------------------\u001b[0m",
      "\u001b[0;31mNameError\u001b[0m                                 Traceback (most recent call last)",
      "\u001b[0;32m<ipython-input-2-4e0c5cb35e0a>\u001b[0m in \u001b[0;36m<module>\u001b[0;34m\u001b[0m\n\u001b[1;32m      2\u001b[0m \u001b[0;32mfrom\u001b[0m \u001b[0mmpl_toolkits\u001b[0m\u001b[0;34m.\u001b[0m\u001b[0mmplot3d\u001b[0m \u001b[0;32mimport\u001b[0m \u001b[0mAxes3D\u001b[0m  \u001b[0;31m# noqa: F401 unused import\u001b[0m\u001b[0;34m\u001b[0m\u001b[0;34m\u001b[0m\u001b[0m\n\u001b[1;32m      3\u001b[0m \u001b[0;34m\u001b[0m\u001b[0m\n\u001b[0;32m----> 4\u001b[0;31m \u001b[0mprint\u001b[0m\u001b[0;34m(\u001b[0m\u001b[0my_train\u001b[0m\u001b[0;34m)\u001b[0m\u001b[0;34m\u001b[0m\u001b[0;34m\u001b[0m\u001b[0m\n\u001b[0m\u001b[1;32m      5\u001b[0m \u001b[0mprint\u001b[0m\u001b[0;34m(\u001b[0m\u001b[0mX_train\u001b[0m\u001b[0;34m)\u001b[0m\u001b[0;34m\u001b[0m\u001b[0;34m\u001b[0m\u001b[0m\n\u001b[1;32m      6\u001b[0m \u001b[0;34m\u001b[0m\u001b[0m\n",
      "\u001b[0;31mNameError\u001b[0m: name 'y_train' is not defined"
     ]
    }
   ],
   "source": [
    "# This import registers the 3D projection, but is otherwise unused.\n",
    "from mpl_toolkits.mplot3d import Axes3D  # noqa: F401 unused import\n",
    "\n",
    "print(y_train)\n",
    "print(X_train)\n",
    "\n",
    "fig = plt.figure(figsize=(20,20))\n",
    "ax = fig.add_subplot(311, projection='3d')\n",
    "\n",
    "sparse_cap = int(len(X_train) / 10)\n",
    "\n",
    "ax.scatter(X_train[:,0], X_train[:,1], y_train)\n",
    "ax.set_xlabel('X_train[:,0]')\n",
    "ax.set_ylabel('X_train[:,1]')\n",
    "ax.set_zlabel('output[:,1] (Standard Deviation)')\n"
   ]
  },
  {
   "cell_type": "code",
   "execution_count": null,
   "metadata": {
    "colab": {
     "base_uri": "https://localhost:8080/",
     "height": 35
    },
    "colab_type": "code",
    "executionInfo": {
     "elapsed": 309,
     "status": "ok",
     "timestamp": 1575170206489,
     "user": {
      "displayName": "Emerson Wenzel",
      "photoUrl": "https://lh3.googleusercontent.com/a-/AAuE7mBa8myeK4yWPwITEYdL3CnQJapeceo7a6YM_K7TpQ=s64",
      "userId": "12144547484727272619"
     },
     "user_tz": 300
    },
    "id": "vzSQguR_UJhN",
    "outputId": "0417a959-ed74-4f88-d8ff-8967e05cd48f"
   },
   "outputs": [],
   "source": []
  },
  {
   "cell_type": "markdown",
   "metadata": {
    "colab": {
     "base_uri": "https://localhost:8080/",
     "height": 243
    },
    "colab_type": "code",
    "executionInfo": {
     "elapsed": 257,
     "status": "error",
     "timestamp": 1575170206947,
     "user": {
      "displayName": "Emerson Wenzel",
      "photoUrl": "https://lh3.googleusercontent.com/a-/AAuE7mBa8myeK4yWPwITEYdL3CnQJapeceo7a6YM_K7TpQ=s64",
      "userId": "12144547484727272619"
     },
     "user_tz": 300
    },
    "id": "TP8Et2D5Rwyk",
    "outputId": "907e9d07-2ab2-4f31-d72e-9a5deea518e1"
   },
   "source": [
    "Toy dataset for classification"
   ]
  },
  {
   "cell_type": "code",
   "execution_count": 2,
   "metadata": {
    "colab": {},
    "colab_type": "code",
    "id": "CCQC9djBrntu"
   },
   "outputs": [],
   "source": [
    "dataset_size = 5000\n",
    "\n",
    "X_train = np.empty(shape=(dataset_size, 2), dtype=float)\n",
    "y_train = np.empty(shape=(dataset_size,), dtype=float)\n",
    "\n",
    "# make first dimension 0 to effectively make it univariate \n",
    "# bc current bnn arch only works with multivariate input\n",
    "X_train[:,0] = 0 \n",
    "X_train[:int(dataset_size/2), 1] = np.random.normal(loc=0.0, \n",
    "                                                    scale=1, \n",
    "                                                    size=(int(dataset_size/2),))\n",
    "y_train[:int(dataset_size/2)] = 0\n",
    "\n",
    "X_train[int(dataset_size/2):, 1] = np.random.normal(loc=4.0,\n",
    "                                                    scale=1,\n",
    "                                                    size=(int(dataset_size/2),))\n",
    "y_train[int(dataset_size/2):] = 1"
   ]
  },
  {
   "cell_type": "code",
   "execution_count": 29,
   "metadata": {
    "colab": {
     "base_uri": "https://localhost:8080/",
     "height": 35
    },
    "colab_type": "code",
    "executionInfo": {
     "elapsed": 627,
     "status": "ok",
     "timestamp": 1575170208452,
     "user": {
      "displayName": "Emerson Wenzel",
      "photoUrl": "https://lh3.googleusercontent.com/a-/AAuE7mBa8myeK4yWPwITEYdL3CnQJapeceo7a6YM_K7TpQ=s64",
      "userId": "12144547484727272619"
     },
     "user_tz": 300
    },
    "id": "TOyX3Muiryr2",
    "outputId": "6fad6434-e0dc-45fb-9601-aac724c9e0fb"
   },
   "outputs": [
    {
     "name": "stderr",
     "output_type": "stream",
     "text": [
      "/anaconda3/envs/Pytorch/lib/python3.6/site-packages/sklearn/linear_model/logistic.py:433: FutureWarning: Default solver will be changed to 'lbfgs' in 0.22. Specify a solver to silence this warning.\n",
      "  FutureWarning)\n"
     ]
    },
    {
     "data": {
      "text/plain": [
       "0.9772"
      ]
     },
     "execution_count": 29,
     "metadata": {},
     "output_type": "execute_result"
    }
   ],
   "source": [
    "from sklearn.linear_model import LogisticRegression\n",
    "lr = LogisticRegression()\n",
    "lr.fit(X_train, y_train)\n",
    "lr.score(X_train, y_train)"
   ]
  },
  {
   "cell_type": "code",
   "execution_count": 7,
   "metadata": {
    "colab": {},
    "colab_type": "code",
    "id": "h0QAif-C42O6"
   },
   "outputs": [
    {
     "data": {
      "text/plain": [
       "tensor([0., 0., 0., 0., 0., 0., 0., 0., 0., 0.])"
      ]
     },
     "execution_count": 7,
     "metadata": {},
     "output_type": "execute_result"
    }
   ],
   "source": [
    "torch.empty(size=(10,))"
   ]
  },
  {
   "cell_type": "code",
   "execution_count": 0,
   "metadata": {
    "colab": {},
    "colab_type": "code",
    "id": "iiPLVvfVdCxn"
   },
   "outputs": [],
   "source": []
  },
  {
   "cell_type": "code",
   "execution_count": 0,
   "metadata": {
    "colab": {},
    "colab_type": "code",
    "id": "P-Xjzeot6D2P"
   },
   "outputs": [],
   "source": []
  },
  {
   "cell_type": "code",
   "execution_count": null,
   "metadata": {
    "colab": {},
    "colab_type": "code",
    "id": "9NoQs_KnUNd-"
   },
   "outputs": [],
   "source": []
  },
  {
   "cell_type": "code",
   "execution_count": 0,
   "metadata": {
    "colab": {},
    "colab_type": "code",
    "id": "yKNzAsfqk7nW"
   },
   "outputs": [],
   "source": []
  },
  {
   "cell_type": "code",
   "execution_count": 2,
   "metadata": {
    "colab": {
     "base_uri": "https://localhost:8080/",
     "height": 102
    },
    "colab_type": "code",
    "executionInfo": {
     "elapsed": 634,
     "status": "ok",
     "timestamp": 1575481590190,
     "user": {
      "displayName": "Daniel Berman",
      "photoUrl": "",
      "userId": "07083512293139957454"
     },
     "user_tz": 300
    },
    "id": "at9HlsBPwivQ",
    "outputId": "e05370f5-6f78-4ffc-e899-cca514382d60"
   },
   "outputs": [
    {
     "ename": "NameError",
     "evalue": "name 'W' is not defined",
     "output_type": "error",
     "traceback": [
      "\u001b[0;31m---------------------------------------------------------------------------\u001b[0m",
      "\u001b[0;31mNameError\u001b[0m                                 Traceback (most recent call last)",
      "\u001b[0;32m<ipython-input-2-c5710295c2dc>\u001b[0m in \u001b[0;36m<module>\u001b[0;34m\u001b[0m\n\u001b[1;32m      7\u001b[0m \u001b[0;31m# Seems like a good diagnostic plot which we could include in our report\u001b[0m\u001b[0;34m\u001b[0m\u001b[0;34m\u001b[0m\u001b[0;34m\u001b[0m\u001b[0m\n\u001b[1;32m      8\u001b[0m \u001b[0;31m# W_full = np.vstack((W_s.T, W.T))\u001b[0m\u001b[0;34m\u001b[0m\u001b[0;34m\u001b[0m\u001b[0;34m\u001b[0m\u001b[0m\n\u001b[0;32m----> 9\u001b[0;31m \u001b[0mW_full\u001b[0m \u001b[0;34m=\u001b[0m \u001b[0mnp\u001b[0m\u001b[0;34m.\u001b[0m\u001b[0mhstack\u001b[0m\u001b[0;34m(\u001b[0m\u001b[0;34m(\u001b[0m\u001b[0mW\u001b[0m\u001b[0;34m,\u001b[0m \u001b[0mW_s\u001b[0m\u001b[0;34m)\u001b[0m\u001b[0;34m)\u001b[0m\u001b[0;34m\u001b[0m\u001b[0;34m\u001b[0m\u001b[0m\n\u001b[0m\u001b[1;32m     10\u001b[0m \u001b[0;31m# W_full = np.hstack((W.T, W_s.T))\u001b[0m\u001b[0;34m\u001b[0m\u001b[0;34m\u001b[0m\u001b[0;34m\u001b[0m\u001b[0m\n\u001b[1;32m     11\u001b[0m \u001b[0mW_full\u001b[0m\u001b[0;34m\u001b[0m\u001b[0;34m\u001b[0m\u001b[0m\n",
      "\u001b[0;31mNameError\u001b[0m: name 'W' is not defined"
     ]
    }
   ],
   "source": [
    "# y_train.reshape(-1)\n",
    "# np.log(10)\n",
    "# np.exp(-2.3)\n",
    "# Maybe we want to plot epoch by mean and std weight values for linear regression model \n",
    "# as well as the true weights used to create the toy dataset?\n",
    "\n",
    "# Seems like a good diagnostic plot which we could include in our report\n",
    "# W_full = np.vstack((W_s.T, W.T))\n",
    "W_full = np.hstack((W, W_s))\n",
    "# W_full = np.hstack((W.T, W_s.T))\n",
    "W_full\n",
    "b_full = np.hstack((b, b_s))\n",
    "b_full[1] = 2.0\n",
    "bnn_preset = BNNBayesbyBackprop(prior_mu=0, prior_s=0.8, linear_regression=True, preset={'W_mu': W_full, 'b_mu': b_full})\n",
    "preset_preds = bnn_preset.model.forward(torch.Tensor(X_train), predict=True).detach().numpy() \n",
    "\n",
    "# W_full\n",
    "# W\n",
    "# preset_preds.shape\n",
    "print('MAE of BNN with q mean == true weights: ', np.mean(np.abs(preset_preds - y_train.flatten())))\n",
    "# print(preset_preds[1], y_train[1])\n",
    "# bnn_preset.model.l1.W_log_s_DO\n",
    "# bnn_preset.model.l1.b_log_s_O\n",
    "bnn_preset.MC_elbo(torch.Tensor(X_train), torch.Tensor(y_train), 9, 10, 100)"
   ]
  },
  {
   "cell_type": "code",
   "execution_count": 0,
   "metadata": {
    "colab": {
     "base_uri": "https://localhost:8080/",
     "height": 34
    },
    "colab_type": "code",
    "executionInfo": {
     "elapsed": 1135,
     "status": "ok",
     "timestamp": 1575481595376,
     "user": {
      "displayName": "Daniel Berman",
      "photoUrl": "",
      "userId": "07083512293139957454"
     },
     "user_tz": 300
    },
    "id": "bkhAi4HKngMx",
    "outputId": "46e3f86c-34c2-4131-f200-77d6e8c525cc"
   },
   "outputs": [
    {
     "data": {
      "text/plain": [
       "-38.5"
      ]
     },
     "execution_count": 20,
     "metadata": {
      "tags": []
     },
     "output_type": "execute_result"
    }
   ],
   "source": [
    "0.05 * -10 + -3.3 * 10 - 5"
   ]
  },
  {
   "cell_type": "code",
   "execution_count": 73,
   "metadata": {
    "colab": {
     "base_uri": "https://localhost:8080/",
     "height": 1000
    },
    "colab_type": "code",
    "executionInfo": {
     "elapsed": 1014343,
     "status": "ok",
     "timestamp": 1575482610606,
     "user": {
      "displayName": "Daniel Berman",
      "photoUrl": "",
      "userId": "07083512293139957454"
     },
     "user_tz": 300
    },
    "id": "VC7QdLdI67nY",
    "outputId": "0a2d9304-d21a-49d6-ee93-f08f9d695b69"
   },
   "outputs": [
    {
     "name": "stdout",
     "output_type": "stream",
     "text": [
      "continuous_pred:  [-0.3913737  -0.55910313 -0.42149815 -0.39059377 -0.34526765]\n",
      "continuous_pred:  [-2.211674  -1.45712   -2.076155  -2.2151825 -2.4190884]\n",
      "continuous_pred:  [-0.75848377 -0.42142418 -0.6979473  -0.760051   -0.85113585]\n",
      "continuous_pred:  [-1.1643891  -0.28164518 -1.005847   -1.1684937  -1.4070408 ]\n",
      "continuous_pred:  [-1.1900103 -1.0008004 -1.156028  -1.1908902 -1.2420211]\n",
      "continuous_pred:  [-6.4309015 -3.1606965 -5.8435674 -6.4461074 -7.3298264]\n",
      "continuous_pred:  [4.4308434 2.6291008 4.1072474 4.4392214 4.9261127]\n",
      "continuous_pred:  [0.6764444  0.15825212 0.5833763  0.67885387 0.8188869 ]\n",
      "continuous_pred:  [1.9561651 1.2331238 1.8263056 1.959527  2.154917 ]\n",
      "continuous_pred:  [-4.245729  -1.7182766 -3.7917948 -4.257481  -4.9404836]\n",
      "continuous_pred:  [-0.6967083   0.00835627 -0.57007766 -0.6999868  -0.8905189 ]\n",
      "continuous_pred:  [4.630302  1.907242  4.1412363 4.642964  5.378826 ]\n",
      "continuous_pred:  [4.6979294 2.1698403 4.2438803 4.7096844 5.3928595]\n",
      "continuous_pred:  [3.2481065 1.7377492 2.9768438 3.2551293 3.6632786]\n",
      "continuous_pred:  [-1.7291728 -0.7798754 -1.5586776 -1.7335869 -1.990119 ]\n",
      "continuous_pred:  [1.1323743  0.21007288 0.96672755 1.1366627  1.3858995 ]\n",
      "continuous_pred:  [-2.2286286 -1.239796  -2.0510328 -2.2332265 -2.5004425]\n",
      "continuous_pred:  [1.9196513 0.8116211 1.7206473 1.9248033 2.2242303]\n",
      "continuous_pred:  [-2.5077312 -1.2608998 -2.2837985 -2.5135288 -2.8504646]\n",
      "continuous_pred:  [0.82659537 0.5015283  0.76821285 0.8281069  0.91595095]\n",
      "continuous_pred:  [-2.4465394 -1.216424  -2.2256088 -2.4522593 -2.7846777]\n",
      "continuous_pred:  [0.60241187 0.52279633 0.58811283 0.6027821  0.6242969 ]\n",
      "continuous_pred:  [ 0.6311898  -0.25748855  0.47158182  0.6353221   0.8754729 ]\n",
      "continuous_pred:  [-0.5147623   0.12053448 -0.40066195 -0.5177163  -0.68939483]\n",
      "continuous_pred:  [-0.5379942  -0.5373355  -0.5378759  -0.53799725 -0.5381752 ]\n",
      "continuous_pred:  [0.87341785 0.37163293 0.7832965  0.87575114 1.0113503 ]\n",
      "continuous_pred:  [-3.4662871 -2.3735628 -3.2700322 -3.471368  -3.7666588]\n",
      "continuous_pred:  [-2.6148362 -1.4168805 -2.3996816 -2.6204066 -2.9441345]\n",
      "continuous_pred:  [-2.7463567 -1.4720485 -2.517489  -2.752282  -3.096643 ]\n",
      "continuous_pred:  [-2.0647526 -0.9706808 -1.8682556 -2.06984   -2.3654947]\n",
      "mean log prior  -7.2641143798828125\n",
      "mean log post est  -8.38966776529948\n",
      "mean likelihood est  -143.63681640625\n",
      "grads  tensor([[-0.0533, -0.0433],\n",
      "        [-0.1243,  0.0636]]) \n",
      "\n",
      "change in w1:  [ 0.00491888 -0.00025303] \n",
      "cur w1:  [5.1231589e-05 6.5171076e-03] \n",
      "old w1:  [-0.00486765  0.00677014]\n",
      "change in w2:  [2.3252591e-03 6.3335523e-05] \n",
      "cur w2:  [-0.00907792  0.02454319] \n",
      "old w2:  [-0.01140318  0.02447985]\n",
      "change in b:  [-0.00043429  0.00105271] \n",
      "cur b:  [-0.03289819  0.01757753] \n",
      "old b:  [-0.03246389  0.01652482]\n",
      "full weights: \n",
      " [[ 5.1231589e-05 -9.0779215e-03]\n",
      " [ 6.5171076e-03  2.4543189e-02]]\n",
      "pred:  [0 0 1 0 0 0 0]\n",
      "prob of 1:  [0.4951021  0.3947731  0.5675925  0.37520313 0.25718004]\n",
      "real:  [0. 0. 0. 0. 0. 0. 0.]\n",
      "Epoch:  0 \tLoss:  5342.0835 \tacc:  0.4442 \n",
      "\n"
     ]
    },
    {
     "ename": "KeyboardInterrupt",
     "evalue": "",
     "output_type": "error",
     "traceback": [
      "\u001b[0;31m---------------------------------------------------------------------------\u001b[0m",
      "\u001b[0;31mKeyboardInterrupt\u001b[0m                         Traceback (most recent call last)",
      "\u001b[0;32m<ipython-input-73-1a41c443504e>\u001b[0m in \u001b[0;36m<module>\u001b[0;34m\u001b[0m\n\u001b[1;32m      3\u001b[0m \u001b[0;34m\u001b[0m\u001b[0m\n\u001b[1;32m      4\u001b[0m \u001b[0mbnn\u001b[0m \u001b[0;34m=\u001b[0m \u001b[0mBNNBayesbyBackprop\u001b[0m\u001b[0;34m(\u001b[0m\u001b[0mprior_mu\u001b[0m\u001b[0;34m=\u001b[0m\u001b[0;36m0\u001b[0m\u001b[0;34m,\u001b[0m \u001b[0mprior_s\u001b[0m\u001b[0;34m=\u001b[0m\u001b[0;36m0.8\u001b[0m\u001b[0;34m,\u001b[0m \u001b[0mnum_MC_samples\u001b[0m\u001b[0;34m=\u001b[0m\u001b[0;36m30\u001b[0m\u001b[0;34m,\u001b[0m \u001b[0mlinear_regression\u001b[0m\u001b[0;34m=\u001b[0m\u001b[0;32mTrue\u001b[0m\u001b[0;34m,\u001b[0m \u001b[0mpreset\u001b[0m\u001b[0;34m=\u001b[0m\u001b[0;32mFalse\u001b[0m\u001b[0;34m,\u001b[0m \u001b[0mclassification\u001b[0m\u001b[0;34m=\u001b[0m\u001b[0;32mTrue\u001b[0m\u001b[0;34m)\u001b[0m\u001b[0;34m\u001b[0m\u001b[0;34m\u001b[0m\u001b[0m\n\u001b[0;32m----> 5\u001b[0;31m \u001b[0mbnn\u001b[0m\u001b[0;34m.\u001b[0m\u001b[0mfit\u001b[0m\u001b[0;34m(\u001b[0m\u001b[0mX_train\u001b[0m\u001b[0;34m,\u001b[0m \u001b[0my_train\u001b[0m\u001b[0;34m,\u001b[0m \u001b[0mplot\u001b[0m\u001b[0;34m=\u001b[0m\u001b[0;32mTrue\u001b[0m\u001b[0;34m,\u001b[0m \u001b[0mn_epochs\u001b[0m\u001b[0;34m=\u001b[0m\u001b[0;36m75\u001b[0m\u001b[0;34m,\u001b[0m \u001b[0mlearning_rate\u001b[0m\u001b[0;34m=\u001b[0m\u001b[0;36m1.2e-2\u001b[0m\u001b[0;34m,\u001b[0m \u001b[0mbatch_size\u001b[0m\u001b[0;34m=\u001b[0m\u001b[0;36m100\u001b[0m\u001b[0;34m)\u001b[0m\u001b[0;34m\u001b[0m\u001b[0;34m\u001b[0m\u001b[0m\n\u001b[0m",
      "\u001b[0;32m~/Documents/Tufts_Masters/Semester_3/Bayesian Deep Learning/BDL_final_project/bnn.py\u001b[0m in \u001b[0;36mfit\u001b[0;34m(self, X, y, learning_rate, n_epochs, batch_size, plot)\u001b[0m\n\u001b[1;32m    304\u001b[0m                 \u001b[0mold_bias\u001b[0m \u001b[0;34m=\u001b[0m \u001b[0mself\u001b[0m\u001b[0;34m.\u001b[0m\u001b[0mmodel\u001b[0m\u001b[0;34m.\u001b[0m\u001b[0ml1\u001b[0m\u001b[0;34m.\u001b[0m\u001b[0mb_mu_O\u001b[0m\u001b[0;34m.\u001b[0m\u001b[0mdetach\u001b[0m\u001b[0;34m(\u001b[0m\u001b[0;34m)\u001b[0m\u001b[0;34m.\u001b[0m\u001b[0mnumpy\u001b[0m\u001b[0;34m(\u001b[0m\u001b[0;34m)\u001b[0m\u001b[0;34m.\u001b[0m\u001b[0mflatten\u001b[0m\u001b[0;34m(\u001b[0m\u001b[0;34m)\u001b[0m\u001b[0;34m\u001b[0m\u001b[0;34m\u001b[0m\u001b[0m\n\u001b[1;32m    305\u001b[0m                 \u001b[0mbatch_losses\u001b[0m\u001b[0;34m.\u001b[0m\u001b[0mappend\u001b[0m\u001b[0;34m(\u001b[0m\u001b[0mloss\u001b[0m\u001b[0;34m.\u001b[0m\u001b[0mdetach\u001b[0m\u001b[0;34m(\u001b[0m\u001b[0;34m)\u001b[0m\u001b[0;34m.\u001b[0m\u001b[0mnumpy\u001b[0m\u001b[0;34m(\u001b[0m\u001b[0;34m)\u001b[0m\u001b[0;34m)\u001b[0m\u001b[0;34m\u001b[0m\u001b[0;34m\u001b[0m\u001b[0m\n\u001b[0;32m--> 306\u001b[0;31m                 \u001b[0mloss\u001b[0m\u001b[0;34m.\u001b[0m\u001b[0mbackward\u001b[0m\u001b[0;34m(\u001b[0m\u001b[0;34m)\u001b[0m\u001b[0;34m\u001b[0m\u001b[0;34m\u001b[0m\u001b[0m\n\u001b[0m\u001b[1;32m    307\u001b[0m                 \u001b[0moptimizer\u001b[0m\u001b[0;34m.\u001b[0m\u001b[0mstep\u001b[0m\u001b[0;34m(\u001b[0m\u001b[0;34m)\u001b[0m\u001b[0;34m\u001b[0m\u001b[0;34m\u001b[0m\u001b[0m\n\u001b[1;32m    308\u001b[0m             \u001b[0mprint\u001b[0m\u001b[0;34m(\u001b[0m\u001b[0;34m\"grads \"\u001b[0m\u001b[0;34m,\u001b[0m \u001b[0mself\u001b[0m\u001b[0;34m.\u001b[0m\u001b[0mmodel\u001b[0m\u001b[0;34m.\u001b[0m\u001b[0ml1\u001b[0m\u001b[0;34m.\u001b[0m\u001b[0mW_mu_DO\u001b[0m\u001b[0;34m.\u001b[0m\u001b[0mgrad\u001b[0m\u001b[0;34m,\u001b[0m \u001b[0;34m\"\\n\"\u001b[0m\u001b[0;34m)\u001b[0m\u001b[0;34m\u001b[0m\u001b[0;34m\u001b[0m\u001b[0m\n",
      "\u001b[0;32m/anaconda3/envs/Pytorch/lib/python3.6/site-packages/torch/tensor.py\u001b[0m in \u001b[0;36mbackward\u001b[0;34m(self, gradient, retain_graph, create_graph)\u001b[0m\n\u001b[1;32m    100\u001b[0m                 \u001b[0mproducts\u001b[0m\u001b[0;34m.\u001b[0m \u001b[0mDefaults\u001b[0m \u001b[0mto\u001b[0m\u001b[0;31m \u001b[0m\u001b[0;31m`\u001b[0m\u001b[0;31m`\u001b[0m\u001b[0;32mFalse\u001b[0m\u001b[0;31m`\u001b[0m\u001b[0;31m`\u001b[0m\u001b[0;34m.\u001b[0m\u001b[0;34m\u001b[0m\u001b[0;34m\u001b[0m\u001b[0m\n\u001b[1;32m    101\u001b[0m         \"\"\"\n\u001b[0;32m--> 102\u001b[0;31m         \u001b[0mtorch\u001b[0m\u001b[0;34m.\u001b[0m\u001b[0mautograd\u001b[0m\u001b[0;34m.\u001b[0m\u001b[0mbackward\u001b[0m\u001b[0;34m(\u001b[0m\u001b[0mself\u001b[0m\u001b[0;34m,\u001b[0m \u001b[0mgradient\u001b[0m\u001b[0;34m,\u001b[0m \u001b[0mretain_graph\u001b[0m\u001b[0;34m,\u001b[0m \u001b[0mcreate_graph\u001b[0m\u001b[0;34m)\u001b[0m\u001b[0;34m\u001b[0m\u001b[0;34m\u001b[0m\u001b[0m\n\u001b[0m\u001b[1;32m    103\u001b[0m \u001b[0;34m\u001b[0m\u001b[0m\n\u001b[1;32m    104\u001b[0m     \u001b[0;32mdef\u001b[0m \u001b[0mregister_hook\u001b[0m\u001b[0;34m(\u001b[0m\u001b[0mself\u001b[0m\u001b[0;34m,\u001b[0m \u001b[0mhook\u001b[0m\u001b[0;34m)\u001b[0m\u001b[0;34m:\u001b[0m\u001b[0;34m\u001b[0m\u001b[0;34m\u001b[0m\u001b[0m\n",
      "\u001b[0;32m/anaconda3/envs/Pytorch/lib/python3.6/site-packages/torch/autograd/__init__.py\u001b[0m in \u001b[0;36mbackward\u001b[0;34m(tensors, grad_tensors, retain_graph, create_graph, grad_variables)\u001b[0m\n\u001b[1;32m     88\u001b[0m     Variable._execution_engine.run_backward(\n\u001b[1;32m     89\u001b[0m         \u001b[0mtensors\u001b[0m\u001b[0;34m,\u001b[0m \u001b[0mgrad_tensors\u001b[0m\u001b[0;34m,\u001b[0m \u001b[0mretain_graph\u001b[0m\u001b[0;34m,\u001b[0m \u001b[0mcreate_graph\u001b[0m\u001b[0;34m,\u001b[0m\u001b[0;34m\u001b[0m\u001b[0;34m\u001b[0m\u001b[0m\n\u001b[0;32m---> 90\u001b[0;31m         allow_unreachable=True)  # allow_unreachable flag\n\u001b[0m\u001b[1;32m     91\u001b[0m \u001b[0;34m\u001b[0m\u001b[0m\n\u001b[1;32m     92\u001b[0m \u001b[0;34m\u001b[0m\u001b[0m\n",
      "\u001b[0;31mKeyboardInterrupt\u001b[0m: "
     ]
    }
   ],
   "source": [
    "# bnn = BNNBayesbyBackprop(prior_mu=0, prior_s=0.8, num_MC_samples=30, linear_regression=True, preset=False, classification=False)\n",
    "\n",
    "\n",
    "bnn = BNNBayesbyBackprop(prior_mu=0, prior_s=0.8, num_MC_samples=30, linear_regression=True, preset=False, classification=True)\n",
    "bnn.fit(X_train, y_train, plot=True, n_epochs=75, learning_rate=1.2e-2, batch_size=100)"
   ]
  },
  {
   "cell_type": "code",
   "execution_count": 63,
   "metadata": {},
   "outputs": [
    {
     "data": {
      "text/plain": [
       "tensor(-2518.2195)"
      ]
     },
     "execution_count": 63,
     "metadata": {},
     "output_type": "execute_result"
    }
   ],
   "source": [
    "bnn.likelihood_est(torch.tensor(y_train), torch.tensor(y_train), 0.1)"
   ]
  },
  {
   "cell_type": "code",
   "execution_count": 66,
   "metadata": {},
   "outputs": [
    {
     "name": "stdout",
     "output_type": "stream",
     "text": [
      "tensor([-5.4249, -3.5355, -6.5829, -0.8022, -2.1740])\n"
     ]
    },
    {
     "data": {
      "text/plain": [
       "tensor(-0.5219)"
      ]
     },
     "execution_count": 66,
     "metadata": {},
     "output_type": "execute_result"
    }
   ],
   "source": [
    "a = torch.normal(torch.tensor([0.0]*5), torch.tensor([5.0]*5))\n",
    "print(a)\n",
    "\n",
    "sig = nn.Sigmoid()\n",
    "sig(a) > 0.5\n",
    "\n",
    "bnn.likelihood_est(torch.tensor([0.0]*5), a, 0.1)"
   ]
  },
  {
   "cell_type": "code",
   "execution_count": 20,
   "metadata": {
    "colab": {
     "base_uri": "https://localhost:8080/",
     "height": 1000
    },
    "colab_type": "code",
    "executionInfo": {
     "elapsed": 508844,
     "status": "ok",
     "timestamp": 1575429512899,
     "user": {
      "displayName": "Daniel Berman",
      "photoUrl": "",
      "userId": "07083512293139957454"
     },
     "user_tz": 300
    },
    "id": "MGKKkEq1vtbk",
    "outputId": "f555efff-3c64-4318-f87a-d28f6a62e285"
   },
   "outputs": [
    {
     "name": "stdout",
     "output_type": "stream",
     "text": [
      "mean log prior  -5.82107666015625\n",
      "mean log post est  -8.086301879882813\n",
      "mean likelihood est  -2271.96375\n",
      "grads  tensor([[ 2.8113e-02, -9.0588e-02],\n",
      "        [ 6.3300e+03,  4.8646e-02]]) \n",
      "\n",
      "change in w1:  [ 0.00274605 -0.00090171] \n",
      "cur w1:  [0.0091938  0.21898751] \n",
      "old w1:  [0.00644776 0.21988922]\n",
      "change in w2:  [0.00075768 0.00232763] \n",
      "cur w2:  [0.00281862 0.04392753] \n",
      "old w2:  [0.00206095 0.0415999 ]\n",
      "change in b:  [ 0.00857747 -0.00893347] \n",
      "cur b:  [0.28585297 0.03298711] \n",
      "old b:  [0.2772755  0.04192058]\n",
      "full weights: \n",
      " [[0.0091938  0.00281862]\n",
      " [0.21898751 0.04392753]]\n",
      "pred type:  <class 'torch.Tensor'>\n",
      "Epoch:  0 \tLoss:  303350.34 \tMAE:  0.28554413 \n",
      "\n"
     ]
    },
    {
     "ename": "KeyboardInterrupt",
     "evalue": "",
     "output_type": "error",
     "traceback": [
      "\u001b[0;31m---------------------------------------------------------------------------\u001b[0m",
      "\u001b[0;31mKeyboardInterrupt\u001b[0m                         Traceback (most recent call last)",
      "\u001b[0;32m<ipython-input-20-48acd52426d4>\u001b[0m in \u001b[0;36m<module>\u001b[0;34m\u001b[0m\n\u001b[1;32m      4\u001b[0m \u001b[0;31m# Fix likelihood mean at 1?\u001b[0m\u001b[0;34m\u001b[0m\u001b[0;34m\u001b[0m\u001b[0;34m\u001b[0m\u001b[0m\n\u001b[1;32m      5\u001b[0m \u001b[0mbnn\u001b[0m \u001b[0;34m=\u001b[0m \u001b[0mBNNBayesbyBackprop\u001b[0m\u001b[0;34m(\u001b[0m\u001b[0mprior_mu\u001b[0m\u001b[0;34m=\u001b[0m\u001b[0;36m0\u001b[0m\u001b[0;34m,\u001b[0m \u001b[0mprior_s\u001b[0m\u001b[0;34m=\u001b[0m\u001b[0;36m0.8\u001b[0m\u001b[0;34m,\u001b[0m \u001b[0mlinear_regression\u001b[0m\u001b[0;34m=\u001b[0m\u001b[0;32mTrue\u001b[0m\u001b[0;34m,\u001b[0m \u001b[0mpreset\u001b[0m\u001b[0;34m=\u001b[0m\u001b[0;32mFalse\u001b[0m\u001b[0;34m)\u001b[0m\u001b[0;34m\u001b[0m\u001b[0;34m\u001b[0m\u001b[0m\n\u001b[0;32m----> 6\u001b[0;31m \u001b[0mbnn\u001b[0m\u001b[0;34m.\u001b[0m\u001b[0mfit\u001b[0m\u001b[0;34m(\u001b[0m\u001b[0mX_train\u001b[0m\u001b[0;34m,\u001b[0m \u001b[0my_train\u001b[0m\u001b[0;34m,\u001b[0m \u001b[0mplot\u001b[0m\u001b[0;34m=\u001b[0m\u001b[0;32mTrue\u001b[0m\u001b[0;34m,\u001b[0m \u001b[0mn_epochs\u001b[0m\u001b[0;34m=\u001b[0m\u001b[0;36m75\u001b[0m\u001b[0;34m,\u001b[0m \u001b[0mlearning_rate\u001b[0m\u001b[0;34m=\u001b[0m\u001b[0;36m5e-2\u001b[0m\u001b[0;34m,\u001b[0m \u001b[0mbatch_size\u001b[0m\u001b[0;34m=\u001b[0m\u001b[0;36m100\u001b[0m\u001b[0;34m)\u001b[0m\u001b[0;34m\u001b[0m\u001b[0;34m\u001b[0m\u001b[0m\n\u001b[0m",
      "\u001b[0;32m~/Documents/Tufts_Masters/Semester_3/Bayesian Deep Learning/BDL_final_project/bnn.py\u001b[0m in \u001b[0;36mfit\u001b[0;34m(self, X, y, learning_rate, n_epochs, batch_size, plot)\u001b[0m\n\u001b[1;32m    290\u001b[0m \u001b[0;34m\u001b[0m\u001b[0m\n\u001b[1;32m    291\u001b[0m                 \u001b[0mloss\u001b[0m \u001b[0;34m=\u001b[0m \u001b[0mself\u001b[0m\u001b[0;34m.\u001b[0m\u001b[0mMC_elbo\u001b[0m\u001b[0;34m(\u001b[0m\u001b[0mX_batch\u001b[0m\u001b[0;34m,\u001b[0m \u001b[0my_batch\u001b[0m\u001b[0;34m,\u001b[0m \u001b[0mbatch_num\u001b[0m\u001b[0;34m,\u001b[0m \u001b[0mn_batches\u001b[0m\u001b[0;34m,\u001b[0m \u001b[0me\u001b[0m\u001b[0;34m)\u001b[0m\u001b[0;34m\u001b[0m\u001b[0;34m\u001b[0m\u001b[0m\n\u001b[0;32m--> 292\u001b[0;31m                 \u001b[0mold_weights1\u001b[0m \u001b[0;34m=\u001b[0m \u001b[0mself\u001b[0m\u001b[0;34m.\u001b[0m\u001b[0mmodel\u001b[0m\u001b[0;34m.\u001b[0m\u001b[0ml1\u001b[0m\u001b[0;34m.\u001b[0m\u001b[0mW_mu_DO\u001b[0m\u001b[0;34m.\u001b[0m\u001b[0mdetach\u001b[0m\u001b[0;34m(\u001b[0m\u001b[0;34m)\u001b[0m\u001b[0;34m.\u001b[0m\u001b[0mnumpy\u001b[0m\u001b[0;34m(\u001b[0m\u001b[0;34m)\u001b[0m\u001b[0;34m[\u001b[0m\u001b[0;34m:\u001b[0m\u001b[0;34m,\u001b[0m\u001b[0;36m0\u001b[0m\u001b[0;34m]\u001b[0m\u001b[0;34m.\u001b[0m\u001b[0mflatten\u001b[0m\u001b[0;34m(\u001b[0m\u001b[0;34m)\u001b[0m\u001b[0;34m\u001b[0m\u001b[0;34m\u001b[0m\u001b[0m\n\u001b[0m\u001b[1;32m    293\u001b[0m                 \u001b[0mold_weights2\u001b[0m \u001b[0;34m=\u001b[0m \u001b[0mself\u001b[0m\u001b[0;34m.\u001b[0m\u001b[0mmodel\u001b[0m\u001b[0;34m.\u001b[0m\u001b[0ml1\u001b[0m\u001b[0;34m.\u001b[0m\u001b[0mW_mu_DO\u001b[0m\u001b[0;34m.\u001b[0m\u001b[0mdetach\u001b[0m\u001b[0;34m(\u001b[0m\u001b[0;34m)\u001b[0m\u001b[0;34m.\u001b[0m\u001b[0mnumpy\u001b[0m\u001b[0;34m(\u001b[0m\u001b[0;34m)\u001b[0m\u001b[0;34m[\u001b[0m\u001b[0;34m:\u001b[0m\u001b[0;34m,\u001b[0m\u001b[0;36m1\u001b[0m\u001b[0;34m]\u001b[0m\u001b[0;34m.\u001b[0m\u001b[0mflatten\u001b[0m\u001b[0;34m(\u001b[0m\u001b[0;34m)\u001b[0m\u001b[0;34m\u001b[0m\u001b[0;34m\u001b[0m\u001b[0m\n\u001b[1;32m    294\u001b[0m                 \u001b[0mold_bias\u001b[0m \u001b[0;34m=\u001b[0m \u001b[0mself\u001b[0m\u001b[0;34m.\u001b[0m\u001b[0mmodel\u001b[0m\u001b[0;34m.\u001b[0m\u001b[0ml1\u001b[0m\u001b[0;34m.\u001b[0m\u001b[0mb_mu_O\u001b[0m\u001b[0;34m.\u001b[0m\u001b[0mdetach\u001b[0m\u001b[0;34m(\u001b[0m\u001b[0;34m)\u001b[0m\u001b[0;34m.\u001b[0m\u001b[0mnumpy\u001b[0m\u001b[0;34m(\u001b[0m\u001b[0;34m)\u001b[0m\u001b[0;34m.\u001b[0m\u001b[0mflatten\u001b[0m\u001b[0;34m(\u001b[0m\u001b[0;34m)\u001b[0m\u001b[0;34m\u001b[0m\u001b[0;34m\u001b[0m\u001b[0m\n",
      "\u001b[0;31mKeyboardInterrupt\u001b[0m: "
     ]
    }
   ],
   "source": [
    "\n",
    "\n",
    "# Hyperparameters that work: prior_s 0.8\n",
    "# Fix likelihood mean at 1?\n",
    "bnn = BNNBayesbyBackprop(prior_mu=0, prior_s=0.8, linear_regression=True, preset=False)\n",
    "bnn.fit(X_train, y_train, plot=True, n_epochs=75, learning_rate=5e-2, batch_size=100)"
   ]
  },
  {
   "cell_type": "code",
   "execution_count": 0,
   "metadata": {
    "colab": {
     "base_uri": "https://localhost:8080/",
     "height": 187
    },
    "colab_type": "code",
    "executionInfo": {
     "elapsed": 397,
     "status": "ok",
     "timestamp": 1575429539097,
     "user": {
      "displayName": "Daniel Berman",
      "photoUrl": "",
      "userId": "07083512293139957454"
     },
     "user_tz": 300
    },
    "id": "OUADkek91RG0",
    "outputId": "7e10f642-0a1a-47ca-e9b8-c41a4b229be3"
   },
   "outputs": [
    {
     "name": "stdout",
     "output_type": "stream",
     "text": [
      "MAE 1:  3.0056122393554254 MAE 2: 4.229932547897288\n",
      "MAE 1:  3.0056122393554254 MAE 2: 4.163598483397882\n",
      "MAE 1:  3.0056122393554254 MAE 2: 4.064748158286918\n",
      "MAE 1:  3.0056122393554254 MAE 2: 4.157970359536937\n",
      "MAE 1:  3.0056122393554254 MAE 2: 4.18713532994711\n",
      "MAE 1:  3.0056122393554254 MAE 2: 4.068806773370651\n",
      "MAE 1:  3.0056122393554254 MAE 2: 4.10697160790373\n",
      "MAE 1:  3.0056122393554254 MAE 2: 4.275199441081447\n",
      "MAE 1:  3.0056122393554254 MAE 2: 4.105935688264671\n",
      "MAE 1:  3.0056122393554254 MAE 2: 4.140327650161342\n"
     ]
    }
   ],
   "source": [
    "for _ in range(10):\n",
    "    pred1 = X_train @ W + b \n",
    "    pred2 = X_train @ W + b + np.random.normal(loc=0, scale=np.exp(X_train @ W_s + b_s))\n",
    "    mae1 = np.mean(np.abs(pred1 - y_train))\n",
    "    mae2 = np.mean(np.abs(pred2 - y_train))\n",
    "    print(\"MAE 1: \", mae1, \"MAE 2:\", mae2)"
   ]
  },
  {
   "cell_type": "code",
   "execution_count": 0,
   "metadata": {
    "colab": {
     "base_uri": "https://localhost:8080/",
     "height": 810
    },
    "colab_type": "code",
    "executionInfo": {
     "elapsed": 1127,
     "status": "ok",
     "timestamp": 1575429541904,
     "user": {
      "displayName": "Daniel Berman",
      "photoUrl": "",
      "userId": "07083512293139957454"
     },
     "user_tz": 300
    },
    "id": "P5o10gzNWJWK",
    "outputId": "112219f1-6040-41f6-a6a5-d7b92f454a23"
   },
   "outputs": [
    {
     "name": "stdout",
     "output_type": "stream",
     "text": [
      "tensor([ 73.2484, -10.4592,  80.1985,  36.0612,  85.2357],\n",
      "       grad_fn=<SelectBackward>)\n",
      "tensor([52.9553,  7.0205, 62.6282,  ...,  5.3123,  3.1554, 38.7316],\n",
      "       grad_fn=<ExpBackward>)\n",
      "[[ 0.          7.83732011]\n",
      " [ 0.         -0.55350876]\n",
      " [ 0.          8.53399163]\n",
      " ...\n",
      " [ 0.         -1.71126102]\n",
      " [ 0.         -3.87444431]\n",
      " [ 0.          6.53840831]]\n"
     ]
    },
    {
     "data": {
      "text/plain": [
       "Text(0, 0.5, 'output[:,1] (Standard Deviation)')"
      ]
     },
     "execution_count": 408,
     "metadata": {
      "tags": []
     },
     "output_type": "execute_result"
    },
    {
     "data": {
      "image/png": "[encoded data removed]",
      "text/plain": [
       "<Figure size 720x720 with 3 Axes>"
      ]
     },
     "metadata": {
      "tags": []
     },
     "output_type": "display_data"
    }
   ],
   "source": [
    "# This import registers the 3D projection, but is otherwise unused.\n",
    "from mpl_toolkits.mplot3d import Axes3D  # noqa: F401 unused import\n",
    "\n",
    "final_pred = bnn.model.forward(torch.Tensor(X_train))\n",
    "print(final_pred[:5,0])\n",
    "\n",
    "\n",
    "pred_std = torch.exp(final_pred[:,1])\n",
    "\n",
    "print(pred_std)\n",
    "print(X_train)\n",
    "\n",
    "fig = plt.figure(figsize=(10,10))\n",
    "ax = fig.add_subplot(311, projection='3d')\n",
    "\n",
    "sparse_cap = int(len(X_train) / 10)\n",
    "\n",
    "ax.scatter(X_train[:sparse_cap,0], X_train[:sparse_cap,1], pred_std[:sparse_cap].detach().numpy())\n",
    "ax.set_xlabel('X_train[:,0]')\n",
    "ax.set_ylabel('X_train[:,1]')\n",
    "ax.set_zlabel('output[:,1] (Standard Deviation)')\n",
    "\n",
    "\n",
    "\n",
    "# 2D Plot:\n",
    "ax_2d_x = fig.add_subplot(312)\n",
    "ax_2d_x.scatter(X_train[:,0], pred_std.detach().numpy())\n",
    "ax_2d_x.set_xlabel('X_train[:,0]')\n",
    "ax_2d_x.set_ylabel('output[:,1] (Standard Deviation)')\n",
    "\n",
    "\n",
    "ax_2d_y = fig.add_subplot(313)\n",
    "ax_2d_y.scatter(X_train[:,1], pred_std.detach().numpy())\n",
    "ax_2d_y.set_xlabel('X_train[:,1]')\n",
    "ax_2d_y.set_ylabel('output[:,1] (Standard Deviation)')\n",
    "\n"
   ]
  },
  {
   "cell_type": "code",
   "execution_count": 0,
   "metadata": {
    "colab": {
     "base_uri": "https://localhost:8080/",
     "height": 695
    },
    "colab_type": "code",
    "executionInfo": {
     "elapsed": 1135,
     "status": "ok",
     "timestamp": 1575429544133,
     "user": {
      "displayName": "Daniel Berman",
      "photoUrl": "",
      "userId": "07083512293139957454"
     },
     "user_tz": 300
    },
    "id": "sAKvLr33HE9t",
    "outputId": "5114547d-2794-4dbf-de44-a227280a0404"
   },
   "outputs": [
    {
     "name": "stdout",
     "output_type": "stream",
     "text": [
      "[ 0.7019849  0.8952522  1.1417292  1.4560653  1.8569429  2.3681886\n",
      "  3.020188   3.8516934  4.9121256  6.2645106  7.9892287 10.18879\n",
      " 12.993922  16.571356  21.13371   26.95215   34.372505  43.8358\n",
      " 55.904476  71.295845  90.9247   ]\n"
     ]
    },
    {
     "name": "stderr",
     "output_type": "stream",
     "text": [
      "/usr/local/lib/python3.6/dist-packages/ipykernel_launcher.py:19: RuntimeWarning: overflow encountered in exp\n"
     ]
    },
    {
     "data": {
      "image/png": "[encoded data removed]",
      "text/plain": [
       "<Figure size 432x288 with 1 Axes>"
      ]
     },
     "metadata": {
      "tags": []
     },
     "output_type": "display_data"
    },
    {
     "name": "stdout",
     "output_type": "stream",
     "text": [
      "[array([0.05502322]), array([0.07427358]), array([0.10025884]), array([0.13533528]), array([0.18268352]), array([0.24659696]), array([0.33287108]), array([0.44932896]), array([0.60653066]), array([0.81873075]), array([1.10517092]), array([1.4918247]), array([2.01375271]), array([2.71828183]), array([3.66929667]), array([4.95303242]), array([6.68589444]), array([9.0250135]), array([12.18249396]), array([16.44464677]), array([22.19795128])]\n"
     ]
    },
    {
     "data": {
      "image/png": "[encoded data removed]",
      "text/plain": [
       "<Figure size 432x288 with 1 Axes>"
      ]
     },
     "metadata": {
      "tags": []
     },
     "output_type": "display_data"
    }
   ],
   "source": [
    "np.zeros(40)\n",
    "X_sample = np.vstack([np.zeros(21), np.array(list(range(-10,11)))]).T\n",
    "X_sample = torch.tensor(np.array(X_sample), dtype=torch.float32)\n",
    "\n",
    "\n",
    "predictions = bnn.model.forward(torch.Tensor(X_train))\n",
    "\n",
    "sample_pred = bnn.model.forward(X_sample)\n",
    "\n",
    "y_pred = sample_pred[:,0].detach().numpy()\n",
    "std_pred = torch.exp(sample_pred[:,1]).detach().numpy()\n",
    "log_s_pred = sample_pred[:,1].detach().numpy()\n",
    "\n",
    "print(std_pred)\n",
    "\n",
    "# Sample variance to add to the y predictions\n",
    "std_array = []\n",
    "for scale in std_pred:\n",
    "  std_array.append(np.random.normal(loc=0, scale=np.exp(scale)))\n",
    "std_array = np.array((std_array))\n",
    "\n",
    "\n",
    "\n",
    "\"\"\"\n",
    "plt.scatter(X_train[:,0], y_pred + std_array, alpha=.1, label='predicted')\n",
    "plt.scatter(X_train[:,0], y_train, alpha=.1, label='real')\n",
    "plt.title(\"Y hat and Y values across X1\")\n",
    "plt.legend()\n",
    "plt.savefig(\"x1_y.png\")\n",
    "\"\"\"\n",
    "\n",
    "\n",
    "plt.show()\n",
    "\n",
    "# For constant std dev#\n",
    "#std_pred = 10 * torch.ones([y_pred.shape[0]], dtype=torch.float64)\n",
    "# For constant std dev#\n",
    "\n",
    "#plt.scatter(X_train[:,1], y_pred + std_array, alpha=.1, label='predicted')\n",
    "#plt.scatter(X_sample[:,1], y_pred, alpha=.1, label='predicted')\n",
    "plt.errorbar(X_sample[:,1], y_pred, yerr=(std_pred), fmt='o', label='predicted')\n",
    "plt.scatter(X_train[:,1], y_train, alpha=.1, c='C1', label='real')\n",
    "plt.ylabel(\"Y\")\n",
    "plt.xlabel(\"X\")\n",
    "# plt.xlim(right = 5)\n",
    "# plt.xlim(left = -5)\n",
    "# plt.ylim(top = 100)\n",
    "# plt.ylim(bottom = -100)\n",
    "plt.title(\"Predicted and real Y values vs X\")\n",
    "plt.legend()\n",
    "plt.savefig(\"x_y1.png\")\n",
    "plt.show()\n",
    "\n",
    "\n",
    "\n",
    "#stds = []\n",
    "#Xs = list(range(-10, 11))\n",
    "#for x in Xs:\n",
    "#    stds.append(x + b_s)\n",
    "\n",
    "#std_pred = predictions[:,1].detach().numpy()\n",
    "\n",
    "real_std = []\n",
    "for x in range(-10, 11):\n",
    "    real_std.append(np.exp(np.array([0, x] @ W_s + b_s)))\n",
    "print(real_std)\n",
    "# plt.plot(list(range(-10,11)), list(range(0, 21)), c='C3', label='real')\n",
    "plt.plot(list(range(-10,11)), real_std, c='C3', label='real')\n",
    "plt.plot(X_sample[:,1], (std_pred), label='predicted')\n",
    "plt.title(\"Standard Deviation versus X value\")\n",
    "plt.ylabel(\"standard deviation\")\n",
    "plt.xlabel(\"X\")\n",
    "plt.legend()\n",
    "plt.savefig(\"std1.png\")\n",
    "# plt.xlim(right = 5)\n",
    "# plt.xlim(left = -5)\n",
    "# plt.ylim(top = 100)\n",
    "# plt.ylim(bottom = -100)\n",
    "plt.show()"
   ]
  },
  {
   "cell_type": "code",
   "execution_count": 0,
   "metadata": {
    "colab": {
     "base_uri": "https://localhost:8080/",
     "height": 50
    },
    "colab_type": "code",
    "executionInfo": {
     "elapsed": 365,
     "status": "ok",
     "timestamp": 1575314802782,
     "user": {
      "displayName": "Andy W",
      "photoUrl": "https://lh3.googleusercontent.com/a-/AAuE7mDT86gEQbwc-buchisSAn0HMtAQzvqYYIAPtcns=s64",
      "userId": "04820820680976854911"
     },
     "user_tz": 300
    },
    "id": "Ke4AKPcBx5kB",
    "outputId": "4ecbf449-9942-40c6-e0ef-1e5184969126"
   },
   "outputs": [
    {
     "name": "stdout",
     "output_type": "stream",
     "text": [
      "tensor([[0.1449, 0.1307, 0.1374, 0.1398, 0.1270],\n",
      "        [0.5950, 0.5896, 0.5357, 0.6016, 0.5273]], grad_fn=<ExpBackward>)\n"
     ]
    }
   ],
   "source": [
    "print(torch.exp(bnn.model.l1.W_log_s_DO))"
   ]
  },
  {
   "cell_type": "code",
   "execution_count": 0,
   "metadata": {
    "colab": {
     "base_uri": "https://localhost:8080/",
     "height": 178
    },
    "colab_type": "code",
    "executionInfo": {
     "elapsed": 391,
     "status": "error",
     "timestamp": 1575194249491,
     "user": {
      "displayName": "Andy W",
      "photoUrl": "https://lh3.googleusercontent.com/a-/AAuE7mDT86gEQbwc-buchisSAn0HMtAQzvqYYIAPtcns=s64",
      "userId": "04820820680976854911"
     },
     "user_tz": 300
    },
    "id": "pO3Ypv5RGmXA",
    "outputId": "4c0a482a-b16a-46cc-ce2a-f3da2d8eee59"
   },
   "outputs": [
    {
     "ename": "NameError",
     "evalue": "ignored",
     "output_type": "error",
     "traceback": [
      "\u001b[0;31m---------------------------------------------------------------------------\u001b[0m",
      "\u001b[0;31mNameError\u001b[0m                                 Traceback (most recent call last)",
      "\u001b[0;32m<ipython-input-22-fbfe51e37653>\u001b[0m in \u001b[0;36m<module>\u001b[0;34m()\u001b[0m\n\u001b[1;32m      1\u001b[0m \u001b[0;34m\u001b[0m\u001b[0m\n\u001b[0;32m----> 2\u001b[0;31m \u001b[0mplt\u001b[0m\u001b[0;34m.\u001b[0m\u001b[0mplot\u001b[0m\u001b[0;34m(\u001b[0m\u001b[0;34m[\u001b[0m\u001b[0mi\u001b[0m \u001b[0;32mfor\u001b[0m \u001b[0mi\u001b[0m \u001b[0;32min\u001b[0m \u001b[0mrange\u001b[0m\u001b[0;34m(\u001b[0m\u001b[0;36m100\u001b[0m\u001b[0;34m)\u001b[0m\u001b[0;34m]\u001b[0m\u001b[0;34m,\u001b[0m \u001b[0mloss_by_epoch\u001b[0m\u001b[0;34m)\u001b[0m\u001b[0;34m\u001b[0m\u001b[0;34m\u001b[0m\u001b[0m\n\u001b[0m",
      "\u001b[0;31mNameError\u001b[0m: name 'loss_by_epoch' is not defined"
     ]
    }
   ],
   "source": [
    "\n",
    "plt.plot([i for i in range(100)], loss_by_epoch)"
   ]
  },
  {
   "cell_type": "code",
   "execution_count": 0,
   "metadata": {
    "colab": {},
    "colab_type": "code",
    "id": "a9tQnGslgENk"
   },
   "outputs": [],
   "source": []
  }
 ],
 "metadata": {
  "accelerator": "GPU",
  "colab": {
   "collapsed_sections": [],
   "machine_shape": "hm",
   "name": "Baysian_Logistic_regression_daniel.ipynb",
   "provenance": [
    {
     "file_id": "1sznMeZpuMX1xJQxmYl78_vbUqOg1IlPl",
     "timestamp": 1575409826661
    },
    {
     "file_id": "1917bcDBXk-Ce3uiNS3-toqX0gnTYlcWh",
     "timestamp": 1573608677328
    }
   ]
  },
  "kernelspec": {
   "display_name": "Python 3",
   "language": "python",
   "name": "python3"
  },
  "language_info": {
   "codemirror_mode": {
    "name": "ipython",
    "version": 3
   },
   "file_extension": ".py",
   "mimetype": "text/x-python",
   "name": "python",
   "nbconvert_exporter": "python",
   "pygments_lexer": "ipython3",
   "version": "3.6.8"
  }
 },
 "nbformat": 4,
 "nbformat_minor": 1
}
