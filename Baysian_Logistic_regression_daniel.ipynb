{
 "cells": [
  {
   "cell_type": "code",
   "execution_count": 1,
   "metadata": {
    "colab": {
     "base_uri": "https://localhost:8080/",
     "height": 34
    },
    "colab_type": "code",
    "executionInfo": {
     "elapsed": 2590,
     "status": "ok",
     "timestamp": 1575486296044,
     "user": {
      "displayName": "Daniel Berman",
      "photoUrl": "",
      "userId": "07083512293139957454"
     },
     "user_tz": 300
    },
    "id": "WkOcCy7MRqxQ",
    "outputId": "c157445e-c711-412c-d0a0-70321edc18e1"
   },
   "outputs": [
    {
     "data": {
      "text/plain": [
       "'C:\\\\Users\\\\stone\\\\Desktop\\\\COLLEG\\\\ExportedHalligan\\\\comp150-03-BDL\\\\Final Project - Heteroskedastic Priors\\\\BDL_final_project'"
      ]
     },
     "execution_count": 1,
     "metadata": {},
     "output_type": "execute_result"
    }
   ],
   "source": [
    "%load_ext autoreload\n",
    "%autoreload 2\n",
    "\n",
    "import torch\n",
    "import torch.nn as nn\n",
    "import torchvision.transforms as transforms\n",
    "import torchvision.datasets as dsets\n",
    "from torch.distributions.multivariate_normal import MultivariateNormal\n",
    "from torch.distributions.normal import Normal\n",
    "import matplotlib.pyplot as plt\n",
    "from sklearn.model_selection import train_test_split\n",
    "import pandas as pd\n",
    "import torch.optim as optim\n",
    "from torch.autograd import Variable\n",
    "import numpy.random as rand\n",
    "import numpy as np\n",
    "import sys\n",
    "import os\n",
    "from mpl_toolkits.mplot3d import Axes3D  # noqa: F401 unused import\n",
    "\n",
    "\n",
    "\n",
    "from bnn import BNNBayesbyBackprop, gauss_logpdf\n",
    "os.getcwd()"
   ]
  },
  {
   "cell_type": "markdown",
   "metadata": {},
   "source": [
    "## Toy dataset for regression"
   ]
  },
  {
   "cell_type": "code",
   "execution_count": 2,
   "metadata": {
    "colab": {
     "base_uri": "https://localhost:8080/",
     "height": 187
    },
    "colab_type": "code",
    "executionInfo": {
     "elapsed": 497,
     "status": "ok",
     "timestamp": 1575486304247,
     "user": {
      "displayName": "Daniel Berman",
      "photoUrl": "",
      "userId": "07083512293139957454"
     },
     "user_tz": 300
    },
    "id": "t0F0mKwDdI7Y",
    "outputId": "748b6853-7ea1-467f-8e33-a574fd4547cf"
   },
   "outputs": [
    {
     "name": "stdout",
     "output_type": "stream",
     "text": [
      "[[0. ]\n",
      " [0.3]]\n",
      "0.1\n",
      "[[  6.65399419]\n",
      " [ -7.64754231]\n",
      " [114.28069572]\n",
      " ...\n",
      " [ 16.75575275]\n",
      " [ 92.22654003]\n",
      " [-82.40722785]]\n"
     ]
    }
   ],
   "source": [
    "W = np.array([-10, 10]).reshape(-1, 1)\n",
    "b = -5\n",
    "X_train = np.random.uniform(-10,10, (5000, 2))\n",
    "X_train[:,0] = 0.0\n",
    "X_train.shape\n",
    "W.T.shape\n",
    "\n",
    "eps = 0.0001\n",
    "W_s = np.array([0.0, 0.3]).reshape(-1, 1)\n",
    "print(W_s)\n",
    "b_s = 0.1\n",
    "\n",
    "print(b_s)\n",
    "\n",
    "y_train = np.zeros((X_train.shape[0], 1), dtype=float)\n",
    "for ind, x in enumerate(X_train):\n",
    "  # y_train[ind] = x @ W + b + np.random.normal(loc=0, scale=np.exp(x @ W_s + b_s))\n",
    "  y_train[ind] = x.reshape(1,-1) @ W + b + np.random.normal(loc=0, scale=np.exp(x @ W_s + b_s))\n",
    "\n",
    "\n",
    "\n",
    "print(y_train)"
   ]
  },
  {
   "cell_type": "code",
   "execution_count": 3,
   "metadata": {
    "colab": {
     "base_uri": "https://localhost:8080/",
     "height": 367
    },
    "colab_type": "code",
    "executionInfo": {
     "elapsed": 791,
     "status": "ok",
     "timestamp": 1575480947816,
     "user": {
      "displayName": "Daniel Berman",
      "photoUrl": "",
      "userId": "07083512293139957454"
     },
     "user_tz": 300
    },
    "id": "CXdiAr9mvrW-",
    "outputId": "3a8081af-e48f-458f-ff5f-d8a94985ea8e"
   },
   "outputs": [
    {
     "data": {
      "text/plain": [
       "(array([671., 641., 617., 639., 681., 630., 711., 333.,  71.,   6.]),\n",
       " array([-104.99840991,  -79.19349689,  -53.38858388,  -27.58367086,\n",
       "          -1.77875784,   24.02615517,   49.83106819,   75.63598121,\n",
       "         101.44089422,  127.24580724,  153.05072026]),\n",
       " <a list of 10 Patch objects>)"
      ]
     },
     "execution_count": 3,
     "metadata": {},
     "output_type": "execute_result"
    },
    {
     "data": {
      "image/png": "[encoded data removed]",
      "text/plain": [
       "<Figure size 432x288 with 1 Axes>"
      ]
     },
     "metadata": {
      "needs_background": "light"
     },
     "output_type": "display_data"
    }
   ],
   "source": [
    "plt.hist(y_train)\n",
    "# np.exp(10 * 0.01)"
   ]
  },
  {
   "cell_type": "markdown",
   "metadata": {},
   "source": [
    "compare likelihood of test set given true mean and true variance and true variance + bias"
   ]
  },
  {
   "cell_type": "code",
   "execution_count": 4,
   "metadata": {
    "colab": {
     "base_uri": "https://localhost:8080/",
     "height": 51
    },
    "colab_type": "code",
    "executionInfo": {
     "elapsed": 971,
     "status": "ok",
     "timestamp": 1575486325612,
     "user": {
      "displayName": "Daniel Berman",
      "photoUrl": "",
      "userId": "07083512293139957454"
     },
     "user_tz": 300
    },
    "id": "jI5_3uZbEPwE",
    "outputId": "ecec67f9-8ae3-464b-fe23-23c81573ebf3"
   },
   "outputs": [
    {
     "ename": "AttributeError",
     "evalue": "'numpy.ndarray' object has no attribute 'detach'",
     "output_type": "error",
     "traceback": [
      "\u001b[1;31m---------------------------------------------------------------------------\u001b[0m",
      "\u001b[1;31mAttributeError\u001b[0m                            Traceback (most recent call last)",
      "\u001b[1;32m<ipython-input-4-bf7da1c422d3>\u001b[0m in \u001b[0;36m<module>\u001b[1;34m\u001b[0m\n\u001b[0;32m      5\u001b[0m \u001b[0mtst\u001b[0m\u001b[1;33m\u001b[0m\u001b[1;33m\u001b[0m\u001b[0m\n\u001b[0;32m      6\u001b[0m \u001b[1;33m\u001b[0m\u001b[0m\n\u001b[1;32m----> 7\u001b[1;33m \u001b[0mprint\u001b[0m\u001b[1;33m(\u001b[0m\u001b[0mgauss_logpdf\u001b[0m\u001b[1;33m(\u001b[0m\u001b[0mtst\u001b[0m\u001b[1;33m,\u001b[0m \u001b[0mX_train\u001b[0m \u001b[1;33m@\u001b[0m \u001b[0mW\u001b[0m \u001b[1;33m+\u001b[0m \u001b[0mb\u001b[0m\u001b[1;33m,\u001b[0m \u001b[0mnp\u001b[0m\u001b[1;33m.\u001b[0m\u001b[0mexp\u001b[0m\u001b[1;33m(\u001b[0m\u001b[0mx\u001b[0m \u001b[1;33m@\u001b[0m \u001b[0mW_s\u001b[0m \u001b[1;33m+\u001b[0m \u001b[0mb_s\u001b[0m\u001b[1;33m)\u001b[0m\u001b[1;33m)\u001b[0m\u001b[1;33m.\u001b[0m\u001b[0msum\u001b[0m\u001b[1;33m(\u001b[0m\u001b[1;33m)\u001b[0m\u001b[1;33m)\u001b[0m\u001b[1;33m\u001b[0m\u001b[1;33m\u001b[0m\u001b[0m\n\u001b[0m\u001b[0;32m      8\u001b[0m \u001b[0mprint\u001b[0m\u001b[1;33m(\u001b[0m\u001b[0mgauss_logpdf\u001b[0m\u001b[1;33m(\u001b[0m\u001b[0mtst\u001b[0m\u001b[1;33m,\u001b[0m \u001b[0mX_train\u001b[0m \u001b[1;33m@\u001b[0m \u001b[0mW\u001b[0m \u001b[1;33m+\u001b[0m \u001b[0mb\u001b[0m\u001b[1;33m,\u001b[0m \u001b[0mnp\u001b[0m\u001b[1;33m.\u001b[0m\u001b[0mexp\u001b[0m\u001b[1;33m(\u001b[0m\u001b[0mx\u001b[0m \u001b[1;33m@\u001b[0m \u001b[0mW_s\u001b[0m \u001b[1;33m+\u001b[0m \u001b[0mb_s\u001b[0m\u001b[1;33m)\u001b[0m \u001b[1;33m+\u001b[0m \u001b[1;36m100\u001b[0m\u001b[1;33m)\u001b[0m\u001b[1;33m.\u001b[0m\u001b[0msum\u001b[0m\u001b[1;33m(\u001b[0m\u001b[1;33m)\u001b[0m\u001b[1;33m)\u001b[0m\u001b[1;33m\u001b[0m\u001b[1;33m\u001b[0m\u001b[0m\n",
      "\u001b[1;32m~\\Desktop\\COLLEG\\ExportedHalligan\\comp150-03-BDL\\Final Project - Heteroskedastic Priors\\BDL_final_project\\bnn.py\u001b[0m in \u001b[0;36mgauss_logpdf\u001b[1;34m(x, mu, s)\u001b[0m\n\u001b[0;32m      9\u001b[0m \u001b[1;32mdef\u001b[0m \u001b[0mgauss_logpdf\u001b[0m\u001b[1;33m(\u001b[0m\u001b[0mx\u001b[0m\u001b[1;33m,\u001b[0m \u001b[0mmu\u001b[0m\u001b[1;33m,\u001b[0m \u001b[0ms\u001b[0m\u001b[1;33m)\u001b[0m\u001b[1;33m:\u001b[0m\u001b[1;33m\u001b[0m\u001b[1;33m\u001b[0m\u001b[0m\n\u001b[0;32m     10\u001b[0m     \u001b[0mnormalized_x\u001b[0m \u001b[1;33m=\u001b[0m \u001b[1;33m(\u001b[0m\u001b[0mx\u001b[0m \u001b[1;33m-\u001b[0m \u001b[0mmu\u001b[0m\u001b[1;33m)\u001b[0m \u001b[1;33m/\u001b[0m \u001b[0ms\u001b[0m\u001b[1;33m\u001b[0m\u001b[1;33m\u001b[0m\u001b[0m\n\u001b[1;32m---> 11\u001b[1;33m     \u001b[1;32mif\u001b[0m \u001b[1;33m(\u001b[0m\u001b[0mnormalized_x\u001b[0m\u001b[1;33m.\u001b[0m\u001b[0mdetach\u001b[0m\u001b[1;33m(\u001b[0m\u001b[1;33m)\u001b[0m\u001b[1;33m.\u001b[0m\u001b[0mnumpy\u001b[0m\u001b[1;33m(\u001b[0m\u001b[1;33m)\u001b[0m \u001b[1;33m>=\u001b[0m \u001b[0mfloat\u001b[0m\u001b[1;33m(\u001b[0m\u001b[1;34m'inf'\u001b[0m\u001b[1;33m)\u001b[0m\u001b[1;33m)\u001b[0m\u001b[1;33m.\u001b[0m\u001b[0many\u001b[0m\u001b[1;33m(\u001b[0m\u001b[1;33m)\u001b[0m\u001b[1;33m:\u001b[0m\u001b[1;33m\u001b[0m\u001b[1;33m\u001b[0m\u001b[0m\n\u001b[0m\u001b[0;32m     12\u001b[0m         \u001b[0mprint\u001b[0m\u001b[1;33m(\u001b[0m\u001b[1;34m'\\n\\n\\n\\n\\n\\n\\n\\n\\n\\n\\n\\n'\u001b[0m\u001b[1;33m)\u001b[0m\u001b[1;33m\u001b[0m\u001b[1;33m\u001b[0m\u001b[0m\n\u001b[0;32m     13\u001b[0m         \u001b[0mprint\u001b[0m\u001b[1;33m(\u001b[0m\u001b[1;34m'exploded'\u001b[0m\u001b[1;33m)\u001b[0m\u001b[1;33m\u001b[0m\u001b[1;33m\u001b[0m\u001b[0m\n",
      "\u001b[1;31mAttributeError\u001b[0m: 'numpy.ndarray' object has no attribute 'detach'"
     ]
    }
   ],
   "source": [
    "tst = np.empty_like(X_train[:,0])\n",
    "for ind, x in enumerate(X_train):\n",
    "  # y_train[ind] = x @ W + b + np.random.normal(loc=0, scale=np.exp(x @ W_s + b_s))\n",
    "  tst[ind] = x.reshape(1,-1) @ W + b + np.random.normal(loc=0, scale=np.exp(x @ W_s + b_s))\n",
    "tst\n",
    "\n",
    "print(gauss_logpdf(tst, X_train @ W + b, np.exp(x @ W_s + b_s)).sum())\n",
    "print(gauss_logpdf(tst, X_train @ W + b, np.exp(x @ W_s + b_s) + 100).sum())"
   ]
  },
  {
   "cell_type": "code",
   "execution_count": null,
   "metadata": {
    "colab": {
     "base_uri": "https://localhost:8080/",
     "height": 626
    },
    "colab_type": "code",
    "executionInfo": {
     "elapsed": 2417,
     "status": "ok",
     "timestamp": 1575480980749,
     "user": {
      "displayName": "Daniel Berman",
      "photoUrl": "",
      "userId": "07083512293139957454"
     },
     "user_tz": 300
    },
    "id": "9O-6lnY9YJRb",
    "outputId": "d9139067-fbb0-4258-b9c0-c28167a193e2"
   },
   "outputs": [],
   "source": []
  },
  {
   "cell_type": "code",
   "execution_count": null,
   "metadata": {
    "colab": {
     "base_uri": "https://localhost:8080/",
     "height": 35
    },
    "colab_type": "code",
    "executionInfo": {
     "elapsed": 309,
     "status": "ok",
     "timestamp": 1575170206489,
     "user": {
      "displayName": "Emerson Wenzel",
      "photoUrl": "https://lh3.googleusercontent.com/a-/AAuE7mBa8myeK4yWPwITEYdL3CnQJapeceo7a6YM_K7TpQ=s64",
      "userId": "12144547484727272619"
     },
     "user_tz": 300
    },
    "id": "vzSQguR_UJhN",
    "outputId": "0417a959-ed74-4f88-d8ff-8967e05cd48f"
   },
   "outputs": [],
   "source": []
  },
  {
   "cell_type": "markdown",
   "metadata": {
    "colab": {
     "base_uri": "https://localhost:8080/",
     "height": 243
    },
    "colab_type": "code",
    "executionInfo": {
     "elapsed": 257,
     "status": "error",
     "timestamp": 1575170206947,
     "user": {
      "displayName": "Emerson Wenzel",
      "photoUrl": "https://lh3.googleusercontent.com/a-/AAuE7mBa8myeK4yWPwITEYdL3CnQJapeceo7a6YM_K7TpQ=s64",
      "userId": "12144547484727272619"
     },
     "user_tz": 300
    },
    "id": "TP8Et2D5Rwyk",
    "outputId": "907e9d07-2ab2-4f31-d72e-9a5deea518e1"
   },
   "source": [
    "Toy dataset for classification 2d"
   ]
  },
  {
   "cell_type": "code",
   "execution_count": 22,
   "metadata": {
    "colab": {},
    "colab_type": "code",
    "id": "CCQC9djBrntu"
   },
   "outputs": [],
   "source": [
    "dataset_size = 5000\n",
    "\n",
    "X_train = np.empty(shape=(dataset_size, 2), dtype=float)\n",
    "y_train = np.empty(shape=(dataset_size,), dtype=float)\n",
    "\n",
    "# make first dimension 0 to effectively make it univariate \n",
    "# bc current bnn arch only works with multivariate input\n",
    "X_train[:int(dataset_size/2),0] = np.random.normal(loc=0,\n",
    "                                                   scale=1,\n",
    "                                                   size=(int(dataset_size/2),))\n",
    "X_train[:int(dataset_size/2), 1] = np.random.normal(loc=-5, \n",
    "                                                    scale=1, \n",
    "                                                    size=(int(dataset_size/2),))\n",
    "y_train[:int(dataset_size/2)] = 0\n",
    "\n",
    "X_train[int(dataset_size/2):,0] = np.random.normal(loc=0,\n",
    "                                                   scale=1,\n",
    "                                                   size=(int(dataset_size/2),))\n",
    "X_train[int(dataset_size/2):, 1] = np.random.normal(loc=5,\n",
    "                                                    scale=1,\n",
    "                                                    size=(int(dataset_size/2),))\n",
    "y_train[int(dataset_size/2):] = 1\n",
    "\n",
    "# shuffle order\n",
    "perm = np.random.permutation(dataset_size)\n",
    "X_train = X_train[perm]\n",
    "y_train = y_train[perm]"
   ]
  },
  {
   "cell_type": "code",
   "execution_count": null,
   "metadata": {},
   "outputs": [],
   "source": []
  },
  {
   "cell_type": "code",
   "execution_count": 7,
   "metadata": {
    "colab": {},
    "colab_type": "code",
    "id": "h0QAif-C42O6"
   },
   "outputs": [
    {
     "name": "stdout",
     "output_type": "stream",
     "text": [
      "X shape (320, 320)\n",
      "------\n"
     ]
    },
    {
     "name": "stderr",
     "output_type": "stream",
     "text": [
      "/home/emerson/anaconda3/lib/python3.7/site-packages/matplotlib/figure.py:445: UserWarning: Matplotlib is currently using module://ipykernel.pylab.backend_inline, which is a non-GUI backend, so cannot show the figure.\n",
      "  % get_backend())\n"
     ]
    },
    {
     "ename": "NameError",
     "evalue": "name 'x_line' is not defined",
     "output_type": "error",
     "traceback": [
      "\u001b[0;31m---------------------------------------------------------------------------\u001b[0m",
      "\u001b[0;31mNameError\u001b[0m                                 Traceback (most recent call last)",
      "\u001b[0;32m<ipython-input-7-3611c9753968>\u001b[0m in \u001b[0;36m<module>\u001b[0;34m\u001b[0m\n\u001b[1;32m     35\u001b[0m \u001b[0mfig\u001b[0m\u001b[0;34m.\u001b[0m\u001b[0mshow\u001b[0m\u001b[0;34m(\u001b[0m\u001b[0;34m)\u001b[0m\u001b[0;34m\u001b[0m\u001b[0;34m\u001b[0m\u001b[0m\n\u001b[1;32m     36\u001b[0m \u001b[0mprint\u001b[0m\u001b[0;34m(\u001b[0m\u001b[0;34m\"------\"\u001b[0m\u001b[0;34m)\u001b[0m\u001b[0;34m\u001b[0m\u001b[0;34m\u001b[0m\u001b[0m\n\u001b[0;32m---> 37\u001b[0;31m \u001b[0mprint\u001b[0m\u001b[0;34m(\u001b[0m\u001b[0mx_line\u001b[0m\u001b[0;34m[\u001b[0m\u001b[0;34m:\u001b[0m\u001b[0;34m,\u001b[0m\u001b[0;36m0\u001b[0m\u001b[0;34m]\u001b[0m\u001b[0;34m.\u001b[0m\u001b[0mshape\u001b[0m\u001b[0;34m)\u001b[0m\u001b[0;34m\u001b[0m\u001b[0;34m\u001b[0m\u001b[0m\n\u001b[0m\u001b[1;32m     38\u001b[0m \u001b[0mprint\u001b[0m\u001b[0;34m(\u001b[0m\u001b[0mx_line\u001b[0m\u001b[0;34m[\u001b[0m\u001b[0;34m:\u001b[0m\u001b[0;34m,\u001b[0m\u001b[0;36m1\u001b[0m\u001b[0;34m]\u001b[0m\u001b[0;34m.\u001b[0m\u001b[0mshape\u001b[0m\u001b[0;34m)\u001b[0m\u001b[0;34m\u001b[0m\u001b[0;34m\u001b[0m\u001b[0m\n\u001b[1;32m     39\u001b[0m \u001b[0mprint\u001b[0m\u001b[0;34m(\u001b[0m\u001b[0my\u001b[0m\u001b[0;34m.\u001b[0m\u001b[0mshape\u001b[0m\u001b[0;34m)\u001b[0m\u001b[0;34m\u001b[0m\u001b[0;34m\u001b[0m\u001b[0m\n",
      "\u001b[0;31mNameError\u001b[0m: name 'x_line' is not defined"
     ]
    },
    {
     "data": {
      "image/png": "[encoded data removed]",
      "text/plain": [
       "<Figure size 1440x1440 with 1 Axes>"
      ]
     },
     "metadata": {
      "needs_background": "light"
     },
     "output_type": "display_data"
    }
   ],
   "source": [
    "def plane(x1, x2, w1, b):\n",
    "    return w1[0] * x1 + w1[1] * x2 + b\n",
    "    \n",
    "\n",
    "w1 = np.array([[0,0]]).T\n",
    "w2 = np.array([[0,0]]).T\n",
    "W_full = np.hstack((w1, w2))\n",
    "b = 0\n",
    "\n",
    "x = y = np.arange(-8.0, 8.0, 0.05)\n",
    "X, Y = np.meshgrid(x, y)\n",
    "zs = plane(X, Y, w1, b)\n",
    "print(\"X shape\", zs.shape)\n",
    "\n",
    "# Z = zs.reshape(X.shape)\n",
    "\n",
    "# ax.plot_surface(X, Y, Z)\n",
    "\n",
    "# x_line = np.random.uniform(-8, 8, (100, 2))\n",
    "#  = \n",
    "# print(w1.T.shape)\n",
    "# y = w1.T @ x + b\n",
    "# y = y.flatten()\n",
    "# plt.plot(x1, x2)\n",
    "# plt.scatter(X_train[y_train == 0,0], X_train[y_train == 0,1], c='red', alpha=0.2)\n",
    "# plt.scatter(X_train[y_train == 1,0], X_train[y_train == 1,1], c='blue', alpha=0.2)\n",
    "# plt.ylim((-10, 10))\n",
    "\n",
    "\n",
    "fig = plt.figure(figsize=(20,20))\n",
    "ax = fig.add_subplot(311, projection='3d')       \n",
    "ax.plot_wireframe(X, Y, zs, color='grey', alpha = 0.7)\n",
    "ax.scatter(X_train[y_train == 0,0], X_train[y_train == 0,1], c='blue')\n",
    "ax.scatter(X_train[y_train == 1,0], X_train[y_train == 1,1], c='red')\n",
    "fig.show()\n",
    "print(\"------\")                                                        \n",
    "print(x_line[:,0].shape)                                                   \n",
    "print(x_line[:,1].shape)                                                   \n",
    "print(y.shape)                                                        \n",
    "print(\"------\")\n",
    "\n",
    "\n",
    "# ax.scatter(X1_train_grd, X2_train_grd, alpha=0.5)\n",
    "\n",
    "# ax.plot()\n",
    "# ax.set_xlabel('X_train[:,0]')                                          \n",
    "# ax.set_ylabel('X_train[:,1]')                                          \n",
    "# ax.set_zlabel('output[:,1] (Standard Deviation)')                      \n",
    "fig.show()\n",
    "# plt.show()\n",
    "\n"
   ]
  },
  {
   "cell_type": "markdown",
   "metadata": {},
   "source": [
    "Toy dataset for classification 1d"
   ]
  },
  {
   "cell_type": "code",
   "execution_count": 24,
   "metadata": {},
   "outputs": [],
   "source": [
    "dataset_size = 5000\n",
    "\n",
    "X_train = np.empty(shape=(dataset_size, 2), dtype=float)\n",
    "y_train = np.empty(shape=(dataset_size,), dtype=float)\n",
    "\n",
    "# make first dimension 0 to effectively make it univariate \n",
    "# bc current bnn arch only works with multivariate input\n",
    "X_train[:int(dataset_size/2), 0] = 0\n",
    "X_train[:int(dataset_size/2), 1] = np.random.normal(loc=2,\n",
    "                                                 scale=1,\n",
    "                                                 size=(int(dataset_size/2),))\n",
    "y_train[:int(dataset_size/2)] = 0\n",
    "\n",
    "\n",
    "\n",
    "X_train[int(dataset_size/2):, 0] = 0\n",
    "X_train[int(dataset_size/2):, 1] = np.random.normal(loc=10,\n",
    "                                                   scale=1,\n",
    "                                                   size=(int(dataset_size/2),))\n",
    "y_train[int(dataset_size/2):] = 1\n",
    "\n",
    "# shuffle order\n",
    "perm = np.random.permutation(dataset_size)\n",
    "X_train = X_train[perm]\n",
    "y_train = y_train[perm]"
   ]
  },
  {
   "cell_type": "code",
   "execution_count": 25,
   "metadata": {
    "colab": {
     "base_uri": "https://localhost:8080/",
     "height": 35
    },
    "colab_type": "code",
    "executionInfo": {
     "elapsed": 627,
     "status": "ok",
     "timestamp": 1575170208452,
     "user": {
      "displayName": "Emerson Wenzel",
      "photoUrl": "https://lh3.googleusercontent.com/a-/AAuE7mBa8myeK4yWPwITEYdL3CnQJapeceo7a6YM_K7TpQ=s64",
      "userId": "12144547484727272619"
     },
     "user_tz": 300
    },
    "id": "TOyX3Muiryr2",
    "outputId": "6fad6434-e0dc-45fb-9601-aac724c9e0fb"
   },
   "outputs": [
    {
     "name": "stderr",
     "output_type": "stream",
     "text": [
      "C:\\Users\\stone\\Miniconda3\\envs\\bdl_2019f_env\\lib\\site-packages\\sklearn\\linear_model\\logistic.py:432: FutureWarning: Default solver will be changed to 'lbfgs' in 0.22. Specify a solver to silence this warning.\n",
      "  FutureWarning)\n"
     ]
    },
    {
     "data": {
      "text/plain": [
       "1.0"
      ]
     },
     "execution_count": 25,
     "metadata": {},
     "output_type": "execute_result"
    }
   ],
   "source": [
    "from sklearn.linear_model import LogisticRegression\n",
    "lr = LogisticRegression()\n",
    "lr.fit(X_train, y_train)\n",
    "lr.score(X_train, y_train)"
   ]
  },
  {
   "cell_type": "code",
   "execution_count": 26,
   "metadata": {
    "colab": {},
    "colab_type": "code",
    "id": "iiPLVvfVdCxn"
   },
   "outputs": [
    {
     "data": {
      "text/plain": [
       "<matplotlib.collections.PathCollection at 0x2533739f208>"
      ]
     },
     "execution_count": 26,
     "metadata": {},
     "output_type": "execute_result"
    },
    {
     "data": {
      "image/png": "[encoded data removed]",
      "text/plain": [
       "<Figure size 432x288 with 1 Axes>"
      ]
     },
     "metadata": {
      "needs_background": "light"
     },
     "output_type": "display_data"
    }
   ],
   "source": [
    "# a separating line!\n",
    "# x1 = np.linspace(-2, 14, 20)\n",
    "# y = x1 * 1 - 8.5\n",
    "\n",
    "plt.scatter(X_train[y_train == 0, 1], [0]*int(X_train.shape[0]/2))\n",
    "plt.scatter(X_train[y_train == 1, 1], [0]*int(X_train.shape[0]/2))\n",
    "# plt.plot(x1, y)"
   ]
  },
  {
   "cell_type": "code",
   "execution_count": null,
   "metadata": {
    "colab": {},
    "colab_type": "code",
    "id": "P-Xjzeot6D2P"
   },
   "outputs": [],
   "source": []
  },
  {
   "cell_type": "code",
   "execution_count": null,
   "metadata": {
    "colab": {},
    "colab_type": "code",
    "id": "9NoQs_KnUNd-"
   },
   "outputs": [],
   "source": []
  },
  {
   "cell_type": "code",
   "execution_count": null,
   "metadata": {
    "colab": {},
    "colab_type": "code",
    "id": "yKNzAsfqk7nW"
   },
   "outputs": [],
   "source": []
  },
  {
   "cell_type": "markdown",
   "metadata": {},
   "source": []
  },
  {
   "cell_type": "code",
   "execution_count": null,
   "metadata": {
    "colab": {
     "base_uri": "https://localhost:8080/",
     "height": 102
    },
    "colab_type": "code",
    "executionInfo": {
     "elapsed": 634,
     "status": "ok",
     "timestamp": 1575481590190,
     "user": {
      "displayName": "Daniel Berman",
      "photoUrl": "",
      "userId": "07083512293139957454"
     },
     "user_tz": 300
    },
    "id": "at9HlsBPwivQ",
    "outputId": "e05370f5-6f78-4ffc-e899-cca514382d60"
   },
   "outputs": [],
   "source": [
    "# W_full\n",
    "# W\n",
    "# preset_preds.shape\n",
    "# print('MAE of BNN with q mean == true weights: ', np.mean(np.abs(preset_preds - y_train.flatten())))\n",
    "# print('acc of BNN with q mean == true weights: ', np.mean((preset_preds == y_train.flatten()).astype(int)))\n",
    "# print('\\n')\n",
    "# print(preset_preds[1], y_train[1])\n",
    "# bnn_preset.model.l1.W_log_s_DO\n",
    "# bnn_preset.model.l1.b_log_s_O\n",
    "# bnn_preset.MC_elbo(torch.Tensor(X_train), torch.Tensor(y_train), 9, 10, 100).detach().numpy()\n",
    "\n",
    "# plt.title(\"line with {} as slope\".format(w))\n",
    "# plt.plot(x1, x2)\n",
    "# plt.scatter(X_train1[y_train1 == 0,0], X_train1[y_train1 == 0,1], c='red', alpha=0.2)\n",
    "# plt.scatter(X_train1[y_train1 == 1,0], X_train1[y_train1 == 1,1], c='blue', alpha=0.2)\n",
    "# plt.ylim((-10, 10))\n",
    "\n",
    "# ax = fig.add_subplot(311, projection='3d')                             \n",
    "# print(\"------\")                                                        \n",
    "# print(x1[:,0].shape)                                                   \n",
    "# print(x1[:,1].shape)                                                   \n",
    "# print(y1.shape)                                                        \n",
    "# print(\"------\")                                                        \n",
    "# ax.plot_surface(x1[0,1], x1[:,1], y1)                                       \n",
    "# ax.set_xlabel('X_train[:,0]')                                          \n",
    "# ax.set_ylabel('X_train[:,1]')                                          \n",
    "# ax.set_zlabel('output[:,1] (Standard Deviation)')                      \n",
    "# fig.show()\n",
    "# plt.show()\n",
    "\n"
   ]
  },
  {
   "cell_type": "markdown",
   "metadata": {
    "colab": {
     "base_uri": "https://localhost:8080/",
     "height": 34
    },
    "colab_type": "code",
    "executionInfo": {
     "elapsed": 1135,
     "status": "ok",
     "timestamp": 1575481595376,
     "user": {
      "displayName": "Daniel Berman",
      "photoUrl": "",
      "userId": "07083512293139957454"
     },
     "user_tz": 300
    },
    "id": "bkhAi4HKngMx",
    "outputId": "46e3f86c-34c2-4131-f200-77d6e8c525cc"
   },
   "source": [
    "## test ELBO as slope of line changes"
   ]
  },
  {
   "cell_type": "code",
   "execution_count": 30,
   "metadata": {
    "scrolled": true
   },
   "outputs": [
    {
     "name": "stdout",
     "output_type": "stream",
     "text": [
      "[[0. 0.]\n",
      " [1. 0.]]\n",
      "[[0.]\n",
      " [1.]]\n",
      "X_int 19.887268\n",
      "\n",
      "used_b is -20.305511\n",
      "used_w is  1.0210307\n",
      "\n",
      "grads w1  tensor([ 9.9252e-03, -6.8974e+03])\n",
      "grad b  tensor(-692.7717)\n",
      "Accuracy with -20 as bias:  50.0 %\n",
      "likelihood -37743.1725\n",
      "X_int 17.633959\n",
      "\n",
      "used_b is -19.207167\n",
      "used_w is  1.0892147\n",
      "\n",
      "grads w1  tensor([-1.7464e-03, -1.0809e+04])\n",
      "grad b  tensor(-1071.4717)\n",
      "Accuracy with -19 as bias:  50.0 %\n",
      "likelihood -36826.855\n",
      "X_int 16.416565\n",
      "\n",
      "used_b is -18.29338\n",
      "used_w is  1.1143246\n",
      "\n",
      "grads w1  tensor([ 9.2505e-03, -1.5703e+04])\n",
      "grad b  tensor(-1544.6273)\n",
      "Accuracy with -18 as bias:  50.0 %\n",
      "likelihood -35370.8225\n",
      "X_int 18.695564\n",
      "\n",
      "used_b is -17.017776\n",
      "used_w is  0.91025746\n",
      "\n",
      "grads w1  tensor([-9.3836e-03, -1.9976e+04])\n",
      "grad b  tensor(-1957.6915)\n",
      "Accuracy with -17 as bias:  50.0 %\n",
      "likelihood -34164.815\n",
      "X_int 15.249685\n",
      "\n",
      "used_b is -16.435404\n",
      "used_w is  1.0777537\n",
      "\n",
      "grads w1  tensor([ 1.6717e-03, -2.6427e+04])\n",
      "grad b  tensor(-2572.3574)\n",
      "Accuracy with -16 as bias:  50.0 %\n",
      "likelihood -32847.82\n",
      "X_int 15.869162\n",
      "\n",
      "used_b is -15.616303\n",
      "used_w is  0.98406607\n",
      "\n",
      "grads w1  tensor([-2.6131e-03, -3.9442e+04])\n",
      "grad b  tensor(-3873.2051)\n",
      "Accuracy with -15 as bias:  50.0 %\n",
      "likelihood -28247.055\n",
      "X_int 13.653183\n",
      "\n",
      "used_b is -13.781628\n",
      "used_w is  1.0094076\n",
      "\n",
      "grads w1  tensor([-9.9853e-03, -4.6795e+04])\n",
      "grad b  tensor(-4582.6733)\n",
      "Accuracy with -14 as bias:  50.03999999999999 %\n",
      "likelihood -25087.3\n",
      "X_int 12.985715\n",
      "\n",
      "used_b is -12.900532\n",
      "used_w is  0.9934402\n",
      "\n",
      "grads w1  tensor([-1.2238e-03, -5.8588e+04])\n",
      "grad b  tensor(-5816.3623)\n",
      "Accuracy with -13 as bias:  50.12 %\n",
      "likelihood -19529.48\n",
      "X_int 12.144255\n",
      "\n",
      "used_b is -12.551194\n",
      "used_w is  1.0335088\n",
      "\n",
      "grads w1  tensor([ 6.0579e-03, -6.3548e+04])\n",
      "grad b  tensor(-6399.5986)\n",
      "Accuracy with -12 as bias:  50.839999999999996 %\n",
      "likelihood -14125.6575\n",
      "X_int 10.348037\n",
      "\n",
      "used_b is -10.6890955\n",
      "used_w is  1.0329587\n",
      "\n",
      "grads w1  tensor([ 1.0564e-03, -4.5763e+04])\n",
      "grad b  tensor(-4788.0205)\n",
      "Accuracy with -11 as bias:  68.16 %\n",
      "likelihood -6536.18125\n",
      "X_int 9.943045\n",
      "\n",
      "used_b is -10.007388\n",
      "used_w is  1.0064712\n",
      "\n",
      "grads w1  tensor([-3.4718e-03, -2.8892e+04])\n",
      "grad b  tensor(-3110.8191)\n",
      "Accuracy with -10 as bias:  76.74 %\n",
      "likelihood -3353.366875\n",
      "X_int 9.041338\n",
      "\n",
      "used_b is -9.177654\n",
      "used_w is  1.015077\n",
      "\n",
      "grads w1  tensor([-5.6036e-03, -1.3079e+04])\n",
      "grad b  tensor(-1460.8651)\n",
      "Accuracy with -9 as bias:  91.88 %\n",
      "likelihood -1282.69578125\n",
      "X_int 8.488126\n",
      "\n",
      "used_b is -8.093184\n",
      "used_w is  0.9534713\n",
      "\n",
      "grads w1  tensor([-9.2670e-03, -4.1537e+03])\n",
      "grad b  tensor(-478.3336)\n",
      "Accuracy with -8 as bias:  96.6 %\n",
      "likelihood -391.454375\n",
      "X_int 7.4254084\n",
      "\n",
      "used_b is -7.0435867\n",
      "used_w is  0.948579\n",
      "\n",
      "grads w1  tensor([-5.9128e-03, -1.0545e+03])\n",
      "grad b  tensor(-124.3617)\n",
      "Accuracy with -7 as bias:  99.78 %\n",
      "likelihood -133.145283203125\n",
      "X_int 6.0892434\n",
      "\n",
      "used_b is -5.980056\n",
      "used_w is  0.9820688\n",
      "\n",
      "grads w1  tensor([ 1.0734e-03, -3.3414e+02])\n",
      "grad b  tensor(-25.0272)\n",
      "Accuracy with -6 as bias:  100.0 %\n",
      "likelihood -88.88861328125\n",
      "X_int 4.9992733\n",
      "\n",
      "used_b is -5.2189155\n",
      "used_w is  1.0439348\n",
      "\n",
      "grads w1  tensor([4.6515e-03, 2.3940e+02])\n",
      "grad b  tensor(90.9836)\n",
      "Accuracy with -5 as bias:  99.92 %\n",
      "likelihood -104.229052734375\n",
      "X_int 4.0476785\n",
      "\n",
      "used_b is -4.1634665\n",
      "used_w is  1.028606\n",
      "\n",
      "grads w1  tensor([-2.7571e-03,  1.1898e+03])\n",
      "grad b  tensor(382.9461)\n",
      "Accuracy with -4 as bias:  98.83999999999999 %\n",
      "likelihood -326.7941796875\n",
      "X_int 2.4015205\n",
      "\n",
      "used_b is -2.5263977\n",
      "used_w is  1.0519992\n",
      "\n",
      "grads w1  tensor([9.7408e-04, 3.2263e+03])\n",
      "grad b  tensor(1109.7208)\n",
      "Accuracy with -3 as bias:  82.5 %\n",
      "likelihood -1055.689140625\n",
      "X_int 1.9966551\n",
      "\n",
      "used_b is -2.1653745\n",
      "used_w is  1.084501\n",
      "\n",
      "grads w1  tensor([5.6348e-03, 7.2959e+03])\n",
      "grad b  tensor(2699.3730)\n",
      "Accuracy with -2 as bias:  74.56 %\n",
      "likelihood -2915.985625\n",
      "X_int 1.2710586\n",
      "\n",
      "used_b is -1.299103\n",
      "used_w is  1.0220639\n",
      "\n",
      "grads w1  tensor([-5.4528e-03,  1.1170e+04])\n",
      "grad b  tensor(4593.6841)\n",
      "Accuracy with -1 as bias:  61.38 %\n",
      "likelihood -6580.785625\n",
      "X_int -0.094955035\n",
      "\n",
      "used_b is 0.09515665\n",
      "used_w is  1.0021232\n",
      "\n",
      "grads w1  tensor([7.2952e-03, 1.3988e+04])\n",
      "grad b  tensor(6341.7690)\n",
      "Accuracy with 0 as bias:  50.94 %\n",
      "likelihood -12018.89375\n",
      "X_int -1.2082316\n",
      "\n",
      "used_b is 1.1903889\n",
      "used_w is  0.9852325\n",
      "\n",
      "grads w1  tensor([2.9925e-03, 1.3644e+04])\n",
      "grad b  tensor(6980.0762)\n",
      "Accuracy with 1 as bias:  50.06 %\n",
      "likelihood -19411.1525\n",
      "X_int -1.6087725\n",
      "\n",
      "used_b is 1.6061753\n",
      "used_w is  0.9983856\n",
      "\n",
      "grads w1  tensor([-3.7834e-03,  1.1292e+04])\n",
      "grad b  tensor(6244.1108)\n",
      "Accuracy with 2 as bias:  50.019999999999996 %\n",
      "likelihood -25445.9725\n",
      "X_int -2.5225482\n",
      "\n",
      "used_b is 2.5764987\n",
      "used_w is  1.0213873\n",
      "\n",
      "grads w1  tensor([-1.1611e-02,  7.2621e+03])\n",
      "grad b  tensor(4518.7344)\n",
      "Accuracy with 3 as bias:  50.0 %\n",
      "likelihood -31488.1125\n",
      "X_int -3.8036091\n",
      "\n",
      "used_b is 3.6266742\n",
      "used_w is  0.95348233\n",
      "\n",
      "grads w1  tensor([2.9009e-03, 4.4883e+03])\n",
      "grad b  tensor(2992.9080)\n",
      "Accuracy with 4 as bias:  50.0 %\n",
      "likelihood -35659.97\n",
      "X_int -4.8283916\n",
      "\n",
      "used_b is 5.105535\n",
      "used_w is  1.0573987\n",
      "\n",
      "grads w1  tensor([-5.0431e-03,  2.6459e+03])\n",
      "grad b  tensor(1748.0186)\n",
      "Accuracy with 5 as bias:  50.0 %\n",
      "likelihood -37271.2675\n",
      "X_int -5.607775\n",
      "\n",
      "used_b is 5.3726497\n",
      "used_w is  0.9580715\n",
      "\n",
      "grads w1  tensor([-9.4823e-03,  1.5222e+03])\n",
      "grad b  tensor(1096.8663)\n",
      "Accuracy with 6 as bias:  50.0 %\n",
      "likelihood -38523.6175\n",
      "X_int -6.5328617\n",
      "\n",
      "used_b is 7.1744876\n",
      "used_w is  1.0982151\n",
      "\n",
      "grads w1  tensor([-1.9771e-03,  4.6385e+02])\n",
      "grad b  tensor(385.8821)\n",
      "Accuracy with 7 as bias:  50.0 %\n",
      "likelihood -39811.4925\n",
      "X_int -7.679813\n",
      "\n",
      "used_b is 8.319779\n",
      "used_w is  1.083331\n",
      "\n",
      "grads w1  tensor([3.8277e-03, 4.8145e+02])\n",
      "grad b  tensor(329.)\n",
      "Accuracy with 8 as bias:  50.0 %\n",
      "likelihood -39762.0425\n",
      "X_int -9.372552\n",
      "\n",
      "used_b is 8.818682\n",
      "used_w is  0.9409051\n",
      "\n",
      "grads w1  tensor([2.6730e-03, 1.7220e+02])\n",
      "grad b  tensor(137.2666)\n",
      "Accuracy with 9 as bias:  50.0 %\n",
      "likelihood -40112.6325\n",
      "X_int -9.774045\n",
      "\n",
      "used_b is 10.497826\n",
      "used_w is  1.0740513\n",
      "\n",
      "grads w1  tensor([-1.1178e-02,  2.3674e+02])\n",
      "grad b  tensor(154.4493)\n",
      "Accuracy with 10 as bias:  50.0 %\n",
      "likelihood -39879.5575\n",
      "X_int -11.3110695\n",
      "\n",
      "used_b is 10.843401\n",
      "used_w is  0.9586539\n",
      "\n",
      "grads w1  tensor([1.0367e-03, 8.0219e+01])\n",
      "grad b  tensor(67.3617)\n",
      "Accuracy with 11 as bias:  50.0 %\n",
      "likelihood -40127.9775\n",
      "X_int -12.104023\n",
      "\n",
      "used_b is 11.679956\n",
      "used_w is  0.9649648\n",
      "\n",
      "grads w1  tensor([-9.9696e-04,  5.3188e+01])\n",
      "grad b  tensor(60.0309)\n",
      "Accuracy with 12 as bias:  50.0 %\n",
      "likelihood -40241.4825\n",
      "X_int -12.936493\n",
      "\n",
      "used_b is 13.221218\n",
      "used_w is  1.0220095\n",
      "\n",
      "grads w1  tensor([-0.0038,  1.7403])\n",
      "grad b  tensor(22.5163)\n",
      "Accuracy with 13 as bias:  50.0 %\n",
      "likelihood -40293.54\n",
      "X_int -13.430357\n",
      "\n",
      "used_b is 14.187167\n",
      "used_w is  1.0563507\n",
      "\n",
      "grads w1  tensor([0.0038, 2.3733])\n",
      "grad b  tensor(23.1649)\n",
      "Accuracy with 14 as bias:  50.0 %\n",
      "likelihood -40294.68\n",
      "X_int -14.349108\n",
      "\n",
      "used_b is 15.045021\n",
      "used_w is  1.0484987\n",
      "\n",
      "grads w1  tensor([0.0054, 1.4506])\n",
      "grad b  tensor(23.6289)\n",
      "Accuracy with 15 as bias:  50.0 %\n",
      "likelihood -40295.01\n",
      "X_int -15.118261\n",
      "\n",
      "used_b is 15.88443\n",
      "used_w is  1.0506784\n",
      "\n",
      "grads w1  tensor([0.0033, 1.5877])\n",
      "grad b  tensor(24.9705)\n",
      "Accuracy with 16 as bias:  50.0 %\n",
      "likelihood -40295.1275\n",
      "X_int -17.559149\n",
      "\n",
      "used_b is 16.912634\n",
      "used_w is  0.9631808\n",
      "\n",
      "grads w1  tensor([-0.0089,  1.5023])\n",
      "grad b  tensor(26.6829)\n",
      "Accuracy with 17 as bias:  50.0 %\n",
      "likelihood -40295.0725\n",
      "X_int -17.496061\n",
      "\n",
      "used_b is 18.053143\n",
      "used_w is  1.0318403\n",
      "\n",
      "grads w1  tensor([-2.3601e-03,  2.6265e+01])\n",
      "grad b  tensor(40.7750)\n",
      "Accuracy with 18 as bias:  50.0 %\n",
      "likelihood -40274.4925\n",
      "X_int -20.53093\n",
      "\n",
      "used_b is 19.006063\n",
      "used_w is  0.9257283\n",
      "\n",
      "grads w1  tensor([-0.0083,  1.5618])\n",
      "grad b  tensor(29.7794)\n",
      "Accuracy with 19 as bias:  50.0 %\n",
      "likelihood -40295.1275\n",
      "class 0 min:  -2.2929795263175627\n",
      "class 0 max:  5.512455463876044\n",
      "class 1 min:  6.492140674805437\n",
      "class 1 max:  13.97825215513492\n"
     ]
    },
    {
     "data": {
      "image/png": "[encoded data removed]",
      "text/plain": [
       "<Figure size 720x360 with 2 Axes>"
      ]
     },
     "metadata": {
      "needs_background": "light"
     },
     "output_type": "display_data"
    }
   ],
   "source": [
    "def plane(x1, x2, w1, b):\n",
    "    return w1[0] * x1 + w1[1] * x2 + b\n",
    "\n",
    "# for regression toy set\n",
    "# W_full = np.hstack((W, W_s))\n",
    "# W_full\n",
    "\n",
    "# b_full = np.hstack((b, b_s))\n",
    "# b_full[1] = 2.0\n",
    "\n",
    "# for 3d\n",
    "# w1 = np.array([[0.0,1.0]]).T\n",
    "# w2 = np.array([[0.0,0.0]]).T\n",
    "# W_full = np.hstack((w1, w2))\n",
    "\n",
    "# x1 = x2 = np.arange(-8.0, 8.0, 0.05)\n",
    "# X1, X2 = np.meshgrid(x, y)\n",
    "# b = 0\n",
    "# Z = plane(X1, X2, w1, b)\n",
    "\n",
    "\n",
    "w1 = np.array([[0.0,1.0]]).T\n",
    "w2 = np.array([[0.0,0.0]]).T\n",
    "W_full = np.hstack((w1, w2))\n",
    "print(W_full)\n",
    "print(w1)\n",
    "# x1 = x2 = np.arange(-8.0, 8.0, 0.05)\n",
    "# X1, X2 = np.meshgrid(x, y)\n",
    "# b = 0\n",
    "# Z = plane(X1, X2, w1, b)\n",
    "bs = [i for i in range(-20, 20)]\n",
    "used_bs = []\n",
    "accuracies = []\n",
    "x_ints = []\n",
    "likelihoods = []\n",
    "grad_bs = []\n",
    "for b in bs:\n",
    "    b_full = np.array([b,0])\n",
    "    # b_full[0], b_full[1] = 0,0\n",
    "    bnn_preset = BNNBayesbyBackprop(prior_mu=0, \n",
    "                                    prior_s=0.8, \n",
    "                                    linear_regression=True, \n",
    "                                    classification=True,\n",
    "                                    preset={'W_mu': W_full, 'b_mu': b_full},\n",
    "                                    num_MC_samples=200)\n",
    "    preset_preds = bnn_preset.model.forward(torch.Tensor(X_train), predict=True).detach().numpy()\n",
    "    used_b = bnn_preset.model.l1.usedBias[0].detach().numpy()\n",
    "    used_w = bnn_preset.model.l1.usedWeights[:,0][1].detach().numpy()\n",
    "    used_bs.append(used_b)\n",
    "    \n",
    "    x_intercept = -used_b / used_w\n",
    "    x_ints.append(x_intercept)\n",
    "    print('X_int', x_intercept)\n",
    "    print('\\nused_b is', used_b)\n",
    "    print('used_w is ', used_w)\n",
    "    \n",
    "    bnn_preset.MC_elbo(torch.Tensor(X_train), torch.Tensor(y_train), 9, 10, 100).detach().numpy()\n",
    "    acc = np.mean((preset_preds == y_train.flatten()).astype(int)) * 100\n",
    "    accuracies.append(acc)\n",
    "    print('Accuracy with {} as bias: '.format(b), acc, '%')\n",
    "    \n",
    "    likelihood = bnn_preset.mean_likelihood\n",
    "    likelihoods.append(likelihood)\n",
    "    print('likelihood', likelihood)\n",
    "    \n",
    "    grad_bs.append(bnn_preset.gradB)\n",
    " \n",
    "fig, ax = plt.subplots(2, 1, figsize=(10,5), sharex=True)\n",
    "ax[0].plot(x_ints, accuracies)\n",
    "# ax[0].scatter([np.min(X_train[y_train == 0, 1]), np.max(X_train[y_train == 0, 1])], [50,50], c='blue')\n",
    "ax[0].axvline(np.min(X_train[y_train == 0, 1]), c='blue')\n",
    "ax[0].axvline(np.max(X_train[y_train == 0, 1]), c='blue')\n",
    "\n",
    "ax[0].axvline(np.min(X_train[y_train == 1, 1]), c='red')\n",
    "ax[0].axvline(np.max(X_train[y_train == 1, 1]), c='red')\n",
    "\n",
    "# ax[0].scatter([np.min(X_train[y_train == 1, 1]), np.max(X_train[y_train == 1, 1])], [50,50], c='red')\n",
    "\n",
    "\n",
    "ax[1].plot(x_ints, likelihoods)\n",
    "print('class 0 min: ', np.min(X_train[y_train == 0, 1]))\n",
    "print('class 0 max: ',np.max(X_train[y_train == 0, 1]))\n",
    "print('class 1 min: ', np.min(X_train[y_train == 1, 1]))\n",
    "print('class 1 max: ',np.max(X_train[y_train == 1, 1]))\n",
    "\n"
   ]
  },
  {
   "cell_type": "code",
   "execution_count": null,
   "metadata": {},
   "outputs": [],
   "source": []
  },
  {
   "cell_type": "code",
   "execution_count": 31,
   "metadata": {},
   "outputs": [
    {
     "data": {
      "text/plain": [
       "[<matplotlib.lines.Line2D at 0x2533881bc08>]"
      ]
     },
     "execution_count": 31,
     "metadata": {},
     "output_type": "execute_result"
    },
    {
     "data": {
      "image/png": "[encoded data removed]",
      "text/plain": [
       "<Figure size 720x648 with 3 Axes>"
      ]
     },
     "metadata": {
      "needs_background": "light"
     },
     "output_type": "display_data"
    }
   ],
   "source": [
    "fig, ax = plt.subplots(3, 1, figsize=(10,9), sharex=True)\n",
    "ax[0].set_title('Accuracy v X-intercept')\n",
    "ax[0].plot(x_ints, accuracies)\n",
    "# ax[0].scatter([np.min(X_train[y_train == 0, 1]), np.max(X_train[y_train == 0, 1])], [50,50], c='blue')\n",
    "ax[0].axvline(np.min(X_train[y_train == 0, 1]), c='blue')\n",
    "ax[0].axvline(np.max(X_train[y_train == 0, 1]), c='blue')\n",
    "\n",
    "ax[0].axvline(np.min(X_train[y_train == 1, 1]), c='red')\n",
    "ax[0].axvline(np.max(X_train[y_train == 1, 1]), c='red')\n",
    "ax[1].set_title('Likelihood v X-intercept')\n",
    "ax[1].plot(x_ints, likelihoods)\n",
    "\n",
    "ax[2].set_title('b grad v X-intercept')\n",
    "ax[2].plot(x_ints, grad_bs)"
   ]
  },
  {
   "cell_type": "code",
   "execution_count": 32,
   "metadata": {},
   "outputs": [
    {
     "data": {
      "text/plain": [
       "[<matplotlib.lines.Line2D at 0x25339a73388>]"
      ]
     },
     "execution_count": 32,
     "metadata": {},
     "output_type": "execute_result"
    },
    {
     "data": {
      "image/png": "[encoded data removed]",
      "text/plain": [
       "<Figure size 720x648 with 3 Axes>"
      ]
     },
     "metadata": {
      "needs_background": "light"
     },
     "output_type": "display_data"
    }
   ],
   "source": [
    "fig, ax = plt.subplots(3, 1, figsize=(10,9), sharex=True)\n",
    "ax[0].set_title('Accuracy v bias')\n",
    "ax[0].plot(used_bs, accuracies)\n",
    "# ax[0].scatter([np.min(X_train[y_train == 0, 1]), np.max(X_train[y_train == 0, 1])], [50,50], c='blue')\n",
    "# ax[0].axvline(np.min(X_train[y_train == 0, 1]), c='blue')\n",
    "# ax[0].axvline(np.max(X_train[y_train == 0, 1]), c='blue')\n",
    "\n",
    "# ax[0].axvline(np.min(X_train[y_train == 1, 1]), c='red')\n",
    "# ax[0].axvline(np.max(X_train[y_train == 1, 1]), c='red')\n",
    "ax[1].set_title('Likelihood v bias')\n",
    "ax[1].plot(used_bs, likelihoods)\n",
    "\n",
    "ax[2].set_title('b grad v bias')\n",
    "ax[2].plot(used_bs, grad_bs)"
   ]
  },
  {
   "cell_type": "code",
   "execution_count": 9,
   "metadata": {
    "scrolled": true
   },
   "outputs": [
    {
     "name": "stdout",
     "output_type": "stream",
     "text": [
      "weights:  [0 0]\n"
     ]
    },
    {
     "ename": "NameError",
     "evalue": "name 'b_full' is not defined",
     "output_type": "error",
     "traceback": [
      "\u001b[0;31m---------------------------------------------------------------------------\u001b[0m",
      "\u001b[0;31mNameError\u001b[0m                                 Traceback (most recent call last)",
      "\u001b[0;32m<ipython-input-9-0da47ea8af7c>\u001b[0m in \u001b[0;36m<module>\u001b[0;34m\u001b[0m\n\u001b[1;32m     12\u001b[0m                                 \u001b[0mlinear_regression\u001b[0m\u001b[0;34m=\u001b[0m\u001b[0;32mTrue\u001b[0m\u001b[0;34m,\u001b[0m\u001b[0;34m\u001b[0m\u001b[0;34m\u001b[0m\u001b[0m\n\u001b[1;32m     13\u001b[0m                                 \u001b[0mclassification\u001b[0m\u001b[0;34m=\u001b[0m\u001b[0;32mTrue\u001b[0m\u001b[0;34m,\u001b[0m\u001b[0;34m\u001b[0m\u001b[0;34m\u001b[0m\u001b[0m\n\u001b[0;32m---> 14\u001b[0;31m                                 preset={'W_mu': W_full, 'b_mu': b_full})\n\u001b[0m\u001b[1;32m     15\u001b[0m     \u001b[0mpreset_preds\u001b[0m \u001b[0;34m=\u001b[0m \u001b[0mbnn_preset\u001b[0m\u001b[0;34m.\u001b[0m\u001b[0mmodel\u001b[0m\u001b[0;34m.\u001b[0m\u001b[0mforward\u001b[0m\u001b[0;34m(\u001b[0m\u001b[0mtorch\u001b[0m\u001b[0;34m.\u001b[0m\u001b[0mTensor\u001b[0m\u001b[0;34m(\u001b[0m\u001b[0mX_train1\u001b[0m\u001b[0;34m)\u001b[0m\u001b[0;34m,\u001b[0m \u001b[0mpredict\u001b[0m\u001b[0;34m=\u001b[0m\u001b[0;32mTrue\u001b[0m\u001b[0;34m)\u001b[0m\u001b[0;34m.\u001b[0m\u001b[0mdetach\u001b[0m\u001b[0;34m(\u001b[0m\u001b[0;34m)\u001b[0m\u001b[0;34m.\u001b[0m\u001b[0mnumpy\u001b[0m\u001b[0;34m(\u001b[0m\u001b[0;34m)\u001b[0m\u001b[0;34m\u001b[0m\u001b[0;34m\u001b[0m\u001b[0m\n\u001b[1;32m     16\u001b[0m     \u001b[0mprint\u001b[0m\u001b[0;34m(\u001b[0m\u001b[0;34m'ELBO components with {} as slope: \\n'\u001b[0m\u001b[0;34m.\u001b[0m\u001b[0mformat\u001b[0m\u001b[0;34m(\u001b[0m\u001b[0mw\u001b[0m\u001b[0;34m)\u001b[0m\u001b[0;34m)\u001b[0m\u001b[0;34m\u001b[0m\u001b[0;34m\u001b[0m\u001b[0m\n",
      "\u001b[0;31mNameError\u001b[0m: name 'b_full' is not defined"
     ]
    }
   ],
   "source": [
    "X_train1 = X_train\n",
    "y_train1 = y_train\n",
    "\n",
    "accuracies = []\n",
    "weights = [0.0, 0.1, 0.5, 1.0, 3.0, 5.0, 5.5, 6.0, 7.0, 10.0]\n",
    "for w in weights:\n",
    "#     w1 = np.array([0, w])\n",
    "    W_full[0][0] = w\n",
    "    print('weights: ', W_full[0])\n",
    "    bnn_preset = BNNBayesbyBackprop(prior_mu=0, \n",
    "                                prior_s=0.8, \n",
    "                                linear_regression=True, \n",
    "                                classification=True,\n",
    "                                preset={'W_mu': W_full, 'b_mu': b_full})\n",
    "    preset_preds = bnn_preset.model.forward(torch.Tensor(X_train1), predict=True).detach().numpy()\n",
    "    print('ELBO components with {} as slope: \\n'.format(w))\n",
    "    bnn_preset.MC_elbo(torch.Tensor(X_train1), torch.Tensor(y_train1), 9, 10, 100).detach().numpy()\n",
    "    print('Accuracy with {} as slope: '.format(w), np.mean((preset_preds == y_train1.flatten()).astype(int)) * 100, '%')\n",
    "    \n",
    "    Z = plane(X1, X2, W_full[0], b)\n",
    "    \n",
    "    fig = plt.figure(figsize=(20,20))\n",
    "    ax = fig.add_subplot(311, projection='3d') \n",
    "    ax.set_title(\"line with {} as slope\".format(w))\n",
    "\n",
    "    ax.scatter(X_train[y_train == 0,0], X_train[y_train == 0,1], c='blue')\n",
    "    ax.scatter(X_train[y_train == 1,0], X_train[y_train == 1,1], c='red')\n",
    "    ax.plot_wireframe(X1, X2, Z, color='grey', alpha = 0.99)\n",
    "\n",
    "#     fig.show()\n",
    "    plt.show()\n",
    "#     x1 = np.random.uniform(-8, 8, 100)\n",
    "#     x2 = w * x1\n",
    "\n",
    "#     plt.title(\"line with {} as slope\".format(w))\n",
    "#     plt.plot(x1, x2)\n",
    "#     plt.scatter(X_train1[y_train1 == 0,0], X_train1[y_train1 == 0,1], c='red', alpha=0.2)\n",
    "#     plt.scatter(X_train1[y_train1 == 1,0], X_train1[y_train1 == 1,1], c='blue', alpha=0.2)\n",
    "#     plt.ylim((-10, 10))\n",
    "    "
   ]
  },
  {
   "cell_type": "code",
   "execution_count": null,
   "metadata": {},
   "outputs": [],
   "source": []
  },
  {
   "cell_type": "code",
   "execution_count": 34,
   "metadata": {
    "colab": {
     "base_uri": "https://localhost:8080/",
     "height": 1000
    },
    "colab_type": "code",
    "executionInfo": {
     "elapsed": 1014343,
     "status": "ok",
     "timestamp": 1575482610606,
     "user": {
      "displayName": "Daniel Berman",
      "photoUrl": "",
      "userId": "07083512293139957454"
     },
     "user_tz": 300
    },
    "id": "VC7QdLdI67nY",
    "outputId": "0a2d9304-d21a-49d6-ee93-f08f9d695b69",
    "scrolled": true
   },
   "outputs": [
    {
     "name": "stdout",
     "output_type": "stream",
     "text": [
      "Data being saved in following file:\n",
      "logging.csv\n",
      "Epoch:  0 \tLoss:  35258.77 \tacc:  0.5\n",
      "Epoch:  1 \tLoss:  31271.89 \tacc:  0.8216\n",
      "Epoch:  2 \tLoss:  24726.115 \tacc:  0.6402\n",
      "Epoch:  3 \tLoss:  14963.922 \tacc:  0.9734\n",
      "Epoch:  4 \tLoss:  4725.375 \tacc:  0.984\n",
      "Epoch:  5 \tLoss:  1909.012 \tacc:  1.0\n",
      "Epoch:  6 \tLoss:  406.30554 \tacc:  0.9998\n",
      "Epoch:  7 \tLoss:  48.979145 \tacc:  0.9998\n",
      "Epoch:  8 \tLoss:  78.29633 \tacc:  0.9978\n",
      "Epoch:  9 \tLoss:  23.302597 \tacc:  1.0\n",
      "Epoch:  10 \tLoss:  118.067116 \tacc:  0.9998\n",
      "Epoch:  11 \tLoss:  39.449665 \tacc:  0.9996\n",
      "Epoch:  12 \tLoss:  49.233925 \tacc:  1.0\n",
      "Epoch:  13 \tLoss:  39.277115 \tacc:  1.0\n",
      "Epoch:  14 \tLoss:  32.051785 \tacc:  1.0\n",
      "Epoch:  15 \tLoss:  31.835354 \tacc:  0.9996\n",
      "Epoch:  16 \tLoss:  32.779213 \tacc:  1.0\n",
      "Epoch:  17 \tLoss:  39.280697 \tacc:  0.9998\n",
      "Epoch:  18 \tLoss:  87.37812 \tacc:  0.9994\n",
      "Epoch:  19 \tLoss:  74.56279 \tacc:  1.0\n",
      "Epoch:  20 \tLoss:  41.832573 \tacc:  0.9998\n",
      "Epoch:  21 \tLoss:  47.516556 \tacc:  0.9992\n",
      "Epoch:  22 \tLoss:  76.22414 \tacc:  0.9998\n",
      "Epoch:  23 \tLoss:  66.93893 \tacc:  0.9988\n",
      "Epoch:  24 \tLoss:  31.713337 \tacc:  1.0\n",
      "Epoch:  25 \tLoss:  31.275616 \tacc:  1.0\n",
      "Epoch:  26 \tLoss:  54.36268 \tacc:  0.9992\n",
      "Epoch:  27 \tLoss:  46.748547 \tacc:  1.0\n",
      "Epoch:  28 \tLoss:  38.4623 \tacc:  1.0\n",
      "Epoch:  29 \tLoss:  23.490488 \tacc:  1.0\n",
      "Epoch:  30 \tLoss:  27.915712 \tacc:  0.9998\n",
      "Epoch:  31 \tLoss:  25.37476 \tacc:  0.9998\n",
      "Epoch:  32 \tLoss:  25.973637 \tacc:  0.9998\n",
      "Epoch:  33 \tLoss:  24.344482 \tacc:  1.0\n",
      "Epoch:  34 \tLoss:  24.635963 \tacc:  1.0\n",
      "Epoch:  35 \tLoss:  26.4034 \tacc:  1.0\n",
      "Epoch:  36 \tLoss:  22.969177 \tacc:  1.0\n",
      "Epoch:  37 \tLoss:  25.760952 \tacc:  0.9998\n",
      "Epoch:  38 \tLoss:  23.822369 \tacc:  1.0\n",
      "Epoch:  39 \tLoss:  23.160847 \tacc:  0.9998\n",
      "Epoch:  40 \tLoss:  19.456291 \tacc:  1.0\n",
      "Epoch:  41 \tLoss:  21.475073 \tacc:  1.0\n",
      "Epoch:  42 \tLoss:  18.05511 \tacc:  1.0\n",
      "Epoch:  43 \tLoss:  16.654627 \tacc:  0.9998\n",
      "Epoch:  44 \tLoss:  15.814646 \tacc:  0.9998\n",
      "Epoch:  45 \tLoss:  14.906403 \tacc:  1.0\n",
      "Epoch:  46 \tLoss:  16.785934 \tacc:  0.9992\n",
      "Epoch:  47 \tLoss:  16.088673 \tacc:  0.9998\n",
      "Epoch:  48 \tLoss:  15.34265 \tacc:  1.0\n",
      "Epoch:  49 \tLoss:  15.675774 \tacc:  1.0\n",
      "Epoch:  50 \tLoss:  17.053297 \tacc:  1.0\n",
      "Epoch:  51 \tLoss:  17.337418 \tacc:  1.0\n",
      "Epoch:  52 \tLoss:  16.324366 \tacc:  0.9998\n",
      "Epoch:  53 \tLoss:  16.015903 \tacc:  0.9998\n",
      "Epoch:  54 \tLoss:  15.5790615 \tacc:  1.0\n",
      "Epoch:  55 \tLoss:  16.16289 \tacc:  0.9996\n",
      "Epoch:  56 \tLoss:  14.377204 \tacc:  1.0\n",
      "Epoch:  57 \tLoss:  16.002056 \tacc:  0.9998\n",
      "Epoch:  58 \tLoss:  14.375019 \tacc:  1.0\n",
      "Epoch:  59 \tLoss:  15.061429 \tacc:  1.0\n",
      "Epoch:  60 \tLoss:  15.731214 \tacc:  0.9998\n",
      "Epoch:  61 \tLoss:  15.123003 \tacc:  1.0\n",
      "Epoch:  62 \tLoss:  14.082659 \tacc:  1.0\n",
      "Epoch:  63 \tLoss:  15.405191 \tacc:  0.9998\n",
      "Epoch:  64 \tLoss:  13.696379 \tacc:  1.0\n",
      "Epoch:  65 \tLoss:  13.0690975 \tacc:  1.0\n",
      "Epoch:  66 \tLoss:  14.150856 \tacc:  1.0\n",
      "Epoch:  67 \tLoss:  14.343186 \tacc:  0.9998\n",
      "Epoch:  68 \tLoss:  14.549375 \tacc:  1.0\n",
      "Epoch:  69 \tLoss:  14.246364 \tacc:  1.0\n",
      "Epoch:  70 \tLoss:  14.165058 \tacc:  1.0\n",
      "Epoch:  71 \tLoss:  15.448538 \tacc:  1.0\n",
      "Epoch:  72 \tLoss:  13.88417 \tacc:  0.9998\n",
      "Epoch:  73 \tLoss:  13.955231 \tacc:  0.9998\n",
      "Epoch:  74 \tLoss:  13.021717 \tacc:  1.0\n",
      "Epoch:  75 \tLoss:  14.868254 \tacc:  0.9998\n",
      "Epoch:  76 \tLoss:  12.502437 \tacc:  1.0\n",
      "Epoch:  77 \tLoss:  15.407103 \tacc:  0.9996\n",
      "Epoch:  78 \tLoss:  14.892764 \tacc:  1.0\n",
      "Epoch:  79 \tLoss:  13.487326 \tacc:  1.0\n",
      "Epoch:  80 \tLoss:  12.86006 \tacc:  1.0\n",
      "Epoch:  81 \tLoss:  12.906423 \tacc:  1.0\n",
      "Epoch:  82 \tLoss:  12.864643 \tacc:  1.0\n",
      "Epoch:  83 \tLoss:  14.6748085 \tacc:  1.0\n",
      "Epoch:  84 \tLoss:  13.32494 \tacc:  0.9998\n",
      "Epoch:  85 \tLoss:  12.559078 \tacc:  1.0\n",
      "Epoch:  86 \tLoss:  13.122625 \tacc:  1.0\n",
      "Epoch:  87 \tLoss:  13.500618 \tacc:  1.0\n",
      "Epoch:  88 \tLoss:  14.036352 \tacc:  1.0\n",
      "Epoch:  89 \tLoss:  13.541458 \tacc:  1.0\n",
      "Epoch:  90 \tLoss:  13.645289 \tacc:  1.0\n",
      "Epoch:  91 \tLoss:  13.722244 \tacc:  0.9998\n",
      "Epoch:  92 \tLoss:  12.743454 \tacc:  0.9998\n",
      "Epoch:  93 \tLoss:  12.88752 \tacc:  0.9998\n",
      "Epoch:  94 \tLoss:  12.184744 \tacc:  0.9988\n",
      "Epoch:  95 \tLoss:  11.863627 \tacc:  0.9998\n",
      "Epoch:  96 \tLoss:  10.985313 \tacc:  1.0\n",
      "Epoch:  97 \tLoss:  11.742274 \tacc:  1.0\n",
      "Epoch:  98 \tLoss:  12.235502 \tacc:  1.0\n",
      "Epoch:  99 \tLoss:  13.583861 \tacc:  1.0\n",
      "Epoch:  100 \tLoss:  15.096487 \tacc:  1.0\n",
      "Epoch:  101 \tLoss:  12.396679 \tacc:  0.9988\n",
      "Epoch:  102 \tLoss:  13.261672 \tacc:  0.9998\n",
      "Epoch:  103 \tLoss:  12.617414 \tacc:  1.0\n",
      "Epoch:  104 \tLoss:  11.420402 \tacc:  1.0\n",
      "Epoch:  105 \tLoss:  11.390646 \tacc:  1.0\n",
      "Epoch:  106 \tLoss:  11.849338 \tacc:  0.9998\n",
      "Epoch:  107 \tLoss:  11.076372 \tacc:  1.0\n",
      "Epoch:  108 \tLoss:  11.468891 \tacc:  0.9998\n",
      "Epoch:  109 \tLoss:  11.435723 \tacc:  0.9998\n",
      "Epoch:  110 \tLoss:  10.517798 \tacc:  1.0\n",
      "Epoch:  111 \tLoss:  12.022202 \tacc:  1.0\n",
      "Epoch:  112 \tLoss:  9.96801 \tacc:  1.0\n",
      "Epoch:  113 \tLoss:  12.103962 \tacc:  0.9998\n",
      "Epoch:  114 \tLoss:  9.732532 \tacc:  1.0\n",
      "Epoch:  115 \tLoss:  12.58128 \tacc:  1.0\n",
      "Epoch:  116 \tLoss:  11.403974 \tacc:  0.9998\n",
      "Epoch:  117 \tLoss:  11.329898 \tacc:  1.0\n",
      "Epoch:  118 \tLoss:  10.04227 \tacc:  1.0\n",
      "Epoch:  119 \tLoss:  10.900819 \tacc:  1.0\n",
      "Epoch:  120 \tLoss:  11.077043 \tacc:  1.0\n",
      "Epoch:  121 \tLoss:  10.228463 \tacc:  1.0\n",
      "Epoch:  122 \tLoss:  11.172548 \tacc:  1.0\n",
      "Epoch:  123 \tLoss:  10.405487 \tacc:  1.0\n",
      "Epoch:  124 \tLoss:  13.873457 \tacc:  1.0\n",
      "Epoch:  125 \tLoss:  10.711352 \tacc:  1.0\n",
      "Epoch:  126 \tLoss:  12.202696 \tacc:  0.9998\n",
      "Epoch:  127 \tLoss:  11.981165 \tacc:  1.0\n",
      "Epoch:  128 \tLoss:  11.561733 \tacc:  1.0\n",
      "Epoch:  129 \tLoss:  10.3610735 \tacc:  1.0\n",
      "Epoch:  130 \tLoss:  10.923032 \tacc:  0.9996\n",
      "Epoch:  131 \tLoss:  9.226939 \tacc:  1.0\n",
      "Epoch:  132 \tLoss:  10.825722 \tacc:  1.0\n",
      "Epoch:  133 \tLoss:  10.997196 \tacc:  1.0\n",
      "Epoch:  134 \tLoss:  10.2998295 \tacc:  1.0\n",
      "Epoch:  135 \tLoss:  9.911155 \tacc:  0.9998\n",
      "Epoch:  136 \tLoss:  9.343921 \tacc:  0.9998\n",
      "Epoch:  137 \tLoss:  8.779415 \tacc:  1.0\n",
      "Epoch:  138 \tLoss:  11.013191 \tacc:  0.9998\n",
      "Epoch:  139 \tLoss:  8.653612 \tacc:  0.9998\n",
      "Epoch:  140 \tLoss:  8.324298 \tacc:  0.9998\n",
      "Epoch:  141 \tLoss:  10.6561775 \tacc:  1.0\n",
      "Epoch:  142 \tLoss:  9.53339 \tacc:  1.0\n",
      "Epoch:  143 \tLoss:  9.966888 \tacc:  0.9998\n",
      "Epoch:  144 \tLoss:  8.978595 \tacc:  1.0\n",
      "Epoch:  145 \tLoss:  8.888208 \tacc:  1.0\n",
      "Epoch:  146 \tLoss:  9.69663 \tacc:  1.0\n",
      "Epoch:  147 \tLoss:  11.530018 \tacc:  1.0\n",
      "Epoch:  148 \tLoss:  8.762588 \tacc:  0.9998\n",
      "Epoch:  149 \tLoss:  9.255302 \tacc:  1.0\n"
     ]
    },
    {
     "data": {
      "image/png": "[encoded data removed]",
      "text/plain": [
       "<Figure size 432x288 with 1 Axes>"
      ]
     },
     "metadata": {
      "needs_background": "light"
     },
     "output_type": "display_data"
    }
   ],
   "source": [
    "# bnn = BNNBayesbyBackprop(prior_mu=0, prior_s=0.8, num_MC_samples=30, linear_regression=True, preset=False, classification=False)\n",
    "# w1 = np.array([[0.0, 1.0]]).T\n",
    "# w2 = np.array([[0.0, 0.0]]).T\n",
    "# W_full = np.hstack((w1, w2))\n",
    "# b_full = np.array([0,0])\n",
    "# print(W_full)\n",
    "\n",
    "bnn = BNNBayesbyBackprop(prior_mu=0.0, prior_s=1.0, num_MC_samples=30, linear_regression=True, preset=False, classification=True)\n",
    "bnn.fit(X_train, y_train, plot=True, n_epochs=150, learning_rate=1e-1, batch_size=1000)"
   ]
  },
  {
   "cell_type": "code",
   "execution_count": 10,
   "metadata": {},
   "outputs": [
    {
     "data": {
      "image/png": "[encoded data removed]",
      "text/plain": [
       "<Figure size 432x288 with 1 Axes>"
      ]
     },
     "metadata": {
      "needs_background": "light"
     },
     "output_type": "display_data"
    },
    {
     "data": {
      "image/png": "[encoded data removed]",
      "text/plain": [
       "<Figure size 432x288 with 1 Axes>"
      ]
     },
     "metadata": {
      "needs_background": "light"
     },
     "output_type": "display_data"
    },
    {
     "name": "stdout",
     "output_type": "stream",
     "text": [
      "Index(['w1_1', 'w1_2', 'w2_1', 'w2_2', 'w1_1_grad', 'w1_2_grad', 'w2_1_grad',\n",
      "       'w2_2_grad', 'b_1', 'b_2', 'b_1_grad', 'b_2_grad', 'log_prior',\n",
      "       'log_posterior', 'mean_likelihood'],\n",
      "      dtype='object')\n"
     ]
    },
    {
     "data": {
      "text/plain": [
       "[<matplotlib.lines.Line2D at 0x25336a1f188>]"
      ]
     },
     "execution_count": 10,
     "metadata": {},
     "output_type": "execute_result"
    },
    {
     "data": {
      "image/png": "[encoded data removed]",
      "text/plain": [
       "<Figure size 432x288 with 1 Axes>"
      ]
     },
     "metadata": {
      "needs_background": "light"
     },
     "output_type": "display_data"
    }
   ],
   "source": [
    "\n",
    "df = pd.read_csv(\"logging.csv\")\n",
    "\n",
    "#df.drop(['w2_1', 'w2_2', 'w2_1_grad', 'w2_2_grad', 'b_2', 'b_2_grad'], axis=1, inplace=True)\n",
    "df\n",
    "\n",
    "X = list(range(df.shape[0]))\n",
    "plt.plot(X, df['b_1_grad'])\n",
    "plt.plot(X, np.zeros(df.shape[0]))\n",
    "plt.show()\n",
    "\n",
    "plt.plot(X, df['b_1'])\n",
    "plt.show()\n",
    "\n",
    "\n",
    "print(df.columns)\n",
    "plt.plot(X, df['mean_likelihood'])"
   ]
  },
  {
   "cell_type": "code",
   "execution_count": 127,
   "metadata": {},
   "outputs": [
    {
     "name": "stdout",
     "output_type": "stream",
     "text": [
      "torch.Size([150, 2])\n"
     ]
    },
    {
     "data": {
      "image/png": "[encoded data removed]",
      "text/plain": [
       "<Figure size 432x288 with 1 Axes>"
      ]
     },
     "metadata": {
      "needs_background": "light"
     },
     "output_type": "display_data"
    }
   ],
   "source": [
    "#X_sample = np.vstack([np.zeros(21), np.array(list(range(-10,11)))]).T\n",
    "\n",
    "X_sample = np.arange(-5, 10, .1)\n",
    "X_sample = torch.tensor(\n",
    "                    np.vstack([np.zeros(len(X_sample)), X_sample]).T,\n",
    "                    dtype=torch.float32)\n",
    "\n",
    "print(X_sample.shape)\n",
    "\n",
    "\n",
    "sample_pred = bnn.model.forward(X_sample).detach().numpy()\n",
    "\n",
    "\n",
    "plt.plot(list(range(len(X_sample))),\n",
    "         sample_pred[:,1])\n",
    "plt.show()"
   ]
  },
  {
   "cell_type": "code",
   "execution_count": 20,
   "metadata": {},
   "outputs": [
    {
     "data": {
      "text/html": [
       "<div>\n",
       "<style scoped>\n",
       "    .dataframe tbody tr th:only-of-type {\n",
       "        vertical-align: middle;\n",
       "    }\n",
       "\n",
       "    .dataframe tbody tr th {\n",
       "        vertical-align: top;\n",
       "    }\n",
       "\n",
       "    .dataframe thead th {\n",
       "        text-align: right;\n",
       "    }\n",
       "</style>\n",
       "<table border=\"1\" class=\"dataframe\">\n",
       "  <thead>\n",
       "    <tr style=\"text-align: right;\">\n",
       "      <th></th>\n",
       "      <th>w1_1</th>\n",
       "      <th>w1_2</th>\n",
       "      <th>w2_1</th>\n",
       "      <th>w2_2</th>\n",
       "      <th>w1_1_grad</th>\n",
       "      <th>w1_2_grad</th>\n",
       "      <th>w2_1_grad</th>\n",
       "      <th>w2_2_grad</th>\n",
       "      <th>b_1</th>\n",
       "      <th>b_2</th>\n",
       "      <th>b_1_grad</th>\n",
       "      <th>b_2_grad</th>\n",
       "    </tr>\n",
       "  </thead>\n",
       "  <tbody>\n",
       "    <tr>\n",
       "      <th>0</th>\n",
       "      <td>-0.033313</td>\n",
       "      <td>-0.138953</td>\n",
       "      <td>-0.110779</td>\n",
       "      <td>-0.071627</td>\n",
       "      <td>9.880732</td>\n",
       "      <td>-0.058183</td>\n",
       "      <td>-2219.5999</td>\n",
       "      <td>0.374526</td>\n",
       "      <td>0.123963</td>\n",
       "      <td>0.077896</td>\n",
       "      <td>13.482121</td>\n",
       "      <td>0.289888</td>\n",
       "    </tr>\n",
       "    <tr>\n",
       "      <th>1</th>\n",
       "      <td>-0.033143</td>\n",
       "      <td>-0.139107</td>\n",
       "      <td>-0.110279</td>\n",
       "      <td>-0.071726</td>\n",
       "      <td>-18.478554</td>\n",
       "      <td>0.100393</td>\n",
       "      <td>-2319.9260</td>\n",
       "      <td>-0.220920</td>\n",
       "      <td>0.123463</td>\n",
       "      <td>0.077398</td>\n",
       "      <td>15.891560</td>\n",
       "      <td>0.404627</td>\n",
       "    </tr>\n",
       "    <tr>\n",
       "      <th>2</th>\n",
       "      <td>NaN</td>\n",
       "      <td>NaN</td>\n",
       "      <td>NaN</td>\n",
       "      <td>NaN</td>\n",
       "      <td>NaN</td>\n",
       "      <td>NaN</td>\n",
       "      <td>NaN</td>\n",
       "      <td>NaN</td>\n",
       "      <td>NaN</td>\n",
       "      <td>NaN</td>\n",
       "      <td>NaN</td>\n",
       "      <td>NaN</td>\n",
       "    </tr>\n",
       "    <tr>\n",
       "      <th>3</th>\n",
       "      <td>NaN</td>\n",
       "      <td>NaN</td>\n",
       "      <td>NaN</td>\n",
       "      <td>NaN</td>\n",
       "      <td>NaN</td>\n",
       "      <td>NaN</td>\n",
       "      <td>NaN</td>\n",
       "      <td>NaN</td>\n",
       "      <td>NaN</td>\n",
       "      <td>NaN</td>\n",
       "      <td>NaN</td>\n",
       "      <td>NaN</td>\n",
       "    </tr>\n",
       "    <tr>\n",
       "      <th>4</th>\n",
       "      <td>NaN</td>\n",
       "      <td>NaN</td>\n",
       "      <td>NaN</td>\n",
       "      <td>NaN</td>\n",
       "      <td>NaN</td>\n",
       "      <td>NaN</td>\n",
       "      <td>NaN</td>\n",
       "      <td>NaN</td>\n",
       "      <td>NaN</td>\n",
       "      <td>NaN</td>\n",
       "      <td>NaN</td>\n",
       "      <td>NaN</td>\n",
       "    </tr>\n",
       "    <tr>\n",
       "      <th>5</th>\n",
       "      <td>NaN</td>\n",
       "      <td>NaN</td>\n",
       "      <td>NaN</td>\n",
       "      <td>NaN</td>\n",
       "      <td>NaN</td>\n",
       "      <td>NaN</td>\n",
       "      <td>NaN</td>\n",
       "      <td>NaN</td>\n",
       "      <td>NaN</td>\n",
       "      <td>NaN</td>\n",
       "      <td>NaN</td>\n",
       "      <td>NaN</td>\n",
       "    </tr>\n",
       "    <tr>\n",
       "      <th>6</th>\n",
       "      <td>NaN</td>\n",
       "      <td>NaN</td>\n",
       "      <td>NaN</td>\n",
       "      <td>NaN</td>\n",
       "      <td>NaN</td>\n",
       "      <td>NaN</td>\n",
       "      <td>NaN</td>\n",
       "      <td>NaN</td>\n",
       "      <td>NaN</td>\n",
       "      <td>NaN</td>\n",
       "      <td>NaN</td>\n",
       "      <td>NaN</td>\n",
       "    </tr>\n",
       "    <tr>\n",
       "      <th>7</th>\n",
       "      <td>NaN</td>\n",
       "      <td>NaN</td>\n",
       "      <td>NaN</td>\n",
       "      <td>NaN</td>\n",
       "      <td>NaN</td>\n",
       "      <td>NaN</td>\n",
       "      <td>NaN</td>\n",
       "      <td>NaN</td>\n",
       "      <td>NaN</td>\n",
       "      <td>NaN</td>\n",
       "      <td>NaN</td>\n",
       "      <td>NaN</td>\n",
       "    </tr>\n",
       "    <tr>\n",
       "      <th>8</th>\n",
       "      <td>NaN</td>\n",
       "      <td>NaN</td>\n",
       "      <td>NaN</td>\n",
       "      <td>NaN</td>\n",
       "      <td>NaN</td>\n",
       "      <td>NaN</td>\n",
       "      <td>NaN</td>\n",
       "      <td>NaN</td>\n",
       "      <td>NaN</td>\n",
       "      <td>NaN</td>\n",
       "      <td>NaN</td>\n",
       "      <td>NaN</td>\n",
       "    </tr>\n",
       "    <tr>\n",
       "      <th>9</th>\n",
       "      <td>NaN</td>\n",
       "      <td>NaN</td>\n",
       "      <td>NaN</td>\n",
       "      <td>NaN</td>\n",
       "      <td>NaN</td>\n",
       "      <td>NaN</td>\n",
       "      <td>NaN</td>\n",
       "      <td>NaN</td>\n",
       "      <td>NaN</td>\n",
       "      <td>NaN</td>\n",
       "      <td>NaN</td>\n",
       "      <td>NaN</td>\n",
       "    </tr>\n",
       "    <tr>\n",
       "      <th>10</th>\n",
       "      <td>NaN</td>\n",
       "      <td>NaN</td>\n",
       "      <td>NaN</td>\n",
       "      <td>NaN</td>\n",
       "      <td>NaN</td>\n",
       "      <td>NaN</td>\n",
       "      <td>NaN</td>\n",
       "      <td>NaN</td>\n",
       "      <td>NaN</td>\n",
       "      <td>NaN</td>\n",
       "      <td>NaN</td>\n",
       "      <td>NaN</td>\n",
       "    </tr>\n",
       "    <tr>\n",
       "      <th>11</th>\n",
       "      <td>NaN</td>\n",
       "      <td>NaN</td>\n",
       "      <td>NaN</td>\n",
       "      <td>NaN</td>\n",
       "      <td>NaN</td>\n",
       "      <td>NaN</td>\n",
       "      <td>NaN</td>\n",
       "      <td>NaN</td>\n",
       "      <td>NaN</td>\n",
       "      <td>NaN</td>\n",
       "      <td>NaN</td>\n",
       "      <td>NaN</td>\n",
       "    </tr>\n",
       "    <tr>\n",
       "      <th>12</th>\n",
       "      <td>NaN</td>\n",
       "      <td>NaN</td>\n",
       "      <td>NaN</td>\n",
       "      <td>NaN</td>\n",
       "      <td>NaN</td>\n",
       "      <td>NaN</td>\n",
       "      <td>NaN</td>\n",
       "      <td>NaN</td>\n",
       "      <td>NaN</td>\n",
       "      <td>NaN</td>\n",
       "      <td>NaN</td>\n",
       "      <td>NaN</td>\n",
       "    </tr>\n",
       "    <tr>\n",
       "      <th>13</th>\n",
       "      <td>NaN</td>\n",
       "      <td>NaN</td>\n",
       "      <td>NaN</td>\n",
       "      <td>NaN</td>\n",
       "      <td>NaN</td>\n",
       "      <td>NaN</td>\n",
       "      <td>NaN</td>\n",
       "      <td>NaN</td>\n",
       "      <td>NaN</td>\n",
       "      <td>NaN</td>\n",
       "      <td>NaN</td>\n",
       "      <td>NaN</td>\n",
       "    </tr>\n",
       "  </tbody>\n",
       "</table>\n",
       "</div>"
      ],
      "text/plain": [
       "        w1_1      w1_2      w2_1      w2_2  w1_1_grad  w1_2_grad  w2_1_grad  \\\n",
       "0  -0.033313 -0.138953 -0.110779 -0.071627   9.880732  -0.058183 -2219.5999   \n",
       "1  -0.033143 -0.139107 -0.110279 -0.071726 -18.478554   0.100393 -2319.9260   \n",
       "2        NaN       NaN       NaN       NaN        NaN        NaN        NaN   \n",
       "3        NaN       NaN       NaN       NaN        NaN        NaN        NaN   \n",
       "4        NaN       NaN       NaN       NaN        NaN        NaN        NaN   \n",
       "5        NaN       NaN       NaN       NaN        NaN        NaN        NaN   \n",
       "6        NaN       NaN       NaN       NaN        NaN        NaN        NaN   \n",
       "7        NaN       NaN       NaN       NaN        NaN        NaN        NaN   \n",
       "8        NaN       NaN       NaN       NaN        NaN        NaN        NaN   \n",
       "9        NaN       NaN       NaN       NaN        NaN        NaN        NaN   \n",
       "10       NaN       NaN       NaN       NaN        NaN        NaN        NaN   \n",
       "11       NaN       NaN       NaN       NaN        NaN        NaN        NaN   \n",
       "12       NaN       NaN       NaN       NaN        NaN        NaN        NaN   \n",
       "13       NaN       NaN       NaN       NaN        NaN        NaN        NaN   \n",
       "\n",
       "    w2_2_grad       b_1       b_2   b_1_grad  b_2_grad  \n",
       "0    0.374526  0.123963  0.077896  13.482121  0.289888  \n",
       "1   -0.220920  0.123463  0.077398  15.891560  0.404627  \n",
       "2         NaN       NaN       NaN        NaN       NaN  \n",
       "3         NaN       NaN       NaN        NaN       NaN  \n",
       "4         NaN       NaN       NaN        NaN       NaN  \n",
       "5         NaN       NaN       NaN        NaN       NaN  \n",
       "6         NaN       NaN       NaN        NaN       NaN  \n",
       "7         NaN       NaN       NaN        NaN       NaN  \n",
       "8         NaN       NaN       NaN        NaN       NaN  \n",
       "9         NaN       NaN       NaN        NaN       NaN  \n",
       "10        NaN       NaN       NaN        NaN       NaN  \n",
       "11        NaN       NaN       NaN        NaN       NaN  \n",
       "12        NaN       NaN       NaN        NaN       NaN  \n",
       "13        NaN       NaN       NaN        NaN       NaN  "
      ]
     },
     "execution_count": 20,
     "metadata": {},
     "output_type": "execute_result"
    }
   ],
   "source": []
  },
  {
   "cell_type": "code",
   "execution_count": 23,
   "metadata": {},
   "outputs": [
    {
     "data": {
      "image/png": "[encoded data removed]",
      "text/plain": [
       "<Figure size 432x288 with 1 Axes>"
      ]
     },
     "metadata": {
      "needs_background": "light"
     },
     "output_type": "display_data"
    },
    {
     "data": {
      "image/png": "[encoded data removed]",
      "text/plain": [
       "<Figure size 432x288 with 1 Axes>"
      ]
     },
     "metadata": {
      "needs_background": "light"
     },
     "output_type": "display_data"
    },
    {
     "data": {
      "image/png": "[encoded data removed]",
      "text/plain": [
       "<Figure size 432x288 with 1 Axes>"
      ]
     },
     "metadata": {
      "needs_background": "light"
     },
     "output_type": "display_data"
    },
    {
     "data": {
      "image/png": "[encoded data removed]",
      "text/plain": [
       "<Figure size 432x288 with 1 Axes>"
      ]
     },
     "metadata": {
      "needs_background": "light"
     },
     "output_type": "display_data"
    }
   ],
   "source": [
    "from graph_utils import *\n",
    "\n",
    "df = pd.read_csv(\"1575743846.csv\")\n",
    "\n",
    "\n",
    "\"\"\"\n",
    "w1_1,w1_2,w2_1,w2_2,\n",
    "w1_1_grad,w1_2_grad,w2_1_grad,w2_2_grad,\n",
    "b_1,b_2,\n",
    "b_1_grad,b_2_grad\n",
    "\"\"\"\n",
    "\n",
    "graphCols(df, cols=['w1_1', 'w1_2', 'w2_1', 'w2_2'], ylabel='y', plotDim1=4, plotDim2=4)\n",
    "\n"
   ]
  },
  {
   "cell_type": "code",
   "execution_count": null,
   "metadata": {},
   "outputs": [],
   "source": [
    "a = torch.normal(torch.tensor([0.0]*5), torch.tensor([5.0]*5))\n",
    "print(a)\n",
    "\n",
    "sig = nn.Sigmoid()\n",
    "sig(a) > 0.5\n",
    "\n",
    "bnn.likelihood_est(torch.tensor([0.0]*5), a, 0.1)"
   ]
  },
  {
   "cell_type": "code",
   "execution_count": null,
   "metadata": {
    "colab": {
     "base_uri": "https://localhost:8080/",
     "height": 187
    },
    "colab_type": "code",
    "executionInfo": {
     "elapsed": 397,
     "status": "ok",
     "timestamp": 1575429539097,
     "user": {
      "displayName": "Daniel Berman",
      "photoUrl": "",
      "userId": "07083512293139957454"
     },
     "user_tz": 300
    },
    "id": "OUADkek91RG0",
    "outputId": "7e10f642-0a1a-47ca-e9b8-c41a4b229be3"
   },
   "outputs": [],
   "source": [
    "for _ in range(10):\n",
    "    pred1 = X_train @ W + b \n",
    "    pred2 = X_train @ W + b + np.random.normal(loc=0, scale=np.exp(X_train @ W_s + b_s))\n",
    "    mae1 = np.mean(np.abs(pred1 - y_train))\n",
    "    mae2 = np.mean(np.abs(pred2 - y_train))\n",
    "    print(\"MAE 1: \", mae1, \"MAE 2:\", mae2)"
   ]
  },
  {
   "cell_type": "code",
   "execution_count": null,
   "metadata": {
    "colab": {
     "base_uri": "https://localhost:8080/",
     "height": 810
    },
    "colab_type": "code",
    "executionInfo": {
     "elapsed": 1127,
     "status": "ok",
     "timestamp": 1575429541904,
     "user": {
      "displayName": "Daniel Berman",
      "photoUrl": "",
      "userId": "07083512293139957454"
     },
     "user_tz": 300
    },
    "id": "P5o10gzNWJWK",
    "outputId": "112219f1-6040-41f6-a6a5-d7b92f454a23"
   },
   "outputs": [],
   "source": [
    "# This import registers the 3D projection, but is otherwise unused.\n",
    "from mpl_toolkits.mplot3d import Axes3D  # noqa: F401 unused import\n",
    "\n",
    "final_pred = bnn.model.forward(torch.Tensor(X_train))\n",
    "print(final_pred[:5,0])\n",
    "\n",
    "\n",
    "pred_std = torch.exp(final_pred[:,1])\n",
    "\n",
    "print(pred_std)\n",
    "print(X_train)\n",
    "\n",
    "fig = plt.figure(figsize=(10,10))\n",
    "ax = fig.add_subplot(311, projection='3d')\n",
    "\n",
    "sparse_cap = int(len(X_train) / 10)\n",
    "\n",
    "ax.scatter(X_train[:sparse_cap,0], X_train[:sparse_cap,1], pred_std[:sparse_cap].detach().numpy())\n",
    "ax.set_xlabel('X_train[:,0]')\n",
    "ax.set_ylabel('X_train[:,1]')\n",
    "ax.set_zlabel('output[:,1] (Standard Deviation)')\n",
    "\n",
    "\n",
    "\n",
    "# 2D Plot:\n",
    "ax_2d_x = fig.add_subplot(312)\n",
    "ax_2d_x.scatter(X_train[:,0], pred_std.detach().numpy())\n",
    "ax_2d_x.set_xlabel('X_train[:,0]')\n",
    "ax_2d_x.set_ylabel('output[:,1] (Standard Deviation)')\n",
    "\n",
    "\n",
    "ax_2d_y = fig.add_subplot(313)\n",
    "ax_2d_y.scatter(X_train[:,1], pred_std.detach().numpy())\n",
    "ax_2d_y.set_xlabel('X_train[:,1]')\n",
    "ax_2d_y.set_ylabel('output[:,1] (Standard Deviation)')\n",
    "\n"
   ]
  },
  {
   "cell_type": "code",
   "execution_count": null,
   "metadata": {
    "colab": {
     "base_uri": "https://localhost:8080/",
     "height": 695
    },
    "colab_type": "code",
    "executionInfo": {
     "elapsed": 1135,
     "status": "ok",
     "timestamp": 1575429544133,
     "user": {
      "displayName": "Daniel Berman",
      "photoUrl": "",
      "userId": "07083512293139957454"
     },
     "user_tz": 300
    },
    "id": "sAKvLr33HE9t",
    "outputId": "5114547d-2794-4dbf-de44-a227280a0404"
   },
   "outputs": [],
   "source": [
    "np.zeros(40)\n",
    "X_sample = np.vstack([np.zeros(21), np.array(list(range(-10,11)))]).T\n",
    "X_sample = torch.tensor(np.array(X_sample), dtype=torch.float32)\n",
    "\n",
    "\n",
    "predictions = bnn.model.forward(torch.Tensor(X_train))\n",
    "\n",
    "sample_pred = bnn.model.forward(X_sample)\n",
    "\n",
    "y_pred = sample_pred[:,0].detach().numpy()\n",
    "std_pred = torch.exp(sample_pred[:,1]).detach().numpy()\n",
    "log_s_pred = sample_pred[:,1].detach().numpy()\n",
    "\n",
    "print(std_pred)\n",
    "\n",
    "# Sample variance to add to the y predictions\n",
    "std_array = []\n",
    "for scale in std_pred:\n",
    "  std_array.append(np.random.normal(loc=0, scale=np.exp(scale)))\n",
    "std_array = np.array((std_array))\n",
    "\n",
    "\n",
    "\n",
    "\"\"\"\n",
    "plt.scatter(X_train[:,0], y_pred + std_array, alpha=.1, label='predicted')\n",
    "plt.scatter(X_train[:,0], y_train, alpha=.1, label='real')\n",
    "plt.title(\"Y hat and Y values across X1\")\n",
    "plt.legend()\n",
    "plt.savefig(\"x1_y.png\")\n",
    "\"\"\"\n",
    "\n",
    "\n",
    "plt.show()\n",
    "\n",
    "# For constant std dev#\n",
    "#std_pred = 10 * torch.ones([y_pred.shape[0]], dtype=torch.float64)\n",
    "# For constant std dev#\n",
    "\n",
    "#plt.scatter(X_train[:,1], y_pred + std_array, alpha=.1, label='predicted')\n",
    "#plt.scatter(X_sample[:,1], y_pred, alpha=.1, label='predicted')\n",
    "plt.errorbar(X_sample[:,1], y_pred, yerr=(std_pred), fmt='o', label='predicted')\n",
    "plt.scatter(X_train[:,1], y_train, alpha=.1, c='C1', label='real')\n",
    "plt.ylabel(\"Y\")\n",
    "plt.xlabel(\"X\")\n",
    "# plt.xlim(right = 5)\n",
    "# plt.xlim(left = -5)\n",
    "# plt.ylim(top = 100)\n",
    "# plt.ylim(bottom = -100)\n",
    "plt.title(\"Predicted and real Y values vs X\")\n",
    "plt.legend()\n",
    "plt.savefig(\"x_y1.png\")\n",
    "plt.show()\n",
    "\n",
    "\n",
    "\n",
    "#stds = []\n",
    "#Xs = list(range(-10, 11))\n",
    "#for x in Xs:\n",
    "#    stds.append(x + b_s)\n",
    "\n",
    "#std_pred = predictions[:,1].detach().numpy()\n",
    "\n",
    "real_std = []\n",
    "for x in range(-10, 11):\n",
    "    real_std.append(np.exp(np.array([0, x] @ W_s + b_s)))\n",
    "print(real_std)\n",
    "# plt.plot(list(range(-10,11)), list(range(0, 21)), c='C3', label='real')\n",
    "plt.plot(list(range(-10,11)), real_std, c='C3', label='real')\n",
    "plt.plot(X_sample[:,1], (std_pred), label='predicted')\n",
    "plt.title(\"Standard Deviation versus X value\")\n",
    "plt.ylabel(\"standard deviation\")\n",
    "plt.xlabel(\"X\")\n",
    "plt.legend()\n",
    "plt.savefig(\"std1.png\")\n",
    "# plt.xlim(right = 5)\n",
    "# plt.xlim(left = -5)\n",
    "# plt.ylim(top = 100)\n",
    "# plt.ylim(bottom = -100)\n",
    "plt.show()"
   ]
  },
  {
   "cell_type": "code",
   "execution_count": null,
   "metadata": {
    "colab": {
     "base_uri": "https://localhost:8080/",
     "height": 50
    },
    "colab_type": "code",
    "executionInfo": {
     "elapsed": 365,
     "status": "ok",
     "timestamp": 1575314802782,
     "user": {
      "displayName": "Andy W",
      "photoUrl": "https://lh3.googleusercontent.com/a-/AAuE7mDT86gEQbwc-buchisSAn0HMtAQzvqYYIAPtcns=s64",
      "userId": "04820820680976854911"
     },
     "user_tz": 300
    },
    "id": "Ke4AKPcBx5kB",
    "outputId": "4ecbf449-9942-40c6-e0ef-1e5184969126"
   },
   "outputs": [],
   "source": [
    "print(torch.exp(bnn.model.l1.W_log_s_DO))"
   ]
  },
  {
   "cell_type": "code",
   "execution_count": null,
   "metadata": {
    "colab": {
     "base_uri": "https://localhost:8080/",
     "height": 178
    },
    "colab_type": "code",
    "executionInfo": {
     "elapsed": 391,
     "status": "error",
     "timestamp": 1575194249491,
     "user": {
      "displayName": "Andy W",
      "photoUrl": "https://lh3.googleusercontent.com/a-/AAuE7mDT86gEQbwc-buchisSAn0HMtAQzvqYYIAPtcns=s64",
      "userId": "04820820680976854911"
     },
     "user_tz": 300
    },
    "id": "pO3Ypv5RGmXA",
    "outputId": "4c0a482a-b16a-46cc-ce2a-f3da2d8eee59"
   },
   "outputs": [],
   "source": [
    "\n",
    "plt.plot([i for i in range(100)], loss_by_epoch)"
   ]
  },
  {
   "cell_type": "code",
   "execution_count": null,
   "metadata": {
    "colab": {},
    "colab_type": "code",
    "id": "a9tQnGslgENk"
   },
   "outputs": [],
   "source": [
    "a = torch.tensor([3,3,3])\n",
    "b = torch.tensor([5,5,3])\n",
    "a == b"
   ]
  },
  {
   "cell_type": "code",
   "execution_count": null,
   "metadata": {},
   "outputs": [],
   "source": []
  }
 ],
 "metadata": {
  "accelerator": "GPU",
  "colab": {
   "collapsed_sections": [],
   "machine_shape": "hm",
   "name": "Baysian_Logistic_regression_daniel.ipynb",
   "provenance": [
    {
     "file_id": "1sznMeZpuMX1xJQxmYl78_vbUqOg1IlPl",
     "timestamp": 1575409826661
    },
    {
     "file_id": "1917bcDBXk-Ce3uiNS3-toqX0gnTYlcWh",
     "timestamp": 1573608677328
    }
   ]
  },
  "kernelspec": {
   "display_name": "Python 3",
   "language": "python",
   "name": "python3"
  },
  "language_info": {
   "codemirror_mode": {
    "name": "ipython",
    "version": 3
   },
   "file_extension": ".py",
   "mimetype": "text/x-python",
   "name": "python",
   "nbconvert_exporter": "python",
   "pygments_lexer": "ipython3",
   "version": "3.7.4"
  }
 },
 "nbformat": 4,
 "nbformat_minor": 1
}
