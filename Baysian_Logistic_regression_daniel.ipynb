{
 "cells": [
  {
   "cell_type": "code",
   "execution_count": 45,
   "metadata": {
    "colab": {
     "base_uri": "https://localhost:8080/",
     "height": 34
    },
    "colab_type": "code",
    "executionInfo": {
     "elapsed": 2590,
     "status": "ok",
     "timestamp": 1575486296044,
     "user": {
      "displayName": "Daniel Berman",
      "photoUrl": "",
      "userId": "07083512293139957454"
     },
     "user_tz": 300
    },
    "id": "WkOcCy7MRqxQ",
    "outputId": "c157445e-c711-412c-d0a0-70321edc18e1"
   },
   "outputs": [
    {
     "name": "stdout",
     "output_type": "stream",
     "text": [
      "The autoreload extension is already loaded. To reload it, use:\n",
      "  %reload_ext autoreload\n"
     ]
    },
    {
     "data": {
      "text/plain": [
       "'/home/emerson/programming/BDL_final_project'"
      ]
     },
     "execution_count": 45,
     "metadata": {},
     "output_type": "execute_result"
    }
   ],
   "source": [
    "%load_ext autoreload\n",
    "%autoreload 2\n",
    "\n",
    "import torch\n",
    "import torch.nn as nn\n",
    "import torchvision.transforms as transforms\n",
    "import torchvision.datasets as dsets\n",
    "from torch.distributions.multivariate_normal import MultivariateNormal\n",
    "from torch.distributions.normal import Normal\n",
    "import matplotlib.pyplot as plt\n",
    "from sklearn.model_selection import train_test_split\n",
    "import pandas as pd\n",
    "import torch.optim as optim\n",
    "from torch.autograd import Variable\n",
    "import numpy.random as rand\n",
    "import numpy as np\n",
    "import sys\n",
    "import os\n",
    "from mpl_toolkits.mplot3d import Axes3D  # noqa: F401 unused import\n",
    "\n",
    "\n",
    "\n",
    "from bnn import BNNBayesbyBackprop, gauss_logpdf\n",
    "os.getcwd()"
   ]
  },
  {
   "cell_type": "markdown",
   "metadata": {},
   "source": [
    "## Toy dataset for regression"
   ]
  },
  {
   "cell_type": "code",
   "execution_count": 3,
   "metadata": {
    "colab": {
     "base_uri": "https://localhost:8080/",
     "height": 187
    },
    "colab_type": "code",
    "executionInfo": {
     "elapsed": 497,
     "status": "ok",
     "timestamp": 1575486304247,
     "user": {
      "displayName": "Daniel Berman",
      "photoUrl": "",
      "userId": "07083512293139957454"
     },
     "user_tz": 300
    },
    "id": "t0F0mKwDdI7Y",
    "outputId": "748b6853-7ea1-467f-8e33-a574fd4547cf"
   },
   "outputs": [
    {
     "name": "stdout",
     "output_type": "stream",
     "text": [
      "[[0. ]\n",
      " [0.3]]\n",
      "0.1\n",
      "[[-52.82162314]\n",
      " [  4.27946549]\n",
      " [ 38.75353933]\n",
      " ...\n",
      " [-99.47149931]\n",
      " [-88.35922307]\n",
      " [ -1.66536826]]\n"
     ]
    }
   ],
   "source": [
    "W = np.array([-10, 10]).reshape(-1, 1)\n",
    "b = -5\n",
    "X_train = np.random.uniform(-10,10, (5000, 2))\n",
    "X_train[:,0] = 0.0\n",
    "X_train.shape\n",
    "W.T.shape\n",
    "\n",
    "eps = 0.0001\n",
    "W_s = np.array([0.0, 0.3]).reshape(-1, 1)\n",
    "print(W_s)\n",
    "b_s = 0.1\n",
    "\n",
    "print(b_s)\n",
    "\n",
    "y_train = np.zeros((X_train.shape[0], 1), dtype=float)\n",
    "for ind, x in enumerate(X_train):\n",
    "  # y_train[ind] = x @ W + b + np.random.normal(loc=0, scale=np.exp(x @ W_s + b_s))\n",
    "  y_train[ind] = x.reshape(1,-1) @ W + b + np.random.normal(loc=0, scale=np.exp(x @ W_s + b_s))\n",
    "\n",
    "\n",
    "\n",
    "print(y_train)"
   ]
  },
  {
   "cell_type": "code",
   "execution_count": 4,
   "metadata": {
    "colab": {
     "base_uri": "https://localhost:8080/",
     "height": 367
    },
    "colab_type": "code",
    "executionInfo": {
     "elapsed": 791,
     "status": "ok",
     "timestamp": 1575480947816,
     "user": {
      "displayName": "Daniel Berman",
      "photoUrl": "",
      "userId": "07083512293139957454"
     },
     "user_tz": 300
    },
    "id": "CXdiAr9mvrW-",
    "outputId": "3a8081af-e48f-458f-ff5f-d8a94985ea8e"
   },
   "outputs": [
    {
     "data": {
      "text/plain": [
       "(array([626., 663., 630., 624., 608., 611., 675., 394., 145.,  24.]),\n",
       " array([-105.03653382,  -80.23105825,  -55.42558268,  -30.62010711,\n",
       "          -5.81463154,   18.99084403,   43.7963196 ,   68.60179517,\n",
       "          93.40727074,  118.21274631,  143.01822188]),\n",
       " <a list of 10 Patch objects>)"
      ]
     },
     "execution_count": 4,
     "metadata": {},
     "output_type": "execute_result"
    },
    {
     "data": {
      "image/png": "[encoded data removed]",
      "text/plain": [
       "<Figure size 432x288 with 1 Axes>"
      ]
     },
     "metadata": {
      "needs_background": "light"
     },
     "output_type": "display_data"
    }
   ],
   "source": [
    "plt.hist(y_train)\n",
    "# np.exp(10 * 0.01)"
   ]
  },
  {
   "cell_type": "markdown",
   "metadata": {},
   "source": [
    "compare likelihood of test set given true mean and true variance and true variance + bias"
   ]
  },
  {
   "cell_type": "code",
   "execution_count": 5,
   "metadata": {
    "colab": {
     "base_uri": "https://localhost:8080/",
     "height": 51
    },
    "colab_type": "code",
    "executionInfo": {
     "elapsed": 971,
     "status": "ok",
     "timestamp": 1575486325612,
     "user": {
      "displayName": "Daniel Berman",
      "photoUrl": "",
      "userId": "07083512293139957454"
     },
     "user_tz": 300
    },
    "id": "jI5_3uZbEPwE",
    "outputId": "ecec67f9-8ae3-464b-fe23-23c81573ebf3"
   },
   "outputs": [
    {
     "ename": "AttributeError",
     "evalue": "'numpy.ndarray' object has no attribute 'detach'",
     "output_type": "error",
     "traceback": [
      "\u001b[0;31m---------------------------------------------------------------------------\u001b[0m",
      "\u001b[0;31mAttributeError\u001b[0m                            Traceback (most recent call last)",
      "\u001b[0;32m<ipython-input-5-bf7da1c422d3>\u001b[0m in \u001b[0;36m<module>\u001b[0;34m\u001b[0m\n\u001b[1;32m      5\u001b[0m \u001b[0mtst\u001b[0m\u001b[0;34m\u001b[0m\u001b[0;34m\u001b[0m\u001b[0m\n\u001b[1;32m      6\u001b[0m \u001b[0;34m\u001b[0m\u001b[0m\n\u001b[0;32m----> 7\u001b[0;31m \u001b[0mprint\u001b[0m\u001b[0;34m(\u001b[0m\u001b[0mgauss_logpdf\u001b[0m\u001b[0;34m(\u001b[0m\u001b[0mtst\u001b[0m\u001b[0;34m,\u001b[0m \u001b[0mX_train\u001b[0m \u001b[0;34m@\u001b[0m \u001b[0mW\u001b[0m \u001b[0;34m+\u001b[0m \u001b[0mb\u001b[0m\u001b[0;34m,\u001b[0m \u001b[0mnp\u001b[0m\u001b[0;34m.\u001b[0m\u001b[0mexp\u001b[0m\u001b[0;34m(\u001b[0m\u001b[0mx\u001b[0m \u001b[0;34m@\u001b[0m \u001b[0mW_s\u001b[0m \u001b[0;34m+\u001b[0m \u001b[0mb_s\u001b[0m\u001b[0;34m)\u001b[0m\u001b[0;34m)\u001b[0m\u001b[0;34m.\u001b[0m\u001b[0msum\u001b[0m\u001b[0;34m(\u001b[0m\u001b[0;34m)\u001b[0m\u001b[0;34m)\u001b[0m\u001b[0;34m\u001b[0m\u001b[0;34m\u001b[0m\u001b[0m\n\u001b[0m\u001b[1;32m      8\u001b[0m \u001b[0mprint\u001b[0m\u001b[0;34m(\u001b[0m\u001b[0mgauss_logpdf\u001b[0m\u001b[0;34m(\u001b[0m\u001b[0mtst\u001b[0m\u001b[0;34m,\u001b[0m \u001b[0mX_train\u001b[0m \u001b[0;34m@\u001b[0m \u001b[0mW\u001b[0m \u001b[0;34m+\u001b[0m \u001b[0mb\u001b[0m\u001b[0;34m,\u001b[0m \u001b[0mnp\u001b[0m\u001b[0;34m.\u001b[0m\u001b[0mexp\u001b[0m\u001b[0;34m(\u001b[0m\u001b[0mx\u001b[0m \u001b[0;34m@\u001b[0m \u001b[0mW_s\u001b[0m \u001b[0;34m+\u001b[0m \u001b[0mb_s\u001b[0m\u001b[0;34m)\u001b[0m \u001b[0;34m+\u001b[0m \u001b[0;36m100\u001b[0m\u001b[0;34m)\u001b[0m\u001b[0;34m.\u001b[0m\u001b[0msum\u001b[0m\u001b[0;34m(\u001b[0m\u001b[0;34m)\u001b[0m\u001b[0;34m)\u001b[0m\u001b[0;34m\u001b[0m\u001b[0;34m\u001b[0m\u001b[0m\n",
      "\u001b[0;32m~/programming/BDL_final_project/bnn.py\u001b[0m in \u001b[0;36mgauss_logpdf\u001b[0;34m(x, mu, s)\u001b[0m\n\u001b[1;32m      9\u001b[0m \u001b[0;32mdef\u001b[0m \u001b[0mgauss_logpdf\u001b[0m\u001b[0;34m(\u001b[0m\u001b[0mx\u001b[0m\u001b[0;34m,\u001b[0m \u001b[0mmu\u001b[0m\u001b[0;34m,\u001b[0m \u001b[0ms\u001b[0m\u001b[0;34m)\u001b[0m\u001b[0;34m:\u001b[0m\u001b[0;34m\u001b[0m\u001b[0;34m\u001b[0m\u001b[0m\n\u001b[1;32m     10\u001b[0m     \u001b[0mnormalized_x\u001b[0m \u001b[0;34m=\u001b[0m \u001b[0;34m(\u001b[0m\u001b[0mx\u001b[0m \u001b[0;34m-\u001b[0m \u001b[0mmu\u001b[0m\u001b[0;34m)\u001b[0m \u001b[0;34m/\u001b[0m \u001b[0ms\u001b[0m\u001b[0;34m\u001b[0m\u001b[0;34m\u001b[0m\u001b[0m\n\u001b[0;32m---> 11\u001b[0;31m     \u001b[0;32mif\u001b[0m \u001b[0;34m(\u001b[0m\u001b[0mnormalized_x\u001b[0m\u001b[0;34m.\u001b[0m\u001b[0mdetach\u001b[0m\u001b[0;34m(\u001b[0m\u001b[0;34m)\u001b[0m\u001b[0;34m.\u001b[0m\u001b[0mnumpy\u001b[0m\u001b[0;34m(\u001b[0m\u001b[0;34m)\u001b[0m \u001b[0;34m>=\u001b[0m \u001b[0mfloat\u001b[0m\u001b[0;34m(\u001b[0m\u001b[0;34m'inf'\u001b[0m\u001b[0;34m)\u001b[0m\u001b[0;34m)\u001b[0m\u001b[0;34m.\u001b[0m\u001b[0many\u001b[0m\u001b[0;34m(\u001b[0m\u001b[0;34m)\u001b[0m\u001b[0;34m:\u001b[0m\u001b[0;34m\u001b[0m\u001b[0;34m\u001b[0m\u001b[0m\n\u001b[0m\u001b[1;32m     12\u001b[0m         \u001b[0mprint\u001b[0m\u001b[0;34m(\u001b[0m\u001b[0;34m'\\n\\n\\n\\n\\n\\n\\n\\n\\n\\n\\\\n\\n'\u001b[0m\u001b[0;34m)\u001b[0m\u001b[0;34m\u001b[0m\u001b[0;34m\u001b[0m\u001b[0m\n\u001b[1;32m     13\u001b[0m         \u001b[0mprint\u001b[0m\u001b[0;34m(\u001b[0m\u001b[0;34m'exploded'\u001b[0m\u001b[0;34m)\u001b[0m\u001b[0;34m\u001b[0m\u001b[0;34m\u001b[0m\u001b[0m\n",
      "\u001b[0;31mAttributeError\u001b[0m: 'numpy.ndarray' object has no attribute 'detach'"
     ]
    }
   ],
   "source": [
    "tst = np.empty_like(X_train[:,0])\n",
    "for ind, x in enumerate(X_train):\n",
    "  # y_train[ind] = x @ W + b + np.random.normal(loc=0, scale=np.exp(x @ W_s + b_s))\n",
    "  tst[ind] = x.reshape(1,-1) @ W + b + np.random.normal(loc=0, scale=np.exp(x @ W_s + b_s))\n",
    "tst\n",
    "\n",
    "print(gauss_logpdf(tst, X_train @ W + b, np.exp(x @ W_s + b_s)).sum())\n",
    "print(gauss_logpdf(tst, X_train @ W + b, np.exp(x @ W_s + b_s) + 100).sum())"
   ]
  },
  {
   "cell_type": "code",
   "execution_count": null,
   "metadata": {
    "colab": {
     "base_uri": "https://localhost:8080/",
     "height": 626
    },
    "colab_type": "code",
    "executionInfo": {
     "elapsed": 2417,
     "status": "ok",
     "timestamp": 1575480980749,
     "user": {
      "displayName": "Daniel Berman",
      "photoUrl": "",
      "userId": "07083512293139957454"
     },
     "user_tz": 300
    },
    "id": "9O-6lnY9YJRb",
    "outputId": "d9139067-fbb0-4258-b9c0-c28167a193e2"
   },
   "outputs": [],
   "source": []
  },
  {
   "cell_type": "code",
   "execution_count": null,
   "metadata": {
    "colab": {
     "base_uri": "https://localhost:8080/",
     "height": 35
    },
    "colab_type": "code",
    "executionInfo": {
     "elapsed": 309,
     "status": "ok",
     "timestamp": 1575170206489,
     "user": {
      "displayName": "Emerson Wenzel",
      "photoUrl": "https://lh3.googleusercontent.com/a-/AAuE7mBa8myeK4yWPwITEYdL3CnQJapeceo7a6YM_K7TpQ=s64",
      "userId": "12144547484727272619"
     },
     "user_tz": 300
    },
    "id": "vzSQguR_UJhN",
    "outputId": "0417a959-ed74-4f88-d8ff-8967e05cd48f"
   },
   "outputs": [],
   "source": []
  },
  {
   "cell_type": "markdown",
   "metadata": {
    "colab": {
     "base_uri": "https://localhost:8080/",
     "height": 243
    },
    "colab_type": "code",
    "executionInfo": {
     "elapsed": 257,
     "status": "error",
     "timestamp": 1575170206947,
     "user": {
      "displayName": "Emerson Wenzel",
      "photoUrl": "https://lh3.googleusercontent.com/a-/AAuE7mBa8myeK4yWPwITEYdL3CnQJapeceo7a6YM_K7TpQ=s64",
      "userId": "12144547484727272619"
     },
     "user_tz": 300
    },
    "id": "TP8Et2D5Rwyk",
    "outputId": "907e9d07-2ab2-4f31-d72e-9a5deea518e1"
   },
   "source": [
    "Toy dataset for classification 2d"
   ]
  },
  {
   "cell_type": "code",
   "execution_count": 6,
   "metadata": {
    "colab": {},
    "colab_type": "code",
    "id": "CCQC9djBrntu"
   },
   "outputs": [],
   "source": [
    "dataset_size = 5000\n",
    "\n",
    "X_train = np.empty(shape=(dataset_size, 2), dtype=float)\n",
    "y_train = np.empty(shape=(dataset_size,), dtype=float)\n",
    "\n",
    "# make first dimension 0 to effectively make it univariate \n",
    "# bc current bnn arch only works with multivariate input\n",
    "X_train[:int(dataset_size/2),0] = np.random.normal(loc=0,\n",
    "                                                   scale=1,\n",
    "                                                   size=(int(dataset_size/2),))\n",
    "X_train[:int(dataset_size/2), 1] = np.random.normal(loc=-5, \n",
    "                                                    scale=1, \n",
    "                                                    size=(int(dataset_size/2),))\n",
    "y_train[:int(dataset_size/2)] = 0\n",
    "\n",
    "X_train[int(dataset_size/2):,0] = np.random.normal(loc=0,\n",
    "                                                   scale=1,\n",
    "                                                   size=(int(dataset_size/2),))\n",
    "X_train[int(dataset_size/2):, 1] = np.random.normal(loc=5,\n",
    "                                                    scale=1,\n",
    "                                                    size=(int(dataset_size/2),))\n",
    "y_train[int(dataset_size/2):] = 1\n",
    "\n",
    "# shuffle order\n",
    "perm = np.random.permutation(dataset_size)\n",
    "X_train = X_train[perm]\n",
    "y_train = y_train[perm]"
   ]
  },
  {
   "cell_type": "code",
   "execution_count": 7,
   "metadata": {
    "colab": {},
    "colab_type": "code",
    "id": "h0QAif-C42O6"
   },
   "outputs": [
    {
     "name": "stdout",
     "output_type": "stream",
     "text": [
      "X shape (320, 320)\n",
      "------\n"
     ]
    },
    {
     "name": "stderr",
     "output_type": "stream",
     "text": [
      "/home/emerson/anaconda3/lib/python3.7/site-packages/matplotlib/figure.py:445: UserWarning: Matplotlib is currently using module://ipykernel.pylab.backend_inline, which is a non-GUI backend, so cannot show the figure.\n",
      "  % get_backend())\n"
     ]
    },
    {
     "ename": "NameError",
     "evalue": "name 'x_line' is not defined",
     "output_type": "error",
     "traceback": [
      "\u001b[0;31m---------------------------------------------------------------------------\u001b[0m",
      "\u001b[0;31mNameError\u001b[0m                                 Traceback (most recent call last)",
      "\u001b[0;32m<ipython-input-7-3611c9753968>\u001b[0m in \u001b[0;36m<module>\u001b[0;34m\u001b[0m\n\u001b[1;32m     35\u001b[0m \u001b[0mfig\u001b[0m\u001b[0;34m.\u001b[0m\u001b[0mshow\u001b[0m\u001b[0;34m(\u001b[0m\u001b[0;34m)\u001b[0m\u001b[0;34m\u001b[0m\u001b[0;34m\u001b[0m\u001b[0m\n\u001b[1;32m     36\u001b[0m \u001b[0mprint\u001b[0m\u001b[0;34m(\u001b[0m\u001b[0;34m\"------\"\u001b[0m\u001b[0;34m)\u001b[0m\u001b[0;34m\u001b[0m\u001b[0;34m\u001b[0m\u001b[0m\n\u001b[0;32m---> 37\u001b[0;31m \u001b[0mprint\u001b[0m\u001b[0;34m(\u001b[0m\u001b[0mx_line\u001b[0m\u001b[0;34m[\u001b[0m\u001b[0;34m:\u001b[0m\u001b[0;34m,\u001b[0m\u001b[0;36m0\u001b[0m\u001b[0;34m]\u001b[0m\u001b[0;34m.\u001b[0m\u001b[0mshape\u001b[0m\u001b[0;34m)\u001b[0m\u001b[0;34m\u001b[0m\u001b[0;34m\u001b[0m\u001b[0m\n\u001b[0m\u001b[1;32m     38\u001b[0m \u001b[0mprint\u001b[0m\u001b[0;34m(\u001b[0m\u001b[0mx_line\u001b[0m\u001b[0;34m[\u001b[0m\u001b[0;34m:\u001b[0m\u001b[0;34m,\u001b[0m\u001b[0;36m1\u001b[0m\u001b[0;34m]\u001b[0m\u001b[0;34m.\u001b[0m\u001b[0mshape\u001b[0m\u001b[0;34m)\u001b[0m\u001b[0;34m\u001b[0m\u001b[0;34m\u001b[0m\u001b[0m\n\u001b[1;32m     39\u001b[0m \u001b[0mprint\u001b[0m\u001b[0;34m(\u001b[0m\u001b[0my\u001b[0m\u001b[0;34m.\u001b[0m\u001b[0mshape\u001b[0m\u001b[0;34m)\u001b[0m\u001b[0;34m\u001b[0m\u001b[0;34m\u001b[0m\u001b[0m\n",
      "\u001b[0;31mNameError\u001b[0m: name 'x_line' is not defined"
     ]
    },
    {
     "data": {
      "image/png": "[encoded data removed]",
      "text/plain": [
       "<Figure size 1440x1440 with 1 Axes>"
      ]
     },
     "metadata": {
      "needs_background": "light"
     },
     "output_type": "display_data"
    }
   ],
   "source": [
    "def plane(x1, x2, w1, b):\n",
    "    return w1[0] * x1 + w1[1] * x2 + b\n",
    "    \n",
    "\n",
    "w1 = np.array([[0,0]]).T\n",
    "w2 = np.array([[0,0]]).T\n",
    "W_full = np.hstack((w1, w2))\n",
    "b = 0\n",
    "\n",
    "x = y = np.arange(-8.0, 8.0, 0.05)\n",
    "X, Y = np.meshgrid(x, y)\n",
    "zs = plane(X, Y, w1, b)\n",
    "print(\"X shape\", zs.shape)\n",
    "\n",
    "# Z = zs.reshape(X.shape)\n",
    "\n",
    "# ax.plot_surface(X, Y, Z)\n",
    "\n",
    "# x_line = np.random.uniform(-8, 8, (100, 2))\n",
    "#  = \n",
    "# print(w1.T.shape)\n",
    "# y = w1.T @ x + b\n",
    "# y = y.flatten()\n",
    "# plt.plot(x1, x2)\n",
    "# plt.scatter(X_train[y_train == 0,0], X_train[y_train == 0,1], c='red', alpha=0.2)\n",
    "# plt.scatter(X_train[y_train == 1,0], X_train[y_train == 1,1], c='blue', alpha=0.2)\n",
    "# plt.ylim((-10, 10))\n",
    "\n",
    "\n",
    "fig = plt.figure(figsize=(20,20))\n",
    "ax = fig.add_subplot(311, projection='3d')       \n",
    "ax.plot_wireframe(X, Y, zs, color='grey', alpha = 0.7)\n",
    "ax.scatter(X_train[y_train == 0,0], X_train[y_train == 0,1], c='blue')\n",
    "ax.scatter(X_train[y_train == 1,0], X_train[y_train == 1,1], c='red')\n",
    "fig.show()\n",
    "print(\"------\")                                                        \n",
    "print(x_line[:,0].shape)                                                   \n",
    "print(x_line[:,1].shape)                                                   \n",
    "print(y.shape)                                                        \n",
    "print(\"------\")\n",
    "\n",
    "\n",
    "# ax.scatter(X1_train_grd, X2_train_grd, alpha=0.5)\n",
    "\n",
    "# ax.plot()\n",
    "# ax.set_xlabel('X_train[:,0]')                                          \n",
    "# ax.set_ylabel('X_train[:,1]')                                          \n",
    "# ax.set_zlabel('output[:,1] (Standard Deviation)')                      \n",
    "fig.show()\n",
    "# plt.show()\n",
    "\n"
   ]
  },
  {
   "cell_type": "markdown",
   "metadata": {},
   "source": [
    "Toy dataset for classification 1d"
   ]
  },
  {
   "cell_type": "code",
   "execution_count": null,
   "metadata": {},
   "outputs": [],
   "source": [
    "dataset_size = 5000\n",
    "\n",
    "X_train = np.empty(shape=(dataset_size, 2), dtype=float)\n",
    "y_train = np.empty(shape=(dataset_size,), dtype=float)\n",
    "\n",
    "# make first dimension 0 to effectively make it univariate \n",
    "# bc current bnn arch only works with multivariate input\n",
    "X_train[:int(dataset_size/2), 0] = 0\n",
    "X_train[:int(dataset_size/2), 1] = np.random.normal(loc=4,\n",
    "                                                 scale=1,\n",
    "                                                 size=(int(dataset_size/2),))\n",
    "y_train[:int(dataset_size/2)] = 0\n",
    "\n",
    "X_train[int(dataset_size/2):, 0] = 0\n",
    "X_train[int(dataset_size/2):, 1] = np.random.normal(loc=14,\n",
    "                                                   scale=1,\n",
    "                                                   size=(int(dataset_size/2),))\n",
    "y_train[int(dataset_size/2):] = 1\n",
    "\n",
    "# shuffle order\n",
    "perm = np.random.permutation(dataset_size)\n",
    "X_train = X_train[perm]\n",
    "y_train = y_train[perm]"
   ]
  },
  {
   "cell_type": "code",
   "execution_count": null,
   "metadata": {
    "colab": {
     "base_uri": "https://localhost:8080/",
     "height": 35
    },
    "colab_type": "code",
    "executionInfo": {
     "elapsed": 627,
     "status": "ok",
     "timestamp": 1575170208452,
     "user": {
      "displayName": "Emerson Wenzel",
      "photoUrl": "https://lh3.googleusercontent.com/a-/AAuE7mBa8myeK4yWPwITEYdL3CnQJapeceo7a6YM_K7TpQ=s64",
      "userId": "12144547484727272619"
     },
     "user_tz": 300
    },
    "id": "TOyX3Muiryr2",
    "outputId": "6fad6434-e0dc-45fb-9601-aac724c9e0fb"
   },
   "outputs": [],
   "source": [
    "from sklearn.linear_model import LogisticRegression\n",
    "lr = LogisticRegression()\n",
    "lr.fit(X_train, y_train)\n",
    "lr.score(X_train, y_train)"
   ]
  },
  {
   "cell_type": "code",
   "execution_count": null,
   "metadata": {
    "colab": {},
    "colab_type": "code",
    "id": "iiPLVvfVdCxn"
   },
   "outputs": [],
   "source": [
    "# a separating line!\n",
    "# x1 = np.linspace(-2, 14, 20)\n",
    "# y = x1 * 1 - 8.5\n",
    "\n",
    "plt.scatter(X_train[y_train == 0, 1], [0]*int(X_train.shape[0]/2))\n",
    "plt.scatter(X_train[y_train == 1, 1], [0]*int(X_train.shape[0]/2))\n",
    "# plt.plot(x1, y)"
   ]
  },
  {
   "cell_type": "code",
   "execution_count": null,
   "metadata": {
    "colab": {},
    "colab_type": "code",
    "id": "P-Xjzeot6D2P"
   },
   "outputs": [],
   "source": []
  },
  {
   "cell_type": "code",
   "execution_count": null,
   "metadata": {
    "colab": {},
    "colab_type": "code",
    "id": "9NoQs_KnUNd-"
   },
   "outputs": [],
   "source": []
  },
  {
   "cell_type": "code",
   "execution_count": null,
   "metadata": {
    "colab": {},
    "colab_type": "code",
    "id": "yKNzAsfqk7nW"
   },
   "outputs": [],
   "source": []
  },
  {
   "cell_type": "markdown",
   "metadata": {},
   "source": []
  },
  {
   "cell_type": "code",
   "execution_count": null,
   "metadata": {
    "colab": {
     "base_uri": "https://localhost:8080/",
     "height": 102
    },
    "colab_type": "code",
    "executionInfo": {
     "elapsed": 634,
     "status": "ok",
     "timestamp": 1575481590190,
     "user": {
      "displayName": "Daniel Berman",
      "photoUrl": "",
      "userId": "07083512293139957454"
     },
     "user_tz": 300
    },
    "id": "at9HlsBPwivQ",
    "outputId": "e05370f5-6f78-4ffc-e899-cca514382d60"
   },
   "outputs": [],
   "source": [
    "# W_full\n",
    "# W\n",
    "# preset_preds.shape\n",
    "# print('MAE of BNN with q mean == true weights: ', np.mean(np.abs(preset_preds - y_train.flatten())))\n",
    "# print('acc of BNN with q mean == true weights: ', np.mean((preset_preds == y_train.flatten()).astype(int)))\n",
    "# print('\\n')\n",
    "# print(preset_preds[1], y_train[1])\n",
    "# bnn_preset.model.l1.W_log_s_DO\n",
    "# bnn_preset.model.l1.b_log_s_O\n",
    "# bnn_preset.MC_elbo(torch.Tensor(X_train), torch.Tensor(y_train), 9, 10, 100).detach().numpy()\n",
    "\n",
    "# plt.title(\"line with {} as slope\".format(w))\n",
    "# plt.plot(x1, x2)\n",
    "# plt.scatter(X_train1[y_train1 == 0,0], X_train1[y_train1 == 0,1], c='red', alpha=0.2)\n",
    "# plt.scatter(X_train1[y_train1 == 1,0], X_train1[y_train1 == 1,1], c='blue', alpha=0.2)\n",
    "# plt.ylim((-10, 10))\n",
    "\n",
    "# ax = fig.add_subplot(311, projection='3d')                             \n",
    "# print(\"------\")                                                        \n",
    "# print(x1[:,0].shape)                                                   \n",
    "# print(x1[:,1].shape)                                                   \n",
    "# print(y1.shape)                                                        \n",
    "# print(\"------\")                                                        \n",
    "# ax.plot_surface(x1[0,1], x1[:,1], y1)                                       \n",
    "# ax.set_xlabel('X_train[:,0]')                                          \n",
    "# ax.set_ylabel('X_train[:,1]')                                          \n",
    "# ax.set_zlabel('output[:,1] (Standard Deviation)')                      \n",
    "# fig.show()\n",
    "# plt.show()\n",
    "\n"
   ]
  },
  {
   "cell_type": "markdown",
   "metadata": {
    "colab": {
     "base_uri": "https://localhost:8080/",
     "height": 34
    },
    "colab_type": "code",
    "executionInfo": {
     "elapsed": 1135,
     "status": "ok",
     "timestamp": 1575481595376,
     "user": {
      "displayName": "Daniel Berman",
      "photoUrl": "",
      "userId": "07083512293139957454"
     },
     "user_tz": 300
    },
    "id": "bkhAi4HKngMx",
    "outputId": "46e3f86c-34c2-4131-f200-77d6e8c525cc"
   },
   "source": [
    "## test ELBO as slope of line changes"
   ]
  },
  {
   "cell_type": "code",
   "execution_count": null,
   "metadata": {
    "scrolled": true
   },
   "outputs": [],
   "source": [
    "def plane(x1, x2, w1, b):\n",
    "    return w1[0] * x1 + w1[1] * x2 + b\n",
    "\n",
    "# for regression toy set\n",
    "# W_full = np.hstack((W, W_s))\n",
    "# W_full\n",
    "\n",
    "# b_full = np.hstack((b, b_s))\n",
    "# b_full[1] = 2.0\n",
    "\n",
    "# for 3d\n",
    "# w1 = np.array([[0.0,1.0]]).T\n",
    "# w2 = np.array([[0.0,0.0]]).T\n",
    "# W_full = np.hstack((w1, w2))\n",
    "\n",
    "# x1 = x2 = np.arange(-8.0, 8.0, 0.05)\n",
    "# X1, X2 = np.meshgrid(x, y)\n",
    "# b = 0\n",
    "# Z = plane(X1, X2, w1, b)\n",
    "\n",
    "\n",
    "w1 = np.array([[0.0,1.0]]).T\n",
    "w2 = np.array([[0.0,0.0]]).T\n",
    "W_full = np.hstack((w1, w2))\n",
    "print(W_full)\n",
    "print(w1)\n",
    "# x1 = x2 = np.arange(-8.0, 8.0, 0.05)\n",
    "# X1, X2 = np.meshgrid(x, y)\n",
    "# b = 0\n",
    "# Z = plane(X1, X2, w1, b)\n",
    "bs = [i for i in range(-20, 20)]\n",
    "used_bs = []\n",
    "accuracies = []\n",
    "x_ints = []\n",
    "likelihoods = []\n",
    "grad_bs = []\n",
    "for b in bs:\n",
    "    b_full = np.array([b,0])\n",
    "    # b_full[0], b_full[1] = 0,0\n",
    "    bnn_preset = BNNBayesbyBackprop(prior_mu=0, \n",
    "                                    prior_s=0.8, \n",
    "                                    linear_regression=True, \n",
    "                                    classification=True,\n",
    "                                    preset={'W_mu': W_full, 'b_mu': b_full})\n",
    "    preset_preds = bnn_preset.model.forward(torch.Tensor(X_train), predict=True).detach().numpy()\n",
    "    used_b = bnn_preset.model.l1.usedBias[0].detach().numpy()\n",
    "    used_w = bnn_preset.model.l1.usedWeights[:,0][1].detach().numpy()\n",
    "    used_bs.append(used_b)\n",
    "    \n",
    "    x_intercept = -used_b / used_w\n",
    "    x_ints.append(x_intercept)\n",
    "    print('X_int', x_intercept)\n",
    "    print('\\nused_b is', used_b)\n",
    "    print('used_w is ', used_w)\n",
    "    \n",
    "    bnn_preset.MC_elbo(torch.Tensor(X_train), torch.Tensor(y_train), 9, 10, 100).detach().numpy()\n",
    "    acc = np.mean((preset_preds == y_train.flatten()).astype(int)) * 100\n",
    "    accuracies.append(acc)\n",
    "    print('Accuracy with {} as bias: '.format(b), acc, '%')\n",
    "    \n",
    "    likelihood = bnn_preset.mean_likelihood\n",
    "    likelihoods.append(likelihood)\n",
    "    print('likelihood', likelihood)\n",
    "    \n",
    "    grad_bs.append(bnn_preset.gradB)\n",
    " \n",
    "fig, ax = plt.subplots(2, 1, figsize=(10,5), sharex=True)\n",
    "ax[0].plot(x_ints, accuracies)\n",
    "# ax[0].scatter([np.min(X_train[y_train == 0, 1]), np.max(X_train[y_train == 0, 1])], [50,50], c='blue')\n",
    "ax[0].axvline(np.min(X_train[y_train == 0, 1]), c='blue')\n",
    "ax[0].axvline(np.max(X_train[y_train == 0, 1]), c='blue')\n",
    "\n",
    "ax[0].axvline(np.min(X_train[y_train == 1, 1]), c='red')\n",
    "ax[0].axvline(np.max(X_train[y_train == 1, 1]), c='red')\n",
    "\n",
    "# ax[0].scatter([np.min(X_train[y_train == 1, 1]), np.max(X_train[y_train == 1, 1])], [50,50], c='red')\n",
    "\n",
    "\n",
    "ax[1].plot(x_ints, likelihoods)\n",
    "print('class 0 min: ', np.min(X_train[y_train == 0, 1]))\n",
    "print('class 0 max: ',np.max(X_train[y_train == 0, 1]))\n",
    "print('class 1 min: ', np.min(X_train[y_train == 1, 1]))\n",
    "print('class 1 max: ',np.max(X_train[y_train == 1, 1]))\n",
    "\n"
   ]
  },
  {
   "cell_type": "code",
   "execution_count": null,
   "metadata": {},
   "outputs": [],
   "source": []
  },
  {
   "cell_type": "code",
   "execution_count": null,
   "metadata": {},
   "outputs": [],
   "source": [
    "fig, ax = plt.subplots(3, 1, figsize=(10,9), sharex=True)\n",
    "ax[0].set_title('Accuracy v X-intercept')\n",
    "ax[0].plot(x_ints, accuracies)\n",
    "# ax[0].scatter([np.min(X_train[y_train == 0, 1]), np.max(X_train[y_train == 0, 1])], [50,50], c='blue')\n",
    "ax[0].axvline(np.min(X_train[y_train == 0, 1]), c='blue')\n",
    "ax[0].axvline(np.max(X_train[y_train == 0, 1]), c='blue')\n",
    "\n",
    "ax[0].axvline(np.min(X_train[y_train == 1, 1]), c='red')\n",
    "ax[0].axvline(np.max(X_train[y_train == 1, 1]), c='red')\n",
    "ax[1].set_title('Likelihood v X-intercept')\n",
    "ax[1].plot(x_ints, likelihoods)\n",
    "\n",
    "ax[2].set_title('b grad v X-intercept')\n",
    "ax[2].plot(x_ints, grad_bs)"
   ]
  },
  {
   "cell_type": "code",
   "execution_count": 8,
   "metadata": {},
   "outputs": [
    {
     "ename": "NameError",
     "evalue": "name 'used_bs' is not defined",
     "output_type": "error",
     "traceback": [
      "\u001b[0;31m---------------------------------------------------------------------------\u001b[0m",
      "\u001b[0;31mNameError\u001b[0m                                 Traceback (most recent call last)",
      "\u001b[0;32m<ipython-input-8-7cd3f32833c0>\u001b[0m in \u001b[0;36m<module>\u001b[0;34m\u001b[0m\n\u001b[1;32m      1\u001b[0m \u001b[0mfig\u001b[0m\u001b[0;34m,\u001b[0m \u001b[0max\u001b[0m \u001b[0;34m=\u001b[0m \u001b[0mplt\u001b[0m\u001b[0;34m.\u001b[0m\u001b[0msubplots\u001b[0m\u001b[0;34m(\u001b[0m\u001b[0;36m3\u001b[0m\u001b[0;34m,\u001b[0m \u001b[0;36m1\u001b[0m\u001b[0;34m,\u001b[0m \u001b[0mfigsize\u001b[0m\u001b[0;34m=\u001b[0m\u001b[0;34m(\u001b[0m\u001b[0;36m10\u001b[0m\u001b[0;34m,\u001b[0m\u001b[0;36m9\u001b[0m\u001b[0;34m)\u001b[0m\u001b[0;34m,\u001b[0m \u001b[0msharex\u001b[0m\u001b[0;34m=\u001b[0m\u001b[0;32mTrue\u001b[0m\u001b[0;34m)\u001b[0m\u001b[0;34m\u001b[0m\u001b[0;34m\u001b[0m\u001b[0m\n\u001b[1;32m      2\u001b[0m \u001b[0max\u001b[0m\u001b[0;34m[\u001b[0m\u001b[0;36m0\u001b[0m\u001b[0;34m]\u001b[0m\u001b[0;34m.\u001b[0m\u001b[0mset_title\u001b[0m\u001b[0;34m(\u001b[0m\u001b[0;34m'Accuracy v bias'\u001b[0m\u001b[0;34m)\u001b[0m\u001b[0;34m\u001b[0m\u001b[0;34m\u001b[0m\u001b[0m\n\u001b[0;32m----> 3\u001b[0;31m \u001b[0max\u001b[0m\u001b[0;34m[\u001b[0m\u001b[0;36m0\u001b[0m\u001b[0;34m]\u001b[0m\u001b[0;34m.\u001b[0m\u001b[0mplot\u001b[0m\u001b[0;34m(\u001b[0m\u001b[0mused_bs\u001b[0m\u001b[0;34m,\u001b[0m \u001b[0maccuracies\u001b[0m\u001b[0;34m)\u001b[0m\u001b[0;34m\u001b[0m\u001b[0;34m\u001b[0m\u001b[0m\n\u001b[0m\u001b[1;32m      4\u001b[0m \u001b[0;31m# ax[0].scatter([np.min(X_train[y_train == 0, 1]), np.max(X_train[y_train == 0, 1])], [50,50], c='blue')\u001b[0m\u001b[0;34m\u001b[0m\u001b[0;34m\u001b[0m\u001b[0;34m\u001b[0m\u001b[0m\n\u001b[1;32m      5\u001b[0m \u001b[0;31m# ax[0].axvline(np.min(X_train[y_train == 0, 1]), c='blue')\u001b[0m\u001b[0;34m\u001b[0m\u001b[0;34m\u001b[0m\u001b[0;34m\u001b[0m\u001b[0m\n",
      "\u001b[0;31mNameError\u001b[0m: name 'used_bs' is not defined"
     ]
    },
    {
     "data": {
      "image/png": "[encoded data removed]",
      "text/plain": [
       "<Figure size 720x648 with 3 Axes>"
      ]
     },
     "metadata": {
      "needs_background": "light"
     },
     "output_type": "display_data"
    }
   ],
   "source": [
    "fig, ax = plt.subplots(3, 1, figsize=(10,9), sharex=True)\n",
    "ax[0].set_title('Accuracy v bias')\n",
    "ax[0].plot(used_bs, accuracies)\n",
    "# ax[0].scatter([np.min(X_train[y_train == 0, 1]), np.max(X_train[y_train == 0, 1])], [50,50], c='blue')\n",
    "# ax[0].axvline(np.min(X_train[y_train == 0, 1]), c='blue')\n",
    "# ax[0].axvline(np.max(X_train[y_train == 0, 1]), c='blue')\n",
    "\n",
    "# ax[0].axvline(np.min(X_train[y_train == 1, 1]), c='red')\n",
    "# ax[0].axvline(np.max(X_train[y_train == 1, 1]), c='red')\n",
    "ax[1].set_title('Likelihood v bias')\n",
    "ax[1].plot(used_bs, likelihoods)\n",
    "\n",
    "ax[2].set_title('b grad v bias')\n",
    "ax[2].plot(used_bs, grad_bs)"
   ]
  },
  {
   "cell_type": "code",
   "execution_count": 9,
   "metadata": {
    "scrolled": true
   },
   "outputs": [
    {
     "name": "stdout",
     "output_type": "stream",
     "text": [
      "weights:  [0 0]\n"
     ]
    },
    {
     "ename": "NameError",
     "evalue": "name 'b_full' is not defined",
     "output_type": "error",
     "traceback": [
      "\u001b[0;31m---------------------------------------------------------------------------\u001b[0m",
      "\u001b[0;31mNameError\u001b[0m                                 Traceback (most recent call last)",
      "\u001b[0;32m<ipython-input-9-0da47ea8af7c>\u001b[0m in \u001b[0;36m<module>\u001b[0;34m\u001b[0m\n\u001b[1;32m     12\u001b[0m                                 \u001b[0mlinear_regression\u001b[0m\u001b[0;34m=\u001b[0m\u001b[0;32mTrue\u001b[0m\u001b[0;34m,\u001b[0m\u001b[0;34m\u001b[0m\u001b[0;34m\u001b[0m\u001b[0m\n\u001b[1;32m     13\u001b[0m                                 \u001b[0mclassification\u001b[0m\u001b[0;34m=\u001b[0m\u001b[0;32mTrue\u001b[0m\u001b[0;34m,\u001b[0m\u001b[0;34m\u001b[0m\u001b[0;34m\u001b[0m\u001b[0m\n\u001b[0;32m---> 14\u001b[0;31m                                 preset={'W_mu': W_full, 'b_mu': b_full})\n\u001b[0m\u001b[1;32m     15\u001b[0m     \u001b[0mpreset_preds\u001b[0m \u001b[0;34m=\u001b[0m \u001b[0mbnn_preset\u001b[0m\u001b[0;34m.\u001b[0m\u001b[0mmodel\u001b[0m\u001b[0;34m.\u001b[0m\u001b[0mforward\u001b[0m\u001b[0;34m(\u001b[0m\u001b[0mtorch\u001b[0m\u001b[0;34m.\u001b[0m\u001b[0mTensor\u001b[0m\u001b[0;34m(\u001b[0m\u001b[0mX_train1\u001b[0m\u001b[0;34m)\u001b[0m\u001b[0;34m,\u001b[0m \u001b[0mpredict\u001b[0m\u001b[0;34m=\u001b[0m\u001b[0;32mTrue\u001b[0m\u001b[0;34m)\u001b[0m\u001b[0;34m.\u001b[0m\u001b[0mdetach\u001b[0m\u001b[0;34m(\u001b[0m\u001b[0;34m)\u001b[0m\u001b[0;34m.\u001b[0m\u001b[0mnumpy\u001b[0m\u001b[0;34m(\u001b[0m\u001b[0;34m)\u001b[0m\u001b[0;34m\u001b[0m\u001b[0;34m\u001b[0m\u001b[0m\n\u001b[1;32m     16\u001b[0m     \u001b[0mprint\u001b[0m\u001b[0;34m(\u001b[0m\u001b[0;34m'ELBO components with {} as slope: \\n'\u001b[0m\u001b[0;34m.\u001b[0m\u001b[0mformat\u001b[0m\u001b[0;34m(\u001b[0m\u001b[0mw\u001b[0m\u001b[0;34m)\u001b[0m\u001b[0;34m)\u001b[0m\u001b[0;34m\u001b[0m\u001b[0;34m\u001b[0m\u001b[0m\n",
      "\u001b[0;31mNameError\u001b[0m: name 'b_full' is not defined"
     ]
    }
   ],
   "source": [
    "X_train1 = X_train\n",
    "y_train1 = y_train\n",
    "\n",
    "accuracies = []\n",
    "weights = [0.0, 0.1, 0.5, 1.0, 3.0, 5.0, 5.5, 6.0, 7.0, 10.0]\n",
    "for w in weights:\n",
    "#     w1 = np.array([0, w])\n",
    "    W_full[0][0] = w\n",
    "    print('weights: ', W_full[0])\n",
    "    bnn_preset = BNNBayesbyBackprop(prior_mu=0, \n",
    "                                prior_s=0.8, \n",
    "                                linear_regression=True, \n",
    "                                classification=True,\n",
    "                                preset={'W_mu': W_full, 'b_mu': b_full})\n",
    "    preset_preds = bnn_preset.model.forward(torch.Tensor(X_train1), predict=True).detach().numpy()\n",
    "    print('ELBO components with {} as slope: \\n'.format(w))\n",
    "    bnn_preset.MC_elbo(torch.Tensor(X_train1), torch.Tensor(y_train1), 9, 10, 100).detach().numpy()\n",
    "    print('Accuracy with {} as slope: '.format(w), np.mean((preset_preds == y_train1.flatten()).astype(int)) * 100, '%')\n",
    "    \n",
    "    Z = plane(X1, X2, W_full[0], b)\n",
    "    \n",
    "    fig = plt.figure(figsize=(20,20))\n",
    "    ax = fig.add_subplot(311, projection='3d') \n",
    "    ax.set_title(\"line with {} as slope\".format(w))\n",
    "\n",
    "    ax.scatter(X_train[y_train == 0,0], X_train[y_train == 0,1], c='blue')\n",
    "    ax.scatter(X_train[y_train == 1,0], X_train[y_train == 1,1], c='red')\n",
    "    ax.plot_wireframe(X1, X2, Z, color='grey', alpha = 0.99)\n",
    "\n",
    "#     fig.show()\n",
    "    plt.show()\n",
    "#     x1 = np.random.uniform(-8, 8, 100)\n",
    "#     x2 = w * x1\n",
    "\n",
    "#     plt.title(\"line with {} as slope\".format(w))\n",
    "#     plt.plot(x1, x2)\n",
    "#     plt.scatter(X_train1[y_train1 == 0,0], X_train1[y_train1 == 0,1], c='red', alpha=0.2)\n",
    "#     plt.scatter(X_train1[y_train1 == 1,0], X_train1[y_train1 == 1,1], c='blue', alpha=0.2)\n",
    "#     plt.ylim((-10, 10))\n",
    "    "
   ]
  },
  {
   "cell_type": "code",
   "execution_count": null,
   "metadata": {},
   "outputs": [],
   "source": []
  },
  {
   "cell_type": "code",
   "execution_count": null,
   "metadata": {
    "colab": {
     "base_uri": "https://localhost:8080/",
     "height": 1000
    },
    "colab_type": "code",
    "executionInfo": {
     "elapsed": 1014343,
     "status": "ok",
     "timestamp": 1575482610606,
     "user": {
      "displayName": "Daniel Berman",
      "photoUrl": "",
      "userId": "07083512293139957454"
     },
     "user_tz": 300
    },
    "id": "VC7QdLdI67nY",
    "outputId": "0a2d9304-d21a-49d6-ee93-f08f9d695b69",
    "scrolled": true
   },
   "outputs": [
    {
     "name": "stdout",
     "output_type": "stream",
     "text": [
      "Data being saved in following file:\n",
      "logging.csv\n",
      "real:  [0. 0. 0. 1. 1. 1. 1.]\n",
      "Epoch:  0 \tLoss:  11837.227 \tacc:  1.0 \n",
      "\n",
      "real:  [0. 0. 0. 1. 1. 1. 1.]\n",
      "Epoch:  1 \tLoss:  8587.01 \tacc:  0.0326 \n",
      "\n",
      "real:  [0. 0. 0. 1. 1. 1. 1.]\n",
      "Epoch:  2 \tLoss:  6336.2314 \tacc:  0.9532 \n",
      "\n",
      "real:  [0. 0. 0. 1. 1. 1. 1.]\n",
      "Epoch:  3 \tLoss:  7224.2197 \tacc:  0.7924 \n",
      "\n",
      "real:  [0. 0. 0. 1. 1. 1. 1.]\n",
      "Epoch:  4 \tLoss:  5246.4546 \tacc:  0.0082 \n",
      "\n",
      "real:  [0. 0. 0. 1. 1. 1. 1.]\n",
      "Epoch:  5 \tLoss:  4908.7593 \tacc:  0.9606 \n",
      "\n",
      "real:  [0. 0. 0. 1. 1. 1. 1.]\n",
      "Epoch:  6 \tLoss:  4138.1436 \tacc:  1.0 \n",
      "\n",
      "real:  [0. 0. 0. 1. 1. 1. 1.]\n",
      "Epoch:  7 \tLoss:  4804.8115 \tacc:  1.0 \n",
      "\n",
      "real:  [0. 0. 0. 1. 1. 1. 1.]\n",
      "Epoch:  8 \tLoss:  4131.7896 \tacc:  0.9982 \n",
      "\n",
      "real:  [0. 0. 0. 1. 1. 1. 1.]\n",
      "Epoch:  9 \tLoss:  2453.8247 \tacc:  0.9978 \n",
      "\n",
      "real:  [0. 0. 0. 1. 1. 1. 1.]\n",
      "Epoch:  10 \tLoss:  2845.7637 \tacc:  0.9766 \n",
      "\n",
      "real:  [0. 0. 0. 1. 1. 1. 1.]\n",
      "Epoch:  11 \tLoss:  2526.548 \tacc:  1.0 \n",
      "\n",
      "real:  [0. 0. 0. 1. 1. 1. 1.]\n",
      "Epoch:  12 \tLoss:  1946.5447 \tacc:  0.8286 \n",
      "\n",
      "real:  [0. 0. 0. 1. 1. 1. 1.]\n",
      "Epoch:  13 \tLoss:  1317.7963 \tacc:  1.0 \n",
      "\n",
      "real:  [0. 0. 0. 1. 1. 1. 1.]\n",
      "Epoch:  14 \tLoss:  1178.7732 \tacc:  0.9988 \n",
      "\n",
      "real:  [0. 0. 0. 1. 1. 1. 1.]\n",
      "Epoch:  15 \tLoss:  1044.5206 \tacc:  0.9998 \n",
      "\n",
      "real:  [0. 0. 0. 1. 1. 1. 1.]\n",
      "Epoch:  16 \tLoss:  931.23645 \tacc:  1.0 \n",
      "\n",
      "real:  [0. 0. 0. 1. 1. 1. 1.]\n",
      "Epoch:  17 \tLoss:  993.2085 \tacc:  0.1144 \n",
      "\n",
      "real:  [0. 0. 0. 1. 1. 1. 1.]\n",
      "Epoch:  18 \tLoss:  1060.3761 \tacc:  0.9988 \n",
      "\n",
      "real:  [0. 0. 0. 1. 1. 1. 1.]\n",
      "Epoch:  19 \tLoss:  718.9317 \tacc:  1.0 \n",
      "\n",
      "real:  [0. 0. 0. 1. 1. 1. 1.]\n",
      "Epoch:  20 \tLoss:  904.5447 \tacc:  1.0 \n",
      "\n",
      "real:  [0. 0. 0. 1. 1. 1. 1.]\n",
      "Epoch:  21 \tLoss:  714.50806 \tacc:  1.0 \n",
      "\n",
      "real:  [0. 0. 0. 1. 1. 1. 1.]\n",
      "Epoch:  22 \tLoss:  538.57574 \tacc:  1.0 \n",
      "\n",
      "real:  [0. 0. 0. 1. 1. 1. 1.]\n",
      "Epoch:  23 \tLoss:  744.8497 \tacc:  1.0 \n",
      "\n",
      "real:  [0. 0. 0. 1. 1. 1. 1.]\n",
      "Epoch:  24 \tLoss:  692.61597 \tacc:  0.9998 \n",
      "\n",
      "real:  [0. 0. 0. 1. 1. 1. 1.]\n",
      "Epoch:  25 \tLoss:  291.75192 \tacc:  1.0 \n",
      "\n",
      "real:  [0. 0. 0. 1. 1. 1. 1.]\n",
      "Epoch:  26 \tLoss:  481.6653 \tacc:  1.0 \n",
      "\n",
      "real:  [0. 0. 0. 1. 1. 1. 1.]\n",
      "Epoch:  27 \tLoss:  320.06873 \tacc:  1.0 \n",
      "\n",
      "real:  [0. 0. 0. 1. 1. 1. 1.]\n",
      "Epoch:  28 \tLoss:  442.43808 \tacc:  1.0 \n",
      "\n",
      "real:  [0. 0. 0. 1. 1. 1. 1.]\n",
      "Epoch:  29 \tLoss:  206.86621 \tacc:  1.0 \n",
      "\n",
      "real:  [0. 0. 0. 1. 1. 1. 1.]\n",
      "Epoch:  30 \tLoss:  226.0308 \tacc:  1.0 \n",
      "\n",
      "real:  [0. 0. 0. 1. 1. 1. 1.]\n",
      "Epoch:  31 \tLoss:  246.37352 \tacc:  1.0 \n",
      "\n",
      "real:  [0. 0. 0. 1. 1. 1. 1.]\n",
      "Epoch:  32 \tLoss:  250.25174 \tacc:  1.0 \n",
      "\n",
      "real:  [0. 0. 0. 1. 1. 1. 1.]\n",
      "Epoch:  33 \tLoss:  260.24506 \tacc:  1.0 \n",
      "\n",
      "real:  [0. 0. 0. 1. 1. 1. 1.]\n",
      "Epoch:  34 \tLoss:  280.08173 \tacc:  1.0 \n",
      "\n",
      "real:  [0. 0. 0. 1. 1. 1. 1.]\n",
      "Epoch:  35 \tLoss:  245.57455 \tacc:  1.0 \n",
      "\n",
      "real:  [0. 0. 0. 1. 1. 1. 1.]\n",
      "Epoch:  36 \tLoss:  213.24191 \tacc:  1.0 \n",
      "\n",
      "real:  [0. 0. 0. 1. 1. 1. 1.]\n",
      "Epoch:  37 \tLoss:  201.89948 \tacc:  1.0 \n",
      "\n",
      "real:  [0. 0. 0. 1. 1. 1. 1.]\n",
      "Epoch:  38 \tLoss:  189.13503 \tacc:  1.0 \n",
      "\n",
      "real:  [0. 0. 0. 1. 1. 1. 1.]\n",
      "Epoch:  39 \tLoss:  164.91472 \tacc:  1.0 \n",
      "\n",
      "real:  [0. 0. 0. 1. 1. 1. 1.]\n",
      "Epoch:  40 \tLoss:  204.17477 \tacc:  1.0 \n",
      "\n",
      "real:  [0. 0. 0. 1. 1. 1. 1.]\n",
      "Epoch:  41 \tLoss:  185.05563 \tacc:  1.0 \n",
      "\n",
      "real:  [0. 0. 0. 1. 1. 1. 1.]\n",
      "Epoch:  42 \tLoss:  158.29794 \tacc:  1.0 \n",
      "\n",
      "real:  [0. 0. 0. 1. 1. 1. 1.]\n",
      "Epoch:  43 \tLoss:  147.53137 \tacc:  1.0 \n",
      "\n",
      "real:  [0. 0. 0. 1. 1. 1. 1.]\n",
      "Epoch:  44 \tLoss:  129.8613 \tacc:  0.988 \n",
      "\n",
      "real:  [0. 0. 0. 1. 1. 1. 1.]\n",
      "Epoch:  45 \tLoss:  182.21646 \tacc:  1.0 \n",
      "\n",
      "real:  [0. 0. 0. 1. 1. 1. 1.]\n",
      "Epoch:  46 \tLoss:  98.52936 \tacc:  0.9998 \n",
      "\n",
      "real:  [0. 0. 0. 1. 1. 1. 1.]\n",
      "Epoch:  47 \tLoss:  130.78741 \tacc:  1.0 \n",
      "\n",
      "real:  [0. 0. 0. 1. 1. 1. 1.]\n",
      "Epoch:  48 \tLoss:  102.1312 \tacc:  1.0 \n",
      "\n",
      "real:  [0. 0. 0. 1. 1. 1. 1.]\n",
      "Epoch:  49 \tLoss:  127.75217 \tacc:  1.0 \n",
      "\n",
      "real:  [0. 0. 0. 1. 1. 1. 1.]\n",
      "Epoch:  50 \tLoss:  100.92127 \tacc:  1.0 \n",
      "\n",
      "real:  [0. 0. 0. 1. 1. 1. 1.]\n",
      "Epoch:  51 \tLoss:  97.261055 \tacc:  1.0 \n",
      "\n",
      "real:  [0. 0. 0. 1. 1. 1. 1.]\n",
      "Epoch:  52 \tLoss:  124.7417 \tacc:  1.0 \n",
      "\n",
      "real:  [0. 0. 0. 1. 1. 1. 1.]\n",
      "Epoch:  53 \tLoss:  98.980095 \tacc:  1.0 \n",
      "\n",
      "real:  [0. 0. 0. 1. 1. 1. 1.]\n",
      "Epoch:  54 \tLoss:  92.093254 \tacc:  1.0 \n",
      "\n",
      "real:  [0. 0. 0. 1. 1. 1. 1.]\n",
      "Epoch:  55 \tLoss:  83.6368 \tacc:  1.0 \n",
      "\n",
      "real:  [0. 0. 0. 1. 1. 1. 1.]\n",
      "Epoch:  56 \tLoss:  76.933 \tacc:  1.0 \n",
      "\n",
      "real:  [0. 0. 0. 1. 1. 1. 1.]\n",
      "Epoch:  57 \tLoss:  74.33 \tacc:  1.0 \n",
      "\n",
      "real:  [0. 0. 0. 1. 1. 1. 1.]\n",
      "Epoch:  58 \tLoss:  102.051315 \tacc:  1.0 \n",
      "\n",
      "real:  [0. 0. 0. 1. 1. 1. 1.]\n",
      "Epoch:  59 \tLoss:  68.271805 \tacc:  1.0 \n",
      "\n",
      "real:  [0. 0. 0. 1. 1. 1. 1.]\n",
      "Epoch:  60 \tLoss:  75.06543 \tacc:  1.0 \n",
      "\n",
      "real:  [0. 0. 0. 1. 1. 1. 1.]\n",
      "Epoch:  61 \tLoss:  76.81787 \tacc:  1.0 \n",
      "\n",
      "real:  [0. 0. 0. 1. 1. 1. 1.]\n",
      "Epoch:  62 \tLoss:  61.560837 \tacc:  1.0 \n",
      "\n",
      "real:  [0. 0. 0. 1. 1. 1. 1.]\n",
      "Epoch:  63 \tLoss:  96.983086 \tacc:  1.0 \n",
      "\n",
      "real:  [0. 0. 0. 1. 1. 1. 1.]\n",
      "Epoch:  64 \tLoss:  106.56703 \tacc:  1.0 \n",
      "\n",
      "real:  [0. 0. 0. 1. 1. 1. 1.]\n",
      "Epoch:  65 \tLoss:  80.11893 \tacc:  1.0 \n",
      "\n",
      "real:  [0. 0. 0. 1. 1. 1. 1.]\n",
      "Epoch:  66 \tLoss:  70.2927 \tacc:  1.0 \n",
      "\n",
      "real:  [0. 0. 0. 1. 1. 1. 1.]\n",
      "Epoch:  67 \tLoss:  82.87528 \tacc:  1.0 \n",
      "\n"
     ]
    }
   ],
   "source": [
    "# bnn = BNNBayesbyBackprop(prior_mu=0, prior_s=0.8, num_MC_samples=30, linear_regression=True, preset=False, classification=False)\n",
    "# w1 = np.array([[0.0, 1.0]]).T\n",
    "# w2 = np.array([[0.0, 0.0]]).T\n",
    "# W_full = np.hstack((w1, w2))\n",
    "# b_full = np.array([0,0])\n",
    "# print(W_full)\n",
    "\n",
    "bnn = BNNBayesbyBackprop(prior_mu=0.0, prior_s=1.0, num_MC_samples=30, linear_regression=True, preset=False, classification=True)\n",
    "bnn.fit(X_train, y_train, plot=True, n_epochs=75, learning_rate=1e-2, batch_size=1000)"
   ]
  },
  {
   "cell_type": "code",
   "execution_count": null,
   "metadata": {},
   "outputs": [],
   "source": [
    "\n",
    "df = pd.read_csv(\"logging.csv\")\n",
    "\n",
    "df.drop(['w2_1', 'w2_2', 'w2_1_grad', 'w2_2_grad', 'b_2', 'b_2_grad'], axis=1, inplace=True)\n",
    "df.tail()"
   ]
  },
  {
   "cell_type": "code",
   "execution_count": null,
   "metadata": {},
   "outputs": [],
   "source": [
    "bnn.likelihood_est(torch.tensor(y_train), torch.tensor(y_train), 0.1)"
   ]
  },
  {
   "cell_type": "code",
   "execution_count": 20,
   "metadata": {},
   "outputs": [
    {
     "data": {
      "text/html": [
       "<div>\n",
       "<style scoped>\n",
       "    .dataframe tbody tr th:only-of-type {\n",
       "        vertical-align: middle;\n",
       "    }\n",
       "\n",
       "    .dataframe tbody tr th {\n",
       "        vertical-align: top;\n",
       "    }\n",
       "\n",
       "    .dataframe thead th {\n",
       "        text-align: right;\n",
       "    }\n",
       "</style>\n",
       "<table border=\"1\" class=\"dataframe\">\n",
       "  <thead>\n",
       "    <tr style=\"text-align: right;\">\n",
       "      <th></th>\n",
       "      <th>w1_1</th>\n",
       "      <th>w1_2</th>\n",
       "      <th>w2_1</th>\n",
       "      <th>w2_2</th>\n",
       "      <th>w1_1_grad</th>\n",
       "      <th>w1_2_grad</th>\n",
       "      <th>w2_1_grad</th>\n",
       "      <th>w2_2_grad</th>\n",
       "      <th>b_1</th>\n",
       "      <th>b_2</th>\n",
       "      <th>b_1_grad</th>\n",
       "      <th>b_2_grad</th>\n",
       "    </tr>\n",
       "  </thead>\n",
       "  <tbody>\n",
       "    <tr>\n",
       "      <th>0</th>\n",
       "      <td>-0.033313</td>\n",
       "      <td>-0.138953</td>\n",
       "      <td>-0.110779</td>\n",
       "      <td>-0.071627</td>\n",
       "      <td>9.880732</td>\n",
       "      <td>-0.058183</td>\n",
       "      <td>-2219.5999</td>\n",
       "      <td>0.374526</td>\n",
       "      <td>0.123963</td>\n",
       "      <td>0.077896</td>\n",
       "      <td>13.482121</td>\n",
       "      <td>0.289888</td>\n",
       "    </tr>\n",
       "    <tr>\n",
       "      <th>1</th>\n",
       "      <td>-0.033143</td>\n",
       "      <td>-0.139107</td>\n",
       "      <td>-0.110279</td>\n",
       "      <td>-0.071726</td>\n",
       "      <td>-18.478554</td>\n",
       "      <td>0.100393</td>\n",
       "      <td>-2319.9260</td>\n",
       "      <td>-0.220920</td>\n",
       "      <td>0.123463</td>\n",
       "      <td>0.077398</td>\n",
       "      <td>15.891560</td>\n",
       "      <td>0.404627</td>\n",
       "    </tr>\n",
       "    <tr>\n",
       "      <th>2</th>\n",
       "      <td>NaN</td>\n",
       "      <td>NaN</td>\n",
       "      <td>NaN</td>\n",
       "      <td>NaN</td>\n",
       "      <td>NaN</td>\n",
       "      <td>NaN</td>\n",
       "      <td>NaN</td>\n",
       "      <td>NaN</td>\n",
       "      <td>NaN</td>\n",
       "      <td>NaN</td>\n",
       "      <td>NaN</td>\n",
       "      <td>NaN</td>\n",
       "    </tr>\n",
       "    <tr>\n",
       "      <th>3</th>\n",
       "      <td>NaN</td>\n",
       "      <td>NaN</td>\n",
       "      <td>NaN</td>\n",
       "      <td>NaN</td>\n",
       "      <td>NaN</td>\n",
       "      <td>NaN</td>\n",
       "      <td>NaN</td>\n",
       "      <td>NaN</td>\n",
       "      <td>NaN</td>\n",
       "      <td>NaN</td>\n",
       "      <td>NaN</td>\n",
       "      <td>NaN</td>\n",
       "    </tr>\n",
       "    <tr>\n",
       "      <th>4</th>\n",
       "      <td>NaN</td>\n",
       "      <td>NaN</td>\n",
       "      <td>NaN</td>\n",
       "      <td>NaN</td>\n",
       "      <td>NaN</td>\n",
       "      <td>NaN</td>\n",
       "      <td>NaN</td>\n",
       "      <td>NaN</td>\n",
       "      <td>NaN</td>\n",
       "      <td>NaN</td>\n",
       "      <td>NaN</td>\n",
       "      <td>NaN</td>\n",
       "    </tr>\n",
       "    <tr>\n",
       "      <th>5</th>\n",
       "      <td>NaN</td>\n",
       "      <td>NaN</td>\n",
       "      <td>NaN</td>\n",
       "      <td>NaN</td>\n",
       "      <td>NaN</td>\n",
       "      <td>NaN</td>\n",
       "      <td>NaN</td>\n",
       "      <td>NaN</td>\n",
       "      <td>NaN</td>\n",
       "      <td>NaN</td>\n",
       "      <td>NaN</td>\n",
       "      <td>NaN</td>\n",
       "    </tr>\n",
       "    <tr>\n",
       "      <th>6</th>\n",
       "      <td>NaN</td>\n",
       "      <td>NaN</td>\n",
       "      <td>NaN</td>\n",
       "      <td>NaN</td>\n",
       "      <td>NaN</td>\n",
       "      <td>NaN</td>\n",
       "      <td>NaN</td>\n",
       "      <td>NaN</td>\n",
       "      <td>NaN</td>\n",
       "      <td>NaN</td>\n",
       "      <td>NaN</td>\n",
       "      <td>NaN</td>\n",
       "    </tr>\n",
       "    <tr>\n",
       "      <th>7</th>\n",
       "      <td>NaN</td>\n",
       "      <td>NaN</td>\n",
       "      <td>NaN</td>\n",
       "      <td>NaN</td>\n",
       "      <td>NaN</td>\n",
       "      <td>NaN</td>\n",
       "      <td>NaN</td>\n",
       "      <td>NaN</td>\n",
       "      <td>NaN</td>\n",
       "      <td>NaN</td>\n",
       "      <td>NaN</td>\n",
       "      <td>NaN</td>\n",
       "    </tr>\n",
       "    <tr>\n",
       "      <th>8</th>\n",
       "      <td>NaN</td>\n",
       "      <td>NaN</td>\n",
       "      <td>NaN</td>\n",
       "      <td>NaN</td>\n",
       "      <td>NaN</td>\n",
       "      <td>NaN</td>\n",
       "      <td>NaN</td>\n",
       "      <td>NaN</td>\n",
       "      <td>NaN</td>\n",
       "      <td>NaN</td>\n",
       "      <td>NaN</td>\n",
       "      <td>NaN</td>\n",
       "    </tr>\n",
       "    <tr>\n",
       "      <th>9</th>\n",
       "      <td>NaN</td>\n",
       "      <td>NaN</td>\n",
       "      <td>NaN</td>\n",
       "      <td>NaN</td>\n",
       "      <td>NaN</td>\n",
       "      <td>NaN</td>\n",
       "      <td>NaN</td>\n",
       "      <td>NaN</td>\n",
       "      <td>NaN</td>\n",
       "      <td>NaN</td>\n",
       "      <td>NaN</td>\n",
       "      <td>NaN</td>\n",
       "    </tr>\n",
       "    <tr>\n",
       "      <th>10</th>\n",
       "      <td>NaN</td>\n",
       "      <td>NaN</td>\n",
       "      <td>NaN</td>\n",
       "      <td>NaN</td>\n",
       "      <td>NaN</td>\n",
       "      <td>NaN</td>\n",
       "      <td>NaN</td>\n",
       "      <td>NaN</td>\n",
       "      <td>NaN</td>\n",
       "      <td>NaN</td>\n",
       "      <td>NaN</td>\n",
       "      <td>NaN</td>\n",
       "    </tr>\n",
       "    <tr>\n",
       "      <th>11</th>\n",
       "      <td>NaN</td>\n",
       "      <td>NaN</td>\n",
       "      <td>NaN</td>\n",
       "      <td>NaN</td>\n",
       "      <td>NaN</td>\n",
       "      <td>NaN</td>\n",
       "      <td>NaN</td>\n",
       "      <td>NaN</td>\n",
       "      <td>NaN</td>\n",
       "      <td>NaN</td>\n",
       "      <td>NaN</td>\n",
       "      <td>NaN</td>\n",
       "    </tr>\n",
       "    <tr>\n",
       "      <th>12</th>\n",
       "      <td>NaN</td>\n",
       "      <td>NaN</td>\n",
       "      <td>NaN</td>\n",
       "      <td>NaN</td>\n",
       "      <td>NaN</td>\n",
       "      <td>NaN</td>\n",
       "      <td>NaN</td>\n",
       "      <td>NaN</td>\n",
       "      <td>NaN</td>\n",
       "      <td>NaN</td>\n",
       "      <td>NaN</td>\n",
       "      <td>NaN</td>\n",
       "    </tr>\n",
       "    <tr>\n",
       "      <th>13</th>\n",
       "      <td>NaN</td>\n",
       "      <td>NaN</td>\n",
       "      <td>NaN</td>\n",
       "      <td>NaN</td>\n",
       "      <td>NaN</td>\n",
       "      <td>NaN</td>\n",
       "      <td>NaN</td>\n",
       "      <td>NaN</td>\n",
       "      <td>NaN</td>\n",
       "      <td>NaN</td>\n",
       "      <td>NaN</td>\n",
       "      <td>NaN</td>\n",
       "    </tr>\n",
       "  </tbody>\n",
       "</table>\n",
       "</div>"
      ],
      "text/plain": [
       "        w1_1      w1_2      w2_1      w2_2  w1_1_grad  w1_2_grad  w2_1_grad  \\\n",
       "0  -0.033313 -0.138953 -0.110779 -0.071627   9.880732  -0.058183 -2219.5999   \n",
       "1  -0.033143 -0.139107 -0.110279 -0.071726 -18.478554   0.100393 -2319.9260   \n",
       "2        NaN       NaN       NaN       NaN        NaN        NaN        NaN   \n",
       "3        NaN       NaN       NaN       NaN        NaN        NaN        NaN   \n",
       "4        NaN       NaN       NaN       NaN        NaN        NaN        NaN   \n",
       "5        NaN       NaN       NaN       NaN        NaN        NaN        NaN   \n",
       "6        NaN       NaN       NaN       NaN        NaN        NaN        NaN   \n",
       "7        NaN       NaN       NaN       NaN        NaN        NaN        NaN   \n",
       "8        NaN       NaN       NaN       NaN        NaN        NaN        NaN   \n",
       "9        NaN       NaN       NaN       NaN        NaN        NaN        NaN   \n",
       "10       NaN       NaN       NaN       NaN        NaN        NaN        NaN   \n",
       "11       NaN       NaN       NaN       NaN        NaN        NaN        NaN   \n",
       "12       NaN       NaN       NaN       NaN        NaN        NaN        NaN   \n",
       "13       NaN       NaN       NaN       NaN        NaN        NaN        NaN   \n",
       "\n",
       "    w2_2_grad       b_1       b_2   b_1_grad  b_2_grad  \n",
       "0    0.374526  0.123963  0.077896  13.482121  0.289888  \n",
       "1   -0.220920  0.123463  0.077398  15.891560  0.404627  \n",
       "2         NaN       NaN       NaN        NaN       NaN  \n",
       "3         NaN       NaN       NaN        NaN       NaN  \n",
       "4         NaN       NaN       NaN        NaN       NaN  \n",
       "5         NaN       NaN       NaN        NaN       NaN  \n",
       "6         NaN       NaN       NaN        NaN       NaN  \n",
       "7         NaN       NaN       NaN        NaN       NaN  \n",
       "8         NaN       NaN       NaN        NaN       NaN  \n",
       "9         NaN       NaN       NaN        NaN       NaN  \n",
       "10        NaN       NaN       NaN        NaN       NaN  \n",
       "11        NaN       NaN       NaN        NaN       NaN  \n",
       "12        NaN       NaN       NaN        NaN       NaN  \n",
       "13        NaN       NaN       NaN        NaN       NaN  "
      ]
     },
     "execution_count": 20,
     "metadata": {},
     "output_type": "execute_result"
    }
   ],
   "source": []
  },
  {
   "cell_type": "code",
   "execution_count": 23,
   "metadata": {},
   "outputs": [
    {
     "data": {
      "image/png": "[encoded data removed]",
      "text/plain": [
       "<Figure size 432x288 with 1 Axes>"
      ]
     },
     "metadata": {
      "needs_background": "light"
     },
     "output_type": "display_data"
    },
    {
     "data": {
      "image/png": "[encoded data removed]",
      "text/plain": [
       "<Figure size 432x288 with 1 Axes>"
      ]
     },
     "metadata": {
      "needs_background": "light"
     },
     "output_type": "display_data"
    },
    {
     "data": {
      "image/png": "[encoded data removed]",
      "text/plain": [
       "<Figure size 432x288 with 1 Axes>"
      ]
     },
     "metadata": {
      "needs_background": "light"
     },
     "output_type": "display_data"
    },
    {
     "data": {
      "image/png": "[encoded data removed]",
      "text/plain": [
       "<Figure size 432x288 with 1 Axes>"
      ]
     },
     "metadata": {
      "needs_background": "light"
     },
     "output_type": "display_data"
    }
   ],
   "source": [
    "from graph_utils import *\n",
    "\n",
    "df = pd.read_csv(\"1575743846.csv\")\n",
    "\n",
    "\n",
    "\"\"\"\n",
    "w1_1,w1_2,w2_1,w2_2,\n",
    "w1_1_grad,w1_2_grad,w2_1_grad,w2_2_grad,\n",
    "b_1,b_2,\n",
    "b_1_grad,b_2_grad\n",
    "\"\"\"\n",
    "\n",
    "graphCols(df, cols=['w1_1', 'w1_2', 'w2_1', 'w2_2'], ylabel='y', plotDim1=4, plotDim2=4)\n",
    "\n"
   ]
  },
  {
   "cell_type": "code",
   "execution_count": null,
   "metadata": {},
   "outputs": [],
   "source": [
    "a = torch.normal(torch.tensor([0.0]*5), torch.tensor([5.0]*5))\n",
    "print(a)\n",
    "\n",
    "sig = nn.Sigmoid()\n",
    "sig(a) > 0.5\n",
    "\n",
    "bnn.likelihood_est(torch.tensor([0.0]*5), a, 0.1)"
   ]
  },
  {
   "cell_type": "code",
   "execution_count": null,
   "metadata": {
    "colab": {
     "base_uri": "https://localhost:8080/",
     "height": 187
    },
    "colab_type": "code",
    "executionInfo": {
     "elapsed": 397,
     "status": "ok",
     "timestamp": 1575429539097,
     "user": {
      "displayName": "Daniel Berman",
      "photoUrl": "",
      "userId": "07083512293139957454"
     },
     "user_tz": 300
    },
    "id": "OUADkek91RG0",
    "outputId": "7e10f642-0a1a-47ca-e9b8-c41a4b229be3"
   },
   "outputs": [],
   "source": [
    "for _ in range(10):\n",
    "    pred1 = X_train @ W + b \n",
    "    pred2 = X_train @ W + b + np.random.normal(loc=0, scale=np.exp(X_train @ W_s + b_s))\n",
    "    mae1 = np.mean(np.abs(pred1 - y_train))\n",
    "    mae2 = np.mean(np.abs(pred2 - y_train))\n",
    "    print(\"MAE 1: \", mae1, \"MAE 2:\", mae2)"
   ]
  },
  {
   "cell_type": "code",
   "execution_count": null,
   "metadata": {
    "colab": {
     "base_uri": "https://localhost:8080/",
     "height": 810
    },
    "colab_type": "code",
    "executionInfo": {
     "elapsed": 1127,
     "status": "ok",
     "timestamp": 1575429541904,
     "user": {
      "displayName": "Daniel Berman",
      "photoUrl": "",
      "userId": "07083512293139957454"
     },
     "user_tz": 300
    },
    "id": "P5o10gzNWJWK",
    "outputId": "112219f1-6040-41f6-a6a5-d7b92f454a23"
   },
   "outputs": [],
   "source": [
    "# This import registers the 3D projection, but is otherwise unused.\n",
    "from mpl_toolkits.mplot3d import Axes3D  # noqa: F401 unused import\n",
    "\n",
    "final_pred = bnn.model.forward(torch.Tensor(X_train))\n",
    "print(final_pred[:5,0])\n",
    "\n",
    "\n",
    "pred_std = torch.exp(final_pred[:,1])\n",
    "\n",
    "print(pred_std)\n",
    "print(X_train)\n",
    "\n",
    "fig = plt.figure(figsize=(10,10))\n",
    "ax = fig.add_subplot(311, projection='3d')\n",
    "\n",
    "sparse_cap = int(len(X_train) / 10)\n",
    "\n",
    "ax.scatter(X_train[:sparse_cap,0], X_train[:sparse_cap,1], pred_std[:sparse_cap].detach().numpy())\n",
    "ax.set_xlabel('X_train[:,0]')\n",
    "ax.set_ylabel('X_train[:,1]')\n",
    "ax.set_zlabel('output[:,1] (Standard Deviation)')\n",
    "\n",
    "\n",
    "\n",
    "# 2D Plot:\n",
    "ax_2d_x = fig.add_subplot(312)\n",
    "ax_2d_x.scatter(X_train[:,0], pred_std.detach().numpy())\n",
    "ax_2d_x.set_xlabel('X_train[:,0]')\n",
    "ax_2d_x.set_ylabel('output[:,1] (Standard Deviation)')\n",
    "\n",
    "\n",
    "ax_2d_y = fig.add_subplot(313)\n",
    "ax_2d_y.scatter(X_train[:,1], pred_std.detach().numpy())\n",
    "ax_2d_y.set_xlabel('X_train[:,1]')\n",
    "ax_2d_y.set_ylabel('output[:,1] (Standard Deviation)')\n",
    "\n"
   ]
  },
  {
   "cell_type": "code",
   "execution_count": null,
   "metadata": {
    "colab": {
     "base_uri": "https://localhost:8080/",
     "height": 695
    },
    "colab_type": "code",
    "executionInfo": {
     "elapsed": 1135,
     "status": "ok",
     "timestamp": 1575429544133,
     "user": {
      "displayName": "Daniel Berman",
      "photoUrl": "",
      "userId": "07083512293139957454"
     },
     "user_tz": 300
    },
    "id": "sAKvLr33HE9t",
    "outputId": "5114547d-2794-4dbf-de44-a227280a0404"
   },
   "outputs": [],
   "source": [
    "np.zeros(40)\n",
    "X_sample = np.vstack([np.zeros(21), np.array(list(range(-10,11)))]).T\n",
    "X_sample = torch.tensor(np.array(X_sample), dtype=torch.float32)\n",
    "\n",
    "\n",
    "predictions = bnn.model.forward(torch.Tensor(X_train))\n",
    "\n",
    "sample_pred = bnn.model.forward(X_sample)\n",
    "\n",
    "y_pred = sample_pred[:,0].detach().numpy()\n",
    "std_pred = torch.exp(sample_pred[:,1]).detach().numpy()\n",
    "log_s_pred = sample_pred[:,1].detach().numpy()\n",
    "\n",
    "print(std_pred)\n",
    "\n",
    "# Sample variance to add to the y predictions\n",
    "std_array = []\n",
    "for scale in std_pred:\n",
    "  std_array.append(np.random.normal(loc=0, scale=np.exp(scale)))\n",
    "std_array = np.array((std_array))\n",
    "\n",
    "\n",
    "\n",
    "\"\"\"\n",
    "plt.scatter(X_train[:,0], y_pred + std_array, alpha=.1, label='predicted')\n",
    "plt.scatter(X_train[:,0], y_train, alpha=.1, label='real')\n",
    "plt.title(\"Y hat and Y values across X1\")\n",
    "plt.legend()\n",
    "plt.savefig(\"x1_y.png\")\n",
    "\"\"\"\n",
    "\n",
    "\n",
    "plt.show()\n",
    "\n",
    "# For constant std dev#\n",
    "#std_pred = 10 * torch.ones([y_pred.shape[0]], dtype=torch.float64)\n",
    "# For constant std dev#\n",
    "\n",
    "#plt.scatter(X_train[:,1], y_pred + std_array, alpha=.1, label='predicted')\n",
    "#plt.scatter(X_sample[:,1], y_pred, alpha=.1, label='predicted')\n",
    "plt.errorbar(X_sample[:,1], y_pred, yerr=(std_pred), fmt='o', label='predicted')\n",
    "plt.scatter(X_train[:,1], y_train, alpha=.1, c='C1', label='real')\n",
    "plt.ylabel(\"Y\")\n",
    "plt.xlabel(\"X\")\n",
    "# plt.xlim(right = 5)\n",
    "# plt.xlim(left = -5)\n",
    "# plt.ylim(top = 100)\n",
    "# plt.ylim(bottom = -100)\n",
    "plt.title(\"Predicted and real Y values vs X\")\n",
    "plt.legend()\n",
    "plt.savefig(\"x_y1.png\")\n",
    "plt.show()\n",
    "\n",
    "\n",
    "\n",
    "#stds = []\n",
    "#Xs = list(range(-10, 11))\n",
    "#for x in Xs:\n",
    "#    stds.append(x + b_s)\n",
    "\n",
    "#std_pred = predictions[:,1].detach().numpy()\n",
    "\n",
    "real_std = []\n",
    "for x in range(-10, 11):\n",
    "    real_std.append(np.exp(np.array([0, x] @ W_s + b_s)))\n",
    "print(real_std)\n",
    "# plt.plot(list(range(-10,11)), list(range(0, 21)), c='C3', label='real')\n",
    "plt.plot(list(range(-10,11)), real_std, c='C3', label='real')\n",
    "plt.plot(X_sample[:,1], (std_pred), label='predicted')\n",
    "plt.title(\"Standard Deviation versus X value\")\n",
    "plt.ylabel(\"standard deviation\")\n",
    "plt.xlabel(\"X\")\n",
    "plt.legend()\n",
    "plt.savefig(\"std1.png\")\n",
    "# plt.xlim(right = 5)\n",
    "# plt.xlim(left = -5)\n",
    "# plt.ylim(top = 100)\n",
    "# plt.ylim(bottom = -100)\n",
    "plt.show()"
   ]
  },
  {
   "cell_type": "code",
   "execution_count": null,
   "metadata": {
    "colab": {
     "base_uri": "https://localhost:8080/",
     "height": 50
    },
    "colab_type": "code",
    "executionInfo": {
     "elapsed": 365,
     "status": "ok",
     "timestamp": 1575314802782,
     "user": {
      "displayName": "Andy W",
      "photoUrl": "https://lh3.googleusercontent.com/a-/AAuE7mDT86gEQbwc-buchisSAn0HMtAQzvqYYIAPtcns=s64",
      "userId": "04820820680976854911"
     },
     "user_tz": 300
    },
    "id": "Ke4AKPcBx5kB",
    "outputId": "4ecbf449-9942-40c6-e0ef-1e5184969126"
   },
   "outputs": [],
   "source": [
    "print(torch.exp(bnn.model.l1.W_log_s_DO))"
   ]
  },
  {
   "cell_type": "code",
   "execution_count": null,
   "metadata": {
    "colab": {
     "base_uri": "https://localhost:8080/",
     "height": 178
    },
    "colab_type": "code",
    "executionInfo": {
     "elapsed": 391,
     "status": "error",
     "timestamp": 1575194249491,
     "user": {
      "displayName": "Andy W",
      "photoUrl": "https://lh3.googleusercontent.com/a-/AAuE7mDT86gEQbwc-buchisSAn0HMtAQzvqYYIAPtcns=s64",
      "userId": "04820820680976854911"
     },
     "user_tz": 300
    },
    "id": "pO3Ypv5RGmXA",
    "outputId": "4c0a482a-b16a-46cc-ce2a-f3da2d8eee59"
   },
   "outputs": [],
   "source": [
    "\n",
    "plt.plot([i for i in range(100)], loss_by_epoch)"
   ]
  },
  {
   "cell_type": "code",
   "execution_count": null,
   "metadata": {
    "colab": {},
    "colab_type": "code",
    "id": "a9tQnGslgENk"
   },
   "outputs": [],
   "source": [
    "a = torch.tensor([3,3,3])\n",
    "b = torch.tensor([5,5,3])\n",
    "a == b"
   ]
  },
  {
   "cell_type": "code",
   "execution_count": null,
   "metadata": {},
   "outputs": [],
   "source": []
  }
 ],
 "metadata": {
  "accelerator": "GPU",
  "colab": {
   "collapsed_sections": [],
   "machine_shape": "hm",
   "name": "Baysian_Logistic_regression_daniel.ipynb",
   "provenance": [
    {
     "file_id": "1sznMeZpuMX1xJQxmYl78_vbUqOg1IlPl",
     "timestamp": 1575409826661
    },
    {
     "file_id": "1917bcDBXk-Ce3uiNS3-toqX0gnTYlcWh",
     "timestamp": 1573608677328
    }
   ]
  },
  "kernelspec": {
   "display_name": "Python 3",
   "language": "python",
   "name": "python3"
  },
  "language_info": {
   "codemirror_mode": {
    "name": "ipython",
    "version": 3
   },
   "file_extension": ".py",
   "mimetype": "text/x-python",
   "name": "python",
   "nbconvert_exporter": "python",
   "pygments_lexer": "ipython3",
   "version": "3.7.1"
  }
 },
 "nbformat": 4,
 "nbformat_minor": 1
}
